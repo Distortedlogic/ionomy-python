{
 "cells": [
  {
   "cell_type": "code",
   "execution_count": 11,
   "metadata": {},
   "outputs": [],
   "source": [
    "from Ionomy import IonPanda\n",
    "from decouple import config\n",
    "import pandas as pd\n",
    "import pandas_ta as ta\n",
    "\n",
    "# view markets_pd for more market choices\n",
    "HIVE_MARKET = 'btc-hive'\n",
    "\n",
    "# view currencies_pd for more market choices\n",
    "CURRENCY = 'hive'\n",
    "\n",
    "# I\n",
    "ionpd = IonPanda(config('IONOMY_KEY'), config('IONOMY_SECRET'))"
   ]
  },
  {
   "cell_type": "code",
   "execution_count": 2,
   "metadata": {},
   "outputs": [],
   "source": [
    "market_names = ionpd.market_names\n",
    "markets_pd = ionpd.markets()\n",
    "currencies_pd = ionpd.currencies()\n",
    "order_book_pd = ionpd.order_book(HIVE_MARKET)\n",
    "market_summaries_pd = ionpd.market_summaries()\n",
    "hive_market_summary = ionpd.market_summary(HIVE_MARKET)\n",
    "hive_market_history_pd = ionpd.market_history(HIVE_MARKET)\n",
    "open_orders_pd = ionpd.open_orders(HIVE_MARKET)\n",
    "balances_pd = ionpd.balances()\n",
    "hive_balance = ionpd.balance(CURRENCY)\n",
    "deposit_address = ionpd.deposit_address(CURRENCY)\n",
    "deposit_history_pd = ionpd.deposit_history(CURRENCY)\n",
    "withdrawal_history_pd = ionpd.withdrawal_history(CURRENCY)\n",
    "current_price = ionpd.get_spot_price()\n",
    "min_ask = ionpd.min_ask(HIVE_MARKET)\n",
    "max_bid = ionpd.max_bid(HIVE_MARKET)"
   ]
  },
  {
   "cell_type": "code",
   "execution_count": 2,
   "metadata": {},
   "outputs": [],
   "source": [
    "df = ionpd.cc_ohlcv()"
   ]
  },
  {
   "cell_type": "code",
   "execution_count": 11,
   "metadata": {},
   "outputs": [],
   "source": [
    "rsi = df.ta.rsi()\n",
    "macd = df.ta.macd()\n",
    "momentum = df.ta.mom()\n",
    "roc = df.ta.roc()\n",
    "ema_9 = df.ta.ema()\n",
    "vwma = df.ta.vwma()\n",
    "sma_returns_cumulative = df.ta.log_return(cumulative=True)\n",
    "avg_true_range = df.ta.atr()\n",
    "sma_returns_cumulative = df.ta.log_return(cumulative=True, append=True)\n",
    "percent_returns_cumulative = df.ta.percent_return(cumulative=True, append=True)"
   ]
  },
  {
   "cell_type": "code",
   "execution_count": 19,
   "metadata": {},
   "outputs": [],
   "source": [
    "statistics = df.describe()"
   ]
  },
  {
   "cell_type": "code",
   "execution_count": 21,
   "metadata": {},
   "outputs": [],
   "source": [
    "bolienger_bands = df.ta.bbands()"
   ]
  },
  {
   "cell_type": "code",
   "execution_count": 20,
   "metadata": {},
   "outputs": [
    {
     "name": "stdout",
     "output_type": "stream",
     "text": [
      "Help on method percent_return in module pandas_ta.core:\n",
      "\n",
      "percent_return(close=None, length=None, cumulative=False, percent=False, offset=None, **kwargs) method of pandas_ta.core.AnalysisIndicators instance\n",
      "\n"
     ]
    }
   ],
   "source": [
    "help(pd.DataFrame().ta.percent_return)"
   ]
  },
  {
   "cell_type": "code",
   "execution_count": null,
   "metadata": {},
   "outputs": [],
   "source": []
  },
  {
   "cell_type": "code",
   "execution_count": null,
   "metadata": {},
   "outputs": [],
   "source": []
  },
  {
   "cell_type": "code",
   "execution_count": null,
   "metadata": {},
   "outputs": [],
   "source": []
  },
  {
   "cell_type": "code",
   "execution_count": null,
   "metadata": {},
   "outputs": [],
   "source": []
  }
 ],
 "metadata": {
  "kernelspec": {
   "display_name": "Python 3",
   "language": "python",
   "name": "python3"
  },
  "language_info": {
   "codemirror_mode": {
    "name": "ipython",
    "version": 3
   },
   "file_extension": ".py",
   "mimetype": "text/x-python",
   "name": "python",
   "nbconvert_exporter": "python",
   "pygments_lexer": "ipython3",
   "version": "3.7.6"
  }
 },
 "nbformat": 4,
 "nbformat_minor": 4
}
