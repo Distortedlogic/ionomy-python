{
 "cells": [
  {
   "cell_type": "code",
   "execution_count": 1,
   "metadata": {},
   "outputs": [],
   "source": [
    "from Ionomy import IonPanda\n",
    "from decouple import config\n",
    "import pandas as pd\n",
    "\n",
    "HIVE_MARKET = 'btc-hive'\n",
    "CURRENCY = 'hive'\n",
    "\n",
    "ionpd = IonPanda(config('IONOMY_KEY'), config('IONOMY_SECRET'))"
   ]
  },
  {
   "cell_type": "code",
   "execution_count": 61,
   "metadata": {},
   "outputs": [],
   "source": [
    "market_names = ionpd.market_names\n",
    "markets_pd = ionpd.markets()\n",
    "currencies_pd = ionpd.currencies()\n",
    "order_book_pd = ionpd.order_book(HIVE_MARKET)\n",
    "market_summaries_pd = ionpd.market_summaries()\n",
    "hive_market_summary = ionpd.market_summary(HIVE_MARKET)\n",
    "hive_market_history_pd = ionpd.market_history(HIVE_MARKET)\n",
    "open_orders_pd = ionpd.open_orders(HIVE_MARKET)\n",
    "balances_pd = ionpd.balances()\n",
    "hive_balance = ionpd.balance(CURRENCY)\n",
    "deposit_address = ionpd.deposit_address(CURRENCY)\n",
    "deposit_history_pd = ionpd.deposit_history(CURRENCY)\n",
    "withdrawal_history_pd = ionpd.withdrawal_history(CURRENCY)\n",
    "current_price = ionpd.get_spot_price()"
   ]
  },
  {
   "cell_type": "code",
   "execution_count": 23,
   "metadata": {},
   "outputs": [
    {
     "data": {
      "text/plain": [
       "(4.26e-05, 3.603e-05)"
      ]
     },
     "execution_count": 23,
     "metadata": {},
     "output_type": "execute_result"
    }
   ],
   "source": [
    "min_ask, max_bid = ionpd.min_ask(HIVE_MARKET), ionpd.max_bid(HIVE_MARKET)\n",
    "min_ask, max_bid"
   ]
  },
  {
   "cell_type": "code",
   "execution_count": 24,
   "metadata": {},
   "outputs": [
    {
     "data": {
      "text/plain": [
       "6.57e-06"
      ]
     },
     "execution_count": 24,
     "metadata": {},
     "output_type": "execute_result"
    }
   ],
   "source": [
    "spread = min_ask - max_bid\n",
    "spread"
   ]
  },
  {
   "cell_type": "code",
   "execution_count": 25,
   "metadata": {},
   "outputs": [
    {
     "data": {
      "text/plain": [
       "0.0065699999999999995"
      ]
     },
     "execution_count": 25,
     "metadata": {},
     "output_type": "execute_result"
    }
   ],
   "source": [
    "rev = spread*1000\n",
    "rev"
   ]
  },
  {
   "cell_type": "code",
   "execution_count": 26,
   "metadata": {},
   "outputs": [
    {
     "data": {
      "text/plain": [
       "3.9315e-05"
      ]
     },
     "execution_count": 26,
     "metadata": {},
     "output_type": "execute_result"
    }
   ],
   "source": [
    "avg_price = (min_ask + max_bid)/2\n",
    "avg_price"
   ]
  },
  {
   "cell_type": "code",
   "execution_count": 27,
   "metadata": {},
   "outputs": [
    {
     "data": {
      "text/plain": [
       "167.1117893933613"
      ]
     },
     "execution_count": 27,
     "metadata": {},
     "output_type": "execute_result"
    }
   ],
   "source": [
    "rev/avg_price"
   ]
  },
  {
   "cell_type": "code",
   "execution_count": 64,
   "metadata": {},
   "outputs": [
    {
     "data": {
      "text/html": [
       "<div>\n",
       "<style scoped>\n",
       "    .dataframe tbody tr th:only-of-type {\n",
       "        vertical-align: middle;\n",
       "    }\n",
       "\n",
       "    .dataframe tbody tr th {\n",
       "        vertical-align: top;\n",
       "    }\n",
       "\n",
       "    .dataframe thead th {\n",
       "        text-align: right;\n",
       "    }\n",
       "</style>\n",
       "<table border=\"1\" class=\"dataframe\">\n",
       "  <thead>\n",
       "    <tr style=\"text-align: right;\">\n",
       "      <th></th>\n",
       "      <th>transactionId</th>\n",
       "      <th>state</th>\n",
       "      <th>currency</th>\n",
       "      <th>amount</th>\n",
       "      <th>feeAmount</th>\n",
       "      <th>createdAt</th>\n",
       "    </tr>\n",
       "  </thead>\n",
       "  <tbody>\n",
       "    <tr>\n",
       "      <th>0</th>\n",
       "      <td>5e8f726da2a3e220e6566b72</td>\n",
       "      <td>PROCESSED</td>\n",
       "      <td>hive</td>\n",
       "      <td>7186.01000000</td>\n",
       "      <td>0.01000000</td>\n",
       "      <td>2020-04-09T19:07:25Z</td>\n",
       "    </tr>\n",
       "    <tr>\n",
       "      <th>1</th>\n",
       "      <td>5e8f9934a2a3e24bda6b9962</td>\n",
       "      <td>PROCESSED</td>\n",
       "      <td>hive</td>\n",
       "      <td>579.56390315</td>\n",
       "      <td>0.01000000</td>\n",
       "      <td>2020-04-09T21:52:52Z</td>\n",
       "    </tr>\n",
       "    <tr>\n",
       "      <th>2</th>\n",
       "      <td>5e9a6fe4a2a3e2016530b782</td>\n",
       "      <td>PROCESSED</td>\n",
       "      <td>hive</td>\n",
       "      <td>6194.01000000</td>\n",
       "      <td>0.01000000</td>\n",
       "      <td>2020-04-18T03:11:32Z</td>\n",
       "    </tr>\n",
       "    <tr>\n",
       "      <th>3</th>\n",
       "      <td>5ea24752a2a3e2245f19e352</td>\n",
       "      <td>PROCESSED</td>\n",
       "      <td>hive</td>\n",
       "      <td>4308.01000000</td>\n",
       "      <td>0.01000000</td>\n",
       "      <td>2020-04-24T01:56:34Z</td>\n",
       "    </tr>\n",
       "    <tr>\n",
       "      <th>4</th>\n",
       "      <td>5eacd1792249e5764b7323d2</td>\n",
       "      <td>PROCESSED</td>\n",
       "      <td>hive</td>\n",
       "      <td>124.05000000</td>\n",
       "      <td>0.05000000</td>\n",
       "      <td>2020-05-02T01:48:41Z</td>\n",
       "    </tr>\n",
       "  </tbody>\n",
       "</table>\n",
       "</div>"
      ],
      "text/plain": [
       "              transactionId      state currency         amount   feeAmount  \\\n",
       "0  5e8f726da2a3e220e6566b72  PROCESSED     hive  7186.01000000  0.01000000   \n",
       "1  5e8f9934a2a3e24bda6b9962  PROCESSED     hive   579.56390315  0.01000000   \n",
       "2  5e9a6fe4a2a3e2016530b782  PROCESSED     hive  6194.01000000  0.01000000   \n",
       "3  5ea24752a2a3e2245f19e352  PROCESSED     hive  4308.01000000  0.01000000   \n",
       "4  5eacd1792249e5764b7323d2  PROCESSED     hive   124.05000000  0.05000000   \n",
       "\n",
       "              createdAt  \n",
       "0  2020-04-09T19:07:25Z  \n",
       "1  2020-04-09T21:52:52Z  \n",
       "2  2020-04-18T03:11:32Z  \n",
       "3  2020-04-24T01:56:34Z  \n",
       "4  2020-05-02T01:48:41Z  "
      ]
     },
     "execution_count": 64,
     "metadata": {},
     "output_type": "execute_result"
    }
   ],
   "source": [
    "withdrawal_history_pd"
   ]
  },
  {
   "cell_type": "code",
   "execution_count": null,
   "metadata": {},
   "outputs": [],
   "source": []
  }
 ],
 "metadata": {
  "kernelspec": {
   "display_name": "Python 3",
   "language": "python",
   "name": "python3"
  },
  "language_info": {
   "codemirror_mode": {
    "name": "ipython",
    "version": 3
   },
   "file_extension": ".py",
   "mimetype": "text/x-python",
   "name": "python",
   "nbconvert_exporter": "python",
   "pygments_lexer": "ipython3",
   "version": "3.7.6"
  }
 },
 "nbformat": 4,
 "nbformat_minor": 4
}
