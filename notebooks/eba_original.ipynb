{
 "cells": [
  {
   "cell_type": "markdown",
   "metadata": {},
   "source": [
    "# Evo-Bayes-Agent"
   ]
  },
  {
   "cell_type": "markdown",
   "metadata": {},
   "source": [
    "I use `bayesian-optimization==0.6`, my backend pretty much stick with this version, so migrating will break the code."
   ]
  },
  {
   "cell_type": "code",
   "execution_count": null,
   "metadata": {},
   "outputs": [],
   "source": [
    "import numpy as np\n",
    "import pandas as pd\n",
    "import time\n",
    "import matplotlib.pyplot as plt\n",
    "import seaborn as sns\n",
    "import random\n",
    "from bayes_opt import BayesianOptimization\n",
    "sns.set()"
   ]
  },
  {
   "cell_type": "code",
   "execution_count": null,
   "metadata": {},
   "outputs": [],
   "source": [
    "def get_state(data, t, n):\n",
    "    d = t - n + 1\n",
    "    block = data[d : t + 1] if d >= 0 else -d * [data[0]] + data[0 : t + 1]\n",
    "    res = []\n",
    "    for i in range(n - 1):\n",
    "        res.append(block[i + 1] - block[i])\n",
    "    return np.array([res])"
   ]
  },
  {
   "cell_type": "markdown",
   "metadata": {},
   "source": [
    "TSLA Time Period: **Mar 23, 2018 - Mar 23, 2019**"
   ]
  },
  {
   "cell_type": "code",
   "execution_count": null,
   "metadata": {},
   "outputs": [],
   "source": [
    "from Ionomy import IonPanda, BitTA\n",
    "from decouple import config\n",
    "\n",
    "MARKET = 'btc-hive'\n",
    "CURRENCY = 'hive'\n",
    "BASE = 'btc'\n",
    "TIME = 'day'\n",
    "\n",
    "bta = BitTA(config('TREX_KEY'), config('TREX_SECRET'))\n",
    "ionpd = IonPanda(config('ION_KEY'), config('ION_SECRET'))\n",
    "bta.update(CURRENCY, BASE, TIME)\n",
    "\n",
    "df = bta.df"
   ]
  },
  {
   "cell_type": "code",
   "execution_count": null,
   "metadata": {},
   "outputs": [],
   "source": [
    "close = df.close.values.tolist()\n",
    "window_size = 30\n",
    "skip = 5\n",
    "l = len(close) - 1"
   ]
  },
  {
   "cell_type": "code",
   "execution_count": null,
   "metadata": {},
   "outputs": [],
   "source": [
    "accbest = 0.0\n",
    "NN_BAYESIAN = BayesianOptimization(\n",
    "    find_best_agent,\n",
    "    {\n",
    "        'window_size': (2, 50),\n",
    "        'skip': (1, 15),\n",
    "        'population_size': (1, 50),\n",
    "        'sigma': (0.01, 0.99),\n",
    "        'learning_rate': (0.000001, 0.49),\n",
    "        'size_network': (10, 1000),\n",
    "    },\n",
    ")\n",
    "NN_BAYESIAN.maximize(init_points = 30, n_iter = 50, acq = 'ei', xi = 0.0)"
   ]
  },
  {
   "cell_type": "code",
   "execution_count": null,
   "metadata": {},
   "outputs": [],
   "source": [
    "print('Best AGENT accuracy value: %f' % NN_BAYESIAN.res['max']['max_val'])\n",
    "print('Best AGENT parameters: ', NN_BAYESIAN.res['max']['max_params'])"
   ]
  },
  {
   "cell_type": "code",
   "execution_count": null,
   "metadata": {},
   "outputs": [],
   "source": [
    "df = pd.DataFrame.from_records([{\"target\": item[\"target\"], **item[\"params\"]} for item in NN_BAYESIAN.res])"
   ]
  },
  {
   "cell_type": "code",
   "execution_count": null,
   "metadata": {},
   "outputs": [],
   "source": [
    "best_params = df.iloc[df['target'].idxmax()].to_dict()\n",
    "best_params"
   ]
  },
  {
   "cell_type": "markdown",
   "metadata": {},
   "source": [
    "#### My selected parameters"
   ]
  },
  {
   "cell_type": "code",
   "execution_count": null,
   "metadata": {},
   "outputs": [],
   "source": [
    "best_agent(\n",
    "    window_size = 30, \n",
    "    skip = 1, \n",
    "    population_size = 15, \n",
    "    sigma = 0.1, \n",
    "    learning_rate = 0.03, \n",
    "    size_network = 500\n",
    ")"
   ]
  },
  {
   "cell_type": "markdown",
   "metadata": {},
   "source": [
    "#### bayesian parameters"
   ]
  },
  {
   "cell_type": "code",
   "execution_count": null,
   "metadata": {},
   "outputs": [],
   "source": [
    "best_agent(\n",
    "    window_size = int(np.around(best_params['window_size'])), \n",
    "    skip = int(np.around(best_params['skip'])), \n",
    "    population_size = int(np.around(best_params['population_size'])), \n",
    "    sigma = best_params['sigma'], \n",
    "    learning_rate = best_params['learning_rate'], \n",
    "    size_network = int(np.around(best_params['size_network']))\n",
    ")"
   ]
  },
  {
   "cell_type": "markdown",
   "metadata": {},
   "source": [
    "#### My selected parameters"
   ]
  },
  {
   "cell_type": "code",
   "execution_count": null,
   "metadata": {},
   "outputs": [],
   "source": [
    "# model = Model(input_size = 30, \n",
    "#               layer_size = 500, \n",
    "#               output_size = 3)\n",
    "# agent = Agent(population_size = 15, \n",
    "#               sigma = 0.1, \n",
    "#               learning_rate = 0.03, \n",
    "#               model = model, \n",
    "#               money = 10000, \n",
    "#               max_buy = 5, \n",
    "#               max_sell = 5, \n",
    "#               skip = 1, \n",
    "#               window_size = 30)\n",
    "# agent.fit(500, 100)\n",
    "# agent.buy()"
   ]
  },
  {
   "cell_type": "markdown",
   "metadata": {},
   "source": [
    "#### bayesian parameters"
   ]
  },
  {
   "cell_type": "code",
   "execution_count": null,
   "metadata": {},
   "outputs": [],
   "source": [
    "model = Model(input_size = int(np.around(best_params['window_size'])), \n",
    "              layer_size = int(np.around(best_params['size_network'])), \n",
    "              output_size = 3)\n",
    "agent = Agent(population_size = int(np.around(best_params['population_size'])), \n",
    "              sigma = best_params['sigma'], \n",
    "              learning_rate = best_params['learning_rate'], \n",
    "              model = model, \n",
    "              money = 10000, \n",
    "              max_buy = 5, \n",
    "              max_sell = 5, \n",
    "              skip = int(np.around(best_params['skip'])), \n",
    "              window_size = int(np.around(best_params['window_size'])))\n",
    "agent.fit(500, 100)\n",
    "agent.buy()"
   ]
  },
  {
   "cell_type": "code",
   "execution_count": null,
   "metadata": {},
   "outputs": [],
   "source": []
  }
 ],
 "metadata": {
  "kernelspec": {
   "display_name": "Python 3",
   "language": "python",
   "name": "python3"
  },
  "language_info": {
   "codemirror_mode": {
    "name": "ipython",
    "version": 3
   },
   "file_extension": ".py",
   "mimetype": "text/x-python",
   "name": "python",
   "nbconvert_exporter": "python",
   "pygments_lexer": "ipython3",
   "version": "3.7.6"
  }
 },
 "nbformat": 4,
 "nbformat_minor": 4
}
