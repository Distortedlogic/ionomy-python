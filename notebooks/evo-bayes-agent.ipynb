{
 "cells": [
  {
   "cell_type": "markdown",
   "metadata": {},
   "source": [
    "# Evo-Bayes-Agent"
   ]
  },
  {
   "cell_type": "markdown",
   "metadata": {},
   "source": [
    "I use `bayesian-optimization==0.6`, my backend pretty much stick with this version, so migrating will break the code."
   ]
  },
  {
   "cell_type": "code",
   "execution_count": 1,
   "metadata": {},
   "outputs": [],
   "source": [
    "import numpy as np\n",
    "import pandas as pd\n",
    "import time\n",
    "import matplotlib.pyplot as plt\n",
    "import seaborn as sns\n",
    "import random\n",
    "from bayes_opt import BayesianOptimization\n",
    "sns.set()"
   ]
  },
  {
   "cell_type": "code",
   "execution_count": 2,
   "metadata": {},
   "outputs": [],
   "source": [
    "def get_state(data, t, n):\n",
    "    d = t - n + 1\n",
    "    block = data[d : t + 1] if d >= 0 else -d * [data[0]] + data[0 : t + 1]\n",
    "    res = []\n",
    "    for i in range(n - 1):\n",
    "        res.append(block[i + 1] - block[i])\n",
    "    return np.array([res])"
   ]
  },
  {
   "cell_type": "markdown",
   "metadata": {},
   "source": [
    "TSLA Time Period: **Mar 23, 2018 - Mar 23, 2019**"
   ]
  },
  {
   "cell_type": "code",
   "execution_count": 3,
   "metadata": {},
   "outputs": [],
   "source": [
    "from Ionomy import IonPanda, BitTA\n",
    "from decouple import config\n",
    "\n",
    "MARKET = 'btc-hive'\n",
    "CURRENCY = 'hive'\n",
    "BASE = 'btc'\n",
    "TIME = 'day'\n",
    "\n",
    "bta = BitTA(config('TREX_KEY'), config('TREX_SECRET'))\n",
    "ionpd = IonPanda(config('ION_KEY'), config('ION_SECRET'))\n",
    "bta.update(CURRENCY, BASE, TIME)\n",
    "\n",
    "df = bta.df"
   ]
  },
  {
   "cell_type": "code",
   "execution_count": 4,
   "metadata": {},
   "outputs": [],
   "source": [
    "close = df.close.values.tolist()\n",
    "window_size = 30\n",
    "skip = 5\n",
    "l = len(close) - 1"
   ]
  },
  {
   "cell_type": "code",
   "execution_count": 5,
   "metadata": {},
   "outputs": [],
   "source": [
    "class Deep_Evolution_Strategy:\n",
    "\n",
    "    inputs = None\n",
    "\n",
    "    def __init__(\n",
    "        self, weights, reward_function, population_size, sigma, learning_rate\n",
    "    ):\n",
    "        self.weights = weights\n",
    "        self.reward_function = reward_function\n",
    "        self.population_size = population_size\n",
    "        self.sigma = sigma\n",
    "        self.learning_rate = learning_rate\n",
    "\n",
    "    def _get_weight_from_population(self, weights, population):\n",
    "        weights_population = []\n",
    "        for index, i in enumerate(population):\n",
    "            jittered = self.sigma * i\n",
    "            weights_population.append(weights[index] + jittered)\n",
    "        return weights_population\n",
    "\n",
    "    def get_weights(self):\n",
    "        return self.weights\n",
    "\n",
    "    def train(self, epoch = 100, print_every = 1):\n",
    "        lasttime = time.time()\n",
    "        for i in range(epoch):\n",
    "            population = []\n",
    "            rewards = np.zeros(self.population_size)\n",
    "            for k in range(self.population_size):\n",
    "                x = []\n",
    "                for w in self.weights:\n",
    "                    x.append(np.random.randn(*w.shape))\n",
    "                population.append(x)\n",
    "            for k in range(self.population_size):\n",
    "                weights_population = self._get_weight_from_population(\n",
    "                    self.weights, population[k]\n",
    "                )\n",
    "                rewards[k] = self.reward_function(weights_population)\n",
    "            rewards = (rewards - np.mean(rewards)) / np.std(rewards)\n",
    "            for index, w in enumerate(self.weights):\n",
    "                A = np.array([p[index] for p in population])\n",
    "                self.weights[index] = (\n",
    "                    w\n",
    "                    + self.learning_rate\n",
    "                    / (self.population_size * self.sigma)\n",
    "                    * np.dot(A.T, rewards).T\n",
    "                )\n",
    "            if (i + 1) % print_every == 0:\n",
    "                print(\n",
    "                    'iter %d. reward: %f'\n",
    "                    % (i + 1, self.reward_function(self.weights))\n",
    "                )\n",
    "        print('time taken to train:', time.time() - lasttime, 'seconds')\n",
    "\n",
    "\n",
    "class Model:\n",
    "    def __init__(self, input_size, layer_size, output_size):\n",
    "        self.weights = [\n",
    "            np.random.randn(input_size, layer_size),\n",
    "            np.random.randn(layer_size, output_size),\n",
    "            np.random.randn(layer_size, 1),\n",
    "            np.random.randn(1, layer_size),\n",
    "        ]\n",
    "\n",
    "    def predict(self, inputs):\n",
    "        feed = np.dot(inputs, self.weights[0]) + self.weights[-1]\n",
    "        decision = np.dot(feed, self.weights[1])\n",
    "        buy = np.dot(feed, self.weights[2])\n",
    "        return decision, buy\n",
    "\n",
    "    def get_weights(self):\n",
    "        return self.weights\n",
    "\n",
    "    def set_weights(self, weights):\n",
    "        self.weights = weights"
   ]
  },
  {
   "cell_type": "code",
   "execution_count": 6,
   "metadata": {},
   "outputs": [],
   "source": [
    "class Agent:\n",
    "    def __init__(\n",
    "        self,\n",
    "        population_size,\n",
    "        sigma,\n",
    "        learning_rate,\n",
    "        model,\n",
    "        money,\n",
    "        max_buy,\n",
    "        max_sell,\n",
    "        skip,\n",
    "        window_size,\n",
    "    ):\n",
    "        self.window_size = window_size\n",
    "        self.skip = skip\n",
    "        self.POPULATION_SIZE = population_size\n",
    "        self.SIGMA = sigma\n",
    "        self.LEARNING_RATE = learning_rate\n",
    "        self.model = model\n",
    "        self.initial_money = money\n",
    "        self.max_buy = max_buy\n",
    "        self.max_sell = max_sell\n",
    "        self.es = Deep_Evolution_Strategy(\n",
    "            self.model.get_weights(),\n",
    "            self.get_reward,\n",
    "            self.POPULATION_SIZE,\n",
    "            self.SIGMA,\n",
    "            self.LEARNING_RATE,\n",
    "        )\n",
    "\n",
    "    def act(self, sequence):\n",
    "        decision, buy = self.model.predict(np.array(sequence))\n",
    "        return np.argmax(decision[0]), int(buy[0])\n",
    "\n",
    "    def get_reward(self, weights):\n",
    "        initial_money = self.initial_money\n",
    "        starting_money = initial_money\n",
    "        self.model.weights = weights\n",
    "        state = get_state(close, 0, self.window_size + 1)\n",
    "        inventory = []\n",
    "        quantity = 0\n",
    "        for t in range(0, l, self.skip):\n",
    "            action, buy = self.act(state)\n",
    "            next_state = get_state(close, t + 1, self.window_size + 1)\n",
    "            if action == 1 and initial_money >= close[t]:\n",
    "                if buy < 0:\n",
    "                    buy = 1\n",
    "                if buy > self.max_buy:\n",
    "                    buy_units = self.max_buy\n",
    "                else:\n",
    "                    buy_units = buy\n",
    "                total_buy = buy_units * close[t]\n",
    "                initial_money -= total_buy\n",
    "                inventory.append(total_buy)\n",
    "                quantity += buy_units\n",
    "            elif action == 2 and len(inventory) > 0:\n",
    "                if quantity > self.max_sell:\n",
    "                    sell_units = self.max_sell\n",
    "                else:\n",
    "                    sell_units = quantity\n",
    "                quantity -= sell_units\n",
    "                total_sell = sell_units * close[t]\n",
    "                initial_money += total_sell\n",
    "\n",
    "            state = next_state\n",
    "        return ((initial_money - starting_money) / starting_money) * 100\n",
    "\n",
    "    def fit(self, iterations, checkpoint):\n",
    "        self.es.train(iterations, print_every = checkpoint)\n",
    "\n",
    "    def buy(self):\n",
    "        initial_money = self.initial_money\n",
    "        state = get_state(close, 0, self.window_size + 1)\n",
    "        starting_money = initial_money\n",
    "        states_sell = []\n",
    "        states_buy = []\n",
    "        inventory = []\n",
    "        quantity = 0\n",
    "        for t in range(0, l, self.skip):\n",
    "            action, buy = self.act(state)\n",
    "            next_state = get_state(close, t + 1, self.window_size + 1)\n",
    "            if action == 1 and initial_money >= close[t]:\n",
    "                if buy < 0:\n",
    "                    buy = 1\n",
    "                if buy > self.max_buy:\n",
    "                    buy_units = self.max_buy\n",
    "                else:\n",
    "                    buy_units = buy\n",
    "                total_buy = buy_units * close[t]\n",
    "                initial_money -= total_buy\n",
    "                inventory.append(total_buy)\n",
    "                quantity += buy_units\n",
    "                states_buy.append(t)\n",
    "                print(\n",
    "                    'day %d: buy %d units at price %f, total balance %f'\n",
    "                    % (t, buy_units, total_buy, initial_money)\n",
    "                )\n",
    "            elif action == 2 and len(inventory) > 0:\n",
    "                bought_price = inventory.pop(0)\n",
    "                if quantity > self.max_sell:\n",
    "                    sell_units = self.max_sell\n",
    "                else:\n",
    "                    sell_units = quantity\n",
    "                if sell_units < 1:\n",
    "                    continue\n",
    "                quantity -= sell_units\n",
    "                total_sell = sell_units * close[t]\n",
    "                initial_money += total_sell\n",
    "                states_sell.append(t)\n",
    "                try:\n",
    "                    invest = ((total_sell - bought_price) / bought_price) * 100\n",
    "                except:\n",
    "                    invest = 0\n",
    "                print(\n",
    "                    'day %d, sell %d units at price %f, investment %f %%, total balance %f,'\n",
    "                    % (t, sell_units, total_sell, invest, initial_money)\n",
    "                )\n",
    "            state = next_state\n",
    "\n",
    "        invest = ((initial_money - starting_money) / starting_money) * 100\n",
    "        print(\n",
    "            '\\ntotal gained %f, total investment %f %%'\n",
    "            % (initial_money - starting_money, invest)\n",
    "        )\n",
    "        plt.figure(figsize = (20, 10))\n",
    "        plt.plot(close, label = 'true close', c = 'g')\n",
    "        plt.plot(\n",
    "            close, 'X', label = 'predict buy', markevery = states_buy, c = 'b'\n",
    "        )\n",
    "        plt.plot(\n",
    "            close, 'o', label = 'predict sell', markevery = states_sell, c = 'r'\n",
    "        )\n",
    "        plt.legend()\n",
    "        plt.show()"
   ]
  },
  {
   "cell_type": "code",
   "execution_count": 7,
   "metadata": {},
   "outputs": [],
   "source": [
    "def best_agent(\n",
    "    window_size, skip, population_size, sigma, learning_rate, size_network\n",
    "):\n",
    "    model = Model(window_size, size_network, 3)\n",
    "    agent = Agent(\n",
    "        population_size,\n",
    "        sigma,\n",
    "        learning_rate,\n",
    "        model,\n",
    "        10000,\n",
    "        5,\n",
    "        5,\n",
    "        skip,\n",
    "        window_size,\n",
    "    )\n",
    "    try:\n",
    "        agent.fit(100, 1000)\n",
    "        return agent.es.reward_function(agent.es.weights)\n",
    "    except:\n",
    "        return 0"
   ]
  },
  {
   "cell_type": "code",
   "execution_count": 8,
   "metadata": {},
   "outputs": [],
   "source": [
    "def find_best_agent(\n",
    "    window_size, skip, population_size, sigma, learning_rate, size_network\n",
    "):\n",
    "    global accbest\n",
    "    param = {\n",
    "        'window_size': int(np.around(window_size)),\n",
    "        'skip': int(np.around(skip)),\n",
    "        'population_size': int(np.around(population_size)),\n",
    "        'sigma': max(min(sigma, 1), 0.0001),\n",
    "        'learning_rate': max(min(learning_rate, 0.5), 0.000001),\n",
    "        'size_network': int(np.around(size_network)),\n",
    "    }\n",
    "    print('\\nSearch parameters %s' % (param))\n",
    "    investment = best_agent(**param)\n",
    "    print('stop after 100 iteration with investment %f' % (investment))\n",
    "    if investment > accbest:\n",
    "        costbest = investment\n",
    "    return investment"
   ]
  },
  {
   "cell_type": "code",
   "execution_count": 9,
   "metadata": {},
   "outputs": [
    {
     "name": "stdout",
     "output_type": "stream",
     "text": [
      "|   iter    |  target   | learni... | popula... |   sigma   | size_n... |   skip    | window... |\n",
      "-------------------------------------------------------------------------------------------------\n",
      "\n",
      "Search parameters {'window_size': 50, 'skip': 8, 'population_size': 20, 'sigma': 0.7216533365479368, 'learning_rate': 0.12229693844523727, 'size_network': 814}\n"
     ]
    },
    {
     "name": "stderr",
     "output_type": "stream",
     "text": [
      "/opt/conda/lib/python3.7/site-packages/ipykernel_launcher.py:39: RuntimeWarning: invalid value encountered in true_divide\n"
     ]
    },
    {
     "name": "stdout",
     "output_type": "stream",
     "text": [
      "stop after 100 iteration with investment 0.000000\n",
      "| \u001b[0m 1       \u001b[0m | \u001b[0m 0.0     \u001b[0m | \u001b[0m 0.1223  \u001b[0m | \u001b[0m 20.03   \u001b[0m | \u001b[0m 0.7217  \u001b[0m | \u001b[0m 814.3   \u001b[0m | \u001b[0m 7.877   \u001b[0m | \u001b[0m 49.6    \u001b[0m |\n",
      "\n",
      "Search parameters {'window_size': 11, 'skip': 7, 'population_size': 33, 'sigma': 0.6898441909513964, 'learning_rate': 0.35206865481050803, 'size_network': 945}\n",
      "stop after 100 iteration with investment 0.000000\n",
      "| \u001b[0m 2       \u001b[0m | \u001b[0m 0.0     \u001b[0m | \u001b[0m 0.3521  \u001b[0m | \u001b[0m 33.35   \u001b[0m | \u001b[0m 0.6898  \u001b[0m | \u001b[0m 945.1   \u001b[0m | \u001b[0m 6.781   \u001b[0m | \u001b[0m 10.85   \u001b[0m |\n",
      "\n",
      "Search parameters {'window_size': 8, 'skip': 5, 'population_size': 45, 'sigma': 0.4433138142416959, 'learning_rate': 0.25689803667261046, 'size_network': 529}\n",
      "stop after 100 iteration with investment 0.000000\n",
      "| \u001b[0m 3       \u001b[0m | \u001b[0m 0.0     \u001b[0m | \u001b[0m 0.2569  \u001b[0m | \u001b[0m 44.59   \u001b[0m | \u001b[0m 0.4433  \u001b[0m | \u001b[0m 529.2   \u001b[0m | \u001b[0m 4.978   \u001b[0m | \u001b[0m 7.801   \u001b[0m |\n",
      "\n",
      "Search parameters {'window_size': 41, 'skip': 3, 'population_size': 23, 'sigma': 0.7572252248144582, 'learning_rate': 0.14230379287098152, 'size_network': 353}\n",
      "stop after 100 iteration with investment 0.000000\n",
      "| \u001b[0m 4       \u001b[0m | \u001b[0m 0.0     \u001b[0m | \u001b[0m 0.1423  \u001b[0m | \u001b[0m 22.99   \u001b[0m | \u001b[0m 0.7572  \u001b[0m | \u001b[0m 352.9   \u001b[0m | \u001b[0m 3.215   \u001b[0m | \u001b[0m 41.18   \u001b[0m |\n",
      "\n",
      "Search parameters {'window_size': 36, 'skip': 11, 'population_size': 16, 'sigma': 0.7839274289801972, 'learning_rate': 0.1037026790736166, 'size_network': 292}\n",
      "stop after 100 iteration with investment 0.000000\n",
      "| \u001b[0m 5       \u001b[0m | \u001b[0m 0.0     \u001b[0m | \u001b[0m 0.1037  \u001b[0m | \u001b[0m 15.85   \u001b[0m | \u001b[0m 0.7839  \u001b[0m | \u001b[0m 291.8   \u001b[0m | \u001b[0m 11.37   \u001b[0m | \u001b[0m 36.07   \u001b[0m |\n",
      "\n",
      "Search parameters {'window_size': 36, 'skip': 6, 'population_size': 1, 'sigma': 0.12225273435729025, 'learning_rate': 0.3864685723598226, 'size_network': 207}\n",
      "stop after 100 iteration with investment 0.000000\n",
      "| \u001b[0m 6       \u001b[0m | \u001b[0m 0.0     \u001b[0m | \u001b[0m 0.3865  \u001b[0m | \u001b[0m 1.012   \u001b[0m | \u001b[0m 0.1223  \u001b[0m | \u001b[0m 207.3   \u001b[0m | \u001b[0m 6.27    \u001b[0m | \u001b[0m 35.63   \u001b[0m |\n",
      "\n",
      "Search parameters {'window_size': 48, 'skip': 8, 'population_size': 22, 'sigma': 0.36082955177253284, 'learning_rate': 0.45241156850691233, 'size_network': 156}\n",
      "stop after 100 iteration with investment 0.000000\n",
      "| \u001b[0m 7       \u001b[0m | \u001b[0m 0.0     \u001b[0m | \u001b[0m 0.4524  \u001b[0m | \u001b[0m 21.73   \u001b[0m | \u001b[0m 0.3608  \u001b[0m | \u001b[0m 156.2   \u001b[0m | \u001b[0m 8.335   \u001b[0m | \u001b[0m 47.7    \u001b[0m |\n",
      "\n",
      "Search parameters {'window_size': 27, 'skip': 11, 'population_size': 43, 'sigma': 0.9192504366136413, 'learning_rate': 0.007683579071570465, 'size_network': 613}\n",
      "time taken to train: 4.404359817504883 seconds\n",
      "stop after 100 iteration with investment -0.000005\n",
      "| \u001b[0m 8       \u001b[0m | \u001b[0m-5.179e-0\u001b[0m | \u001b[0m 0.007684\u001b[0m | \u001b[0m 42.81   \u001b[0m | \u001b[0m 0.9193  \u001b[0m | \u001b[0m 612.7   \u001b[0m | \u001b[0m 10.78   \u001b[0m | \u001b[0m 26.99   \u001b[0m |\n",
      "\n",
      "Search parameters {'window_size': 17, 'skip': 6, 'population_size': 2, 'sigma': 0.3663111171831238, 'learning_rate': 0.17396891972528356, 'size_network': 450}\n",
      "stop after 100 iteration with investment 0.000000\n",
      "| \u001b[0m 9       \u001b[0m | \u001b[0m 0.0     \u001b[0m | \u001b[0m 0.174   \u001b[0m | \u001b[0m 1.832   \u001b[0m | \u001b[0m 0.3663  \u001b[0m | \u001b[0m 449.8   \u001b[0m | \u001b[0m 6.407   \u001b[0m | \u001b[0m 17.18   \u001b[0m |\n",
      "\n",
      "Search parameters {'window_size': 38, 'skip': 6, 'population_size': 25, 'sigma': 0.2002216636283983, 'learning_rate': 0.33219260677559864, 'size_network': 997}\n",
      "stop after 100 iteration with investment 0.000000\n",
      "| \u001b[0m 10      \u001b[0m | \u001b[0m 0.0     \u001b[0m | \u001b[0m 0.3322  \u001b[0m | \u001b[0m 24.52   \u001b[0m | \u001b[0m 0.2002  \u001b[0m | \u001b[0m 996.8   \u001b[0m | \u001b[0m 6.473   \u001b[0m | \u001b[0m 38.39   \u001b[0m |\n",
      "\n",
      "Search parameters {'window_size': 2, 'skip': 7, 'population_size': 26, 'sigma': 0.04894155922814925, 'learning_rate': 0.09334815648822284, 'size_network': 568}\n",
      "stop after 100 iteration with investment 0.000000\n",
      "| \u001b[0m 11      \u001b[0m | \u001b[0m 0.0     \u001b[0m | \u001b[0m 0.09335 \u001b[0m | \u001b[0m 25.68   \u001b[0m | \u001b[0m 0.04894 \u001b[0m | \u001b[0m 567.6   \u001b[0m | \u001b[0m 6.604   \u001b[0m | \u001b[0m 2.432   \u001b[0m |\n",
      "\n",
      "Search parameters {'window_size': 18, 'skip': 9, 'population_size': 35, 'sigma': 0.5402278674544324, 'learning_rate': 0.3227221101055501, 'size_network': 27}\n",
      "stop after 100 iteration with investment 0.000000\n",
      "| \u001b[0m 12      \u001b[0m | \u001b[0m 0.0     \u001b[0m | \u001b[0m 0.3227  \u001b[0m | \u001b[0m 35.08   \u001b[0m | \u001b[0m 0.5402  \u001b[0m | \u001b[0m 26.57   \u001b[0m | \u001b[0m 9.115   \u001b[0m | \u001b[0m 18.37   \u001b[0m |\n",
      "\n",
      "Search parameters {'window_size': 26, 'skip': 10, 'population_size': 20, 'sigma': 0.8397924826774116, 'learning_rate': 0.020466710314583938, 'size_network': 51}\n",
      "stop after 100 iteration with investment 0.000000\n",
      "| \u001b[0m 13      \u001b[0m | \u001b[0m 0.0     \u001b[0m | \u001b[0m 0.02047 \u001b[0m | \u001b[0m 19.88   \u001b[0m | \u001b[0m 0.8398  \u001b[0m | \u001b[0m 51.16   \u001b[0m | \u001b[0m 9.652   \u001b[0m | \u001b[0m 26.03   \u001b[0m |\n",
      "\n",
      "Search parameters {'window_size': 31, 'skip': 9, 'population_size': 48, 'sigma': 0.8603142950518706, 'learning_rate': 0.22059734036214163, 'size_network': 228}\n",
      "stop after 100 iteration with investment 0.000000\n",
      "| \u001b[0m 14      \u001b[0m | \u001b[0m 0.0     \u001b[0m | \u001b[0m 0.2206  \u001b[0m | \u001b[0m 47.78   \u001b[0m | \u001b[0m 0.8603  \u001b[0m | \u001b[0m 228.0   \u001b[0m | \u001b[0m 8.993   \u001b[0m | \u001b[0m 30.64   \u001b[0m |\n",
      "\n",
      "Search parameters {'window_size': 26, 'skip': 5, 'population_size': 14, 'sigma': 0.5827424879310801, 'learning_rate': 0.4458852097345823, 'size_network': 296}\n",
      "stop after 100 iteration with investment 0.000000\n",
      "| \u001b[0m 15      \u001b[0m | \u001b[0m 0.0     \u001b[0m | \u001b[0m 0.4459  \u001b[0m | \u001b[0m 14.17   \u001b[0m | \u001b[0m 0.5827  \u001b[0m | \u001b[0m 295.7   \u001b[0m | \u001b[0m 4.562   \u001b[0m | \u001b[0m 25.58   \u001b[0m |\n",
      "\n",
      "Search parameters {'window_size': 4, 'skip': 8, 'population_size': 35, 'sigma': 0.6486013840251224, 'learning_rate': 0.23296505665127606, 'size_network': 115}\n",
      "stop after 100 iteration with investment 0.000000\n",
      "| \u001b[0m 16      \u001b[0m | \u001b[0m 0.0     \u001b[0m | \u001b[0m 0.233   \u001b[0m | \u001b[0m 34.89   \u001b[0m | \u001b[0m 0.6486  \u001b[0m | \u001b[0m 114.8   \u001b[0m | \u001b[0m 7.576   \u001b[0m | \u001b[0m 3.953   \u001b[0m |\n",
      "\n",
      "Search parameters {'window_size': 12, 'skip': 6, 'population_size': 12, 'sigma': 0.6821901572961803, 'learning_rate': 0.4332252842137971, 'size_network': 717}\n",
      "stop after 100 iteration with investment 0.000000\n",
      "| \u001b[0m 17      \u001b[0m | \u001b[0m 0.0     \u001b[0m | \u001b[0m 0.4332  \u001b[0m | \u001b[0m 12.24   \u001b[0m | \u001b[0m 0.6822  \u001b[0m | \u001b[0m 716.8   \u001b[0m | \u001b[0m 6.442   \u001b[0m | \u001b[0m 12.33   \u001b[0m |\n",
      "\n",
      "Search parameters {'window_size': 50, 'skip': 13, 'population_size': 36, 'sigma': 0.21846543111096242, 'learning_rate': 0.10014830024070343, 'size_network': 776}\n",
      "stop after 100 iteration with investment 0.000000\n",
      "| \u001b[0m 18      \u001b[0m | \u001b[0m 0.0     \u001b[0m | \u001b[0m 0.1001  \u001b[0m | \u001b[0m 35.88   \u001b[0m | \u001b[0m 0.2185  \u001b[0m | \u001b[0m 776.3   \u001b[0m | \u001b[0m 12.97   \u001b[0m | \u001b[0m 49.71   \u001b[0m |\n",
      "\n",
      "Search parameters {'window_size': 13, 'skip': 4, 'population_size': 17, 'sigma': 0.4415144363338598, 'learning_rate': 0.06721463192755858, 'size_network': 314}\n",
      "stop after 100 iteration with investment 0.000000\n",
      "| \u001b[0m 19      \u001b[0m | \u001b[0m 0.0     \u001b[0m | \u001b[0m 0.06721 \u001b[0m | \u001b[0m 17.45   \u001b[0m | \u001b[0m 0.4415  \u001b[0m | \u001b[0m 313.7   \u001b[0m | \u001b[0m 4.072   \u001b[0m | \u001b[0m 12.75   \u001b[0m |\n",
      "\n",
      "Search parameters {'window_size': 25, 'skip': 11, 'population_size': 5, 'sigma': 0.839219800029403, 'learning_rate': 0.03371782203115558, 'size_network': 868}\n",
      "stop after 100 iteration with investment 0.000000\n",
      "| \u001b[0m 20      \u001b[0m | \u001b[0m 0.0     \u001b[0m | \u001b[0m 0.03372 \u001b[0m | \u001b[0m 5.403   \u001b[0m | \u001b[0m 0.8392  \u001b[0m | \u001b[0m 867.8   \u001b[0m | \u001b[0m 11.14   \u001b[0m | \u001b[0m 25.25   \u001b[0m |\n",
      "\n",
      "Search parameters {'window_size': 3, 'skip': 14, 'population_size': 29, 'sigma': 0.15773725556102514, 'learning_rate': 0.47120608451258855, 'size_network': 806}\n",
      "stop after 100 iteration with investment 0.000000\n",
      "| \u001b[0m 21      \u001b[0m | \u001b[0m 0.0     \u001b[0m | \u001b[0m 0.4712  \u001b[0m | \u001b[0m 29.45   \u001b[0m | \u001b[0m 0.1577  \u001b[0m | \u001b[0m 805.9   \u001b[0m | \u001b[0m 13.69   \u001b[0m | \u001b[0m 3.169   \u001b[0m |\n",
      "\n",
      "Search parameters {'window_size': 21, 'skip': 3, 'population_size': 20, 'sigma': 0.3206766794293498, 'learning_rate': 0.050374936220378426, 'size_network': 952}\n",
      "stop after 100 iteration with investment 0.000000\n",
      "| \u001b[0m 22      \u001b[0m | \u001b[0m 0.0     \u001b[0m | \u001b[0m 0.05037 \u001b[0m | \u001b[0m 20.49   \u001b[0m | \u001b[0m 0.3207  \u001b[0m | \u001b[0m 951.6   \u001b[0m | \u001b[0m 3.261   \u001b[0m | \u001b[0m 20.71   \u001b[0m |\n",
      "\n",
      "Search parameters {'window_size': 23, 'skip': 2, 'population_size': 14, 'sigma': 0.1901150010230817, 'learning_rate': 0.4667762528640277, 'size_network': 489}\n",
      "stop after 100 iteration with investment 0.000000\n",
      "| \u001b[0m 23      \u001b[0m | \u001b[0m 0.0     \u001b[0m | \u001b[0m 0.4668  \u001b[0m | \u001b[0m 13.89   \u001b[0m | \u001b[0m 0.1901  \u001b[0m | \u001b[0m 489.2   \u001b[0m | \u001b[0m 2.232   \u001b[0m | \u001b[0m 22.58   \u001b[0m |\n",
      "\n",
      "Search parameters {'window_size': 13, 'skip': 11, 'population_size': 47, 'sigma': 0.1488648364430485, 'learning_rate': 0.01157758417750562, 'size_network': 827}\n",
      "stop after 100 iteration with investment 0.000000\n",
      "| \u001b[0m 24      \u001b[0m | \u001b[0m 0.0     \u001b[0m | \u001b[0m 0.01158 \u001b[0m | \u001b[0m 46.51   \u001b[0m | \u001b[0m 0.1489  \u001b[0m | \u001b[0m 826.6   \u001b[0m | \u001b[0m 11.44   \u001b[0m | \u001b[0m 13.22   \u001b[0m |\n",
      "\n",
      "Search parameters {'window_size': 15, 'skip': 13, 'population_size': 44, 'sigma': 0.8494161762008233, 'learning_rate': 0.2641741752545639, 'size_network': 592}\n",
      "stop after 100 iteration with investment 0.000000\n",
      "| \u001b[0m 25      \u001b[0m | \u001b[0m 0.0     \u001b[0m | \u001b[0m 0.2642  \u001b[0m | \u001b[0m 43.92   \u001b[0m | \u001b[0m 0.8494  \u001b[0m | \u001b[0m 592.3   \u001b[0m | \u001b[0m 13.01   \u001b[0m | \u001b[0m 14.99   \u001b[0m |\n",
      "\n",
      "Search parameters {'window_size': 12, 'skip': 8, 'population_size': 11, 'sigma': 0.42051607066897567, 'learning_rate': 0.24323304070411778, 'size_network': 305}\n",
      "stop after 100 iteration with investment 0.000000\n",
      "| \u001b[0m 26      \u001b[0m | \u001b[0m 0.0     \u001b[0m | \u001b[0m 0.2432  \u001b[0m | \u001b[0m 10.74   \u001b[0m | \u001b[0m 0.4205  \u001b[0m | \u001b[0m 304.8   \u001b[0m | \u001b[0m 7.636   \u001b[0m | \u001b[0m 11.6    \u001b[0m |\n",
      "\n",
      "Search parameters {'window_size': 27, 'skip': 2, 'population_size': 24, 'sigma': 0.25113840824104294, 'learning_rate': 0.06836145444014553, 'size_network': 575}\n",
      "stop after 100 iteration with investment 0.000000\n",
      "| \u001b[0m 27      \u001b[0m | \u001b[0m 0.0     \u001b[0m | \u001b[0m 0.06836 \u001b[0m | \u001b[0m 23.58   \u001b[0m | \u001b[0m 0.2511  \u001b[0m | \u001b[0m 575.5   \u001b[0m | \u001b[0m 1.743   \u001b[0m | \u001b[0m 26.89   \u001b[0m |\n",
      "\n",
      "Search parameters {'window_size': 49, 'skip': 3, 'population_size': 11, 'sigma': 0.24584507337467218, 'learning_rate': 0.09130561867648863, 'size_network': 952}\n",
      "stop after 100 iteration with investment 0.000000\n",
      "| \u001b[0m 28      \u001b[0m | \u001b[0m 0.0     \u001b[0m | \u001b[0m 0.09131 \u001b[0m | \u001b[0m 11.4    \u001b[0m | \u001b[0m 0.2458  \u001b[0m | \u001b[0m 951.8   \u001b[0m | \u001b[0m 3.338   \u001b[0m | \u001b[0m 48.9    \u001b[0m |\n",
      "\n",
      "Search parameters {'window_size': 21, 'skip': 6, 'population_size': 24, 'sigma': 0.2223885440648752, 'learning_rate': 0.02139214785175046, 'size_network': 629}\n",
      "stop after 100 iteration with investment 0.000000\n",
      "| \u001b[0m 29      \u001b[0m | \u001b[0m 0.0     \u001b[0m | \u001b[0m 0.02139 \u001b[0m | \u001b[0m 23.89   \u001b[0m | \u001b[0m 0.2224  \u001b[0m | \u001b[0m 628.9   \u001b[0m | \u001b[0m 5.802   \u001b[0m | \u001b[0m 20.98   \u001b[0m |\n",
      "\n",
      "Search parameters {'window_size': 27, 'skip': 6, 'population_size': 47, 'sigma': 0.8940617894464317, 'learning_rate': 0.3250892142774589, 'size_network': 64}\n",
      "stop after 100 iteration with investment 0.000000\n",
      "| \u001b[0m 30      \u001b[0m | \u001b[0m 0.0     \u001b[0m | \u001b[0m 0.3251  \u001b[0m | \u001b[0m 46.72   \u001b[0m | \u001b[0m 0.8941  \u001b[0m | \u001b[0m 63.77   \u001b[0m | \u001b[0m 6.163   \u001b[0m | \u001b[0m 27.21   \u001b[0m |\n",
      "\n",
      "Search parameters {'window_size': 14, 'skip': 9, 'population_size': 42, 'sigma': 0.2099644963706654, 'learning_rate': 0.4741140454564954, 'size_network': 582}\n",
      "stop after 100 iteration with investment 0.000000\n",
      "| \u001b[0m 31      \u001b[0m | \u001b[0m 0.0     \u001b[0m | \u001b[0m 0.4741  \u001b[0m | \u001b[0m 42.08   \u001b[0m | \u001b[0m 0.21    \u001b[0m | \u001b[0m 581.6   \u001b[0m | \u001b[0m 8.928   \u001b[0m | \u001b[0m 14.09   \u001b[0m |\n"
     ]
    },
    {
     "name": "stderr",
     "output_type": "stream",
     "text": [
      "/opt/conda/lib/python3.7/site-packages/ipykernel_launcher.py:39: RuntimeWarning: invalid value encountered in true_divide\n",
      "/opt/conda/lib/python3.7/site-packages/ipykernel_launcher.py:39: RuntimeWarning: invalid value encountered in true_divide\n"
     ]
    },
    {
     "name": "stdout",
     "output_type": "stream",
     "text": [
      "\n",
      "Search parameters {'window_size': 22, 'skip': 6, 'population_size': 13, 'sigma': 0.5216378063268913, 'learning_rate': 0.3406793467632621, 'size_network': 634}\n",
      "stop after 100 iteration with investment 0.000000\n",
      "| \u001b[0m 32      \u001b[0m | \u001b[0m 0.0     \u001b[0m | \u001b[0m 0.3407  \u001b[0m | \u001b[0m 13.26   \u001b[0m | \u001b[0m 0.5216  \u001b[0m | \u001b[0m 634.4   \u001b[0m | \u001b[0m 5.917   \u001b[0m | \u001b[0m 22.45   \u001b[0m |\n",
      "\n",
      "Search parameters {'window_size': 13, 'skip': 3, 'population_size': 16, 'sigma': 0.9203314215149242, 'learning_rate': 0.001676358253168024, 'size_network': 313}\n",
      "stop after 100 iteration with investment 0.000000\n",
      "| \u001b[0m 33      \u001b[0m | \u001b[0m 0.0     \u001b[0m | \u001b[0m 0.001676\u001b[0m | \u001b[0m 16.02   \u001b[0m | \u001b[0m 0.9203  \u001b[0m | \u001b[0m 312.8   \u001b[0m | \u001b[0m 3.338   \u001b[0m | \u001b[0m 12.78   \u001b[0m |\n"
     ]
    },
    {
     "name": "stderr",
     "output_type": "stream",
     "text": [
      "/opt/conda/lib/python3.7/site-packages/ipykernel_launcher.py:39: RuntimeWarning: invalid value encountered in true_divide\n",
      "/opt/conda/lib/python3.7/site-packages/ipykernel_launcher.py:39: RuntimeWarning: invalid value encountered in true_divide\n"
     ]
    },
    {
     "name": "stdout",
     "output_type": "stream",
     "text": [
      "\n",
      "Search parameters {'window_size': 2, 'skip': 10, 'population_size': 40, 'sigma': 0.239749551013616, 'learning_rate': 0.30984216770275846, 'size_network': 589}\n",
      "stop after 100 iteration with investment 0.000000\n",
      "| \u001b[0m 34      \u001b[0m | \u001b[0m 0.0     \u001b[0m | \u001b[0m 0.3098  \u001b[0m | \u001b[0m 40.23   \u001b[0m | \u001b[0m 0.2397  \u001b[0m | \u001b[0m 589.5   \u001b[0m | \u001b[0m 10.16   \u001b[0m | \u001b[0m 2.478   \u001b[0m |\n",
      "\n",
      "Search parameters {'window_size': 6, 'skip': 5, 'population_size': 21, 'sigma': 0.5313705574311927, 'learning_rate': 0.16606852500810224, 'size_network': 640}\n",
      "stop after 100 iteration with investment 0.000000\n",
      "| \u001b[0m 35      \u001b[0m | \u001b[0m 0.0     \u001b[0m | \u001b[0m 0.1661  \u001b[0m | \u001b[0m 20.65   \u001b[0m | \u001b[0m 0.5314  \u001b[0m | \u001b[0m 640.0   \u001b[0m | \u001b[0m 4.571   \u001b[0m | \u001b[0m 6.266   \u001b[0m |\n"
     ]
    },
    {
     "name": "stderr",
     "output_type": "stream",
     "text": [
      "/opt/conda/lib/python3.7/site-packages/ipykernel_launcher.py:39: RuntimeWarning: invalid value encountered in true_divide\n",
      "/opt/conda/lib/python3.7/site-packages/ipykernel_launcher.py:39: RuntimeWarning: invalid value encountered in true_divide\n"
     ]
    },
    {
     "name": "stdout",
     "output_type": "stream",
     "text": [
      "\n",
      "Search parameters {'window_size': 26, 'skip': 8, 'population_size': 39, 'sigma': 0.3065020327260903, 'learning_rate': 0.3617191997179383, 'size_network': 44}\n",
      "stop after 100 iteration with investment 0.000000\n",
      "| \u001b[0m 36      \u001b[0m | \u001b[0m 0.0     \u001b[0m | \u001b[0m 0.3617  \u001b[0m | \u001b[0m 39.46   \u001b[0m | \u001b[0m 0.3065  \u001b[0m | \u001b[0m 43.86   \u001b[0m | \u001b[0m 8.382   \u001b[0m | \u001b[0m 25.53   \u001b[0m |\n",
      "\n",
      "Search parameters {'window_size': 26, 'skip': 10, 'population_size': 30, 'sigma': 0.3303917842998136, 'learning_rate': 0.401995401908722, 'size_network': 818}\n",
      "stop after 100 iteration with investment 0.000000\n",
      "| \u001b[0m 37      \u001b[0m | \u001b[0m 0.0     \u001b[0m | \u001b[0m 0.402   \u001b[0m | \u001b[0m 29.86   \u001b[0m | \u001b[0m 0.3304  \u001b[0m | \u001b[0m 817.5   \u001b[0m | \u001b[0m 10.12   \u001b[0m | \u001b[0m 26.04   \u001b[0m |\n"
     ]
    },
    {
     "name": "stderr",
     "output_type": "stream",
     "text": [
      "/opt/conda/lib/python3.7/site-packages/ipykernel_launcher.py:39: RuntimeWarning: invalid value encountered in true_divide\n"
     ]
    },
    {
     "name": "stdout",
     "output_type": "stream",
     "text": [
      "\n",
      "Search parameters {'window_size': 38, 'skip': 12, 'population_size': 34, 'sigma': 0.6110172319621642, 'learning_rate': 0.2899727892883361, 'size_network': 799}\n"
     ]
    },
    {
     "name": "stderr",
     "output_type": "stream",
     "text": [
      "/opt/conda/lib/python3.7/site-packages/ipykernel_launcher.py:39: RuntimeWarning: invalid value encountered in true_divide\n",
      "/opt/conda/lib/python3.7/site-packages/ipykernel_launcher.py:39: RuntimeWarning: invalid value encountered in true_divide\n"
     ]
    },
    {
     "name": "stdout",
     "output_type": "stream",
     "text": [
      "stop after 100 iteration with investment 0.000000\n",
      "| \u001b[0m 38      \u001b[0m | \u001b[0m 0.0     \u001b[0m | \u001b[0m 0.29    \u001b[0m | \u001b[0m 33.82   \u001b[0m | \u001b[0m 0.611   \u001b[0m | \u001b[0m 798.8   \u001b[0m | \u001b[0m 11.58   \u001b[0m | \u001b[0m 38.2    \u001b[0m |\n",
      "\n",
      "Search parameters {'window_size': 18, 'skip': 10, 'population_size': 43, 'sigma': 0.32765372289052663, 'learning_rate': 0.15014605707510692, 'size_network': 800}\n",
      "stop after 100 iteration with investment 0.000000\n",
      "| \u001b[0m 39      \u001b[0m | \u001b[0m 0.0     \u001b[0m | \u001b[0m 0.1501  \u001b[0m | \u001b[0m 42.69   \u001b[0m | \u001b[0m 0.3277  \u001b[0m | \u001b[0m 800.3   \u001b[0m | \u001b[0m 10.18   \u001b[0m | \u001b[0m 17.77   \u001b[0m |\n",
      "\n",
      "Search parameters {'window_size': 22, 'skip': 5, 'population_size': 21, 'sigma': 0.10564579993251402, 'learning_rate': 0.06683224597919946, 'size_network': 799}\n"
     ]
    },
    {
     "name": "stderr",
     "output_type": "stream",
     "text": [
      "/opt/conda/lib/python3.7/site-packages/ipykernel_launcher.py:39: RuntimeWarning: invalid value encountered in true_divide\n",
      "/opt/conda/lib/python3.7/site-packages/ipykernel_launcher.py:39: RuntimeWarning: invalid value encountered in true_divide\n"
     ]
    },
    {
     "name": "stdout",
     "output_type": "stream",
     "text": [
      "stop after 100 iteration with investment 0.000000\n",
      "| \u001b[0m 40      \u001b[0m | \u001b[0m 0.0     \u001b[0m | \u001b[0m 0.06683 \u001b[0m | \u001b[0m 20.93   \u001b[0m | \u001b[0m 0.1056  \u001b[0m | \u001b[0m 799.1   \u001b[0m | \u001b[0m 4.704   \u001b[0m | \u001b[0m 22.16   \u001b[0m |\n",
      "\n",
      "Search parameters {'window_size': 44, 'skip': 6, 'population_size': 17, 'sigma': 0.14164585684791842, 'learning_rate': 0.18372880288778054, 'size_network': 790}\n",
      "stop after 100 iteration with investment 0.000000\n",
      "| \u001b[0m 41      \u001b[0m | \u001b[0m 0.0     \u001b[0m | \u001b[0m 0.1837  \u001b[0m | \u001b[0m 16.94   \u001b[0m | \u001b[0m 0.1416  \u001b[0m | \u001b[0m 789.7   \u001b[0m | \u001b[0m 6.202   \u001b[0m | \u001b[0m 44.41   \u001b[0m |\n",
      "\n",
      "Search parameters {'window_size': 30, 'skip': 4, 'population_size': 34, 'sigma': 0.7029637240312148, 'learning_rate': 0.0727653392507426, 'size_network': 779}\n",
      "stop after 100 iteration with investment 0.000000\n",
      "| \u001b[0m 42      \u001b[0m | \u001b[0m 0.0     \u001b[0m | \u001b[0m 0.07277 \u001b[0m | \u001b[0m 33.77   \u001b[0m | \u001b[0m 0.703   \u001b[0m | \u001b[0m 778.5   \u001b[0m | \u001b[0m 4.178   \u001b[0m | \u001b[0m 29.92   \u001b[0m |\n",
      "\n",
      "Search parameters {'window_size': 37, 'skip': 9, 'population_size': 23, 'sigma': 0.6010261425273637, 'learning_rate': 0.19431063090741676, 'size_network': 970}\n"
     ]
    },
    {
     "name": "stderr",
     "output_type": "stream",
     "text": [
      "/opt/conda/lib/python3.7/site-packages/ipykernel_launcher.py:39: RuntimeWarning: invalid value encountered in true_divide\n",
      "/opt/conda/lib/python3.7/site-packages/ipykernel_launcher.py:39: RuntimeWarning: invalid value encountered in true_divide\n",
      "/opt/conda/lib/python3.7/site-packages/ipykernel_launcher.py:39: RuntimeWarning: invalid value encountered in true_divide\n"
     ]
    },
    {
     "name": "stdout",
     "output_type": "stream",
     "text": [
      "stop after 100 iteration with investment 0.000000\n",
      "| \u001b[0m 43      \u001b[0m | \u001b[0m 0.0     \u001b[0m | \u001b[0m 0.1943  \u001b[0m | \u001b[0m 22.99   \u001b[0m | \u001b[0m 0.601   \u001b[0m | \u001b[0m 969.9   \u001b[0m | \u001b[0m 8.85    \u001b[0m | \u001b[0m 36.91   \u001b[0m |\n",
      "\n",
      "Search parameters {'window_size': 21, 'skip': 3, 'population_size': 25, 'sigma': 0.21450457816646237, 'learning_rate': 0.3636090006847911, 'size_network': 642}\n",
      "stop after 100 iteration with investment 0.000000\n",
      "| \u001b[0m 44      \u001b[0m | \u001b[0m 0.0     \u001b[0m | \u001b[0m 0.3636  \u001b[0m | \u001b[0m 25.23   \u001b[0m | \u001b[0m 0.2145  \u001b[0m | \u001b[0m 642.4   \u001b[0m | \u001b[0m 3.167   \u001b[0m | \u001b[0m 20.52   \u001b[0m |\n",
      "\n",
      "Search parameters {'window_size': 40, 'skip': 1, 'population_size': 32, 'sigma': 0.30366916514150005, 'learning_rate': 0.2666982000319076, 'size_network': 951}\n"
     ]
    },
    {
     "name": "stderr",
     "output_type": "stream",
     "text": [
      "/opt/conda/lib/python3.7/site-packages/ipykernel_launcher.py:39: RuntimeWarning: invalid value encountered in true_divide\n",
      "/opt/conda/lib/python3.7/site-packages/ipykernel_launcher.py:39: RuntimeWarning: invalid value encountered in true_divide\n"
     ]
    },
    {
     "name": "stdout",
     "output_type": "stream",
     "text": [
      "stop after 100 iteration with investment 0.000000\n",
      "| \u001b[0m 45      \u001b[0m | \u001b[0m 0.0     \u001b[0m | \u001b[0m 0.2667  \u001b[0m | \u001b[0m 31.75   \u001b[0m | \u001b[0m 0.3037  \u001b[0m | \u001b[0m 951.4   \u001b[0m | \u001b[0m 1.001   \u001b[0m | \u001b[0m 39.87   \u001b[0m |\n",
      "\n",
      "Search parameters {'window_size': 20, 'skip': 5, 'population_size': 22, 'sigma': 0.6985683890271893, 'learning_rate': 0.35043871623539957, 'size_network': 554}\n",
      "stop after 100 iteration with investment 0.000000\n",
      "| \u001b[0m 46      \u001b[0m | \u001b[0m 0.0     \u001b[0m | \u001b[0m 0.3504  \u001b[0m | \u001b[0m 22.35   \u001b[0m | \u001b[0m 0.6986  \u001b[0m | \u001b[0m 554.2   \u001b[0m | \u001b[0m 5.357   \u001b[0m | \u001b[0m 19.77   \u001b[0m |\n",
      "\n",
      "Search parameters {'window_size': 16, 'skip': 5, 'population_size': 7, 'sigma': 0.8716397248543463, 'learning_rate': 0.3059404660411989, 'size_network': 570}\n",
      "stop after 100 iteration with investment 0.000000\n",
      "| \u001b[0m 47      \u001b[0m | \u001b[0m 0.0     \u001b[0m | \u001b[0m 0.3059  \u001b[0m | \u001b[0m 7.123   \u001b[0m | \u001b[0m 0.8716  \u001b[0m | \u001b[0m 570.1   \u001b[0m | \u001b[0m 5.044   \u001b[0m | \u001b[0m 15.91   \u001b[0m |\n",
      "\n",
      "Search parameters {'window_size': 23, 'skip': 2, 'population_size': 38, 'sigma': 0.542404166213175, 'learning_rate': 0.28313393828878225, 'size_network': 969}\n"
     ]
    },
    {
     "name": "stderr",
     "output_type": "stream",
     "text": [
      "/opt/conda/lib/python3.7/site-packages/ipykernel_launcher.py:39: RuntimeWarning: invalid value encountered in true_divide\n",
      "/opt/conda/lib/python3.7/site-packages/ipykernel_launcher.py:39: RuntimeWarning: invalid value encountered in true_divide\n"
     ]
    },
    {
     "name": "stdout",
     "output_type": "stream",
     "text": [
      "stop after 100 iteration with investment 0.000000\n",
      "| \u001b[0m 48      \u001b[0m | \u001b[0m 0.0     \u001b[0m | \u001b[0m 0.2831  \u001b[0m | \u001b[0m 38.11   \u001b[0m | \u001b[0m 0.5424  \u001b[0m | \u001b[0m 968.9   \u001b[0m | \u001b[0m 2.037   \u001b[0m | \u001b[0m 23.21   \u001b[0m |\n",
      "\n",
      "Search parameters {'window_size': 7, 'skip': 14, 'population_size': 50, 'sigma': 0.6549549380422739, 'learning_rate': 0.4237863072961676, 'size_network': 582}\n",
      "stop after 100 iteration with investment 0.000000\n",
      "| \u001b[0m 49      \u001b[0m | \u001b[0m 0.0     \u001b[0m | \u001b[0m 0.4238  \u001b[0m | \u001b[0m 49.97   \u001b[0m | \u001b[0m 0.655   \u001b[0m | \u001b[0m 581.8   \u001b[0m | \u001b[0m 14.38   \u001b[0m | \u001b[0m 6.513   \u001b[0m |\n"
     ]
    },
    {
     "name": "stderr",
     "output_type": "stream",
     "text": [
      "/opt/conda/lib/python3.7/site-packages/ipykernel_launcher.py:39: RuntimeWarning: invalid value encountered in true_divide\n",
      "/opt/conda/lib/python3.7/site-packages/ipykernel_launcher.py:39: RuntimeWarning: invalid value encountered in true_divide\n"
     ]
    },
    {
     "name": "stdout",
     "output_type": "stream",
     "text": [
      "\n",
      "Search parameters {'window_size': 7, 'skip': 4, 'population_size': 31, 'sigma': 0.8308787207352996, 'learning_rate': 0.23470082526967537, 'size_network': 51}\n",
      "stop after 100 iteration with investment 0.000000\n",
      "| \u001b[0m 50      \u001b[0m | \u001b[0m 0.0     \u001b[0m | \u001b[0m 0.2347  \u001b[0m | \u001b[0m 31.27   \u001b[0m | \u001b[0m 0.8309  \u001b[0m | \u001b[0m 50.97   \u001b[0m | \u001b[0m 3.562   \u001b[0m | \u001b[0m 6.648   \u001b[0m |\n",
      "\n",
      "Search parameters {'window_size': 33, 'skip': 15, 'population_size': 18, 'sigma': 0.7246310627982474, 'learning_rate': 0.3669471325251037, 'size_network': 317}\n"
     ]
    },
    {
     "name": "stderr",
     "output_type": "stream",
     "text": [
      "/opt/conda/lib/python3.7/site-packages/ipykernel_launcher.py:39: RuntimeWarning: invalid value encountered in true_divide\n"
     ]
    },
    {
     "name": "stdout",
     "output_type": "stream",
     "text": [
      "stop after 100 iteration with investment 0.000000\n",
      "| \u001b[0m 51      \u001b[0m | \u001b[0m 0.0     \u001b[0m | \u001b[0m 0.3669  \u001b[0m | \u001b[0m 17.99   \u001b[0m | \u001b[0m 0.7246  \u001b[0m | \u001b[0m 316.5   \u001b[0m | \u001b[0m 14.67   \u001b[0m | \u001b[0m 33.41   \u001b[0m |\n",
      "\n",
      "Search parameters {'window_size': 28, 'skip': 3, 'population_size': 35, 'sigma': 0.6897119861998772, 'learning_rate': 0.3476905911066704, 'size_network': 305}\n"
     ]
    },
    {
     "name": "stderr",
     "output_type": "stream",
     "text": [
      "/opt/conda/lib/python3.7/site-packages/ipykernel_launcher.py:39: RuntimeWarning: invalid value encountered in true_divide\n",
      "/opt/conda/lib/python3.7/site-packages/ipykernel_launcher.py:39: RuntimeWarning: invalid value encountered in true_divide\n"
     ]
    },
    {
     "name": "stdout",
     "output_type": "stream",
     "text": [
      "stop after 100 iteration with investment 0.000000\n",
      "| \u001b[0m 52      \u001b[0m | \u001b[0m 0.0     \u001b[0m | \u001b[0m 0.3477  \u001b[0m | \u001b[0m 35.2    \u001b[0m | \u001b[0m 0.6897  \u001b[0m | \u001b[0m 304.8   \u001b[0m | \u001b[0m 2.779   \u001b[0m | \u001b[0m 28.39   \u001b[0m |\n",
      "\n",
      "Search parameters {'window_size': 32, 'skip': 3, 'population_size': 35, 'sigma': 0.3211255462430628, 'learning_rate': 0.4849072580653903, 'size_network': 332}\n",
      "stop after 100 iteration with investment 0.000000\n",
      "| \u001b[0m 53      \u001b[0m | \u001b[0m 0.0     \u001b[0m | \u001b[0m 0.4849  \u001b[0m | \u001b[0m 35.03   \u001b[0m | \u001b[0m 0.3211  \u001b[0m | \u001b[0m 332.1   \u001b[0m | \u001b[0m 3.471   \u001b[0m | \u001b[0m 32.07   \u001b[0m |\n",
      "\n",
      "Search parameters {'window_size': 29, 'skip': 9, 'population_size': 11, 'sigma': 0.44640004292389507, 'learning_rate': 0.15421751280734128, 'size_network': 337}\n",
      "stop after 100 iteration with investment 0.000000\n",
      "| \u001b[0m 54      \u001b[0m | \u001b[0m 0.0     \u001b[0m | \u001b[0m 0.1542  \u001b[0m | \u001b[0m 10.64   \u001b[0m | \u001b[0m 0.4464  \u001b[0m | \u001b[0m 337.1   \u001b[0m | \u001b[0m 9.203   \u001b[0m | \u001b[0m 28.66   \u001b[0m |\n",
      "\n",
      "Search parameters {'window_size': 47, 'skip': 2, 'population_size': 16, 'sigma': 0.3460192825149072, 'learning_rate': 0.21923193145537648, 'size_network': 330}\n",
      "stop after 100 iteration with investment 0.000000\n"
     ]
    },
    {
     "name": "stderr",
     "output_type": "stream",
     "text": [
      "/opt/conda/lib/python3.7/site-packages/ipykernel_launcher.py:39: RuntimeWarning: invalid value encountered in true_divide\n",
      "/opt/conda/lib/python3.7/site-packages/ipykernel_launcher.py:39: RuntimeWarning: invalid value encountered in true_divide\n"
     ]
    },
    {
     "name": "stdout",
     "output_type": "stream",
     "text": [
      "| \u001b[0m 55      \u001b[0m | \u001b[0m 0.0     \u001b[0m | \u001b[0m 0.2192  \u001b[0m | \u001b[0m 15.56   \u001b[0m | \u001b[0m 0.346   \u001b[0m | \u001b[0m 330.5   \u001b[0m | \u001b[0m 1.878   \u001b[0m | \u001b[0m 46.88   \u001b[0m |\n",
      "\n",
      "Search parameters {'window_size': 9, 'skip': 1, 'population_size': 11, 'sigma': 0.20058510669552446, 'learning_rate': 0.14087066160901507, 'size_network': 623}\n",
      "stop after 100 iteration with investment 0.000000\n",
      "| \u001b[0m 56      \u001b[0m | \u001b[0m 0.0     \u001b[0m | \u001b[0m 0.1409  \u001b[0m | \u001b[0m 11.09   \u001b[0m | \u001b[0m 0.2006  \u001b[0m | \u001b[0m 622.8   \u001b[0m | \u001b[0m 1.323   \u001b[0m | \u001b[0m 8.82    \u001b[0m |\n"
     ]
    },
    {
     "name": "stderr",
     "output_type": "stream",
     "text": [
      "/opt/conda/lib/python3.7/site-packages/ipykernel_launcher.py:39: RuntimeWarning: invalid value encountered in true_divide\n"
     ]
    },
    {
     "name": "stdout",
     "output_type": "stream",
     "text": [
      "\n",
      "Search parameters {'window_size': 49, 'skip': 5, 'population_size': 34, 'sigma': 0.8351645816524863, 'learning_rate': 0.13367041058333953, 'size_network': 312}\n"
     ]
    },
    {
     "name": "stderr",
     "output_type": "stream",
     "text": [
      "/opt/conda/lib/python3.7/site-packages/ipykernel_launcher.py:39: RuntimeWarning: invalid value encountered in true_divide\n"
     ]
    },
    {
     "name": "stdout",
     "output_type": "stream",
     "text": [
      "stop after 100 iteration with investment 0.000000\n",
      "| \u001b[0m 57      \u001b[0m | \u001b[0m 0.0     \u001b[0m | \u001b[0m 0.1337  \u001b[0m | \u001b[0m 34.15   \u001b[0m | \u001b[0m 0.8352  \u001b[0m | \u001b[0m 312.0   \u001b[0m | \u001b[0m 5.139   \u001b[0m | \u001b[0m 49.04   \u001b[0m |\n",
      "\n",
      "Search parameters {'window_size': 50, 'skip': 15, 'population_size': 34, 'sigma': 0.16709459246842362, 'learning_rate': 0.05792766692876186, 'size_network': 340}\n"
     ]
    },
    {
     "name": "stderr",
     "output_type": "stream",
     "text": [
      "/opt/conda/lib/python3.7/site-packages/ipykernel_launcher.py:39: RuntimeWarning: invalid value encountered in true_divide\n"
     ]
    },
    {
     "name": "stdout",
     "output_type": "stream",
     "text": [
      "stop after 100 iteration with investment 0.000000\n",
      "| \u001b[0m 58      \u001b[0m | \u001b[0m 0.0     \u001b[0m | \u001b[0m 0.05793 \u001b[0m | \u001b[0m 33.59   \u001b[0m | \u001b[0m 0.1671  \u001b[0m | \u001b[0m 340.2   \u001b[0m | \u001b[0m 14.69   \u001b[0m | \u001b[0m 49.65   \u001b[0m |\n",
      "\n",
      "Search parameters {'window_size': 45, 'skip': 7, 'population_size': 44, 'sigma': 0.35625054176685517, 'learning_rate': 0.02401322916498422, 'size_network': 982}\n"
     ]
    },
    {
     "name": "stderr",
     "output_type": "stream",
     "text": [
      "/opt/conda/lib/python3.7/site-packages/ipykernel_launcher.py:39: RuntimeWarning: invalid value encountered in true_divide\n",
      "/opt/conda/lib/python3.7/site-packages/ipykernel_launcher.py:39: RuntimeWarning: invalid value encountered in true_divide\n"
     ]
    },
    {
     "name": "stdout",
     "output_type": "stream",
     "text": [
      "stop after 100 iteration with investment 0.000000\n",
      "| \u001b[0m 59      \u001b[0m | \u001b[0m 0.0     \u001b[0m | \u001b[0m 0.02401 \u001b[0m | \u001b[0m 43.89   \u001b[0m | \u001b[0m 0.3563  \u001b[0m | \u001b[0m 982.4   \u001b[0m | \u001b[0m 6.649   \u001b[0m | \u001b[0m 45.43   \u001b[0m |\n",
      "\n",
      "Search parameters {'window_size': 16, 'skip': 9, 'population_size': 27, 'sigma': 0.34712654939117904, 'learning_rate': 0.3445394550868205, 'size_network': 72}\n",
      "stop after 100 iteration with investment 0.000000\n",
      "| \u001b[0m 60      \u001b[0m | \u001b[0m 0.0     \u001b[0m | \u001b[0m 0.3445  \u001b[0m | \u001b[0m 26.75   \u001b[0m | \u001b[0m 0.3471  \u001b[0m | \u001b[0m 71.65   \u001b[0m | \u001b[0m 9.166   \u001b[0m | \u001b[0m 16.18   \u001b[0m |\n",
      "\n",
      "Search parameters {'window_size': 6, 'skip': 5, 'population_size': 43, 'sigma': 0.2540942191469858, 'learning_rate': 0.4336383528603795, 'size_network': 90}\n"
     ]
    },
    {
     "name": "stderr",
     "output_type": "stream",
     "text": [
      "/opt/conda/lib/python3.7/site-packages/ipykernel_launcher.py:39: RuntimeWarning: invalid value encountered in true_divide\n",
      "/opt/conda/lib/python3.7/site-packages/ipykernel_launcher.py:39: RuntimeWarning: invalid value encountered in true_divide\n"
     ]
    },
    {
     "name": "stdout",
     "output_type": "stream",
     "text": [
      "stop after 100 iteration with investment 0.000000\n",
      "| \u001b[0m 61      \u001b[0m | \u001b[0m 0.0     \u001b[0m | \u001b[0m 0.4336  \u001b[0m | \u001b[0m 43.08   \u001b[0m | \u001b[0m 0.2541  \u001b[0m | \u001b[0m 89.67   \u001b[0m | \u001b[0m 4.505   \u001b[0m | \u001b[0m 5.962   \u001b[0m |\n",
      "\n",
      "Search parameters {'window_size': 23, 'skip': 13, 'population_size': 32, 'sigma': 0.8698241411902563, 'learning_rate': 0.39143540010918965, 'size_network': 97}\n",
      "stop after 100 iteration with investment 0.000000\n",
      "| \u001b[0m 62      \u001b[0m | \u001b[0m 0.0     \u001b[0m | \u001b[0m 0.3914  \u001b[0m | \u001b[0m 32.11   \u001b[0m | \u001b[0m 0.8698  \u001b[0m | \u001b[0m 96.6    \u001b[0m | \u001b[0m 13.43   \u001b[0m | \u001b[0m 23.19   \u001b[0m |\n",
      "\n",
      "Search parameters {'window_size': 4, 'skip': 8, 'population_size': 19, 'sigma': 0.7683224708961104, 'learning_rate': 0.20441476064731154, 'size_network': 100}\n",
      "stop after 100 iteration with investment 0.000000\n",
      "| \u001b[0m 63      \u001b[0m | \u001b[0m 0.0     \u001b[0m | \u001b[0m 0.2044  \u001b[0m | \u001b[0m 18.57   \u001b[0m | \u001b[0m 0.7683  \u001b[0m | \u001b[0m 99.73   \u001b[0m | \u001b[0m 8.178   \u001b[0m | \u001b[0m 4.391   \u001b[0m |\n",
      "\n",
      "Search parameters {'window_size': 42, 'skip': 14, 'population_size': 28, 'sigma': 0.49953337976605483, 'learning_rate': 0.3679634093007279, 'size_network': 76}\n",
      "stop after 100 iteration with investment 0.000000\n",
      "| \u001b[0m 64      \u001b[0m | \u001b[0m 0.0     \u001b[0m | \u001b[0m 0.368   \u001b[0m | \u001b[0m 27.94   \u001b[0m | \u001b[0m 0.4995  \u001b[0m | \u001b[0m 76.33   \u001b[0m | \u001b[0m 13.96   \u001b[0m | \u001b[0m 42.2    \u001b[0m |\n"
     ]
    },
    {
     "name": "stderr",
     "output_type": "stream",
     "text": [
      "/opt/conda/lib/python3.7/site-packages/ipykernel_launcher.py:39: RuntimeWarning: invalid value encountered in true_divide\n",
      "/opt/conda/lib/python3.7/site-packages/ipykernel_launcher.py:39: RuntimeWarning: invalid value encountered in true_divide\n"
     ]
    },
    {
     "name": "stdout",
     "output_type": "stream",
     "text": [
      "\n",
      "Search parameters {'window_size': 31, 'skip': 1, 'population_size': 11, 'sigma': 0.9404871138958676, 'learning_rate': 0.3673735199554435, 'size_network': 90}\n",
      "stop after 100 iteration with investment 0.000000\n",
      "| \u001b[0m 65      \u001b[0m | \u001b[0m 0.0     \u001b[0m | \u001b[0m 0.3674  \u001b[0m | \u001b[0m 11.36   \u001b[0m | \u001b[0m 0.9405  \u001b[0m | \u001b[0m 89.69   \u001b[0m | \u001b[0m 1.09    \u001b[0m | \u001b[0m 31.17   \u001b[0m |\n",
      "\n",
      "Search parameters {'window_size': 25, 'skip': 9, 'population_size': 15, 'sigma': 0.9217441976581927, 'learning_rate': 0.41999558674717397, 'size_network': 117}\n",
      "stop after 100 iteration with investment 0.000000\n",
      "| \u001b[0m 66      \u001b[0m | \u001b[0m 0.0     \u001b[0m | \u001b[0m 0.42    \u001b[0m | \u001b[0m 15.23   \u001b[0m | \u001b[0m 0.9217  \u001b[0m | \u001b[0m 117.1   \u001b[0m | \u001b[0m 8.658   \u001b[0m | \u001b[0m 25.24   \u001b[0m |\n"
     ]
    },
    {
     "name": "stderr",
     "output_type": "stream",
     "text": [
      "/opt/conda/lib/python3.7/site-packages/ipykernel_launcher.py:39: RuntimeWarning: invalid value encountered in true_divide\n",
      "/opt/conda/lib/python3.7/site-packages/ipykernel_launcher.py:39: RuntimeWarning: invalid value encountered in true_divide\n"
     ]
    },
    {
     "name": "stdout",
     "output_type": "stream",
     "text": [
      "\n",
      "Search parameters {'window_size': 40, 'skip': 1, 'population_size': 44, 'sigma': 0.16702517168364017, 'learning_rate': 0.06930286124787167, 'size_network': 89}\n"
     ]
    },
    {
     "name": "stderr",
     "output_type": "stream",
     "text": [
      "/opt/conda/lib/python3.7/site-packages/ipykernel_launcher.py:39: RuntimeWarning: invalid value encountered in true_divide\n",
      "/opt/conda/lib/python3.7/site-packages/ipykernel_launcher.py:39: RuntimeWarning: invalid value encountered in true_divide\n"
     ]
    },
    {
     "name": "stdout",
     "output_type": "stream",
     "text": [
      "stop after 100 iteration with investment 0.000000\n",
      "| \u001b[0m 67      \u001b[0m | \u001b[0m 0.0     \u001b[0m | \u001b[0m 0.0693  \u001b[0m | \u001b[0m 43.89   \u001b[0m | \u001b[0m 0.167   \u001b[0m | \u001b[0m 88.82   \u001b[0m | \u001b[0m 1.205   \u001b[0m | \u001b[0m 40.43   \u001b[0m |\n",
      "\n",
      "Search parameters {'window_size': 48, 'skip': 8, 'population_size': 19, 'sigma': 0.4391776668220252, 'learning_rate': 0.3947012035538806, 'size_network': 106}\n",
      "stop after 100 iteration with investment 0.000000\n",
      "| \u001b[0m 68      \u001b[0m | \u001b[0m 0.0     \u001b[0m | \u001b[0m 0.3947  \u001b[0m | \u001b[0m 19.37   \u001b[0m | \u001b[0m 0.4392  \u001b[0m | \u001b[0m 105.8   \u001b[0m | \u001b[0m 7.83    \u001b[0m | \u001b[0m 48.45   \u001b[0m |\n",
      "\n",
      "Search parameters {'window_size': 32, 'skip': 3, 'population_size': 38, 'sigma': 0.3049733668375257, 'learning_rate': 0.33534252165363787, 'size_network': 114}\n",
      "stop after 100 iteration with investment 0.000000\n",
      "| \u001b[0m 69      \u001b[0m | \u001b[0m 0.0     \u001b[0m | \u001b[0m 0.3353  \u001b[0m | \u001b[0m 37.75   \u001b[0m | \u001b[0m 0.305   \u001b[0m | \u001b[0m 114.0   \u001b[0m | \u001b[0m 2.627   \u001b[0m | \u001b[0m 31.77   \u001b[0m |\n",
      "\n",
      "Search parameters {'window_size': 49, 'skip': 7, 'population_size': 27, 'sigma': 0.4213304411145385, 'learning_rate': 0.14093412429613827, 'size_network': 130}\n"
     ]
    },
    {
     "name": "stderr",
     "output_type": "stream",
     "text": [
      "/opt/conda/lib/python3.7/site-packages/ipykernel_launcher.py:39: RuntimeWarning: invalid value encountered in true_divide\n",
      "/opt/conda/lib/python3.7/site-packages/ipykernel_launcher.py:39: RuntimeWarning: invalid value encountered in true_divide\n",
      "/opt/conda/lib/python3.7/site-packages/ipykernel_launcher.py:39: RuntimeWarning: invalid value encountered in true_divide\n"
     ]
    },
    {
     "name": "stdout",
     "output_type": "stream",
     "text": [
      "stop after 100 iteration with investment 0.000000\n",
      "| \u001b[0m 70      \u001b[0m | \u001b[0m 0.0     \u001b[0m | \u001b[0m 0.1409  \u001b[0m | \u001b[0m 26.86   \u001b[0m | \u001b[0m 0.4213  \u001b[0m | \u001b[0m 129.7   \u001b[0m | \u001b[0m 7.247   \u001b[0m | \u001b[0m 48.93   \u001b[0m |\n",
      "\n",
      "Search parameters {'window_size': 27, 'skip': 3, 'population_size': 28, 'sigma': 0.6613072248645855, 'learning_rate': 0.3917481088452156, 'size_network': 139}\n",
      "stop after 100 iteration with investment 0.000000\n",
      "| \u001b[0m 71      \u001b[0m | \u001b[0m 0.0     \u001b[0m | \u001b[0m 0.3917  \u001b[0m | \u001b[0m 27.72   \u001b[0m | \u001b[0m 0.6613  \u001b[0m | \u001b[0m 138.9   \u001b[0m | \u001b[0m 3.062   \u001b[0m | \u001b[0m 26.81   \u001b[0m |\n",
      "\n",
      "Search parameters {'window_size': 37, 'skip': 5, 'population_size': 5, 'sigma': 0.3447935339253173, 'learning_rate': 0.07160612556327062, 'size_network': 137}\n",
      "stop after 100 iteration with investment 0.000000\n",
      "| \u001b[0m 72      \u001b[0m | \u001b[0m 0.0     \u001b[0m | \u001b[0m 0.07161 \u001b[0m | \u001b[0m 4.752   \u001b[0m | \u001b[0m 0.3448  \u001b[0m | \u001b[0m 136.8   \u001b[0m | \u001b[0m 4.513   \u001b[0m | \u001b[0m 36.72   \u001b[0m |\n",
      "\n",
      "Search parameters {'window_size': 49, 'skip': 4, 'population_size': 38, 'sigma': 0.07848906588963889, 'learning_rate': 0.2385953117205321, 'size_network': 55}\n",
      "stop after 100 iteration with investment 0.000000\n",
      "| \u001b[0m 73      \u001b[0m | \u001b[0m 0.0     \u001b[0m | \u001b[0m 0.2386  \u001b[0m | \u001b[0m 37.57   \u001b[0m | \u001b[0m 0.07849 \u001b[0m | \u001b[0m 55.46   \u001b[0m | \u001b[0m 3.556   \u001b[0m | \u001b[0m 48.89   \u001b[0m |\n"
     ]
    },
    {
     "name": "stderr",
     "output_type": "stream",
     "text": [
      "/opt/conda/lib/python3.7/site-packages/ipykernel_launcher.py:39: RuntimeWarning: invalid value encountered in true_divide\n",
      "/opt/conda/lib/python3.7/site-packages/ipykernel_launcher.py:39: RuntimeWarning: invalid value encountered in true_divide\n"
     ]
    },
    {
     "name": "stdout",
     "output_type": "stream",
     "text": [
      "\n",
      "Search parameters {'window_size': 17, 'skip': 1, 'population_size': 17, 'sigma': 0.24261762548897242, 'learning_rate': 0.25087331077485364, 'size_network': 984}\n",
      "stop after 100 iteration with investment 0.000000\n",
      "| \u001b[0m 74      \u001b[0m | \u001b[0m 0.0     \u001b[0m | \u001b[0m 0.2509  \u001b[0m | \u001b[0m 16.61   \u001b[0m | \u001b[0m 0.2426  \u001b[0m | \u001b[0m 984.2   \u001b[0m | \u001b[0m 1.479   \u001b[0m | \u001b[0m 16.53   \u001b[0m |\n"
     ]
    },
    {
     "name": "stderr",
     "output_type": "stream",
     "text": [
      "/opt/conda/lib/python3.7/site-packages/ipykernel_launcher.py:39: RuntimeWarning: invalid value encountered in true_divide\n"
     ]
    },
    {
     "name": "stdout",
     "output_type": "stream",
     "text": [
      "\n",
      "Search parameters {'window_size': 19, 'skip': 5, 'population_size': 40, 'sigma': 0.5266412473604217, 'learning_rate': 0.29449405718645666, 'size_network': 995}\n"
     ]
    },
    {
     "name": "stderr",
     "output_type": "stream",
     "text": [
      "/opt/conda/lib/python3.7/site-packages/ipykernel_launcher.py:39: RuntimeWarning: invalid value encountered in true_divide\n"
     ]
    },
    {
     "name": "stdout",
     "output_type": "stream",
     "text": [
      "stop after 100 iteration with investment 0.000000\n",
      "| \u001b[0m 75      \u001b[0m | \u001b[0m 0.0     \u001b[0m | \u001b[0m 0.2945  \u001b[0m | \u001b[0m 39.63   \u001b[0m | \u001b[0m 0.5266  \u001b[0m | \u001b[0m 994.8   \u001b[0m | \u001b[0m 5.43    \u001b[0m | \u001b[0m 18.74   \u001b[0m |\n",
      "\n",
      "Search parameters {'window_size': 4, 'skip': 13, 'population_size': 29, 'sigma': 0.46319396918036915, 'learning_rate': 0.38215424052265257, 'size_network': 976}\n"
     ]
    },
    {
     "name": "stderr",
     "output_type": "stream",
     "text": [
      "/opt/conda/lib/python3.7/site-packages/ipykernel_launcher.py:39: RuntimeWarning: invalid value encountered in true_divide\n",
      "/opt/conda/lib/python3.7/site-packages/ipykernel_launcher.py:39: RuntimeWarning: invalid value encountered in true_divide\n"
     ]
    },
    {
     "name": "stdout",
     "output_type": "stream",
     "text": [
      "stop after 100 iteration with investment 0.000000\n",
      "| \u001b[0m 76      \u001b[0m | \u001b[0m 0.0     \u001b[0m | \u001b[0m 0.3822  \u001b[0m | \u001b[0m 28.71   \u001b[0m | \u001b[0m 0.4632  \u001b[0m | \u001b[0m 976.3   \u001b[0m | \u001b[0m 12.81   \u001b[0m | \u001b[0m 4.455   \u001b[0m |\n",
      "\n",
      "Search parameters {'window_size': 41, 'skip': 6, 'population_size': 13, 'sigma': 0.13952372614976039, 'learning_rate': 0.24921393424243998, 'size_network': 561}\n",
      "stop after 100 iteration with investment 0.000000\n",
      "| \u001b[0m 77      \u001b[0m | \u001b[0m 0.0     \u001b[0m | \u001b[0m 0.2492  \u001b[0m | \u001b[0m 12.65   \u001b[0m | \u001b[0m 0.1395  \u001b[0m | \u001b[0m 561.2   \u001b[0m | \u001b[0m 6.281   \u001b[0m | \u001b[0m 41.26   \u001b[0m |\n",
      "\n",
      "Search parameters {'window_size': 48, 'skip': 1, 'population_size': 11, 'sigma': 0.1954754298624752, 'learning_rate': 0.31407586833391277, 'size_network': 68}\n",
      "stop after 100 iteration with investment 0.000000\n",
      "| \u001b[0m 78      \u001b[0m | \u001b[0m 0.0     \u001b[0m | \u001b[0m 0.3141  \u001b[0m | \u001b[0m 10.57   \u001b[0m | \u001b[0m 0.1955  \u001b[0m | \u001b[0m 67.58   \u001b[0m | \u001b[0m 1.446   \u001b[0m | \u001b[0m 48.09   \u001b[0m |\n",
      "\n",
      "Search parameters {'window_size': 42, 'skip': 5, 'population_size': 23, 'sigma': 0.2181757454069817, 'learning_rate': 0.09981794655052079, 'size_network': 30}\n",
      "stop after 100 iteration with investment 0.000000\n",
      "| \u001b[0m 79      \u001b[0m | \u001b[0m 0.0     \u001b[0m | \u001b[0m 0.09982 \u001b[0m | \u001b[0m 22.82   \u001b[0m | \u001b[0m 0.2182  \u001b[0m | \u001b[0m 29.58   \u001b[0m | \u001b[0m 4.866   \u001b[0m | \u001b[0m 41.98   \u001b[0m |\n"
     ]
    },
    {
     "name": "stderr",
     "output_type": "stream",
     "text": [
      "/opt/conda/lib/python3.7/site-packages/ipykernel_launcher.py:39: RuntimeWarning: invalid value encountered in true_divide\n",
      "/opt/conda/lib/python3.7/site-packages/ipykernel_launcher.py:39: RuntimeWarning: invalid value encountered in true_divide\n"
     ]
    },
    {
     "name": "stdout",
     "output_type": "stream",
     "text": [
      "\n",
      "Search parameters {'window_size': 5, 'skip': 4, 'population_size': 9, 'sigma': 0.715382824664753, 'learning_rate': 0.15708453424507746, 'size_network': 129}\n",
      "stop after 100 iteration with investment 0.000000\n",
      "| \u001b[0m 80      \u001b[0m | \u001b[0m 0.0     \u001b[0m | \u001b[0m 0.1571  \u001b[0m | \u001b[0m 8.586   \u001b[0m | \u001b[0m 0.7154  \u001b[0m | \u001b[0m 129.4   \u001b[0m | \u001b[0m 3.837   \u001b[0m | \u001b[0m 4.853   \u001b[0m |\n",
      "=================================================================================================\n"
     ]
    },
    {
     "name": "stderr",
     "output_type": "stream",
     "text": [
      "/opt/conda/lib/python3.7/site-packages/ipykernel_launcher.py:39: RuntimeWarning: invalid value encountered in true_divide\n"
     ]
    }
   ],
   "source": [
    "accbest = 0.0\n",
    "NN_BAYESIAN = BayesianOptimization(\n",
    "    find_best_agent,\n",
    "    {\n",
    "        'window_size': (2, 50),\n",
    "        'skip': (1, 15),\n",
    "        'population_size': (1, 50),\n",
    "        'sigma': (0.01, 0.99),\n",
    "        'learning_rate': (0.000001, 0.49),\n",
    "        'size_network': (10, 1000),\n",
    "    },\n",
    ")\n",
    "NN_BAYESIAN.maximize(init_points = 30, n_iter = 50, acq = 'ei', xi = 0.0)"
   ]
  },
  {
   "cell_type": "code",
   "execution_count": 10,
   "metadata": {},
   "outputs": [
    {
     "ename": "TypeError",
     "evalue": "list indices must be integers or slices, not str",
     "output_type": "error",
     "traceback": [
      "\u001b[0;31m---------------------------------------------------------------------------\u001b[0m",
      "\u001b[0;31mTypeError\u001b[0m                                 Traceback (most recent call last)",
      "\u001b[0;32m<ipython-input-10-6d8b81a8de45>\u001b[0m in \u001b[0;36m<module>\u001b[0;34m\u001b[0m\n\u001b[0;32m----> 1\u001b[0;31m \u001b[0mprint\u001b[0m\u001b[0;34m(\u001b[0m\u001b[0;34m'Best AGENT accuracy value: %f'\u001b[0m \u001b[0;34m%\u001b[0m \u001b[0mNN_BAYESIAN\u001b[0m\u001b[0;34m.\u001b[0m\u001b[0mres\u001b[0m\u001b[0;34m[\u001b[0m\u001b[0;34m'max'\u001b[0m\u001b[0;34m]\u001b[0m\u001b[0;34m[\u001b[0m\u001b[0;34m'max_val'\u001b[0m\u001b[0;34m]\u001b[0m\u001b[0;34m)\u001b[0m\u001b[0;34m\u001b[0m\u001b[0;34m\u001b[0m\u001b[0m\n\u001b[0m\u001b[1;32m      2\u001b[0m \u001b[0mprint\u001b[0m\u001b[0;34m(\u001b[0m\u001b[0;34m'Best AGENT parameters: '\u001b[0m\u001b[0;34m,\u001b[0m \u001b[0mNN_BAYESIAN\u001b[0m\u001b[0;34m.\u001b[0m\u001b[0mres\u001b[0m\u001b[0;34m[\u001b[0m\u001b[0;34m'max'\u001b[0m\u001b[0;34m]\u001b[0m\u001b[0;34m[\u001b[0m\u001b[0;34m'max_params'\u001b[0m\u001b[0;34m]\u001b[0m\u001b[0;34m)\u001b[0m\u001b[0;34m\u001b[0m\u001b[0;34m\u001b[0m\u001b[0m\n",
      "\u001b[0;31mTypeError\u001b[0m: list indices must be integers or slices, not str"
     ]
    }
   ],
   "source": [
    "print('Best AGENT accuracy value: %f' % NN_BAYESIAN.res['max']['max_val'])\n",
    "print('Best AGENT parameters: ', NN_BAYESIAN.res['max']['max_params'])"
   ]
  },
  {
   "cell_type": "code",
   "execution_count": 11,
   "metadata": {},
   "outputs": [],
   "source": [
    "df = pd.DataFrame.from_records([{\"target\": item[\"target\"], **item[\"params\"]} for item in NN_BAYESIAN.res])"
   ]
  },
  {
   "cell_type": "code",
   "execution_count": 12,
   "metadata": {},
   "outputs": [
    {
     "data": {
      "text/plain": [
       "{'target': 0.0,\n",
       " 'learning_rate': 0.12229693844523727,\n",
       " 'population_size': 20.025408761055512,\n",
       " 'sigma': 0.7216533365479368,\n",
       " 'size_network': 814.3491677229351,\n",
       " 'skip': 7.876673951246091,\n",
       " 'window_size': 49.60021789585117}"
      ]
     },
     "execution_count": 12,
     "metadata": {},
     "output_type": "execute_result"
    }
   ],
   "source": [
    "best_params = df.iloc[df['target'].idxmax()].to_dict()\n",
    "best_params"
   ]
  },
  {
   "cell_type": "markdown",
   "metadata": {},
   "source": [
    "#### My selected parameters"
   ]
  },
  {
   "cell_type": "code",
   "execution_count": 21,
   "metadata": {},
   "outputs": [
    {
     "name": "stdout",
     "output_type": "stream",
     "text": [
      "time taken to train: 16.147530555725098 seconds\n"
     ]
    },
    {
     "data": {
      "text/plain": [
       "62.18609479000003"
      ]
     },
     "execution_count": 21,
     "metadata": {},
     "output_type": "execute_result"
    }
   ],
   "source": [
    "best_agent(\n",
    "    window_size = 30, \n",
    "    skip = 1, \n",
    "    population_size = 15, \n",
    "    sigma = 0.1, \n",
    "    learning_rate = 0.03, \n",
    "    size_network = 500\n",
    ")"
   ]
  },
  {
   "cell_type": "markdown",
   "metadata": {},
   "source": [
    "#### bayesian parameters"
   ]
  },
  {
   "cell_type": "code",
   "execution_count": 29,
   "metadata": {},
   "outputs": [
    {
     "name": "stdout",
     "output_type": "stream",
     "text": [
      "time taken to train: 34.824726819992065 seconds\n"
     ]
    },
    {
     "data": {
      "text/plain": [
       "118.85879700000001"
      ]
     },
     "execution_count": 29,
     "metadata": {},
     "output_type": "execute_result"
    }
   ],
   "source": [
    "best_agent(\n",
    "    window_size = int(np.around(best_params['window_size'])), \n",
    "    skip = int(np.around(best_params['skip'])), \n",
    "    population_size = int(np.around(best_params['population_size'])), \n",
    "    sigma = best_params['sigma'], \n",
    "    learning_rate = best_params['learning_rate'], \n",
    "    size_network = int(np.around(best_params['size_network']))\n",
    ")"
   ]
  },
  {
   "cell_type": "markdown",
   "metadata": {},
   "source": [
    "#### My selected parameters"
   ]
  },
  {
   "cell_type": "code",
   "execution_count": 31,
   "metadata": {},
   "outputs": [],
   "source": [
    "# model = Model(input_size = 30, \n",
    "#               layer_size = 500, \n",
    "#               output_size = 3)\n",
    "# agent = Agent(population_size = 15, \n",
    "#               sigma = 0.1, \n",
    "#               learning_rate = 0.03, \n",
    "#               model = model, \n",
    "#               money = 10000, \n",
    "#               max_buy = 5, \n",
    "#               max_sell = 5, \n",
    "#               skip = 1, \n",
    "#               window_size = 30)\n",
    "# agent.fit(500, 100)\n",
    "# agent.buy()"
   ]
  },
  {
   "cell_type": "markdown",
   "metadata": {},
   "source": [
    "#### bayesian parameters"
   ]
  },
  {
   "cell_type": "code",
   "execution_count": 32,
   "metadata": {},
   "outputs": [
    {
     "name": "stdout",
     "output_type": "stream",
     "text": [
      "iter 100. reward: 125.126609\n",
      "iter 200. reward: 134.251206\n",
      "iter 300. reward: 136.423405\n",
      "iter 400. reward: 138.313806\n",
      "iter 500. reward: 139.142707\n",
      "time taken to train: 164.1535506248474 seconds\n",
      "day 0: buy 5 units at price 1507.700045, total balance 8492.299955\n",
      "day 1, sell 5 units at price 1520.899965, investment 0.875500 %, total balance 10013.199920,\n",
      "day 2: buy 5 units at price 1395.899965, total balance 8617.299955\n",
      "day 3: buy 5 units at price 1288.899995, total balance 7328.399960\n",
      "day 4: buy 5 units at price 1330.650025, total balance 5997.749935\n",
      "day 5: buy 5 units at price 1262.399980, total balance 4735.349955\n",
      "day 6: buy 5 units at price 1337.649995, total balance 3397.699960\n",
      "day 7: buy 5 units at price 1434.700010, total balance 1962.999950\n",
      "day 9: buy 1 units at price 299.299988, total balance 1663.699962\n",
      "day 10: buy 1 units at price 289.660004, total balance 1374.039958\n",
      "day 11, sell 5 units at price 1523.500060, investment 9.141063 %, total balance 2897.540018,\n",
      "day 12, sell 5 units at price 1504.649965, investment 16.739078 %, total balance 4402.189983,\n",
      "day 13, sell 5 units at price 1470.399935, investment 10.502379 %, total balance 5872.589918,\n",
      "day 14, sell 5 units at price 1501.699980, investment 18.955957 %, total balance 7374.289898,\n",
      "day 16: buy 5 units at price 1438.450010, total balance 5935.839888\n",
      "day 17: buy 5 units at price 1466.750030, total balance 4469.089858\n",
      "day 20: buy 5 units at price 1416.849975, total balance 3052.239883\n",
      "day 21: buy 5 units at price 1417.299955, total balance 1634.939928\n",
      "day 22: buy 5 units at price 1403.450010, total balance 231.489918\n",
      "day 24, sell 5 units at price 1470.399935, investment 9.924116 %, total balance 1701.889853,\n",
      "day 26, sell 5 units at price 1499.600065, investment 4.523598 %, total balance 3201.489918,\n",
      "day 28: buy 5 units at price 1422.250060, total balance 1779.239858\n",
      "day 29, sell 5 units at price 1470.449980, investment 391.296371 %, total balance 3249.689838,\n",
      "day 30, sell 5 units at price 1513.849945, investment 422.629954 %, total balance 4763.539783,\n",
      "day 31, sell 5 units at price 1509.850005, investment 4.963676 %, total balance 6273.389788,\n",
      "day 32, sell 5 units at price 1534.250030, investment 4.602011 %, total balance 7807.639818,\n",
      "day 33, sell 5 units at price 1525.099945, investment 7.640186 %, total balance 9332.739763,\n",
      "day 34, sell 5 units at price 1505.299990, investment 6.208992 %, total balance 10838.039753,\n",
      "day 35: buy 5 units at price 1459.850005, total balance 9378.189748\n",
      "day 36: buy 5 units at price 1420.899965, total balance 7957.289783\n",
      "day 39: buy 5 units at price 1384.100035, total balance 6573.189748\n",
      "day 40: buy 5 units at price 1422.449950, total balance 5150.739798\n",
      "day 41: buy 5 units at price 1375.050050, total balance 3775.689748\n",
      "day 42: buy 1 units at price 279.070007, total balance 3496.619741\n",
      "day 43: buy 5 units at price 1389.250030, total balance 2107.369711\n",
      "day 46: buy 5 units at price 1458.600005, total balance 648.769706\n",
      "day 47: buy 5 units at price 1423.650055, total balance -774.880349\n",
      "day 51, sell 5 units at price 1597.500000, investment 13.826641 %, total balance 822.619651,\n",
      "day 54: buy 5 units at price 1660.500030, total balance -837.880379\n",
      "day 56, sell 5 units at price 1723.899995, investment 21.209346 %, total balance 886.019616,\n",
      "day 57, sell 5 units at price 1788.600005, investment 22.519437 %, total balance 2674.619621,\n",
      "day 58, sell 5 units at price 1790.850065, investment 26.036323 %, total balance 4465.469686,\n",
      "day 59, sell 5 units at price 1854.149935, investment 33.960688 %, total balance 6319.619621,\n",
      "day 60, sell 5 units at price 1762.749940, investment 23.923512 %, total balance 8082.369561,\n",
      "day 61, sell 5 units at price 1811.100005, investment 31.711570 %, total balance 9893.469566,\n",
      "day 62, sell 5 units at price 1737.550050, investment 522.621567 %, total balance 11631.019616,\n",
      "day 64, sell 5 units at price 1665.050050, investment 19.852439 %, total balance 13296.069666,\n",
      "day 65: buy 5 units at price 1710.000000, total balance 11586.069666\n",
      "day 66, sell 5 units at price 1722.500000, investment 18.092691 %, total balance 13308.569666,\n",
      "day 67, sell 3 units at price 1049.789979, investment -26.260672 %, total balance 14358.359645,\n",
      "day 70: buy 5 units at price 1554.299925, total balance 12804.059720\n",
      "day 71: buy 5 units at price 1545.800020, total balance 11258.259700\n",
      "day 72: buy 5 units at price 1544.499970, total balance 9713.759730\n",
      "day 73, sell 5 units at price 1592.550050, investment -4.092140 %, total balance 11306.309780,\n",
      "day 76: buy 1 units at price 316.709991, total balance 10989.599789\n",
      "day 77, sell 5 units at price 1594.349975, investment -6.763159 %, total balance 12583.949764,\n",
      "day 78: buy 5 units at price 1550.500030, total balance 11033.449734\n",
      "day 79, sell 5 units at price 1613.450010, investment 3.805577 %, total balance 12646.899744,\n",
      "day 81, sell 5 units at price 1601.150055, investment 3.580672 %, total balance 14248.049799,\n",
      "day 82: buy 5 units at price 1567.899935, total balance 12680.149864\n",
      "day 83: buy 5 units at price 1516.000060, total balance 11164.149804\n",
      "day 84: buy 5 units at price 1487.149965, total balance 9676.999839\n",
      "day 85: buy 5 units at price 1543.699950, total balance 8133.299889\n",
      "day 86: buy 5 units at price 1533.249970, total balance 6600.049919\n",
      "day 88: buy 5 units at price 1450.850065, total balance 5149.199854\n",
      "day 89: buy 5 units at price 1490.700075, total balance 3658.499779\n",
      "day 90: buy 5 units at price 1504.199980, total balance 2154.299799\n",
      "day 91, sell 5 units at price 1747.700045, investment 13.156366 %, total balance 3901.999844,\n",
      "day 92, sell 5 units at price 1740.850065, investment 449.666924 %, total balance 5642.849909,\n",
      "day 94, sell 5 units at price 1897.850035, investment 22.402451 %, total balance 7540.699944,\n",
      "day 96, sell 5 units at price 1762.250060, investment 12.395569 %, total balance 9302.950004,\n",
      "day 97, sell 5 units at price 1777.449950, investment 17.246034 %, total balance 11080.399954,\n",
      "day 98, sell 5 units at price 1782.050020, investment 19.829880 %, total balance 12862.449974,\n",
      "day 99, sell 5 units at price 1738.200075, investment 12.599607 %, total balance 14600.650049,\n",
      "day 100, sell 5 units at price 1693.450010, investment 10.448397 %, total balance 16294.100059,\n",
      "day 102, sell 1 units at price 305.500000, investment -78.943379 %, total balance 16599.600059,\n",
      "day 103: buy 5 units at price 1542.200010, total balance 15057.400049\n",
      "day 104, sell 5 units at price 1609.499970, investment 7.969403 %, total balance 16666.900019,\n",
      "day 106: buy 1 units at price 320.100006, total balance 16346.800013\n",
      "day 108: buy 5 units at price 1596.349945, total balance 14750.450068\n",
      "day 109: buy 1 units at price 311.859985, total balance 14438.590083\n",
      "day 110, sell 5 units at price 1525.050050, investment 1.386124 %, total balance 15963.640133,\n",
      "day 111, sell 2 units at price 606.299988, investment -60.686034 %, total balance 16569.940121,\n",
      "day 116: buy 5 units at price 1316.199950, total balance 15253.740171\n",
      "day 117: buy 5 units at price 1427.500000, total balance 13826.240171\n",
      "day 118: buy 5 units at price 1397.200010, total balance 12429.040161\n",
      "day 120: buy 5 units at price 1447.299955, total balance 10981.740206\n",
      "day 122: buy 5 units at price 1474.199980, total balance 9507.540226\n",
      "day 123: buy 5 units at price 1424.799955, total balance 8082.740271\n",
      "day 124, sell 5 units at price 1495.099945, investment 13.592159 %, total balance 9577.840216,\n",
      "day 126, sell 5 units at price 1495.500030, investment 4.763575 %, total balance 11073.340246,\n",
      "day 127: buy 1 units at price 299.679993, total balance 10773.660253\n",
      "day 129, sell 5 units at price 1547.899935, investment 10.785852 %, total balance 12321.560188,\n",
      "day 130, sell 5 units at price 1537.599945, investment 6.239204 %, total balance 13859.160133,\n",
      "day 131: buy 5 units at price 1323.849945, total balance 12535.310188\n",
      "day 132, sell 5 units at price 1553.500060, investment 5.379194 %, total balance 14088.810248,\n",
      "day 135: buy 5 units at price 1409.149935, total balance 12679.660313\n",
      "day 137: buy 5 units at price 1252.799990, total balance 11426.860323\n",
      "day 138: buy 5 units at price 1313.999940, total balance 10112.860383\n",
      "day 139: buy 5 units at price 1284.400025, total balance 8828.460358\n",
      "day 141: buy 5 units at price 1293.899995, total balance 7534.560363\n",
      "day 143: buy 5 units at price 1382.949980, total balance 6151.610383\n",
      "day 144: buy 5 units at price 1358.899995, total balance 4792.710388\n",
      "day 146: buy 5 units at price 1300.000000, total balance 3492.710388\n",
      "day 148, sell 5 units at price 1470.700075, investment 3.221513 %, total balance 4963.410463,\n",
      "day 149: buy 5 units at price 1442.500000, total balance 3520.910463\n",
      "day 150, sell 5 units at price 1574.299925, investment 425.327003 %, total balance 5095.210388,\n",
      "day 152, sell 5 units at price 1674.250030, investment 26.468263 %, total balance 6769.460418,\n",
      "day 153: buy 5 units at price 1649.499970, total balance 5119.960448\n",
      "day 154, sell 5 units at price 1686.600035, investment 19.689182 %, total balance 6806.560483,\n",
      "day 156, sell 5 units at price 1732.050020, investment 38.254313 %, total balance 8538.610503,\n",
      "day 157: buy 5 units at price 1706.999970, total balance 6831.610533\n",
      "day 158, sell 5 units at price 1705.299990, investment 29.779305 %, total balance 8536.910523,\n",
      "day 159, sell 5 units at price 1740.800020, investment 35.534100 %, total balance 10277.710543,\n",
      "day 160, sell 5 units at price 1756.999970, investment 35.791018 %, total balance 12034.710513,\n",
      "day 161, sell 5 units at price 1752.550050, investment 26.725484 %, total balance 13787.260563,\n",
      "day 163, sell 5 units at price 1693.650055, investment 24.633900 %, total balance 15480.910618,\n",
      "day 164: buy 5 units at price 1720.000000, total balance 13760.910618\n",
      "day 165, sell 5 units at price 1742.200010, investment 34.015385 %, total balance 15503.110628,\n",
      "day 167, sell 5 units at price 1767.350005, investment 22.519931 %, total balance 17270.460633,\n",
      "day 169, sell 5 units at price 1690.950010, investment 2.512885 %, total balance 18961.410643,\n",
      "day 170: buy 5 units at price 1629.149935, total balance 17332.260708\n",
      "day 173, sell 5 units at price 1739.349975, investment 1.895138 %, total balance 19071.610683,\n",
      "day 174: buy 5 units at price 1705.850065, total balance 17365.760618\n",
      "day 175: buy 5 units at price 1752.400055, total balance 15613.360563\n",
      "day 176, sell 5 units at price 1792.449950, investment 4.212206 %, total balance 17405.810513,\n",
      "day 177, sell 5 units at price 1798.500060, investment 10.394999 %, total balance 19204.310573,\n",
      "day 178, sell 5 units at price 1815.299990, investment 6.416152 %, total balance 21019.610563,\n",
      "day 181, sell 1 units at price 366.760010, investment -79.070988 %, total balance 21386.370573,\n",
      "day 186: buy 1 units at price 337.029999, total balance 21049.340574\n",
      "day 187, sell 1 units at price 332.970001, investment -1.204640 %, total balance 21382.310575,\n",
      "day 188: buy 5 units at price 1576.900025, total balance 19805.410550\n",
      "day 189, sell 5 units at price 1598.849945, investment 1.391966 %, total balance 21404.260495,\n",
      "day 190: buy 5 units at price 1476.950075, total balance 19927.310420\n",
      "day 191: buy 1 units at price 326.089996, total balance 19601.220424\n",
      "day 192: buy 5 units at price 1580.650025, total balance 18020.570399\n",
      "day 196: buy 5 units at price 1501.799925, total balance 16518.770474\n",
      "day 197: buy 5 units at price 1588.450010, total balance 14930.320464\n",
      "day 198, sell 5 units at price 1674.799955, investment 13.395841 %, total balance 16605.120419,\n",
      "day 199, sell 5 units at price 1676.750030, investment 414.198550 %, total balance 18281.870449,\n",
      "day 200, sell 5 units at price 1692.649995, investment 7.085691 %, total balance 19974.520444,\n",
      "day 202, sell 5 units at price 1736.300050, investment 15.614605 %, total balance 21710.820494,\n",
      "day 203: buy 5 units at price 1671.999970, total balance 20038.820524\n",
      "day 204, sell 5 units at price 1722.149965, investment 8.417007 %, total balance 21760.970489,\n",
      "day 206, sell 1 units at price 347.309998, investment -79.227871 %, total balance 22108.280487,\n",
      "day 207: buy 5 units at price 1511.300050, total balance 20596.980437\n",
      "day 208: buy 5 units at price 1494.600065, total balance 19102.380372\n",
      "day 209: buy 5 units at price 1437.949980, total balance 17664.430392\n",
      "day 211: buy 5 units at price 1485.200045, total balance 16179.230347\n",
      "day 213: buy 5 units at price 1487.299955, total balance 14691.930392\n",
      "day 214: buy 1 units at price 308.769989, total balance 14383.160403\n",
      "day 215: buy 5 units at price 1535.099945, total balance 12848.060458\n",
      "day 216, sell 5 units at price 1561.049955, investment 3.291862 %, total balance 14409.110413,\n",
      "day 217, sell 5 units at price 1564.450075, investment 4.673492 %, total balance 15973.560488,\n",
      "day 218, sell 5 units at price 1606.750030, investment 11.738938 %, total balance 17580.310518,\n",
      "day 219, sell 5 units at price 1586.100005, investment 6.793695 %, total balance 19166.410523,\n",
      "day 222, sell 5 units at price 1564.199980, investment 5.170445 %, total balance 20730.610503,\n",
      "day 224, sell 5 units at price 1540.850065, investment 399.028442 %, total balance 22271.460568,\n",
      "day 225: buy 5 units at price 1518.849945, total balance 20752.610623\n",
      "day 226, sell 5 units at price 1539.400025, investment 0.280117 %, total balance 22292.010648,\n",
      "day 228, sell 1 units at price 302.559998, investment -80.079665 %, total balance 22594.570646,\n",
      "day 229: buy 5 units at price 1456.150055, total balance 21138.420591\n",
      "day 230, sell 5 units at price 1473.549955, investment 1.194925 %, total balance 22611.970546,\n",
      "day 233: buy 1 units at price 314.739990, total balance 22297.230556\n",
      "day 234, sell 1 units at price 319.880005, investment 1.633099 %, total balance 22617.110561,\n",
      "day 237: buy 5 units at price 1382.700045, total balance 21234.410516\n",
      "day 238: buy 5 units at price 1381.199950, total balance 19853.210566\n",
      "day 239, sell 5 units at price 1382.949980, investment 0.018076 %, total balance 21236.160546,\n",
      "day 241, sell 5 units at price 1454.600065, investment 5.314228 %, total balance 22690.760611,\n",
      "day 242: buy 5 units at price 1416.799925, total balance 21273.960686\n",
      "day 243, sell 5 units at price 1444.799955, investment 1.976287 %, total balance 22718.760641,\n",
      "day 246: buy 5 units at price 1347.449950, total balance 21371.310691\n",
      "day 249, sell 5 units at price 1370.099945, investment 1.680953 %, total balance 22741.410636,\n",
      "\n",
      "total gained 12741.410636, total investment 127.414106 %\n"
     ]
    },
    {
     "data": {
      "image/png": "[encoded data removed]",
      "text/plain": [
       "<Figure size 1440x720 with 1 Axes>"
      ]
     },
     "metadata": {},
     "output_type": "display_data"
    }
   ],
   "source": [
    "model = Model(input_size = int(np.around(best_params['window_size'])), \n",
    "              layer_size = int(np.around(best_params['size_network'])), \n",
    "              output_size = 3)\n",
    "agent = Agent(population_size = int(np.around(best_params['population_size'])), \n",
    "              sigma = best_params['sigma'], \n",
    "              learning_rate = best_params['learning_rate'], \n",
    "              model = model, \n",
    "              money = 10000, \n",
    "              max_buy = 5, \n",
    "              max_sell = 5, \n",
    "              skip = int(np.around(best_params['skip'])), \n",
    "              window_size = int(np.around(best_params['window_size'])))\n",
    "agent.fit(500, 100)\n",
    "agent.buy()"
   ]
  },
  {
   "cell_type": "code",
   "execution_count": null,
   "metadata": {},
   "outputs": [],
   "source": []
  }
 ],
 "metadata": {
  "kernelspec": {
   "display_name": "Python 3",
   "language": "python",
   "name": "python3"
  },
  "language_info": {
   "codemirror_mode": {
    "name": "ipython",
    "version": 3
   },
   "file_extension": ".py",
   "mimetype": "text/x-python",
   "name": "python",
   "nbconvert_exporter": "python",
   "pygments_lexer": "ipython3",
   "version": "3.7.6"
  }
 },
 "nbformat": 4,
 "nbformat_minor": 4
}
