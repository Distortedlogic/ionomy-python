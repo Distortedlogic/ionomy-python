{
 "cells": [
  {
   "cell_type": "code",
   "execution_count": 1,
   "metadata": {},
   "outputs": [],
   "source": [
    "from decouple import config\n",
    "import pandas as pd\n",
    "import pandas_ta as ta\n",
    "from deap import gp\n",
    "\n",
    "from Ionomy import IonPanda, BitTA\n",
    "from GPrules import DemiChad"
   ]
  },
  {
   "cell_type": "code",
   "execution_count": 2,
   "metadata": {},
   "outputs": [],
   "source": [
    "# MARKET = 'usd-btc'\n",
    "# CURRENCY = 'btc'\n",
    "# BASE = 'usd'\n",
    "# TIME = 'hour'\n",
    "# LIMIT = 10_000"
   ]
  },
  {
   "cell_type": "code",
   "execution_count": 3,
   "metadata": {},
   "outputs": [],
   "source": [
    "# bta = BitTA(config('TREX_KEY'), config('TREX_SECRET'))\n",
    "# ionpd = IonPanda(config('IONOMY_KEY'), config('IONOMY_SECRET'))\n",
    "# bta.update(CURRENCY, BASE, TIME, LIMIT)\n",
    "# df = bta.df\n",
    "# df.to_csv('./btc-usd.csv', index=False)"
   ]
  },
  {
   "cell_type": "code",
   "execution_count": 4,
   "metadata": {},
   "outputs": [],
   "source": [
    "df = pd.read_csv('./btc-usd.csv')"
   ]
  },
  {
   "cell_type": "code",
   "execution_count": 5,
   "metadata": {},
   "outputs": [
    {
     "data": {
      "text/html": [
       "<div>\n",
       "<style scoped>\n",
       "    .dataframe tbody tr th:only-of-type {\n",
       "        vertical-align: middle;\n",
       "    }\n",
       "\n",
       "    .dataframe tbody tr th {\n",
       "        vertical-align: top;\n",
       "    }\n",
       "\n",
       "    .dataframe thead th {\n",
       "        text-align: right;\n",
       "    }\n",
       "</style>\n",
       "<table border=\"1\" class=\"dataframe\">\n",
       "  <thead>\n",
       "    <tr style=\"text-align: right;\">\n",
       "      <th></th>\n",
       "      <th>time</th>\n",
       "      <th>close</th>\n",
       "      <th>high</th>\n",
       "      <th>low</th>\n",
       "      <th>open</th>\n",
       "      <th>volumebtc</th>\n",
       "      <th>volume</th>\n",
       "      <th>date</th>\n",
       "    </tr>\n",
       "  </thead>\n",
       "  <tbody>\n",
       "    <tr>\n",
       "      <th>0</th>\n",
       "      <td>1559444400</td>\n",
       "      <td>8567.93</td>\n",
       "      <td>8577.53</td>\n",
       "      <td>8562.11</td>\n",
       "      <td>8573.88</td>\n",
       "      <td>6.238</td>\n",
       "      <td>53454.39</td>\n",
       "      <td>2019-06-02</td>\n",
       "    </tr>\n",
       "    <tr>\n",
       "      <th>1</th>\n",
       "      <td>1559448000</td>\n",
       "      <td>8585.00</td>\n",
       "      <td>8585.00</td>\n",
       "      <td>8563.11</td>\n",
       "      <td>8567.93</td>\n",
       "      <td>4.779</td>\n",
       "      <td>40979.54</td>\n",
       "      <td>2019-06-02</td>\n",
       "    </tr>\n",
       "    <tr>\n",
       "      <th>2</th>\n",
       "      <td>1559451600</td>\n",
       "      <td>8600.00</td>\n",
       "      <td>8600.00</td>\n",
       "      <td>8569.15</td>\n",
       "      <td>8585.00</td>\n",
       "      <td>6.016</td>\n",
       "      <td>51642.36</td>\n",
       "      <td>2019-06-02</td>\n",
       "    </tr>\n",
       "    <tr>\n",
       "      <th>3</th>\n",
       "      <td>1559455200</td>\n",
       "      <td>8598.50</td>\n",
       "      <td>8609.13</td>\n",
       "      <td>8575.68</td>\n",
       "      <td>8600.00</td>\n",
       "      <td>6.747</td>\n",
       "      <td>57975.52</td>\n",
       "      <td>2019-06-02</td>\n",
       "    </tr>\n",
       "    <tr>\n",
       "      <th>4</th>\n",
       "      <td>1559458800</td>\n",
       "      <td>8715.95</td>\n",
       "      <td>8740.00</td>\n",
       "      <td>8598.20</td>\n",
       "      <td>8598.50</td>\n",
       "      <td>33.800</td>\n",
       "      <td>293431.23</td>\n",
       "      <td>2019-06-02</td>\n",
       "    </tr>\n",
       "    <tr>\n",
       "      <th>...</th>\n",
       "      <td>...</td>\n",
       "      <td>...</td>\n",
       "      <td>...</td>\n",
       "      <td>...</td>\n",
       "      <td>...</td>\n",
       "      <td>...</td>\n",
       "      <td>...</td>\n",
       "      <td>...</td>\n",
       "    </tr>\n",
       "    <tr>\n",
       "      <th>9996</th>\n",
       "      <td>1595415600</td>\n",
       "      <td>9349.96</td>\n",
       "      <td>9357.21</td>\n",
       "      <td>9336.97</td>\n",
       "      <td>9342.73</td>\n",
       "      <td>2.823</td>\n",
       "      <td>26384.62</td>\n",
       "      <td>2020-07-22</td>\n",
       "    </tr>\n",
       "    <tr>\n",
       "      <th>9997</th>\n",
       "      <td>1595419200</td>\n",
       "      <td>9339.80</td>\n",
       "      <td>9350.61</td>\n",
       "      <td>9321.28</td>\n",
       "      <td>9349.96</td>\n",
       "      <td>12.890</td>\n",
       "      <td>120351.51</td>\n",
       "      <td>2020-07-22</td>\n",
       "    </tr>\n",
       "    <tr>\n",
       "      <th>9998</th>\n",
       "      <td>1595422800</td>\n",
       "      <td>9335.99</td>\n",
       "      <td>9346.27</td>\n",
       "      <td>9333.63</td>\n",
       "      <td>9339.80</td>\n",
       "      <td>14.460</td>\n",
       "      <td>135079.43</td>\n",
       "      <td>2020-07-22</td>\n",
       "    </tr>\n",
       "    <tr>\n",
       "      <th>9999</th>\n",
       "      <td>1595426400</td>\n",
       "      <td>9346.38</td>\n",
       "      <td>9346.38</td>\n",
       "      <td>9321.60</td>\n",
       "      <td>9335.99</td>\n",
       "      <td>22.210</td>\n",
       "      <td>207325.28</td>\n",
       "      <td>2020-07-22</td>\n",
       "    </tr>\n",
       "    <tr>\n",
       "      <th>10000</th>\n",
       "      <td>1595430000</td>\n",
       "      <td>9349.04</td>\n",
       "      <td>9359.61</td>\n",
       "      <td>9338.02</td>\n",
       "      <td>9346.38</td>\n",
       "      <td>9.767</td>\n",
       "      <td>91288.00</td>\n",
       "      <td>2020-07-22</td>\n",
       "    </tr>\n",
       "  </tbody>\n",
       "</table>\n",
       "<p>10001 rows × 8 columns</p>\n",
       "</div>"
      ],
      "text/plain": [
       "             time    close     high      low     open  volumebtc     volume  \\\n",
       "0      1559444400  8567.93  8577.53  8562.11  8573.88      6.238   53454.39   \n",
       "1      1559448000  8585.00  8585.00  8563.11  8567.93      4.779   40979.54   \n",
       "2      1559451600  8600.00  8600.00  8569.15  8585.00      6.016   51642.36   \n",
       "3      1559455200  8598.50  8609.13  8575.68  8600.00      6.747   57975.52   \n",
       "4      1559458800  8715.95  8740.00  8598.20  8598.50     33.800  293431.23   \n",
       "...           ...      ...      ...      ...      ...        ...        ...   \n",
       "9996   1595415600  9349.96  9357.21  9336.97  9342.73      2.823   26384.62   \n",
       "9997   1595419200  9339.80  9350.61  9321.28  9349.96     12.890  120351.51   \n",
       "9998   1595422800  9335.99  9346.27  9333.63  9339.80     14.460  135079.43   \n",
       "9999   1595426400  9346.38  9346.38  9321.60  9335.99     22.210  207325.28   \n",
       "10000  1595430000  9349.04  9359.61  9338.02  9346.38      9.767   91288.00   \n",
       "\n",
       "             date  \n",
       "0      2019-06-02  \n",
       "1      2019-06-02  \n",
       "2      2019-06-02  \n",
       "3      2019-06-02  \n",
       "4      2019-06-02  \n",
       "...           ...  \n",
       "9996   2020-07-22  \n",
       "9997   2020-07-22  \n",
       "9998   2020-07-22  \n",
       "9999   2020-07-22  \n",
       "10000  2020-07-22  \n",
       "\n",
       "[10001 rows x 8 columns]"
      ]
     },
     "execution_count": 5,
     "metadata": {},
     "output_type": "execute_result"
    }
   ],
   "source": [
    "df"
   ]
  },
  {
   "cell_type": "code",
   "execution_count": 6,
   "metadata": {},
   "outputs": [],
   "source": [
    "%%capture\n",
    "demichad = DemiChad(df)"
   ]
  },
  {
   "cell_type": "code",
   "execution_count": null,
   "metadata": {},
   "outputs": [
    {
     "name": "stdout",
     "output_type": "stream",
     "text": [
      "1  \t60    \tUniform\t-23.2043\t0.954126\n",
      "1  \t60    \tEphem  \t-19.5572\t1.005   \n",
      "1  \t0     \tbest_of_two\t-19.1211\t1.005   \n",
      "1  \t60    \tEphem      \t-19.1126\t1.6636  \n",
      "1  \t0     \tbest_of_two\t-18.065 \t1.6636  \n",
      "1  \t60    \tEphem      \t-18.287 \t1.6636  \n",
      "1  \t0     \tbest_of_two\t-16.3618\t1.6636  \n",
      "1  \t60    \tEphem      \t-16.8069\t2.54343 \n",
      "1  \t0     \tbest_of_two\t-15.6155\t2.54343 \n"
     ]
    }
   ],
   "source": [
    "demichad.evolve(60, 10)"
   ]
  },
  {
   "cell_type": "code",
   "execution_count": null,
   "metadata": {},
   "outputs": [],
   "source": [
    "history = demichad.chad.history\n",
    "history"
   ]
  },
  {
   "cell_type": "code",
   "execution_count": null,
   "metadata": {},
   "outputs": [],
   "source": [
    "demichad.plot()"
   ]
  },
  {
   "cell_type": "code",
   "execution_count": null,
   "metadata": {},
   "outputs": [],
   "source": [
    "demichad.graph()"
   ]
  }
 ],
 "metadata": {
  "kernelspec": {
   "display_name": "Python 3",
   "language": "python",
   "name": "python3"
  },
  "language_info": {
   "codemirror_mode": {
    "name": "ipython",
    "version": 3
   },
   "file_extension": ".py",
   "mimetype": "text/x-python",
   "name": "python",
   "nbconvert_exporter": "python",
   "pygments_lexer": "ipython3",
   "version": "3.8.4"
  }
 },
 "nbformat": 4,
 "nbformat_minor": 4
}
