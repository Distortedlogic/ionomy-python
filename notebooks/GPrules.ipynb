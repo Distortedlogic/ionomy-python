{
 "cells": [
  {
   "cell_type": "code",
   "execution_count": 1,
   "metadata": {},
   "outputs": [],
   "source": [
    "from decouple import config\n",
    "import pandas as pd\n",
    "import pandas_ta as ta\n",
    "from deap import gp\n",
    "\n",
    "from Ionomy import IonPanda, BitTA\n",
    "from GPrules import DemiChad"
   ]
  },
  {
   "cell_type": "code",
   "execution_count": 2,
   "metadata": {},
   "outputs": [],
   "source": [
    "df = pd.read_csv('./btc-usd.csv')"
   ]
  },
  {
   "cell_type": "code",
   "execution_count": 3,
   "metadata": {},
   "outputs": [],
   "source": [
    "demichad = DemiChad(df)"
   ]
  },
  {
   "cell_type": "code",
   "execution_count": null,
   "metadata": {},
   "outputs": [
    {
     "name": "stdout",
     "output_type": "stream",
     "text": [
      "gen\tnevals\tavg   \tmax    \n",
      "0  \t500   \t-24.22\t2.30003\n",
      "1  \t423   \t-3.44772\t2.39237\n",
      "2  \t424   \t-3.8861 \t3.98874\n",
      "3  \t421   \t-3.69703\t4.0878 \n",
      "4  \t429   \t-2.18025\t4.4767 \n",
      "5  \t420   \t-3.02782\t4.84575\n",
      "6  \t423   \t-1.44819\t4.84575\n",
      "7  \t422   \t-1.13182\t4.84575\n"
     ]
    }
   ],
   "source": [
    "demichad.evolve(500, 10)"
   ]
  },
  {
   "cell_type": "code",
   "execution_count": null,
   "metadata": {},
   "outputs": [],
   "source": [
    "demichad.chad.sell_history"
   ]
  },
  {
   "cell_type": "code",
   "execution_count": null,
   "metadata": {},
   "outputs": [],
   "source": [
    "demichad.plot()"
   ]
  },
  {
   "cell_type": "code",
   "execution_count": null,
   "metadata": {},
   "outputs": [],
   "source": [
    "demichad.graph()"
   ]
  },
  {
   "cell_type": "code",
   "execution_count": null,
   "metadata": {},
   "outputs": [],
   "source": [
    "\n",
    "\n"
   ]
  }
 ],
 "metadata": {
  "kernelspec": {
   "display_name": "Python 3",
   "language": "python",
   "name": "python3"
  },
  "language_info": {
   "codemirror_mode": {
    "name": "ipython",
    "version": 3
   },
   "file_extension": ".py",
   "mimetype": "text/x-python",
   "name": "python",
   "nbconvert_exporter": "python",
   "pygments_lexer": "ipython3",
   "version": "3.8.4"
  }
 },
 "nbformat": 4,
 "nbformat_minor": 4
}
