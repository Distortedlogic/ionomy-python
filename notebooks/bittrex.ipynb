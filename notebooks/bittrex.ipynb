{
 "cells": [
  {
   "cell_type": "code",
   "execution_count": 1,
   "metadata": {},
   "outputs": [],
   "source": [
    "from Ionomy import BitTrex\n",
    "from decouple import config\n",
    "\n",
    "MARKET = 'btc-hive'\n",
    "CURRENCY = 'hive'"
   ]
  },
  {
   "cell_type": "code",
   "execution_count": 2,
   "metadata": {},
   "outputs": [],
   "source": [
    "bt = BitTrex(config('TREX_KEY'), config('TREX_SECRET'))"
   ]
  },
  {
   "cell_type": "code",
   "execution_count": 6,
   "metadata": {},
   "outputs": [],
   "source": [
    "markets = bt.markets()\n",
    "currencies = bt.currencies()\n",
    "ticker = bt.ticker(MARKET)\n",
    "market_summaries = bt.market_summaries()\n",
    "market_summary = bt.market_summary(MARKET)\n",
    "order_book = bt.order_book(MARKET)\n",
    "market_history = bt.market_history(MARKET)\n",
    "balances = bt.balances()\n",
    "balance = bt.balance(CURRENCY)\n",
    "order_history = bt.order_history()\n",
    "withdrawal_history = bt.withdrawal_history(CURRENCY)\n",
    "deposit_history = bt.deposit_history(CURRENCY)"
   ]
  },
  {
   "cell_type": "code",
   "execution_count": 18,
   "metadata": {},
   "outputs": [],
   "source": [
    "# BE CAREFUL\n",
    "order_uuid = bt.buy_limit(MARKET, QUANTITY, RATE, TIMEINFORCE)\n",
    "order_uuid = bt.sell_limit(MARKET, QUANTITY, RATE, TIMEINFORCE)\n",
    "order_uuid = bt.cancel(UUID)\n",
    "\n",
    "order = bt.get_order(UUID)\n",
    "\n",
    "deposit_address = bt.deposit_address(CURRENCY)\n",
    "uuid = bt.withdraw(CURRENCY, QUANTITY, ADDRESS, PAYMENTID_OPTIONAL)"
   ]
  },
  {
   "cell_type": "code",
   "execution_count": null,
   "metadata": {},
   "outputs": [],
   "source": []
  }
 ],
 "metadata": {
  "kernelspec": {
   "display_name": "Python 3",
   "language": "python",
   "name": "python3"
  },
  "language_info": {
   "codemirror_mode": {
    "name": "ipython",
    "version": 3
   },
   "file_extension": ".py",
   "mimetype": "text/x-python",
   "name": "python",
   "nbconvert_exporter": "python",
   "pygments_lexer": "ipython3",
   "version": "3.7.6"
  }
 },
 "nbformat": 4,
 "nbformat_minor": 4
}
