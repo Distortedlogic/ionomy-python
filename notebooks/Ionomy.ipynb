{
 "cells": [
  {
   "cell_type": "code",
   "execution_count": 2,
   "metadata": {},
   "outputs": [],
   "source": [
    "from Ionomy import Ionomy\n",
    "from decouple import config\n",
    "\n",
    "HIVE_MARKET = 'btc-hive'\n",
    "CURRENCY = 'hive'\n",
    "\n",
    "ionomy = Ionomy(config('IONOMY_KEY'), config('IONOMY_SECRET'))\n",
    "\n",
    "market_names = ionomy.market_names\n",
    "markets = ionomy.markets()\n",
    "currencies = ionomy.currencies()\n",
    "order_book = ionomy.order_book(HIVE_MARKET)\n",
    "market_summaries = ionomy.market_summaries()\n",
    "hive_market_summary = ionomy.market_summary(HIVE_MARKET)\n",
    "hive_market_history = ionomy.market_history(HIVE_MARKET)\n",
    "balances = ionomy.balances()\n",
    "open_orders = ionomy.open_orders(HIVE_MARKET)\n",
    "hive_balance = ionomy.balance(CURRENCY)\n",
    "deposit_address = ionomy.deposit_address(CURRENCY)\n",
    "deposit_history = ionomy.deposit_history(CURRENCY)\n",
    "withdrawal_history = ionomy.withdrawal_history(CURRENCY)"
   ]
  },
  {
   "cell_type": "code",
   "execution_count": 24,
   "metadata": {},
   "outputs": [
    {
     "ename": "NameError",
     "evalue": "name 'markets_pd' is not defined",
     "output_type": "error",
     "traceback": [
      "\u001b[0;31m---------------------------------------------------------------------------\u001b[0m",
      "\u001b[0;31mNameError\u001b[0m                                 Traceback (most recent call last)",
      "\u001b[0;32m<ipython-input-24-c27c5af270b5>\u001b[0m in \u001b[0;36m<module>\u001b[0;34m\u001b[0m\n\u001b[1;32m      1\u001b[0m \u001b[0;32mimport\u001b[0m \u001b[0mpandas\u001b[0m \u001b[0;32mas\u001b[0m \u001b[0mpd\u001b[0m\u001b[0;34m\u001b[0m\u001b[0;34m\u001b[0m\u001b[0m\n\u001b[1;32m      2\u001b[0m \u001b[0;34m\u001b[0m\u001b[0m\n\u001b[0;32m----> 3\u001b[0;31m \u001b[0mmarkets_pd\u001b[0m\u001b[0;34m\u001b[0m\u001b[0;34m\u001b[0m\u001b[0m\n\u001b[0m",
      "\u001b[0;31mNameError\u001b[0m: name 'markets_pd' is not defined"
     ]
    }
   ],
   "source": []
  },
  {
   "cell_type": "code",
   "execution_count": null,
   "metadata": {},
   "outputs": [],
   "source": []
  }
 ],
 "metadata": {
  "kernelspec": {
   "display_name": "Python 3",
   "language": "python",
   "name": "python3"
  },
  "language_info": {
   "codemirror_mode": {
    "name": "ipython",
    "version": 3
   },
   "file_extension": ".py",
   "mimetype": "text/x-python",
   "name": "python",
   "nbconvert_exporter": "python",
   "pygments_lexer": "ipython3",
   "version": "3.7.6"
  }
 },
 "nbformat": 4,
 "nbformat_minor": 4
}
