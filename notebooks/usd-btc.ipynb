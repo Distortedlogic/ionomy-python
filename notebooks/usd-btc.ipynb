{
 "cells": [
  {
   "cell_type": "markdown",
   "metadata": {},
   "source": [
    "# Evo-Bayes-Agent"
   ]
  },
  {
   "cell_type": "code",
   "execution_count": 1,
   "metadata": {},
   "outputs": [],
   "source": [
    "from Ionomy import IonPanda, BitTA\n",
    "from decouple import config\n",
    "import pandas as pd\n",
    "import pandas_ta as ta"
   ]
  },
  {
   "cell_type": "code",
   "execution_count": 2,
   "metadata": {},
   "outputs": [],
   "source": [
    "# import seaborn as sns\n",
    "# from statistics import mode\n",
    "# from sklearn.model_selection import train_test_split\n",
    "# from sklearn.preprocessing import LabelEncoder\n",
    "# from sklearn.preprocessing import StandardScaler\n",
    "# from sklearn.ensemble import RandomForestClassifier\n",
    "# from sklearn import metrics\n",
    "# from sklearn.metrics import confusion_matrix\n",
    "# from sklearn.metrics import accuracy_score\n",
    "# from sklearn.model_selection import KFold\n",
    "# import numpy as np"
   ]
  },
  {
   "cell_type": "code",
   "execution_count": 3,
   "metadata": {},
   "outputs": [],
   "source": [
    "MARKET = 'usd-btc'\n",
    "CURRENCY = 'btc'\n",
    "BASE = 'usd'\n",
    "TIME = 'hour'\n",
    "initial_capital = 5_000\n",
    "MAX_BUY = 0.1\n",
    "MAX_SELL = 0.1\n",
    "FEE_RATE = 0.01\n",
    "\n",
    "window_size = 32\n",
    "layer_size = 500\n",
    "output_size = 3"
   ]
  },
  {
   "cell_type": "code",
   "execution_count": 4,
   "metadata": {},
   "outputs": [],
   "source": [
    "bta = BitTA(config('TREX_KEY'), config('TREX_SECRET'))\n",
    "ionpd = IonPanda(config('IONOMY_KEY'), config('IONOMY_SECRET'))\n",
    "bta.update(CURRENCY, BASE, TIME)\n",
    "df = bta.df"
   ]
  },
  {
   "cell_type": "code",
   "execution_count": 5,
   "metadata": {},
   "outputs": [],
   "source": [
    "# ema_10 = df.ta.ema(length=10).sub(df['close']).divide(df['close']).rename('ema_10')\n",
    "# ema_50 = df.ta.ema(length=50).sub(df['close']).divide(df['close']).rename('ema_50')\n",
    "# ema_100 = df.ta.ema(length=100).sub(df['close']).divide(df['close']).rename('ema_100')\n",
    "# ema_200 = df.ta.ema(length=200).sub(df['close']).divide(df['close']).rename('ema_200')\n",
    "# true_range = df.ta.true_range().divide(df['close']).rename('true_range')\n",
    "\n",
    "# pct_change = df['close'].pct_change().rename('pct_change')\n",
    "# target = pct_change > 0"
   ]
  },
  {
   "cell_type": "code",
   "execution_count": 6,
   "metadata": {},
   "outputs": [],
   "source": [
    "# features_df = pd.concat([pct_change, ema_10, ema_50, ema_100, ema_200, true_range], axis=1).dropna()"
   ]
  },
  {
   "cell_type": "code",
   "execution_count": 7,
   "metadata": {},
   "outputs": [],
   "source": [
    "# best_dic = {'acc': 0}\n",
    "# kf = KFold(n_splits=10, random_state=42, shuffle=True)\n",
    "\n",
    "# for train_index, test_index in kf.split(features_df):\n",
    "#     train, test = features_df.iloc[train_index], features_df.iloc[test_index]\n",
    "#     train_target, test_target = target.iloc[train_index], target.iloc[test_index]\n",
    "#     for i in range(1,50):\n",
    "#         model = RandomForestClassifier(n_estimators=i, random_state=0)\n",
    "#         model.fit(train, train_target)\n",
    "#         pred = np.round(model.predict(test))\n",
    "#         acc = accuracy_score(test_target, pred)\n",
    "#         if acc > best_dic['acc']:\n",
    "#             best_dic['acc'] = acc\n",
    "#             best_dic['num_estimators'] = i"
   ]
  },
  {
   "cell_type": "code",
   "execution_count": 8,
   "metadata": {},
   "outputs": [
    {
     "name": "stderr",
     "output_type": "stream",
     "text": [
      "Using TensorFlow backend.\n"
     ]
    }
   ],
   "source": [
    "from neuroevolution import DemiChad"
   ]
  },
  {
   "cell_type": "code",
   "execution_count": 9,
   "metadata": {},
   "outputs": [],
   "source": [
    "demichad = DemiChad(df)"
   ]
  },
  {
   "cell_type": "code",
   "execution_count": 10,
   "metadata": {},
   "outputs": [],
   "source": [
    "# demichad.meta_evolve()"
   ]
  },
  {
   "cell_type": "code",
   "execution_count": null,
   "metadata": {},
   "outputs": [
    {
     "name": "stdout",
     "output_type": "stream",
     "text": [
      "gen\tnevals\tf_avg   \tf_max  \n",
      "0  \t100   \t-5.26205\t609.448\n",
      "1  \t84    \t56.1186 \t1018.87\n"
     ]
    }
   ],
   "source": [
    "demichad.evolve(20)"
   ]
  },
  {
   "cell_type": "code",
   "execution_count": null,
   "metadata": {},
   "outputs": [],
   "source": [
    "demichad.omega()"
   ]
  },
  {
   "cell_type": "code",
   "execution_count": null,
   "metadata": {},
   "outputs": [],
   "source": [
    "demichad.omega_chad.sell_history"
   ]
  },
  {
   "cell_type": "code",
   "execution_count": null,
   "metadata": {},
   "outputs": [],
   "source": [
    "demichad.omega_chad.sell_history.profit.sum()/len(demichad.omega_chad.sell_history)"
   ]
  },
  {
   "cell_type": "code",
   "execution_count": null,
   "metadata": {},
   "outputs": [],
   "source": [
    "demichad.omega_chad.sell_history.profit.sum()"
   ]
  },
  {
   "cell_type": "code",
   "execution_count": null,
   "metadata": {},
   "outputs": [],
   "source": [
    "demichad.plot()"
   ]
  },
  {
   "cell_type": "code",
   "execution_count": null,
   "metadata": {},
   "outputs": [],
   "source": []
  }
 ],
 "metadata": {
  "kernelspec": {
   "display_name": "Python 3",
   "language": "python",
   "name": "python3"
  },
  "language_info": {
   "codemirror_mode": {
    "name": "ipython",
    "version": 3
   },
   "file_extension": ".py",
   "mimetype": "text/x-python",
   "name": "python",
   "nbconvert_exporter": "python",
   "pygments_lexer": "ipython3",
   "version": "3.7.6"
  }
 },
 "nbformat": 4,
 "nbformat_minor": 4
}
