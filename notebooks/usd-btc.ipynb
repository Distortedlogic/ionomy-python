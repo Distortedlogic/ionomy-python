{
 "cells": [
  {
   "cell_type": "markdown",
   "metadata": {},
   "source": [
    "# Evo-Bayes-Agent"
   ]
  },
  {
   "cell_type": "code",
   "execution_count": 1,
   "metadata": {},
   "outputs": [],
   "source": [
    "from Ionomy import IonPanda, BitTA\n",
    "from decouple import config\n",
    "import pandas as pd\n",
    "import pandas_ta as ta"
   ]
  },
  {
   "cell_type": "code",
   "execution_count": 2,
   "metadata": {},
   "outputs": [],
   "source": [
    "# MARKET = 'usd-btc'\n",
    "# CURRENCY = 'btc'\n",
    "# BASE = 'usd'\n",
    "# TIME = 'hour'\n",
    "# LIMIT = 10_000"
   ]
  },
  {
   "cell_type": "code",
   "execution_count": 3,
   "metadata": {},
   "outputs": [],
   "source": [
    "# bta = BitTA(config('TREX_KEY'), config('TREX_SECRET'))\n",
    "# ionpd = IonPanda(config('IONOMY_KEY'), config('IONOMY_SECRET'))\n",
    "# bta.update(CURRENCY, BASE, TIME, LIMIT)\n",
    "# df = bta.df\n",
    "# df.to_csv('./btc-usd.csv', index=False)"
   ]
  },
  {
   "cell_type": "code",
   "execution_count": 4,
   "metadata": {},
   "outputs": [],
   "source": [
    "df = pd.read_csv('./btc-usd.csv')"
   ]
  },
  {
   "cell_type": "code",
   "execution_count": 5,
   "metadata": {},
   "outputs": [
    {
     "data": {
      "text/html": [
       "<div>\n",
       "<style scoped>\n",
       "    .dataframe tbody tr th:only-of-type {\n",
       "        vertical-align: middle;\n",
       "    }\n",
       "\n",
       "    .dataframe tbody tr th {\n",
       "        vertical-align: top;\n",
       "    }\n",
       "\n",
       "    .dataframe thead th {\n",
       "        text-align: right;\n",
       "    }\n",
       "</style>\n",
       "<table border=\"1\" class=\"dataframe\">\n",
       "  <thead>\n",
       "    <tr style=\"text-align: right;\">\n",
       "      <th></th>\n",
       "      <th>time</th>\n",
       "      <th>close</th>\n",
       "      <th>high</th>\n",
       "      <th>low</th>\n",
       "      <th>open</th>\n",
       "      <th>volumebtc</th>\n",
       "      <th>volume</th>\n",
       "      <th>date</th>\n",
       "    </tr>\n",
       "  </thead>\n",
       "  <tbody>\n",
       "    <tr>\n",
       "      <th>0</th>\n",
       "      <td>1586509200</td>\n",
       "      <td>6925.73</td>\n",
       "      <td>6937.34</td>\n",
       "      <td>6860.10</td>\n",
       "      <td>6923.78</td>\n",
       "      <td>53.660</td>\n",
       "      <td>370216.25</td>\n",
       "      <td>2020-04-10</td>\n",
       "    </tr>\n",
       "    <tr>\n",
       "      <th>1</th>\n",
       "      <td>1586512800</td>\n",
       "      <td>6942.56</td>\n",
       "      <td>6950.64</td>\n",
       "      <td>6905.17</td>\n",
       "      <td>6925.73</td>\n",
       "      <td>22.090</td>\n",
       "      <td>153196.61</td>\n",
       "      <td>2020-04-10</td>\n",
       "    </tr>\n",
       "    <tr>\n",
       "      <th>2</th>\n",
       "      <td>1586516400</td>\n",
       "      <td>6905.00</td>\n",
       "      <td>6942.56</td>\n",
       "      <td>6902.55</td>\n",
       "      <td>6942.56</td>\n",
       "      <td>43.560</td>\n",
       "      <td>301529.79</td>\n",
       "      <td>2020-04-10</td>\n",
       "    </tr>\n",
       "    <tr>\n",
       "      <th>3</th>\n",
       "      <td>1586520000</td>\n",
       "      <td>6936.30</td>\n",
       "      <td>6936.65</td>\n",
       "      <td>6891.09</td>\n",
       "      <td>6905.00</td>\n",
       "      <td>20.420</td>\n",
       "      <td>141355.01</td>\n",
       "      <td>2020-04-10</td>\n",
       "    </tr>\n",
       "    <tr>\n",
       "      <th>4</th>\n",
       "      <td>1586523600</td>\n",
       "      <td>6915.93</td>\n",
       "      <td>6936.36</td>\n",
       "      <td>6799.00</td>\n",
       "      <td>6936.30</td>\n",
       "      <td>113.670</td>\n",
       "      <td>782423.26</td>\n",
       "      <td>2020-04-10</td>\n",
       "    </tr>\n",
       "    <tr>\n",
       "      <th>...</th>\n",
       "      <td>...</td>\n",
       "      <td>...</td>\n",
       "      <td>...</td>\n",
       "      <td>...</td>\n",
       "      <td>...</td>\n",
       "      <td>...</td>\n",
       "      <td>...</td>\n",
       "      <td>...</td>\n",
       "    </tr>\n",
       "    <tr>\n",
       "      <th>9996</th>\n",
       "      <td>1564894800</td>\n",
       "      <td>10635.36</td>\n",
       "      <td>10679.13</td>\n",
       "      <td>10581.00</td>\n",
       "      <td>10630.00</td>\n",
       "      <td>27.120</td>\n",
       "      <td>287903.41</td>\n",
       "      <td>2019-08-04</td>\n",
       "    </tr>\n",
       "    <tr>\n",
       "      <th>9997</th>\n",
       "      <td>1564898400</td>\n",
       "      <td>10735.24</td>\n",
       "      <td>10735.24</td>\n",
       "      <td>10618.00</td>\n",
       "      <td>10635.36</td>\n",
       "      <td>19.010</td>\n",
       "      <td>202815.99</td>\n",
       "      <td>2019-08-04</td>\n",
       "    </tr>\n",
       "    <tr>\n",
       "      <th>9998</th>\n",
       "      <td>1564902000</td>\n",
       "      <td>10678.71</td>\n",
       "      <td>10735.24</td>\n",
       "      <td>10670.14</td>\n",
       "      <td>10735.24</td>\n",
       "      <td>10.440</td>\n",
       "      <td>111786.42</td>\n",
       "      <td>2019-08-04</td>\n",
       "    </tr>\n",
       "    <tr>\n",
       "      <th>9999</th>\n",
       "      <td>1564905600</td>\n",
       "      <td>10703.00</td>\n",
       "      <td>10717.32</td>\n",
       "      <td>10678.69</td>\n",
       "      <td>10678.71</td>\n",
       "      <td>14.840</td>\n",
       "      <td>158730.14</td>\n",
       "      <td>2019-08-04</td>\n",
       "    </tr>\n",
       "    <tr>\n",
       "      <th>10000</th>\n",
       "      <td>1564909200</td>\n",
       "      <td>10735.00</td>\n",
       "      <td>10735.00</td>\n",
       "      <td>10670.00</td>\n",
       "      <td>10703.00</td>\n",
       "      <td>7.821</td>\n",
       "      <td>83662.56</td>\n",
       "      <td>2019-08-04</td>\n",
       "    </tr>\n",
       "  </tbody>\n",
       "</table>\n",
       "<p>10001 rows × 8 columns</p>\n",
       "</div>"
      ],
      "text/plain": [
       "             time     close      high       low      open  volumebtc  \\\n",
       "0      1586509200   6925.73   6937.34   6860.10   6923.78     53.660   \n",
       "1      1586512800   6942.56   6950.64   6905.17   6925.73     22.090   \n",
       "2      1586516400   6905.00   6942.56   6902.55   6942.56     43.560   \n",
       "3      1586520000   6936.30   6936.65   6891.09   6905.00     20.420   \n",
       "4      1586523600   6915.93   6936.36   6799.00   6936.30    113.670   \n",
       "...           ...       ...       ...       ...       ...        ...   \n",
       "9996   1564894800  10635.36  10679.13  10581.00  10630.00     27.120   \n",
       "9997   1564898400  10735.24  10735.24  10618.00  10635.36     19.010   \n",
       "9998   1564902000  10678.71  10735.24  10670.14  10735.24     10.440   \n",
       "9999   1564905600  10703.00  10717.32  10678.69  10678.71     14.840   \n",
       "10000  1564909200  10735.00  10735.00  10670.00  10703.00      7.821   \n",
       "\n",
       "          volume        date  \n",
       "0      370216.25  2020-04-10  \n",
       "1      153196.61  2020-04-10  \n",
       "2      301529.79  2020-04-10  \n",
       "3      141355.01  2020-04-10  \n",
       "4      782423.26  2020-04-10  \n",
       "...          ...         ...  \n",
       "9996   287903.41  2019-08-04  \n",
       "9997   202815.99  2019-08-04  \n",
       "9998   111786.42  2019-08-04  \n",
       "9999   158730.14  2019-08-04  \n",
       "10000   83662.56  2019-08-04  \n",
       "\n",
       "[10001 rows x 8 columns]"
      ]
     },
     "execution_count": 5,
     "metadata": {},
     "output_type": "execute_result"
    }
   ],
   "source": [
    "df"
   ]
  },
  {
   "cell_type": "code",
   "execution_count": 6,
   "metadata": {},
   "outputs": [
    {
     "name": "stderr",
     "output_type": "stream",
     "text": [
      "Using TensorFlow backend.\n"
     ]
    }
   ],
   "source": [
    "from neuroevolution import DemiChad"
   ]
  },
  {
   "cell_type": "code",
   "execution_count": 7,
   "metadata": {},
   "outputs": [],
   "source": [
    "demichad = DemiChad(df)"
   ]
  },
  {
   "cell_type": "code",
   "execution_count": 8,
   "metadata": {},
   "outputs": [],
   "source": [
    "# demichad.meta_evolve()"
   ]
  },
  {
   "cell_type": "code",
   "execution_count": null,
   "metadata": {},
   "outputs": [
    {
     "name": "stdout",
     "output_type": "stream",
     "text": [
      "50 \t90    \t0.599844 \t5.12977 \n",
      "51 \t91    \t0.333389 \t5.11655 \n",
      "52 \t86    \t0.0313042\t5.11655 \n",
      "53 \t90    \t0.284613 \t5.11655 \n",
      "54 \t90    \t0.193598 \t5.11655 \n",
      "55 \t87    \t0.416219 \t5.11655 \n",
      "56 \t90    \t0.0976502\t5.11655 \n",
      "57 \t90    \t-0.240761\t5.11655 \n",
      "58 \t89    \t-0.194889\t5.11655 \n",
      "59 \t94    \t-1.39924 \t5.11655 \n",
      "60 \t90    \t-0.545169\t5.11655 \n",
      "61 \t88    \t-0.531269\t5.11655 \n",
      "62 \t88    \t-0.153702\t5.11655 \n",
      "63 \t90    \t-0.284033\t5.11655 \n"
     ]
    }
   ],
   "source": [
    "demichad.evolve(100)"
   ]
  },
  {
   "cell_type": "code",
   "execution_count": null,
   "metadata": {},
   "outputs": [],
   "source": [
    "demichad.omega()"
   ]
  },
  {
   "cell_type": "code",
   "execution_count": null,
   "metadata": {},
   "outputs": [],
   "source": [
    "demichad.omega_chad.sell_history"
   ]
  },
  {
   "cell_type": "code",
   "execution_count": null,
   "metadata": {},
   "outputs": [],
   "source": [
    "demichad.omega_chad.sell_history.profit.sum()/len(demichad.omega_chad.sell_history)"
   ]
  },
  {
   "cell_type": "code",
   "execution_count": null,
   "metadata": {},
   "outputs": [],
   "source": [
    "demichad.omega_chad.sell_history.profit.sum()"
   ]
  },
  {
   "cell_type": "code",
   "execution_count": null,
   "metadata": {},
   "outputs": [],
   "source": [
    "demichad.plot()"
   ]
  },
  {
   "cell_type": "code",
   "execution_count": null,
   "metadata": {},
   "outputs": [],
   "source": []
  }
 ],
 "metadata": {
  "kernelspec": {
   "display_name": "Python 3",
   "language": "python",
   "name": "python3"
  },
  "language_info": {
   "codemirror_mode": {
    "name": "ipython",
    "version": 3
   },
   "file_extension": ".py",
   "mimetype": "text/x-python",
   "name": "python",
   "nbconvert_exporter": "python",
   "pygments_lexer": "ipython3",
   "version": "3.8.4"
  }
 },
 "nbformat": 4,
 "nbformat_minor": 4
}
