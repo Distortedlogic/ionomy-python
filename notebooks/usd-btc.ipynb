{
 "cells": [
  {
   "cell_type": "markdown",
   "metadata": {},
   "source": [
    "# Evo-Bayes-Agent"
   ]
  },
  {
   "cell_type": "code",
   "execution_count": 1,
   "metadata": {},
   "outputs": [],
   "source": [
    "from Ionomy import IonPanda, BitTA\n",
    "from decouple import config\n",
    "\n",
    "MARKET = 'usd-btc'\n",
    "CURRENCY = 'btc'\n",
    "BASE = 'usd'\n",
    "TIME = 'hour'\n",
    "initial_capital = 5_000\n",
    "MAX_BUY = 0.1\n",
    "MAX_SELL = 0.1\n",
    "FEE_RATE = 0.01\n",
    "\n",
    "window_size = 32\n",
    "layer_size = 500\n",
    "output_size = 3\n",
    "\n",
    "bta = BitTA(config('TREX_KEY'), config('TREX_SECRET'))\n",
    "ionpd = IonPanda(config('IONOMY_KEY'), config('IONOMY_SECRET'))\n",
    "bta.update(CURRENCY, BASE, TIME)\n",
    "ohlcv_df = bta.df"
   ]
  },
  {
   "cell_type": "code",
   "execution_count": 2,
   "metadata": {},
   "outputs": [
    {
     "name": "stderr",
     "output_type": "stream",
     "text": [
      "Using TensorFlow backend.\n"
     ]
    }
   ],
   "source": [
    "from neuroevolution import DemiChad"
   ]
  },
  {
   "cell_type": "code",
   "execution_count": 3,
   "metadata": {},
   "outputs": [],
   "source": [
    "demichad = DemiChad(ohlcv_df)"
   ]
  },
  {
   "cell_type": "code",
   "execution_count": 4,
   "metadata": {},
   "outputs": [],
   "source": [
    "# demichad.meta_evolve()"
   ]
  },
  {
   "cell_type": "code",
   "execution_count": null,
   "metadata": {},
   "outputs": [
    {
     "name": "stdout",
     "output_type": "stream",
     "text": [
      "gen\tnevals\tf_avg\tf_std\tf_min\tf_max\tl_avg  \tl_std    \tl_min\tl_max \n",
      "0  \t100   \t-1   \t0    \t-1   \t-1   \t0.01786\t0.029782 \t0    \t0.101 \n",
      "1  \t67    \t-1   \t0    \t-1   \t-1   \t0.05037\t0.0417586\t0    \t0.1015\n",
      "2  \t60    \t-1   \t0    \t-1   \t-1   \t0.06735\t0.0453228\t0    \t0.1015\n",
      "3  \t71    \t-1   \t0    \t-1   \t-1   \t0.057095\t0.0482611\t0    \t0.1035\n",
      "4  \t67    \t-1   \t0    \t-1   \t-1   \t0.06565 \t0.0463058\t0    \t0.1035\n",
      "5  \t64    \t-1   \t0    \t-1   \t-1   \t0.06192 \t0.0462507\t0    \t0.1035\n",
      "6  \t59    \t-1   \t0    \t-1   \t-1   \t0.06406 \t0.0473306\t0    \t0.108 \n",
      "7  \t68    \t-1   \t0    \t-1   \t-1   \t0.0559  \t0.050152 \t0    \t0.108 \n",
      "8  \t51    \t-1   \t0    \t-1   \t-1   \t0.064975\t0.0502491\t0    \t0.108 \n",
      "9  \t66    \t-1   \t0    \t-1   \t-1   \t0.05676 \t0.0517578\t0    \t0.108 \n",
      "10 \t72    \t-1   \t0    \t-1   \t-1   \t0.042745\t0.0493379\t0    \t0.108 \n",
      "11 \t62    \t-1   \t0    \t-1   \t-1   \t0.059865\t0.0520034\t0    \t0.108 \n",
      "12 \t75    \t-1   \t0    \t-1   \t-1   \t0.063765\t0.0510147\t0    \t0.108 \n",
      "13 \t67    \t-1   \t0    \t-1   \t-1   \t0.05807 \t0.0510036\t0    \t0.108 \n",
      "14 \t64    \t-1   \t0    \t-1   \t-1   \t0.057625\t0.0525458\t0    \t0.108 \n",
      "15 \t62    \t-1   \t0    \t-1   \t-1   \t0.065245\t0.0501501\t0    \t0.108 \n",
      "16 \t73    \t-1   \t0    \t-1   \t-1   \t0.05772 \t0.051947 \t0    \t0.108 \n",
      "17 \t60    \t-1   \t0    \t-1   \t-1   \t0.06271 \t0.050519 \t0    \t0.108 \n",
      "18 \t71    \t-1   \t0    \t-1   \t-1   \t0.0595  \t0.0506645\t0    \t0.108 \n",
      "19 \t68    \t-1   \t0    \t-1   \t-1   \t0.055425\t0.0521147\t0    \t0.108 \n",
      "20 \t75    \t-1   \t0    \t-1   \t-1   \t0.057155\t0.0513402\t0    \t0.108 \n",
      "21 \t64    \t-1   \t0    \t-1   \t-1   \t0.06215 \t0.0515444\t0    \t0.108 \n",
      "22 \t64    \t-1   \t0    \t-1   \t-1   \t0.059025\t0.0515861\t0    \t0.108 \n",
      "23 \t65    \t-1   \t0    \t-1   \t-1   \t0.061645\t0.0506633\t0    \t0.108 \n",
      "24 \t61    \t-1   \t0    \t-1   \t-1   \t0.054705\t0.0519588\t0    \t0.108 \n",
      "25 \t55    \t-1   \t0    \t-1   \t-1   \t0.066875\t0.0502198\t0    \t0.108 \n",
      "26 \t59    \t-1   \t0    \t-1   \t-1   \t0.06721 \t0.0501894\t0    \t0.108 \n",
      "27 \t69    \t-1   \t0    \t-1   \t-1   \t0.05711 \t0.0510037\t0    \t0.108 \n",
      "28 \t73    \t-1   \t0    \t-1   \t-1   \t0.062845\t0.0501541\t0    \t0.108 \n",
      "29 \t78    \t-1   \t0    \t-1   \t-1   \t0.062845\t0.0506922\t0    \t0.108 \n",
      "30 \t62    \t-1   \t0    \t-1   \t-1   \t0.05935 \t0.0507427\t0    \t0.108 \n",
      "31 \t61    \t-1   \t0    \t-1   \t-1   \t0.06728 \t0.0502104\t0    \t0.108 \n",
      "32 \t74    \t-1   \t0    \t-1   \t-1   \t0.0607  \t0.0502799\t0    \t0.108 \n",
      "33 \t63    \t-1   \t0    \t-1   \t-1   \t0.056015\t0.0510692\t0    \t0.108 \n",
      "34 \t67    \t-1   \t0    \t-1   \t-1   \t0.054985\t0.0522146\t0    \t0.108 \n",
      "35 \t77    \t-1   \t0    \t-1   \t-1   \t0.05124 \t0.0512568\t0    \t0.108 \n",
      "36 \t60    \t-1   \t0    \t-1   \t-1   \t0.06883 \t0.0491549\t0    \t0.1085\n",
      "37 \t64    \t-1   \t0    \t-1   \t-1   \t0.05767 \t0.0513597\t0    \t0.1085\n",
      "38 \t72    \t-1   \t0    \t-1   \t-1   \t0.05084 \t0.0506352\t0    \t0.1085\n",
      "39 \t63    \t-1   \t0    \t-1   \t-1   \t0.0646  \t0.0516748\t0    \t0.1085\n",
      "40 \t69    \t-1   \t0    \t-1   \t-1   \t0.065105\t0.050895 \t0    \t0.1085\n",
      "41 \t66    \t-1   \t0    \t-1   \t-1   \t0.060195\t0.0508458\t0    \t0.109 \n",
      "42 \t66    \t-1   \t0    \t-1   \t-1   \t0.05899 \t0.0525642\t0    \t0.109 \n",
      "43 \t62    \t-1   \t0    \t-1   \t-1   \t0.057735\t0.0512677\t0    \t0.109 \n",
      "44 \t61    \t-1   \t0    \t-1   \t-1   \t0.06204 \t0.0521208\t0    \t0.109 \n",
      "45 \t62    \t-1   \t0    \t-1   \t-1   \t0.057905\t0.0523144\t0    \t0.109 \n",
      "46 \t74    \t-1   \t0    \t-1   \t-1   \t0.053525\t0.0524739\t0    \t0.109 \n",
      "47 \t62    \t-1   \t0    \t-1   \t-1   \t0.0626  \t0.0522146\t0    \t0.109 \n",
      "48 \t63    \t-1   \t0    \t-1   \t-1   \t0.06298 \t0.0521816\t0    \t0.109 \n",
      "49 \t67    \t-1   \t0    \t-1   \t-1   \t0.052245\t0.051984 \t0    \t0.109 \n",
      "50 \t57    \t-1   \t0    \t-1   \t-1   \t0.06284 \t0.0513709\t0    \t0.109 \n",
      "51 \t62    \t-1   \t0    \t-1   \t-1   \t0.07062 \t0.0503554\t0    \t0.109 \n",
      "52 \t67    \t-1   \t0    \t-1   \t-1   \t0.06546 \t0.0512168\t0    \t0.109 \n",
      "53 \t62    \t-1   \t0    \t-1   \t-1   \t0.06042 \t0.0518209\t0    \t0.109 \n",
      "54 \t63    \t-1   \t0    \t-1   \t-1   \t0.059005\t0.0530452\t0    \t0.1095\n",
      "55 \t68    \t-1   \t0    \t-1   \t-1   \t0.056135\t0.0522259\t0    \t0.1095\n",
      "56 \t63    \t-1   \t0    \t-1   \t-1   \t0.058975\t0.0516333\t0    \t0.1095\n",
      "57 \t58    \t-1   \t0    \t-1   \t-1   \t0.067995\t0.0513625\t0    \t0.1095\n",
      "58 \t65    \t-1   \t0    \t-1   \t-1   \t0.06223 \t0.0524155\t0    \t0.1095\n"
     ]
    }
   ],
   "source": [
    "demichad.evolve(10_000)"
   ]
  },
  {
   "cell_type": "code",
   "execution_count": null,
   "metadata": {},
   "outputs": [],
   "source": [
    "demichad.omega()"
   ]
  },
  {
   "cell_type": "code",
   "execution_count": null,
   "metadata": {},
   "outputs": [],
   "source": [
    "demichad.plot()"
   ]
  },
  {
   "cell_type": "code",
   "execution_count": null,
   "metadata": {},
   "outputs": [],
   "source": [
    "demichad.env.length"
   ]
  },
  {
   "cell_type": "code",
   "execution_count": null,
   "metadata": {},
   "outputs": [],
   "source": [
    "buy_history"
   ]
  },
  {
   "cell_type": "code",
   "execution_count": null,
   "metadata": {},
   "outputs": [],
   "source": [
    "sell_history"
   ]
  },
  {
   "cell_type": "code",
   "execution_count": null,
   "metadata": {},
   "outputs": [],
   "source": []
  }
 ],
 "metadata": {
  "kernelspec": {
   "display_name": "Python 3",
   "language": "python",
   "name": "python3"
  },
  "language_info": {
   "codemirror_mode": {
    "name": "ipython",
    "version": 3
   },
   "file_extension": ".py",
   "mimetype": "text/x-python",
   "name": "python",
   "nbconvert_exporter": "python",
   "pygments_lexer": "ipython3",
   "version": "3.7.6"
  }
 },
 "nbformat": 4,
 "nbformat_minor": 4
}
