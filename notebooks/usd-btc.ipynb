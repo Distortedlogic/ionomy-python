{
 "cells": [
  {
   "cell_type": "markdown",
   "metadata": {},
   "source": [
    "# Evo-Bayes-Agent"
   ]
  },
  {
   "cell_type": "code",
   "execution_count": 1,
   "metadata": {},
   "outputs": [],
   "source": [
    "from Ionomy import IonPanda, BitTA\n",
    "from decouple import config\n",
    "import pandas as pd\n",
    "import pandas_ta as ta"
   ]
  },
  {
   "cell_type": "code",
   "execution_count": 2,
   "metadata": {},
   "outputs": [],
   "source": [
    "# import seaborn as sns\n",
    "# from statistics import mode\n",
    "# from sklearn.model_selection import train_test_split\n",
    "# from sklearn.preprocessing import LabelEncoder\n",
    "# from sklearn.preprocessing import StandardScaler\n",
    "# from sklearn.ensemble import RandomForestClassifier\n",
    "# from sklearn import metrics\n",
    "# from sklearn.metrics import confusion_matrix\n",
    "# from sklearn.metrics import accuracy_score\n",
    "# from sklearn.model_selection import KFold\n",
    "# import numpy as np"
   ]
  },
  {
   "cell_type": "code",
   "execution_count": 3,
   "metadata": {},
   "outputs": [],
   "source": [
    "MARKET = 'usd-btc'\n",
    "CURRENCY = 'btc'\n",
    "BASE = 'usd'\n",
    "TIME = 'hour'\n",
    "initial_capital = 5_000\n",
    "MAX_BUY = 0.1\n",
    "MAX_SELL = 0.1\n",
    "FEE_RATE = 0.01\n",
    "\n",
    "window_size = 32\n",
    "layer_size = 500\n",
    "output_size = 3"
   ]
  },
  {
   "cell_type": "code",
   "execution_count": 4,
   "metadata": {},
   "outputs": [],
   "source": [
    "bta = BitTA(config('TREX_KEY'), config('TREX_SECRET'))\n",
    "ionpd = IonPanda(config('IONOMY_KEY'), config('IONOMY_SECRET'))\n",
    "bta.update(CURRENCY, BASE, TIME)\n",
    "df = bta.df"
   ]
  },
  {
   "cell_type": "code",
   "execution_count": 5,
   "metadata": {},
   "outputs": [],
   "source": [
    "# ema_10 = df.ta.ema(length=10).sub(df['close']).divide(df['close']).rename('ema_10')\n",
    "# ema_50 = df.ta.ema(length=50).sub(df['close']).divide(df['close']).rename('ema_50')\n",
    "# ema_100 = df.ta.ema(length=100).sub(df['close']).divide(df['close']).rename('ema_100')\n",
    "# ema_200 = df.ta.ema(length=200).sub(df['close']).divide(df['close']).rename('ema_200')\n",
    "# true_range = df.ta.true_range().divide(df['close']).rename('true_range')\n",
    "\n",
    "# pct_change = df['close'].pct_change().rename('pct_change')\n",
    "# target = pct_change > 0"
   ]
  },
  {
   "cell_type": "code",
   "execution_count": 6,
   "metadata": {},
   "outputs": [],
   "source": [
    "# features_df = pd.concat([pct_change, ema_10, ema_50, ema_100, ema_200, true_range], axis=1).dropna()"
   ]
  },
  {
   "cell_type": "code",
   "execution_count": 7,
   "metadata": {},
   "outputs": [],
   "source": [
    "# best_dic = {'acc': 0}\n",
    "# kf = KFold(n_splits=10, random_state=42, shuffle=True)\n",
    "\n",
    "# for train_index, test_index in kf.split(features_df):\n",
    "#     train, test = features_df.iloc[train_index], features_df.iloc[test_index]\n",
    "#     train_target, test_target = target.iloc[train_index], target.iloc[test_index]\n",
    "#     for i in range(1,50):\n",
    "#         model = RandomForestClassifier(n_estimators=i, random_state=0)\n",
    "#         model.fit(train, train_target)\n",
    "#         pred = np.round(model.predict(test))\n",
    "#         acc = accuracy_score(test_target, pred)\n",
    "#         if acc > best_dic['acc']:\n",
    "#             best_dic['acc'] = acc\n",
    "#             best_dic['num_estimators'] = i"
   ]
  },
  {
   "cell_type": "code",
   "execution_count": 8,
   "metadata": {},
   "outputs": [
    {
     "name": "stderr",
     "output_type": "stream",
     "text": [
      "Using TensorFlow backend.\n"
     ]
    }
   ],
   "source": [
    "from neuroevolution import DemiChad"
   ]
  },
  {
   "cell_type": "code",
   "execution_count": 9,
   "metadata": {},
   "outputs": [],
   "source": [
    "demichad = DemiChad(df)"
   ]
  },
  {
   "cell_type": "code",
   "execution_count": null,
   "metadata": {},
   "outputs": [
    {
     "name": "stdout",
     "output_type": "stream",
     "text": [
      "|   iter    |  target   |   cxpb    |   indpb   |    mu     |   mutpb   | networ... | popula... |   sigma   | tournsize | window... |\n",
      "-------------------------------------------------------------------------------------------------------------------------------------\n",
      "gen\tnevals\tf_avg   \tf_max  \n",
      "0  \t9     \t0.728995\t8.38022\n",
      "1  \t9     \t4.90529 \t13.1994\n",
      "2  \t8     \t8.57503 \t24.9162\n",
      "3  \t9     \t10.0796 \t23.4639\n",
      "4  \t8     \t7.56663 \t26.3506\n",
      "5  \t8     \t12.3508 \t26.3506\n",
      "6  \t9     \t2.73236 \t14.1968\n",
      "7  \t9     \t6.40774 \t16.9277\n",
      "8  \t8     \t8.28479 \t16.9277\n",
      "9  \t8     \t6.74031 \t16.9277\n",
      "10 \t9     \t7.02276 \t16.9277\n",
      "11 \t8     \t10.1299 \t18.677 \n",
      "12 \t9     \t13.3809 \t19.9719\n",
      "13 \t9     \t7.53968 \t19.9719\n",
      "14 \t9     \t17.0788 \t25.2813\n",
      "15 \t8     \t11.9527 \t25.2813\n",
      "16 \t9     \t10.7826 \t24.4055\n",
      "17 \t9     \t11.3364 \t24.4055\n",
      "18 \t8     \t11.6877 \t24.4055\n",
      "19 \t9     \t19.1105 \t24.8745\n",
      "20 \t7     \t12.2629 \t24.4055\n",
      "21 \t9     \t11.2632 \t25.55  \n",
      "22 \t9     \t15.6677 \t26.4899\n",
      "23 \t8     \t20.813  \t27.6599\n",
      "24 \t8     \t17.5859 \t28.1944\n",
      "25 \t8     \t13.8041 \t27.6599\n",
      "| \u001b[0m 1       \u001b[0m | \u001b[0m 28.19   \u001b[0m | \u001b[0m 0.8914  \u001b[0m | \u001b[0m 0.02926 \u001b[0m | \u001b[0m 0.8134  \u001b[0m | \u001b[0m 0.7418  \u001b[0m | \u001b[0m 127.0   \u001b[0m | \u001b[0m 9.241   \u001b[0m | \u001b[0m 0.7644  \u001b[0m | \u001b[0m 7.202   \u001b[0m | \u001b[0m 42.63   \u001b[0m |\n",
      "gen\tnevals\tf_avg  \tf_max  \n",
      "0  \t25    \t1.13392\t9.63385\n",
      "1  \t19    \t6.23036\t29.0218\n",
      "2  \t19    \t10.3705\t29.0218\n",
      "3  \t19    \t17.8309\t29.0218\n",
      "4  \t21    \t19.422 \t30.15  \n",
      "5  \t21    \t16.7051\t32.0368\n",
      "6  \t16    \t21.7161\t32.0368\n",
      "7  \t19    \t20.0656\t32.0368\n",
      "8  \t15    \t25.5377\t32.1553\n",
      "9  \t23    \t15.125 \t32.0368\n",
      "10 \t20    \t18.8899\t44.0739\n",
      "11 \t19    \t20.6809\t44.0739\n",
      "12 \t19    \t14.4191\t46.783 \n",
      "13 \t17    \t20.845 \t46.783 \n",
      "14 \t18    \t22.0118\t46.783 \n",
      "15 \t18    \t23.144 \t46.783 \n",
      "16 \t18    \t23.5092\t46.783 \n",
      "17 \t21    \t17.7094\t46.783 \n",
      "18 \t22    \t14.469 \t46.783 \n",
      "19 \t16    \t24.6632\t46.783 \n",
      "20 \t20    \t26.2364\t46.783 \n",
      "21 \t18    \t23.3695\t46.783 \n",
      "22 \t23    \t16.0913\t46.783 \n",
      "23 \t19    \t20.0809\t46.783 \n",
      "24 \t20    \t18.7637\t46.783 \n",
      "25 \t21    \t15.089 \t46.783 \n",
      "| \u001b[95m 2       \u001b[0m | \u001b[95m 46.78   \u001b[0m | \u001b[95m 0.4158  \u001b[0m | \u001b[95m 0.1776  \u001b[0m | \u001b[95m-0.7561  \u001b[0m | \u001b[95m 0.631   \u001b[0m | \u001b[95m 246.0   \u001b[0m | \u001b[95m 24.51   \u001b[0m | \u001b[95m 0.06525 \u001b[0m | \u001b[95m 15.44   \u001b[0m | \u001b[95m 24.89   \u001b[0m |\n",
      "gen\tnevals\tf_avg     \tf_max   \n",
      "0  \t52    \t-0.0958757\t0.153423\n",
      "1  \t44    \t-0.52384  \t18.3518 \n",
      "2  \t41    \t2.847     \t29.0824 \n",
      "3  \t40    \t11.6026   \t29.0824 \n",
      "4  \t40    \t15.2012   \t29.0824 \n",
      "5  \t40    \t16.5892   \t29.0824 \n",
      "6  \t43    \t16.0305   \t29.0824 \n",
      "7  \t42    \t12.7248   \t29.0824 \n",
      "8  \t41    \t14.9893   \t29.0824 \n",
      "9  \t44    \t11.7292   \t29.0824 \n",
      "10 \t46    \t14.4564   \t29.0824 \n",
      "11 \t45    \t13.1569   \t29.0824 \n",
      "12 \t41    \t14.0699   \t29.0824 \n",
      "13 \t42    \t11.0929   \t29.0824 \n",
      "14 \t43    \t13.5693   \t29.0824 \n"
     ]
    }
   ],
   "source": [
    "demichad.meta_evolve()"
   ]
  },
  {
   "cell_type": "code",
   "execution_count": null,
   "metadata": {},
   "outputs": [],
   "source": [
    "demichad.evolve(20)"
   ]
  },
  {
   "cell_type": "code",
   "execution_count": null,
   "metadata": {},
   "outputs": [],
   "source": [
    "demichad.omega()"
   ]
  },
  {
   "cell_type": "code",
   "execution_count": null,
   "metadata": {},
   "outputs": [],
   "source": [
    "demichad.omega_chad.sell_history"
   ]
  },
  {
   "cell_type": "code",
   "execution_count": null,
   "metadata": {},
   "outputs": [],
   "source": [
    "demichad.omega_chad.sell_history.profit.sum()/len(demichad.omega_chad.sell_history)"
   ]
  },
  {
   "cell_type": "code",
   "execution_count": null,
   "metadata": {},
   "outputs": [],
   "source": [
    "demichad.omega_chad.sell_history.profit.sum()"
   ]
  },
  {
   "cell_type": "code",
   "execution_count": null,
   "metadata": {},
   "outputs": [],
   "source": [
    "demichad.plot()"
   ]
  },
  {
   "cell_type": "code",
   "execution_count": null,
   "metadata": {},
   "outputs": [],
   "source": []
  }
 ],
 "metadata": {
  "kernelspec": {
   "display_name": "Python 3",
   "language": "python",
   "name": "python3"
  },
  "language_info": {
   "codemirror_mode": {
    "name": "ipython",
    "version": 3
   },
   "file_extension": ".py",
   "mimetype": "text/x-python",
   "name": "python",
   "nbconvert_exporter": "python",
   "pygments_lexer": "ipython3",
   "version": "3.7.6"
  }
 },
 "nbformat": 4,
 "nbformat_minor": 4
}
