{
 "cells": [
  {
   "cell_type": "markdown",
   "metadata": {},
   "source": [
    "# Evo-Bayes-Agent"
   ]
  },
  {
   "cell_type": "code",
   "execution_count": 1,
   "metadata": {},
   "outputs": [],
   "source": [
    "from Ionomy import IonPanda, BitTA\n",
    "from decouple import config\n",
    "import pandas as pd\n",
    "import pandas_ta as ta"
   ]
  },
  {
   "cell_type": "code",
   "execution_count": 2,
   "metadata": {},
   "outputs": [],
   "source": [
    "# MARKET = 'usd-btc'\n",
    "# CURRENCY = 'btc'\n",
    "# BASE = 'usd'\n",
    "# TIME = 'hour'\n",
    "# LIMIT = 10_000"
   ]
  },
  {
   "cell_type": "code",
   "execution_count": 3,
   "metadata": {},
   "outputs": [],
   "source": [
    "# bta = BitTA(config('TREX_KEY'), config('TREX_SECRET'))\n",
    "# ionpd = IonPanda(config('IONOMY_KEY'), config('IONOMY_SECRET'))\n",
    "# bta.update(CURRENCY, BASE, TIME, LIMIT)\n",
    "# df = bta.df\n",
    "# df.to_csv('./btc-usd', index=False)"
   ]
  },
  {
   "cell_type": "code",
   "execution_count": 4,
   "metadata": {},
   "outputs": [],
   "source": [
    "df = pd.read_csv('./btc-usd')"
   ]
  },
  {
   "cell_type": "code",
   "execution_count": 5,
   "metadata": {},
   "outputs": [
    {
     "data": {
      "text/html": [
       "<div>\n",
       "<style scoped>\n",
       "    .dataframe tbody tr th:only-of-type {\n",
       "        vertical-align: middle;\n",
       "    }\n",
       "\n",
       "    .dataframe tbody tr th {\n",
       "        vertical-align: top;\n",
       "    }\n",
       "\n",
       "    .dataframe thead th {\n",
       "        text-align: right;\n",
       "    }\n",
       "</style>\n",
       "<table border=\"1\" class=\"dataframe\">\n",
       "  <thead>\n",
       "    <tr style=\"text-align: right;\">\n",
       "      <th></th>\n",
       "      <th>time</th>\n",
       "      <th>close</th>\n",
       "      <th>high</th>\n",
       "      <th>low</th>\n",
       "      <th>open</th>\n",
       "      <th>volumebtc</th>\n",
       "      <th>volume</th>\n",
       "      <th>date</th>\n",
       "    </tr>\n",
       "  </thead>\n",
       "  <tbody>\n",
       "    <tr>\n",
       "      <th>0</th>\n",
       "      <td>1586433600</td>\n",
       "      <td>7313.89</td>\n",
       "      <td>7313.89</td>\n",
       "      <td>7110.00</td>\n",
       "      <td>7195.43</td>\n",
       "      <td>69.920</td>\n",
       "      <td>505017.77</td>\n",
       "      <td>2020-04-09</td>\n",
       "    </tr>\n",
       "    <tr>\n",
       "      <th>1</th>\n",
       "      <td>1586437200</td>\n",
       "      <td>7349.90</td>\n",
       "      <td>7362.39</td>\n",
       "      <td>7290.07</td>\n",
       "      <td>7313.89</td>\n",
       "      <td>47.340</td>\n",
       "      <td>346817.26</td>\n",
       "      <td>2020-04-09</td>\n",
       "    </tr>\n",
       "    <tr>\n",
       "      <th>2</th>\n",
       "      <td>1586440800</td>\n",
       "      <td>7327.00</td>\n",
       "      <td>7363.00</td>\n",
       "      <td>7301.92</td>\n",
       "      <td>7349.90</td>\n",
       "      <td>51.100</td>\n",
       "      <td>374672.75</td>\n",
       "      <td>2020-04-09</td>\n",
       "    </tr>\n",
       "    <tr>\n",
       "      <th>3</th>\n",
       "      <td>1586444400</td>\n",
       "      <td>7290.00</td>\n",
       "      <td>7331.07</td>\n",
       "      <td>7259.15</td>\n",
       "      <td>7327.00</td>\n",
       "      <td>44.690</td>\n",
       "      <td>325767.63</td>\n",
       "      <td>2020-04-09</td>\n",
       "    </tr>\n",
       "    <tr>\n",
       "      <th>4</th>\n",
       "      <td>1586448000</td>\n",
       "      <td>7290.00</td>\n",
       "      <td>7304.50</td>\n",
       "      <td>7275.31</td>\n",
       "      <td>7290.00</td>\n",
       "      <td>19.200</td>\n",
       "      <td>139998.07</td>\n",
       "      <td>2020-04-09</td>\n",
       "    </tr>\n",
       "    <tr>\n",
       "      <th>...</th>\n",
       "      <td>...</td>\n",
       "      <td>...</td>\n",
       "      <td>...</td>\n",
       "      <td>...</td>\n",
       "      <td>...</td>\n",
       "      <td>...</td>\n",
       "      <td>...</td>\n",
       "      <td>...</td>\n",
       "    </tr>\n",
       "    <tr>\n",
       "      <th>9996</th>\n",
       "      <td>1564819200</td>\n",
       "      <td>10790.00</td>\n",
       "      <td>10837.41</td>\n",
       "      <td>10763.88</td>\n",
       "      <td>10828.03</td>\n",
       "      <td>11.630</td>\n",
       "      <td>125769.40</td>\n",
       "      <td>2019-08-03</td>\n",
       "    </tr>\n",
       "    <tr>\n",
       "      <th>9997</th>\n",
       "      <td>1564822800</td>\n",
       "      <td>10764.66</td>\n",
       "      <td>10886.99</td>\n",
       "      <td>10740.00</td>\n",
       "      <td>10790.00</td>\n",
       "      <td>24.250</td>\n",
       "      <td>262521.18</td>\n",
       "      <td>2019-08-03</td>\n",
       "    </tr>\n",
       "    <tr>\n",
       "      <th>9998</th>\n",
       "      <td>1564826400</td>\n",
       "      <td>10793.64</td>\n",
       "      <td>10800.00</td>\n",
       "      <td>10754.23</td>\n",
       "      <td>10764.66</td>\n",
       "      <td>1.255</td>\n",
       "      <td>13526.50</td>\n",
       "      <td>2019-08-03</td>\n",
       "    </tr>\n",
       "    <tr>\n",
       "      <th>9999</th>\n",
       "      <td>1564830000</td>\n",
       "      <td>10758.49</td>\n",
       "      <td>10799.74</td>\n",
       "      <td>10753.05</td>\n",
       "      <td>10793.64</td>\n",
       "      <td>4.668</td>\n",
       "      <td>50290.94</td>\n",
       "      <td>2019-08-03</td>\n",
       "    </tr>\n",
       "    <tr>\n",
       "      <th>10000</th>\n",
       "      <td>1564833600</td>\n",
       "      <td>10763.54</td>\n",
       "      <td>10772.37</td>\n",
       "      <td>10701.90</td>\n",
       "      <td>10758.49</td>\n",
       "      <td>5.055</td>\n",
       "      <td>54245.76</td>\n",
       "      <td>2019-08-03</td>\n",
       "    </tr>\n",
       "  </tbody>\n",
       "</table>\n",
       "<p>10001 rows × 8 columns</p>\n",
       "</div>"
      ],
      "text/plain": [
       "             time     close      high       low      open  volumebtc  \\\n",
       "0      1586433600   7313.89   7313.89   7110.00   7195.43     69.920   \n",
       "1      1586437200   7349.90   7362.39   7290.07   7313.89     47.340   \n",
       "2      1586440800   7327.00   7363.00   7301.92   7349.90     51.100   \n",
       "3      1586444400   7290.00   7331.07   7259.15   7327.00     44.690   \n",
       "4      1586448000   7290.00   7304.50   7275.31   7290.00     19.200   \n",
       "...           ...       ...       ...       ...       ...        ...   \n",
       "9996   1564819200  10790.00  10837.41  10763.88  10828.03     11.630   \n",
       "9997   1564822800  10764.66  10886.99  10740.00  10790.00     24.250   \n",
       "9998   1564826400  10793.64  10800.00  10754.23  10764.66      1.255   \n",
       "9999   1564830000  10758.49  10799.74  10753.05  10793.64      4.668   \n",
       "10000  1564833600  10763.54  10772.37  10701.90  10758.49      5.055   \n",
       "\n",
       "          volume        date  \n",
       "0      505017.77  2020-04-09  \n",
       "1      346817.26  2020-04-09  \n",
       "2      374672.75  2020-04-09  \n",
       "3      325767.63  2020-04-09  \n",
       "4      139998.07  2020-04-09  \n",
       "...          ...         ...  \n",
       "9996   125769.40  2019-08-03  \n",
       "9997   262521.18  2019-08-03  \n",
       "9998    13526.50  2019-08-03  \n",
       "9999    50290.94  2019-08-03  \n",
       "10000   54245.76  2019-08-03  \n",
       "\n",
       "[10001 rows x 8 columns]"
      ]
     },
     "execution_count": 5,
     "metadata": {},
     "output_type": "execute_result"
    }
   ],
   "source": [
    "df"
   ]
  },
  {
   "cell_type": "code",
   "execution_count": 6,
   "metadata": {},
   "outputs": [
    {
     "name": "stderr",
     "output_type": "stream",
     "text": [
      "Using TensorFlow backend.\n"
     ]
    }
   ],
   "source": [
    "from neuroevolution import DemiChad"
   ]
  },
  {
   "cell_type": "code",
   "execution_count": 7,
   "metadata": {},
   "outputs": [],
   "source": [
    "demichad = DemiChad(df)"
   ]
  },
  {
   "cell_type": "code",
   "execution_count": 8,
   "metadata": {},
   "outputs": [],
   "source": [
    "# demichad.meta_evolve()"
   ]
  },
  {
   "cell_type": "code",
   "execution_count": null,
   "metadata": {},
   "outputs": [
    {
     "name": "stdout",
     "output_type": "stream",
     "text": [
      "32\n"
     ]
    }
   ],
   "source": [
    "demichad.evolve(100)"
   ]
  },
  {
   "cell_type": "code",
   "execution_count": null,
   "metadata": {},
   "outputs": [],
   "source": [
    "demichad.omega()"
   ]
  },
  {
   "cell_type": "code",
   "execution_count": null,
   "metadata": {},
   "outputs": [],
   "source": [
    "demichad.omega_chad.sell_history"
   ]
  },
  {
   "cell_type": "code",
   "execution_count": null,
   "metadata": {},
   "outputs": [],
   "source": [
    "demichad.omega_chad.sell_history.profit.sum()/len(demichad.omega_chad.sell_history)"
   ]
  },
  {
   "cell_type": "code",
   "execution_count": null,
   "metadata": {},
   "outputs": [],
   "source": [
    "demichad.omega_chad.sell_history.profit.sum()"
   ]
  },
  {
   "cell_type": "code",
   "execution_count": null,
   "metadata": {},
   "outputs": [],
   "source": [
    "demichad.plot()"
   ]
  },
  {
   "cell_type": "code",
   "execution_count": null,
   "metadata": {},
   "outputs": [],
   "source": []
  }
 ],
 "metadata": {
  "kernelspec": {
   "display_name": "Python 3",
   "language": "python",
   "name": "python3"
  },
  "language_info": {
   "codemirror_mode": {
    "name": "ipython",
    "version": 3
   },
   "file_extension": ".py",
   "mimetype": "text/x-python",
   "name": "python",
   "nbconvert_exporter": "python",
   "pygments_lexer": "ipython3",
   "version": "3.7.6"
  }
 },
 "nbformat": 4,
 "nbformat_minor": 4
}
