{
 "cells": [
  {
   "cell_type": "markdown",
   "metadata": {},
   "source": [
    "# Evo-Bayes-Agent"
   ]
  },
  {
   "cell_type": "code",
   "execution_count": 1,
   "metadata": {},
   "outputs": [],
   "source": [
    "from Ionomy import IonPanda, BitTA\n",
    "from ai import Agent, Bayes, Deep_Evolution_Strategy\n",
    "from decouple import config\n",
    "\n",
    "MARKET = 'usd-btc'\n",
    "CURRENCY = 'btc'\n",
    "BASE = 'usd'\n",
    "TIME = 'hour'\n",
    "\n",
    "bta = BitTA(config('TREX_KEY'), config('TREX_SECRET'))\n",
    "ionpd = IonPanda(config('IONOMY_KEY'), config('IONOMY_SECRET'))\n",
    "bta.update(CURRENCY, BASE, TIME)"
   ]
  },
  {
   "cell_type": "code",
   "execution_count": 2,
   "metadata": {},
   "outputs": [],
   "source": [
    "df = bta.df\n",
    "df = df[df[\"close\"] != 0]\n",
    "df.loc[:, \"close\"] = df.loc[:, \"close\"]*(0.01)"
   ]
  },
  {
   "cell_type": "code",
   "execution_count": 3,
   "metadata": {},
   "outputs": [],
   "source": []
  },
  {
   "cell_type": "code",
   "execution_count": 7,
   "metadata": {},
   "outputs": [
    {
     "data": {
      "text/html": [
       "<div>\n",
       "<style scoped>\n",
       "    .dataframe tbody tr th:only-of-type {\n",
       "        vertical-align: middle;\n",
       "    }\n",
       "\n",
       "    .dataframe tbody tr th {\n",
       "        vertical-align: top;\n",
       "    }\n",
       "\n",
       "    .dataframe thead th {\n",
       "        text-align: right;\n",
       "    }\n",
       "</style>\n",
       "<table border=\"1\" class=\"dataframe\">\n",
       "  <thead>\n",
       "    <tr style=\"text-align: right;\">\n",
       "      <th></th>\n",
       "      <th>time</th>\n",
       "      <th>close</th>\n",
       "      <th>high</th>\n",
       "      <th>low</th>\n",
       "      <th>open</th>\n",
       "      <th>volumebtc</th>\n",
       "      <th>volume</th>\n",
       "      <th>date</th>\n",
       "    </tr>\n",
       "  </thead>\n",
       "  <tbody>\n",
       "    <tr>\n",
       "      <th>0</th>\n",
       "      <td>1582966800</td>\n",
       "      <td>87.0137</td>\n",
       "      <td>8767.81</td>\n",
       "      <td>8692.49</td>\n",
       "      <td>8756.75</td>\n",
       "      <td>3.192</td>\n",
       "      <td>27834.98</td>\n",
       "      <td>2020-02-29</td>\n",
       "    </tr>\n",
       "    <tr>\n",
       "      <th>1</th>\n",
       "      <td>1582970400</td>\n",
       "      <td>86.4853</td>\n",
       "      <td>8737.25</td>\n",
       "      <td>8634.83</td>\n",
       "      <td>8701.37</td>\n",
       "      <td>22.930</td>\n",
       "      <td>199260.90</td>\n",
       "      <td>2020-02-29</td>\n",
       "    </tr>\n",
       "    <tr>\n",
       "      <th>2</th>\n",
       "      <td>1582974000</td>\n",
       "      <td>87.1076</td>\n",
       "      <td>8720.46</td>\n",
       "      <td>8622.70</td>\n",
       "      <td>8648.53</td>\n",
       "      <td>5.972</td>\n",
       "      <td>51800.64</td>\n",
       "      <td>2020-02-29</td>\n",
       "    </tr>\n",
       "    <tr>\n",
       "      <th>3</th>\n",
       "      <td>1582977600</td>\n",
       "      <td>86.7528</td>\n",
       "      <td>8711.67</td>\n",
       "      <td>8666.12</td>\n",
       "      <td>8710.76</td>\n",
       "      <td>6.396</td>\n",
       "      <td>55503.48</td>\n",
       "      <td>2020-02-29</td>\n",
       "    </tr>\n",
       "    <tr>\n",
       "      <th>4</th>\n",
       "      <td>1582981200</td>\n",
       "      <td>86.4538</td>\n",
       "      <td>8677.08</td>\n",
       "      <td>8621.00</td>\n",
       "      <td>8675.28</td>\n",
       "      <td>9.789</td>\n",
       "      <td>84621.41</td>\n",
       "      <td>2020-02-29</td>\n",
       "    </tr>\n",
       "    <tr>\n",
       "      <th>...</th>\n",
       "      <td>...</td>\n",
       "      <td>...</td>\n",
       "      <td>...</td>\n",
       "      <td>...</td>\n",
       "      <td>...</td>\n",
       "      <td>...</td>\n",
       "      <td>...</td>\n",
       "      <td>...</td>\n",
       "    </tr>\n",
       "    <tr>\n",
       "      <th>1996</th>\n",
       "      <td>1590152400</td>\n",
       "      <td>91.1384</td>\n",
       "      <td>9176.48</td>\n",
       "      <td>9082.05</td>\n",
       "      <td>9173.61</td>\n",
       "      <td>27.210</td>\n",
       "      <td>248200.24</td>\n",
       "      <td>2020-05-22</td>\n",
       "    </tr>\n",
       "    <tr>\n",
       "      <th>1997</th>\n",
       "      <td>1590156000</td>\n",
       "      <td>91.3133</td>\n",
       "      <td>9170.00</td>\n",
       "      <td>9113.81</td>\n",
       "      <td>9113.84</td>\n",
       "      <td>33.750</td>\n",
       "      <td>309163.31</td>\n",
       "      <td>2020-05-22</td>\n",
       "    </tr>\n",
       "    <tr>\n",
       "      <th>1998</th>\n",
       "      <td>1590159600</td>\n",
       "      <td>92.1936</td>\n",
       "      <td>9219.63</td>\n",
       "      <td>9131.33</td>\n",
       "      <td>9131.33</td>\n",
       "      <td>46.220</td>\n",
       "      <td>424582.82</td>\n",
       "      <td>2020-05-22</td>\n",
       "    </tr>\n",
       "    <tr>\n",
       "      <th>1999</th>\n",
       "      <td>1590163200</td>\n",
       "      <td>92.5144</td>\n",
       "      <td>9251.44</td>\n",
       "      <td>9190.31</td>\n",
       "      <td>9219.36</td>\n",
       "      <td>23.020</td>\n",
       "      <td>212193.13</td>\n",
       "      <td>2020-05-22</td>\n",
       "    </tr>\n",
       "    <tr>\n",
       "      <th>2000</th>\n",
       "      <td>1590166800</td>\n",
       "      <td>92.0347</td>\n",
       "      <td>9277.00</td>\n",
       "      <td>9194.83</td>\n",
       "      <td>9251.44</td>\n",
       "      <td>26.440</td>\n",
       "      <td>244296.99</td>\n",
       "      <td>2020-05-22</td>\n",
       "    </tr>\n",
       "  </tbody>\n",
       "</table>\n",
       "<p>2001 rows × 8 columns</p>\n",
       "</div>"
      ],
      "text/plain": [
       "            time    close     high      low     open  volumebtc     volume  \\\n",
       "0     1582966800  87.0137  8767.81  8692.49  8756.75      3.192   27834.98   \n",
       "1     1582970400  86.4853  8737.25  8634.83  8701.37     22.930  199260.90   \n",
       "2     1582974000  87.1076  8720.46  8622.70  8648.53      5.972   51800.64   \n",
       "3     1582977600  86.7528  8711.67  8666.12  8710.76      6.396   55503.48   \n",
       "4     1582981200  86.4538  8677.08  8621.00  8675.28      9.789   84621.41   \n",
       "...          ...      ...      ...      ...      ...        ...        ...   \n",
       "1996  1590152400  91.1384  9176.48  9082.05  9173.61     27.210  248200.24   \n",
       "1997  1590156000  91.3133  9170.00  9113.81  9113.84     33.750  309163.31   \n",
       "1998  1590159600  92.1936  9219.63  9131.33  9131.33     46.220  424582.82   \n",
       "1999  1590163200  92.5144  9251.44  9190.31  9219.36     23.020  212193.13   \n",
       "2000  1590166800  92.0347  9277.00  9194.83  9251.44     26.440  244296.99   \n",
       "\n",
       "            date  \n",
       "0     2020-02-29  \n",
       "1     2020-02-29  \n",
       "2     2020-02-29  \n",
       "3     2020-02-29  \n",
       "4     2020-02-29  \n",
       "...          ...  \n",
       "1996  2020-05-22  \n",
       "1997  2020-05-22  \n",
       "1998  2020-05-22  \n",
       "1999  2020-05-22  \n",
       "2000  2020-05-22  \n",
       "\n",
       "[2001 rows x 8 columns]"
      ]
     },
     "execution_count": 7,
     "metadata": {},
     "output_type": "execute_result"
    }
   ],
   "source": [
    "df"
   ]
  },
  {
   "cell_type": "code",
   "execution_count": 9,
   "metadata": {},
   "outputs": [
    {
     "data": {
      "text/plain": [
       "0             NaN\n",
       "1             NaN\n",
       "2             NaN\n",
       "3             NaN\n",
       "4             NaN\n",
       "          ...    \n",
       "1996    91.166562\n",
       "1997    91.195909\n",
       "1998    91.395447\n",
       "1999    91.619238\n",
       "2000    91.702330\n",
       "Name: EMA_9, Length: 2001, dtype: float64"
      ]
     },
     "execution_count": 9,
     "metadata": {},
     "output_type": "execute_result"
    }
   ],
   "source": [
    "import pandas_ta as ta\n",
    "df.ta.ema(length=9)"
   ]
  },
  {
   "cell_type": "code",
   "execution_count": 4,
   "metadata": {},
   "outputs": [],
   "source": [
    "START_USD = 5_000\n",
    "MAX_BUY = 10\n",
    "MAX_SELL = 10"
   ]
  },
  {
   "cell_type": "code",
   "execution_count": 5,
   "metadata": {},
   "outputs": [],
   "source": [
    "bayes = Bayes(close, MAX_BUY, MAX_SELL, START_USD, MARKET)"
   ]
  },
  {
   "cell_type": "code",
   "execution_count": null,
   "metadata": {},
   "outputs": [
    {
     "name": "stdout",
     "output_type": "stream",
     "text": [
      "|   iter    |  target   | learni... | popula... |   sigma   | size_n... | window... |\n",
      "-------------------------------------------------------------------------------------\n",
      "time taken to train: 29.705759048461914 seconds\n",
      "time taken to train: 25.50796341896057 seconds\n"
     ]
    }
   ],
   "source": [
    "bayes.bayes_maximize()"
   ]
  },
  {
   "cell_type": "code",
   "execution_count": null,
   "metadata": {},
   "outputs": [],
   "source": [
    "buys_df, sells_df, actions = bayes.run()"
   ]
  },
  {
   "cell_type": "code",
   "execution_count": null,
   "metadata": {},
   "outputs": [],
   "source": [
    "buys_df.tail()"
   ]
  },
  {
   "cell_type": "code",
   "execution_count": null,
   "metadata": {},
   "outputs": [],
   "source": [
    "sells_df.tail()"
   ]
  },
  {
   "cell_type": "code",
   "execution_count": null,
   "metadata": {},
   "outputs": [],
   "source": [
    "sells_df[\"roi\"].max()"
   ]
  },
  {
   "cell_type": "code",
   "execution_count": null,
   "metadata": {},
   "outputs": [],
   "source": [
    "bayes.plot()"
   ]
  },
  {
   "cell_type": "code",
   "execution_count": null,
   "metadata": {},
   "outputs": [],
   "source": []
  }
 ],
 "metadata": {
  "kernelspec": {
   "display_name": "Python 3",
   "language": "python",
   "name": "python3"
  },
  "language_info": {
   "codemirror_mode": {
    "name": "ipython",
    "version": 3
   },
   "file_extension": ".py",
   "mimetype": "text/x-python",
   "name": "python",
   "nbconvert_exporter": "python",
   "pygments_lexer": "ipython3",
   "version": "3.7.6"
  }
 },
 "nbformat": 4,
 "nbformat_minor": 4
}
