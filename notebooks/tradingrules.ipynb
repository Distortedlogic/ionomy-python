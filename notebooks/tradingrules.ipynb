{
 "cells": [
  {
   "cell_type": "code",
   "execution_count": 1,
   "metadata": {},
   "outputs": [],
   "source": [
    "from decouple import config\n",
    "import pandas as pd\n",
    "import pandas_ta as ta\n",
    "\n",
    "from tradingrules import DemiChad\n",
    "\n",
    "df = pd.read_csv('./btc-usd.csv')"
   ]
  },
  {
   "cell_type": "code",
   "execution_count": 2,
   "metadata": {},
   "outputs": [],
   "source": [
    "demichad = DemiChad(df)"
   ]
  },
  {
   "cell_type": "code",
   "execution_count": null,
   "metadata": {},
   "outputs": [
    {
     "name": "stdout",
     "output_type": "stream",
     "text": [
      "gen\tnevals\tf_avg   \tf_max  \n",
      "0  \t100   \t-20.0946\t2.07942\n",
      "1  \t81    \t-0.110374\t2.32764\n",
      "2  \t70    \t0.479086 \t2.32764\n",
      "3  \t79    \t-0.0661227\t2.32764\n",
      "4  \t78    \t0.550658  \t2.50322\n",
      "5  \t78    \t0.18419   \t2.67722\n",
      "6  \t84    \t-0.277554 \t2.67722\n",
      "7  \t77    \t1.01659   \t2.88715\n",
      "8  \t74    \t0.350247  \t2.88715\n",
      "9  \t83    \t0.29167   \t3.18906\n",
      "10 \t72    \t1.33479   \t3.29582\n",
      "11 \t75    \t0.568858  \t3.38718\n",
      "12 \t81    \t1.14302   \t3.44206\n"
     ]
    }
   ],
   "source": [
    "demichad.evolve(100)"
   ]
  },
  {
   "cell_type": "code",
   "execution_count": null,
   "metadata": {},
   "outputs": [],
   "source": [
    "demichad.omega_chad.sell_history"
   ]
  },
  {
   "cell_type": "code",
   "execution_count": null,
   "metadata": {},
   "outputs": [],
   "source": [
    "demichad.plot()"
   ]
  },
  {
   "cell_type": "code",
   "execution_count": null,
   "metadata": {},
   "outputs": [],
   "source": [
    "demichad.omega_chad.signals['signal'].value_counts()"
   ]
  },
  {
   "cell_type": "code",
   "execution_count": null,
   "metadata": {},
   "outputs": [],
   "source": [
    "demichad.army.omega"
   ]
  },
  {
   "cell_type": "code",
   "execution_count": null,
   "metadata": {},
   "outputs": [],
   "source": [
    "demichad.omega_chad.rsi"
   ]
  },
  {
   "cell_type": "code",
   "execution_count": null,
   "metadata": {},
   "outputs": [],
   "source": [
    "demichad.omega_chad.macd.sum()"
   ]
  },
  {
   "cell_type": "code",
   "execution_count": null,
   "metadata": {},
   "outputs": [],
   "source": [
    "demichad.omega_chad.rsi + demichad.omega_chad.macd"
   ]
  },
  {
   "cell_type": "code",
   "execution_count": null,
   "metadata": {},
   "outputs": [],
   "source": []
  }
 ],
 "metadata": {
  "kernelspec": {
   "display_name": "Python 3",
   "language": "python",
   "name": "python3"
  },
  "language_info": {
   "codemirror_mode": {
    "name": "ipython",
    "version": 3
   },
   "file_extension": ".py",
   "mimetype": "text/x-python",
   "name": "python",
   "nbconvert_exporter": "python",
   "pygments_lexer": "ipython3",
   "version": "3.8.3"
  }
 },
 "nbformat": 4,
 "nbformat_minor": 4
}
