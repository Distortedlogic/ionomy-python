{
 "cells": [
  {
   "cell_type": "markdown",
   "metadata": {},
   "source": [
    "# BitTA"
   ]
  },
  {
   "cell_type": "markdown",
   "metadata": {},
   "source": [
    "## Imports and Params"
   ]
  },
  {
   "cell_type": "code",
   "execution_count": 3,
   "metadata": {},
   "outputs": [],
   "source": [
    "from Ionomy import BitTA\n",
    "from decouple import config\n",
    "\n",
    "MARKET = 'btc-hive'\n",
    "CURRENCY = 'hive'\n",
    "BASE = 'btc'\n",
    "TIME = 'day'"
   ]
  },
  {
   "cell_type": "markdown",
   "metadata": {},
   "source": [
    "## Instantiation"
   ]
  },
  {
   "cell_type": "code",
   "execution_count": 4,
   "metadata": {},
   "outputs": [],
   "source": [
    "bta = BitTA(config('TREX_KEY'), config('TREX_SECRET'))"
   ]
  },
  {
   "cell_type": "markdown",
   "metadata": {},
   "source": [
    "#### Update the class ohlcv dataframe with the latest data"
   ]
  },
  {
   "cell_type": "code",
   "execution_count": 5,
   "metadata": {},
   "outputs": [],
   "source": [
    "bta.update(CURRENCY, BASE, TIME)"
   ]
  },
  {
   "cell_type": "markdown",
   "metadata": {},
   "source": [
    "## Indicators"
   ]
  },
  {
   "cell_type": "markdown",
   "metadata": {},
   "source": [
    "#### Awesome Oscillator"
   ]
  },
  {
   "cell_type": "code",
   "execution_count": 10,
   "metadata": {},
   "outputs": [
    {
     "data": {
      "text/plain": [
       "26   -0.000005\n",
       "27   -0.000005\n",
       "28   -0.000006\n",
       "29   -0.000006\n",
       "30   -0.000007\n",
       "Name: AO_5_34, dtype: float64"
      ]
     },
     "execution_count": 10,
     "metadata": {},
     "output_type": "execute_result"
    }
   ],
   "source": [
    "kwargs = { \n",
    "    \"fillna\": None,\n",
    "    \"fill_method\": None,\n",
    "    \"append\": False,\n",
    "    \"min_periods\": 9\n",
    "}\n",
    "ao_series = bta.df.ta.ao(fast=5, slow=34, offset=None, min_periods=5)\n",
    "ao_series.tail()"
   ]
  },
  {
   "cell_type": "markdown",
   "metadata": {},
   "source": [
    "#### RSI (Relative Strength Index)"
   ]
  },
  {
   "cell_type": "code",
   "execution_count": 13,
   "metadata": {},
   "outputs": [
    {
     "data": {
      "text/plain": [
       "26    52.818662\n",
       "27    51.472246\n",
       "28    50.892538\n",
       "29    50.677116\n",
       "30    50.433631\n",
       "Name: RSI_14, dtype: float64"
      ]
     },
     "execution_count": 13,
     "metadata": {},
     "output_type": "execute_result"
    }
   ],
   "source": [
    "rsi_series = bta.rsi(length=None, drift=None, offset=None)\n",
    "rsi_series.tail()"
   ]
  },
  {
   "cell_type": "markdown",
   "metadata": {},
   "source": [
    "#### MACD"
   ]
  },
  {
   "cell_type": "code",
   "execution_count": 31,
   "metadata": {},
   "outputs": [
    {
     "data": {
      "text/html": [
       "<div>\n",
       "<style scoped>\n",
       "    .dataframe tbody tr th:only-of-type {\n",
       "        vertical-align: middle;\n",
       "    }\n",
       "\n",
       "    .dataframe tbody tr th {\n",
       "        vertical-align: top;\n",
       "    }\n",
       "\n",
       "    .dataframe thead th {\n",
       "        text-align: right;\n",
       "    }\n",
       "</style>\n",
       "<table border=\"1\" class=\"dataframe\">\n",
       "  <thead>\n",
       "    <tr style=\"text-align: right;\">\n",
       "      <th></th>\n",
       "      <th>MACD_12_26_9</th>\n",
       "      <th>MACDH_12_26_9</th>\n",
       "      <th>MACDS_12_26_9</th>\n",
       "    </tr>\n",
       "  </thead>\n",
       "  <tbody>\n",
       "    <tr>\n",
       "      <th>26</th>\n",
       "      <td>-0.000001</td>\n",
       "      <td>-1.260607e-07</td>\n",
       "      <td>-0.000001</td>\n",
       "    </tr>\n",
       "    <tr>\n",
       "      <th>27</th>\n",
       "      <td>-0.000002</td>\n",
       "      <td>-3.225707e-07</td>\n",
       "      <td>-0.000001</td>\n",
       "    </tr>\n",
       "    <tr>\n",
       "      <th>28</th>\n",
       "      <td>-0.000002</td>\n",
       "      <td>-4.737047e-07</td>\n",
       "      <td>-0.000001</td>\n",
       "    </tr>\n",
       "    <tr>\n",
       "      <th>29</th>\n",
       "      <td>-0.000002</td>\n",
       "      <td>-5.510194e-07</td>\n",
       "      <td>-0.000001</td>\n",
       "    </tr>\n",
       "    <tr>\n",
       "      <th>30</th>\n",
       "      <td>-0.000002</td>\n",
       "      <td>-5.780332e-07</td>\n",
       "      <td>-0.000002</td>\n",
       "    </tr>\n",
       "  </tbody>\n",
       "</table>\n",
       "</div>"
      ],
      "text/plain": [
       "    MACD_12_26_9  MACDH_12_26_9  MACDS_12_26_9\n",
       "26     -0.000001  -1.260607e-07      -0.000001\n",
       "27     -0.000002  -3.225707e-07      -0.000001\n",
       "28     -0.000002  -4.737047e-07      -0.000001\n",
       "29     -0.000002  -5.510194e-07      -0.000001\n",
       "30     -0.000002  -5.780332e-07      -0.000002"
      ]
     },
     "execution_count": 31,
     "metadata": {},
     "output_type": "execute_result"
    }
   ],
   "source": [
    "macd_series = bta.macd(fast=12, slow=26, signal=9, min_periods=12, offset=None)\n",
    "macd_series.tail()"
   ]
  },
  {
   "cell_type": "markdown",
   "metadata": {},
   "source": [
    "#### Momentum"
   ]
  },
  {
   "cell_type": "code",
   "execution_count": 14,
   "metadata": {},
   "outputs": [
    {
     "data": {
      "text/plain": [
       "26   -9.800000e-07\n",
       "27   -1.164000e-05\n",
       "28   -1.389000e-05\n",
       "29   -1.144000e-05\n",
       "30   -9.150000e-06\n",
       "Name: MOM_10, dtype: float64"
      ]
     },
     "execution_count": 14,
     "metadata": {},
     "output_type": "execute_result"
    }
   ],
   "source": [
    "momentum_series = bta.momentum(length=None, offset=None)\n",
    "momentum_series.tail()"
   ]
  },
  {
   "cell_type": "markdown",
   "metadata": {},
   "source": [
    "#### ROC (Rate Of Change)"
   ]
  },
  {
   "cell_type": "code",
   "execution_count": 15,
   "metadata": {},
   "outputs": [
    {
     "data": {
      "text/plain": [
       "26    -2.596714\n",
       "27   -25.145820\n",
       "28   -29.143936\n",
       "29   -25.478842\n",
       "30   -21.641438\n",
       "Name: ROC_10, dtype: float64"
      ]
     },
     "execution_count": 15,
     "metadata": {},
     "output_type": "execute_result"
    }
   ],
   "source": [
    "roc_series = bta.roc(length=None, offset=None)\n",
    "roc_series.tail()"
   ]
  },
  {
   "cell_type": "markdown",
   "metadata": {},
   "source": [
    "#### SMA (Simple Moving Average)"
   ]
  },
  {
   "cell_type": "code",
   "execution_count": 16,
   "metadata": {},
   "outputs": [
    {
     "data": {
      "text/plain": [
       "26    0.000039\n",
       "27    0.000039\n",
       "28    0.000038\n",
       "29    0.000037\n",
       "30    0.000036\n",
       "Name: EMA_10, dtype: float64"
      ]
     },
     "execution_count": 16,
     "metadata": {},
     "output_type": "execute_result"
    }
   ],
   "source": [
    "sma_series = bta.sma(length=None, offset=None)\n",
    "sma_series.tail()"
   ]
  },
  {
   "cell_type": "markdown",
   "metadata": {},
   "source": [
    "#### EMA (Exponential Moving Average)"
   ]
  },
  {
   "cell_type": "code",
   "execution_count": 17,
   "metadata": {},
   "outputs": [
    {
     "data": {
      "text/plain": [
       "26    0.000039\n",
       "27    0.000039\n",
       "28    0.000038\n",
       "29    0.000037\n",
       "30    0.000036\n",
       "Name: EMA_10, dtype: float64"
      ]
     },
     "execution_count": 17,
     "metadata": {},
     "output_type": "execute_result"
    }
   ],
   "source": [
    "ema_series = bta.ema(length=None, offset=None)\n",
    "ema_series.tail()"
   ]
  },
  {
   "cell_type": "markdown",
   "metadata": {},
   "source": [
    "#### VWMA (Volume Weighted Moving Average)"
   ]
  },
  {
   "cell_type": "code",
   "execution_count": 18,
   "metadata": {},
   "outputs": [
    {
     "data": {
      "text/plain": [
       "26    0.000041\n",
       "27    0.000040\n",
       "28    0.000038\n",
       "29    0.000037\n",
       "30    0.000036\n",
       "Name: VWMA_10, dtype: float64"
      ]
     },
     "execution_count": 18,
     "metadata": {},
     "output_type": "execute_result"
    }
   ],
   "source": [
    "vwma_series = bta.vwma(length=None, offset=None)\n",
    "vwma_series.tail()"
   ]
  },
  {
   "cell_type": "markdown",
   "metadata": {},
   "source": [
    "#### ATR (Average True Range)"
   ]
  },
  {
   "cell_type": "code",
   "execution_count": 19,
   "metadata": {},
   "outputs": [
    {
     "data": {
      "text/plain": [
       "26    0.000008\n",
       "27    0.000007\n",
       "28    0.000006\n",
       "29    0.000006\n",
       "30    0.000005\n",
       "Name: ATR_14, dtype: float64"
      ]
     },
     "execution_count": 19,
     "metadata": {},
     "output_type": "execute_result"
    }
   ],
   "source": [
    "atr_series = bta.atr(length=None, mamode=None, offset=None)\n",
    "atr_series.tail()"
   ]
  },
  {
   "cell_type": "markdown",
   "metadata": {},
   "source": [
    "## Cumlative Returns"
   ]
  },
  {
   "cell_type": "markdown",
   "metadata": {},
   "source": [
    "#### Log returns"
   ]
  },
  {
   "cell_type": "code",
   "execution_count": 21,
   "metadata": {},
   "outputs": [
    {
     "data": {
      "text/plain": [
       "26   -0.017795\n",
       "27   -0.059113\n",
       "28   -0.025725\n",
       "29   -0.009222\n",
       "30   -0.009911\n",
       "Name: LOGRET_1, dtype: float64"
      ]
     },
     "execution_count": 21,
     "metadata": {},
     "output_type": "execute_result"
    }
   ],
   "source": [
    "log_series = bta.log_return(length=None, cumulative=None, percent=None, offset=None)\n",
    "log_series.tail()"
   ]
  },
  {
   "cell_type": "markdown",
   "metadata": {},
   "source": [
    "#### Percent Return"
   ]
  },
  {
   "cell_type": "code",
   "execution_count": 22,
   "metadata": {},
   "outputs": [
    {
     "data": {
      "text/plain": [
       "26   -0.017638\n",
       "27   -0.057399\n",
       "28   -0.025397\n",
       "29   -0.009180\n",
       "30   -0.009863\n",
       "Name: PCTRET_1, dtype: float64"
      ]
     },
     "execution_count": 22,
     "metadata": {},
     "output_type": "execute_result"
    }
   ],
   "source": [
    "percent_series = bta.percent_return(length=None, cumulative=None, percent=None, offset=None)\n",
    "percent_series.tail()"
   ]
  },
  {
   "cell_type": "code",
   "execution_count": 25,
   "metadata": {},
   "outputs": [
    {
     "name": "stdout",
     "output_type": "stream",
     "text": [
      "Help on AnalysisIndicators in module pandas_ta.core object:\n",
      "\n",
      "class AnalysisIndicators(BasePandasObject)\n",
      " |  AnalysisIndicators(df, **kwargs)\n",
      " |  \n",
      " |  AnalysisIndicators is class that extends the Pandas DataFrame via\n",
      " |  Pandas @pd.api.extensions.register_dataframe_accessor('name') decorator.\n",
      " |  \n",
      " |  This Pandas Extension is named 'ta' for Technical Analysis that allows us\n",
      " |  to apply technical indicators with an one extension.  Even though 'ta' is\n",
      " |  now a Pandas DataFrame Extension, you can still call the Indicators\n",
      " |  individually. However many of the Indicators have been updated and new ones\n",
      " |  added, so make sure to check help.\n",
      " |  \n",
      " |  By default the 'ta' extensions uses lower case column names: open, high,\n",
      " |  low, close, and volume.  You can override the defaults but providing the\n",
      " |  it's replacement name when calling the indicator.  For example, to call the\n",
      " |  indicator hl2().  \n",
      " |  \n",
      " |  With 'default' columns: open, high, low, close, and volume.\n",
      " |  >>> df.ta.hl2()\n",
      " |  >>> df.ta(kind='hl2')\n",
      " |  \n",
      " |  With DataFrame columns: Open, High, Low, Close, and Volume.\n",
      " |  >>> df.ta.hl2(high='High', low='Low')\n",
      " |  >>> df.ta(kind='hl2', high='High', low='Low')\n",
      " |  \n",
      " |  Args:\n",
      " |      kind (str, optional): Default: None.  Name of the indicator.  Converts\n",
      " |          kind to lowercase before calling.\n",
      " |      timed (bool, optional): Default: False.  Curious about the execution\n",
      " |          speed?  Well it's not ground breaking, but you can enable with True.\n",
      " |      kwargs: Extension specific modifiers.\n",
      " |          append (bool, optional):  Default: False.  When True, it appends to\n",
      " |          result column(s) of the indicator onto the DataFrame.\n",
      " |  \n",
      " |  Returns:\n",
      " |      Most Indicators will return a Pandas Series.  Others like MACD, BBANDS,\n",
      " |      KC, et al will return a Pandas DataFrame.  Ichimoku on the other hand\n",
      " |      will return two DataFrames, the Ichimoku DataFrame for the known period\n",
      " |      and a Span DataFrame for the future of the Span values.\n",
      " |  \n",
      " |  Let's get started!\n",
      " |  \n",
      " |  1. Loading the 'ta' module:\n",
      " |  >>> import pandas as pd\n",
      " |  >>> import ta as ta\n",
      " |  \n",
      " |  2. Load some data:\n",
      " |  >>> df = pd.read_csv('AAPL.csv', index_col='date', parse_dates=True)\n",
      " |  \n",
      " |  3. Help!\n",
      " |  3a. General Help:\n",
      " |  >>> help(df.ta)\n",
      " |  >>> df.ta()\n",
      " |  3a. Indicator Help:\n",
      " |  >>> help(ta.apo)\n",
      " |  3b. Indicator Extension Help:\n",
      " |  >>> help(df.ta.apo)\n",
      " |  \n",
      " |  4. Ways of calling an indicator.\n",
      " |  4a. Calling just the MACD indicator without 'ta' DataFrame extension.\n",
      " |  >>> ta.apo(df['close'])\n",
      " |  4b. Calling just the MACD indicator with 'ta' DataFrame extension.\n",
      " |  >>> df.ta.apo()\n",
      " |  4c. Calling using kind.\n",
      " |  >>> df.ta(kind='apo')\n",
      " |  \n",
      " |  5. Working with kwargs\n",
      " |  5a. Append the result to the working df.\n",
      " |  >>> df.ta.apo(append=True)\n",
      " |  5b. Timing an indicator.\n",
      " |  >>> apo = df.ta(kind='apo', timed=True)\n",
      " |  >>> print(apo.timed)\n",
      " |  \n",
      " |  Method resolution order:\n",
      " |      AnalysisIndicators\n",
      " |      BasePandasObject\n",
      " |      pandas.core.base.PandasObject\n",
      " |      pandas.core.accessor.DirNamesMixin\n",
      " |      builtins.object\n",
      " |  \n",
      " |  Methods defined here:\n",
      " |  \n",
      " |  __call__(self, kind=None, alias=None, timed=False, **kwargs)\n",
      " |      Call self as a function.\n",
      " |  \n",
      " |  accbands(self, high=None, low=None, close=None, length=None, c=None, mamode=None, offset=None, **kwargs)\n",
      " |      # Volatility Indicators\n",
      " |  \n",
      " |  ad(self, high=None, low=None, close=None, volume=None, open_=None, signed=True, offset=None, **kwargs)\n",
      " |      # Volume Indicators\n",
      " |  \n",
      " |  adosc(self, high=None, low=None, close=None, volume=None, open_=None, fast=None, slow=None, signed=True, offset=None, **kwargs)\n",
      " |  \n",
      " |  adx(self, high=None, low=None, close=None, drift=None, offset=None, **kwargs)\n",
      " |      # Trend Indicators\n",
      " |  \n",
      " |  amat(self, close=None, fast=None, slow=None, mamode=None, lookback=None, offset=None, **kwargs)\n",
      " |  \n",
      " |  ao(self, high=None, low=None, fast=None, slow=None, offset=None, **kwargs)\n",
      " |      # Momentum Indicators\n",
      " |  \n",
      " |  aobv(self, close=None, volume=None, fast=None, slow=None, mamode=None, max_lookback=None, min_lookback=None, offset=None, **kwargs)\n",
      " |  \n",
      " |  apo(self, close=None, fast=None, slow=None, offset=None, **kwargs)\n",
      " |  \n",
      " |  aroon(self, close=None, length=None, offset=None, **kwargs)\n",
      " |  \n",
      " |  atr(self, high=None, low=None, close=None, length=None, mamode=None, offset=None, **kwargs)\n",
      " |  \n",
      " |  bbands(self, close=None, length=None, stdev=None, mamode=None, offset=None, **kwargs)\n",
      " |  \n",
      " |  bop(self, open_=None, high=None, low=None, close=None, percentage=False, offset=None, **kwargs)\n",
      " |  \n",
      " |  cci(self, high=None, low=None, close=None, length=None, c=None, offset=None, **kwargs)\n",
      " |  \n",
      " |  cg(self, close=None, length=None, offset=None, **kwargs)\n",
      " |  \n",
      " |  cmf(self, high=None, low=None, close=None, volume=None, open_=None, length=None, offset=None, **kwargs)\n",
      " |  \n",
      " |  cmo(self, close=None, length=None, drift=None, offset=None, **kwargs)\n",
      " |  \n",
      " |  constants(self, apply, lower_bound=-100, upper_bound=100, every=1)\n",
      " |      Constants\n",
      " |      \n",
      " |      Useful for indicator levels or if you need some constant value.\n",
      " |      \n",
      " |      Add constant '1' to the DataFrame\n",
      " |      >>> df.ta.constants(True, 1, 1, 1)\n",
      " |      Remove constant '1' to the DataFrame\n",
      " |      >>> df.ta.constants(False, 1, 1, 1)\n",
      " |      \n",
      " |      Adding constants that range of constants from -4 to 4 inclusive\n",
      " |      >>> df.ta.constants(True, -4, 4, 1)\n",
      " |      Removing constants that range of constants from -4 to 4 inclusive\n",
      " |      >>> df.ta.constants(False, -4, 4, 1)\n",
      " |      \n",
      " |      Args:\n",
      " |          apply (bool): Default: None.  If True, appends the range of constants to the\n",
      " |              working DataFrame.  If False, it removes the constant range from the working\n",
      " |              DataFrame.\n",
      " |          lower_bound (int): Default: -100.  Lowest integer for the constant range.\n",
      " |          upper_bound (int): Default: 100.  Largest integer for the constant range.\n",
      " |          every (int): Default: 10.  How often to include a new constant.\n",
      " |      \n",
      " |      Returns:\n",
      " |          Returns nothing to the user.  Either adds or removes constant ranges from the\n",
      " |          working DataFrame.\n",
      " |  \n",
      " |  coppock(self, close=None, length=None, fast=None, slow=None, offset=None, **kwargs)\n",
      " |  \n",
      " |  cross(self, a=None, b=None, above=True, asint=True, offset=None, **kwargs)\n",
      " |      # Utility Indicators\n",
      " |  \n",
      " |  decreasing(self, close=None, length=None, asint=True, offset=None, **kwargs)\n",
      " |  \n",
      " |  dema(self, close=None, length=None, offset=None, **kwargs)\n",
      " |      # Overlap Indicators\n",
      " |  \n",
      " |  donchian(self, close=None, length=None, offset=None, **kwargs)\n",
      " |  \n",
      " |  dpo(self, close=None, length=None, centered=True, offset=None, **kwargs)\n",
      " |  \n",
      " |  efi(self, close=None, volume=None, length=None, mamode=None, offset=None, drift=None, **kwargs)\n",
      " |  \n",
      " |  ema(self, close=None, length=None, offset=None, adjust=None, **kwargs)\n",
      " |  \n",
      " |  eom(self, high=None, low=None, close=None, volume=None, length=None, divisor=None, offset=None, drift=None, **kwargs)\n",
      " |  \n",
      " |  fisher(self, high=None, low=None, length=None, offset=None, **kwargs)\n",
      " |  \n",
      " |  fwma(self, close=None, length=None, offset=None, **kwargs)\n",
      " |  \n",
      " |  hl2(self, high=None, low=None, offset=None, **kwargs)\n",
      " |  \n",
      " |  hlc3(self, high=None, low=None, close=None, offset=None, **kwargs)\n",
      " |  \n",
      " |  hma(self, close=None, length=None, offset=None, **kwargs)\n",
      " |  \n",
      " |  ichimoku(self, high=None, low=None, close=None, tenkan=None, kijun=None, senkou=None, offset=None, **kwargs)\n",
      " |  \n",
      " |  increasing(self, close=None, length=None, asint=True, offset=None, **kwargs)\n",
      " |  \n",
      " |  indicators(self, **kwargs)\n",
      " |      Indicator list\n",
      " |  \n",
      " |  kama(self, close=None, length=None, fast=None, slow=None, offset=None, **kwargs)\n",
      " |  \n",
      " |  kc(self, high=None, low=None, close=None, length=None, scalar=None, mamode=None, offset=None, **kwargs)\n",
      " |  \n",
      " |  kst(self, close=None, roc1=None, roc2=None, roc3=None, roc4=None, sma1=None, sma2=None, sma3=None, sma4=None, signal=None, offset=None, **kwargs)\n",
      " |  \n",
      " |  kurtosis(self, close=None, length=None, offset=None, **kwargs)\n",
      " |      # Statistics Indicators\n",
      " |  \n",
      " |  linear_decay(self, close=None, length=None, offset=None, **kwargs)\n",
      " |  \n",
      " |  linreg(self, close=None, length=None, offset=None, adjust=None, **kwargs)\n",
      " |  \n",
      " |  log_return(self, close=None, length=None, cumulative=False, percent=False, offset=None, **kwargs)\n",
      " |      # Performance Indicators\n",
      " |  \n",
      " |  long_run(self, fast=None, slow=None, length=None, offset=None, **kwargs)\n",
      " |  \n",
      " |  macd(self, close=None, fast=None, slow=None, signal=None, offset=None, **kwargs)\n",
      " |  \n",
      " |  mad(self, close=None, length=None, offset=None, **kwargs)\n",
      " |  \n",
      " |  massi(self, high=None, low=None, fast=None, slow=None, offset=None, **kwargs)\n",
      " |  \n",
      " |  median(self, close=None, length=None, offset=None, **kwargs)\n",
      " |  \n",
      " |  mfi(self, high=None, low=None, close=None, volume=None, length=None, drift=None, offset=None, **kwargs)\n",
      " |  \n",
      " |  midpoint(self, close=None, length=None, offset=None, **kwargs)\n",
      " |  \n",
      " |  midprice(self, high=None, low=None, length=None, offset=None, **kwargs)\n",
      " |  \n",
      " |  mom(self, close=None, length=None, offset=None, **kwargs)\n",
      " |  \n",
      " |  natr(self, high=None, low=None, close=None, length=None, mamode=None, offset=None, **kwargs)\n",
      " |  \n",
      " |  nvi(self, close=None, volume=None, length=None, initial=None, signed=True, offset=None, **kwargs)\n",
      " |  \n",
      " |  obv(self, close=None, volume=None, offset=None, **kwargs)\n",
      " |  \n",
      " |  ohlc4(self, open_=None, high=None, low=None, close=None, offset=None, **kwargs)\n",
      " |  \n",
      " |  percent_return(self, close=None, length=None, cumulative=False, percent=False, offset=None, **kwargs)\n",
      " |  \n",
      " |  ppo(self, close=None, fast=None, slow=None, percentage=True, offset=None, **kwargs)\n",
      " |  \n",
      " |  pvi(self, close=None, volume=None, length=None, initial=None, signed=True, offset=None, **kwargs)\n",
      " |  \n",
      " |  pvol(self, close=None, volume=None, offset=None, **kwargs)\n",
      " |  \n",
      " |  pvt(self, close=None, volume=None, offset=None, **kwargs)\n",
      " |  \n",
      " |  pwma(self, close=None, length=None, offset=None, **kwargs)\n",
      " |  \n",
      " |  qstick(self, open_=None, close=None, length=None, offset=None, **kwargs)\n",
      " |  \n",
      " |  quantile(self, close=None, length=None, q=None, offset=None, **kwargs)\n",
      " |  \n",
      " |  rma(self, close=None, length=None, offset=None, **kwargs)\n",
      " |  \n",
      " |  roc(self, close=None, length=None, offset=None, **kwargs)\n",
      " |  \n",
      " |  rsi(self, close=None, length=None, drift=None, offset=None, **kwargs)\n",
      " |  \n",
      " |  rvi(self, open_=None, high=None, low=None, close=None, length=None, swma_length=None, offset=None, **kwargs)\n",
      " |  \n",
      " |  short_run(self, fast=None, slow=None, length=None, offset=None, **kwargs)\n",
      " |  \n",
      " |  sinwma(self, close=None, length=None, offset=None, **kwargs)\n",
      " |  \n",
      " |  skew(self, close=None, length=None, offset=None, **kwargs)\n",
      " |  \n",
      " |  slope(self, close=None, length=None, offset=None, **kwargs)\n",
      " |  \n",
      " |  sma(self, close=None, length=None, offset=None, **kwargs)\n",
      " |  \n",
      " |  stdev(self, close=None, length=None, offset=None, **kwargs)\n",
      " |  \n",
      " |  stoch(self, high=None, low=None, close=None, fast_k=None, slow_k=None, slow_d=None, offset=None, **kwargs)\n",
      " |  \n",
      " |  swma(self, close=None, length=None, offset=None, **kwargs)\n",
      " |  \n",
      " |  t3(self, close=None, length=None, a=None, offset=None, **kwargs)\n",
      " |  \n",
      " |  tema(self, close=None, length=None, offset=None, **kwargs)\n",
      " |  \n",
      " |  trend_return(self, close=None, trend=None, log=True, cumulative=None, offset=None, trend_reset=None, **kwargs)\n",
      " |  \n",
      " |  trima(self, close=None, length=None, offset=None, **kwargs)\n",
      " |  \n",
      " |  trix(self, close=None, length=None, drift=None, offset=None, **kwargs)\n",
      " |  \n",
      " |  true_range(self, high=None, low=None, close=None, drift=None, offset=None, **kwargs)\n",
      " |  \n",
      " |  tsi(self, close=None, fast=None, slow=None, drift=None, offset=None, **kwargs)\n",
      " |  \n",
      " |  uo(self, high=None, low=None, close=None, fast=None, medium=None, slow=None, fast_w=None, medium_w=None, slow_w=None, drift=None, offset=None, **kwargs)\n",
      " |  \n",
      " |  variance(self, close=None, length=None, offset=None, **kwargs)\n",
      " |  \n",
      " |  vortex(self, high=None, low=None, close=None, drift=None, offset=None, **kwargs)\n",
      " |  \n",
      " |  vp(self, close=None, volume=None, width=None, percent=None, **kwargs)\n",
      " |  \n",
      " |  vwap(self, high=None, low=None, close=None, volume=None, offset=None, **kwargs)\n",
      " |  \n",
      " |  vwma(self, close=None, volume=None, length=None, offset=None, **kwargs)\n",
      " |  \n",
      " |  willr(self, high=None, low=None, close=None, length=None, percentage=True, offset=None, **kwargs)\n",
      " |  \n",
      " |  wma(self, close=None, length=None, offset=None, **kwargs)\n",
      " |  \n",
      " |  zlma(self, close=None, length=None, offset=None, mamode=None, **kwargs)\n",
      " |  \n",
      " |  zscore(self, close=None, length=None, std=None, offset=None, **kwargs)\n",
      " |  \n",
      " |  ----------------------------------------------------------------------\n",
      " |  Data descriptors defined here:\n",
      " |  \n",
      " |  adjusted\n",
      " |      property: df.ta.adjusted\n",
      " |  \n",
      " |  ----------------------------------------------------------------------\n",
      " |  Methods inherited from BasePandasObject:\n",
      " |  \n",
      " |  __init__(self, df, **kwargs)\n",
      " |      Initialize self.  See help(type(self)) for accurate signature.\n",
      " |  \n",
      " |  ----------------------------------------------------------------------\n",
      " |  Methods inherited from pandas.core.base.PandasObject:\n",
      " |  \n",
      " |  __repr__(self) -> str\n",
      " |      Return a string representation for a particular object.\n",
      " |  \n",
      " |  __sizeof__(self)\n",
      " |      Generates the total memory usage for an object that returns\n",
      " |      either a value or Series of values\n",
      " |  \n",
      " |  ----------------------------------------------------------------------\n",
      " |  Methods inherited from pandas.core.accessor.DirNamesMixin:\n",
      " |  \n",
      " |  __dir__(self)\n",
      " |      Provide method name lookup and completion.\n",
      " |      \n",
      " |      Notes\n",
      " |      -----\n",
      " |      Only provide 'public' methods.\n",
      " |  \n",
      " |  ----------------------------------------------------------------------\n",
      " |  Data descriptors inherited from pandas.core.accessor.DirNamesMixin:\n",
      " |  \n",
      " |  __dict__\n",
      " |      dictionary for instance variables (if defined)\n",
      " |  \n",
      " |  __weakref__\n",
      " |      list of weak references to the object (if defined)\n",
      " |  \n",
      " |  ----------------------------------------------------------------------\n",
      " |  Data and other attributes inherited from pandas.core.accessor.DirNamesMixin:\n",
      " |  \n",
      " |  __annotations__ = {'_accessors': typing.Set[str], '_deprecations': typ...\n",
      "\n"
     ]
    }
   ],
   "source": [
    "import pandas as pd\n",
    "import pandas_ta as ta\n",
    "help(pd.DataFrame().ta)"
   ]
  },
  {
   "cell_type": "code",
   "execution_count": null,
   "metadata": {},
   "outputs": [],
   "source": []
  }
 ],
 "metadata": {
  "kernelspec": {
   "display_name": "Python 3",
   "language": "python",
   "name": "python3"
  },
  "language_info": {
   "codemirror_mode": {
    "name": "ipython",
    "version": 3
   },
   "file_extension": ".py",
   "mimetype": "text/x-python",
   "name": "python",
   "nbconvert_exporter": "python",
   "pygments_lexer": "ipython3",
   "version": "3.7.6"
  }
 },
 "nbformat": 4,
 "nbformat_minor": 4
}
