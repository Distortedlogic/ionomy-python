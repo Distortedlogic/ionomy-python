{
 "cells": [
  {
   "cell_type": "markdown",
   "metadata": {},
   "source": [
    "# BitTA"
   ]
  },
  {
   "cell_type": "markdown",
   "metadata": {},
   "source": [
    "## Imports and Params"
   ]
  },
  {
   "cell_type": "code",
   "execution_count": 1,
   "metadata": {},
   "outputs": [],
   "source": [
    "from Ionomy import BitTA\n",
    "from decouple import config\n",
    "\n",
    "MARKET = 'btc-hive'\n",
    "CURRENCY = 'hive'\n",
    "BASE = 'btc'\n",
    "TIME = 'day'"
   ]
  },
  {
   "cell_type": "markdown",
   "metadata": {},
   "source": [
    "## Instantiation"
   ]
  },
  {
   "cell_type": "code",
   "execution_count": 2,
   "metadata": {},
   "outputs": [],
   "source": [
    "bta = BitTA(config('TREX_KEY'), config('TREX_SECRET'))"
   ]
  },
  {
   "cell_type": "markdown",
   "metadata": {},
   "source": [
    "#### Update the class ohlcv dataframe with the latest data"
   ]
  },
  {
   "cell_type": "code",
   "execution_count": 3,
   "metadata": {},
   "outputs": [],
   "source": [
    "bta.update(CURRENCY, BASE, TIME)"
   ]
  },
  {
   "cell_type": "markdown",
   "metadata": {},
   "source": [
    "## Momentum"
   ]
  },
  {
   "cell_type": "markdown",
   "metadata": {},
   "source": [
    "#### Awesome Oscilator (AO)"
   ]
  },
  {
   "cell_type": "code",
   "execution_count": 4,
   "metadata": {},
   "outputs": [
    {
     "data": {
      "text/plain": [
       "26   -0.000005\n",
       "27   -0.000005\n",
       "28   -0.000006\n",
       "29   -0.000006\n",
       "30   -0.000007\n",
       "Name: AO_5_34, dtype: float64"
      ]
     },
     "execution_count": 4,
     "metadata": {},
     "output_type": "execute_result"
    }
   ],
   "source": [
    "ao_series = bta.ao(fast=5, slow=34, offset=0)\n",
    "ao_series.tail()"
   ]
  },
  {
   "cell_type": "markdown",
   "metadata": {},
   "source": [
    "#### Absolute Price Oscillator (APO)"
   ]
  },
  {
   "cell_type": "code",
   "execution_count": 6,
   "metadata": {},
   "outputs": [
    {
     "data": {
      "text/plain": [
       "26   -0.000003\n",
       "27   -0.000003\n",
       "28   -0.000003\n",
       "29   -0.000003\n",
       "30   -0.000003\n",
       "Name: APO_12_26, dtype: float64"
      ]
     },
     "execution_count": 6,
     "metadata": {},
     "output_type": "execute_result"
    }
   ],
   "source": [
    "apo_series = bta.apo(fast=12, slow=26, offset=0)\n",
    "apo_series.tail()"
   ]
  },
  {
   "cell_type": "markdown",
   "metadata": {},
   "source": [
    "#### Balance of Power (BOP)"
   ]
  },
  {
   "cell_type": "code",
   "execution_count": 7,
   "metadata": {},
   "outputs": [
    {
     "data": {
      "text/plain": [
       "26   -0.802281\n",
       "27   -0.332075\n",
       "28   -0.229630\n",
       "29   -0.594203\n",
       "30   -0.583333\n",
       "Name: BOP, dtype: float64"
      ]
     },
     "execution_count": 7,
     "metadata": {},
     "output_type": "execute_result"
    }
   ],
   "source": [
    "bop_series = bta.bop(offset=0)\n",
    "bop_series.tail()"
   ]
  },
  {
   "cell_type": "markdown",
   "metadata": {},
   "source": [
    "#### Commodity Channel Index (CCI)"
   ]
  },
  {
   "cell_type": "code",
   "execution_count": 8,
   "metadata": {},
   "outputs": [
    {
     "data": {
      "text/plain": [
       "26   -76.387008\n",
       "27   -77.379598\n",
       "28   -75.407177\n",
       "29   -85.992973\n",
       "30   -97.848760\n",
       "Name: CCI_20_0.015, dtype: float64"
      ]
     },
     "execution_count": 8,
     "metadata": {},
     "output_type": "execute_result"
    }
   ],
   "source": [
    "cci_series = bta.cci(length=20, c=0.015, offset=0)\n",
    "cci_series.tail()"
   ]
  },
  {
   "cell_type": "markdown",
   "metadata": {},
   "source": [
    "#### Center of Gravity (CG)"
   ]
  },
  {
   "cell_type": "code",
   "execution_count": 9,
   "metadata": {},
   "outputs": [
    {
     "data": {
      "text/plain": [
       "26   -12.041409\n",
       "27   -12.148211\n",
       "28   -12.138013\n",
       "29   -11.565258\n",
       "30   -11.332511\n",
       "Name: CG_20, dtype: float64"
      ]
     },
     "execution_count": 9,
     "metadata": {},
     "output_type": "execute_result"
    }
   ],
   "source": [
    "cg_series = bta.cg(length=20, offset=0)\n",
    "cg_series.tail()"
   ]
  },
  {
   "cell_type": "markdown",
   "metadata": {},
   "source": [
    "#### Chande Momentum Oscillator (CMO)"
   ]
  },
  {
   "cell_type": "code",
   "execution_count": 11,
   "metadata": {},
   "outputs": [
    {
     "data": {
      "text/plain": [
       "26   -39.251391\n",
       "27   -38.172458\n",
       "28   -24.536601\n",
       "29   -17.513736\n",
       "30   -67.250355\n",
       "Name: CMO_14, dtype: float64"
      ]
     },
     "execution_count": 11,
     "metadata": {},
     "output_type": "execute_result"
    }
   ],
   "source": [
    "cmo_series = bta.cmo(length=14, drift=1, offset=0)\n",
    "cmo_series.tail()"
   ]
  },
  {
   "cell_type": "markdown",
   "metadata": {},
   "source": [
    "#### Coppock Curve (COPC)"
   ]
  },
  {
   "cell_type": "code",
   "execution_count": 12,
   "metadata": {},
   "outputs": [
    {
     "data": {
      "text/plain": [
       "26   -38.771187\n",
       "27   -50.955977\n",
       "28   -55.510796\n",
       "29   -55.224571\n",
       "30   -54.643435\n",
       "Name: COPC_11_14_10, dtype: float64"
      ]
     },
     "execution_count": 12,
     "metadata": {},
     "output_type": "execute_result"
    }
   ],
   "source": [
    "coppock_series = bta.coppock(length=10, fast=11, slow=14, offset=0)\n",
    "coppock_series.tail()"
   ]
  },
  {
   "cell_type": "markdown",
   "metadata": {},
   "source": [
    "#### Fisher Transform (FISHT)"
   ]
  },
  {
   "cell_type": "code",
   "execution_count": 13,
   "metadata": {},
   "outputs": [
    {
     "data": {
      "text/plain": [
       "26   -4.306868\n",
       "27   -4.709653\n",
       "28   -6.155028\n",
       "29   -6.877715\n",
       "30   -7.239059\n",
       "Name: FISHERT_5, dtype: float64"
      ]
     },
     "execution_count": 13,
     "metadata": {},
     "output_type": "execute_result"
    }
   ],
   "source": [
    "fisher_series = bta.fisher(length=5, offset=0)\n",
    "fisher_series.tail()"
   ]
  },
  {
   "cell_type": "markdown",
   "metadata": {},
   "source": [
    "#### Know Sure Thing' (KST)"
   ]
  },
  {
   "cell_type": "code",
   "execution_count": 14,
   "metadata": {},
   "outputs": [
    {
     "data": {
      "text/html": [
       "<div>\n",
       "<style scoped>\n",
       "    .dataframe tbody tr th:only-of-type {\n",
       "        vertical-align: middle;\n",
       "    }\n",
       "\n",
       "    .dataframe tbody tr th {\n",
       "        vertical-align: top;\n",
       "    }\n",
       "\n",
       "    .dataframe thead th {\n",
       "        text-align: right;\n",
       "    }\n",
       "</style>\n",
       "<table border=\"1\" class=\"dataframe\">\n",
       "  <thead>\n",
       "    <tr style=\"text-align: right;\">\n",
       "      <th></th>\n",
       "      <th>KST_10_15_20_30_15_10_10_15</th>\n",
       "      <th>KSTS_9</th>\n",
       "    </tr>\n",
       "  </thead>\n",
       "  <tbody>\n",
       "    <tr>\n",
       "      <th>26</th>\n",
       "      <td>NaN</td>\n",
       "      <td>NaN</td>\n",
       "    </tr>\n",
       "    <tr>\n",
       "      <th>27</th>\n",
       "      <td>NaN</td>\n",
       "      <td>NaN</td>\n",
       "    </tr>\n",
       "    <tr>\n",
       "      <th>28</th>\n",
       "      <td>NaN</td>\n",
       "      <td>NaN</td>\n",
       "    </tr>\n",
       "    <tr>\n",
       "      <th>29</th>\n",
       "      <td>NaN</td>\n",
       "      <td>NaN</td>\n",
       "    </tr>\n",
       "    <tr>\n",
       "      <th>30</th>\n",
       "      <td>NaN</td>\n",
       "      <td>NaN</td>\n",
       "    </tr>\n",
       "  </tbody>\n",
       "</table>\n",
       "</div>"
      ],
      "text/plain": [
       "    KST_10_15_20_30_15_10_10_15  KSTS_9\n",
       "26                          NaN     NaN\n",
       "27                          NaN     NaN\n",
       "28                          NaN     NaN\n",
       "29                          NaN     NaN\n",
       "30                          NaN     NaN"
      ]
     },
     "execution_count": 14,
     "metadata": {},
     "output_type": "execute_result"
    }
   ],
   "source": [
    "# Need more ohlcv data to get results\n",
    "default_kwargs = {\n",
    "    \"roc1\": 10,\n",
    "    \"roc2\": 15,\n",
    "    \"roc3\": 20,\n",
    "    \"roc4\": 30,\n",
    "    \"sma1\": 10,\n",
    "    \"sma1\": 10,\n",
    "    \"sma1\": 10,\n",
    "    \"sma1\": 15,\n",
    "    \"signal\": 9,\n",
    "    \"drift\": 1,\n",
    "    \"offset\": 0\n",
    "}\n",
    "kst_series = bta.kst(**default_kwargs)\n",
    "kst_series.tail()"
   ]
  },
  {
   "cell_type": "markdown",
   "metadata": {},
   "source": [
    "#### Moving Average Convergence Divergence (MACD)"
   ]
  },
  {
   "cell_type": "code",
   "execution_count": 15,
   "metadata": {},
   "outputs": [
    {
     "data": {
      "text/html": [
       "<div>\n",
       "<style scoped>\n",
       "    .dataframe tbody tr th:only-of-type {\n",
       "        vertical-align: middle;\n",
       "    }\n",
       "\n",
       "    .dataframe tbody tr th {\n",
       "        vertical-align: top;\n",
       "    }\n",
       "\n",
       "    .dataframe thead th {\n",
       "        text-align: right;\n",
       "    }\n",
       "</style>\n",
       "<table border=\"1\" class=\"dataframe\">\n",
       "  <thead>\n",
       "    <tr style=\"text-align: right;\">\n",
       "      <th></th>\n",
       "      <th>MACD_12_26_9</th>\n",
       "      <th>MACDH_12_26_9</th>\n",
       "      <th>MACDS_12_26_9</th>\n",
       "    </tr>\n",
       "  </thead>\n",
       "  <tbody>\n",
       "    <tr>\n",
       "      <th>26</th>\n",
       "      <td>-0.000003</td>\n",
       "      <td>-1.645118e-07</td>\n",
       "      <td>-0.000002</td>\n",
       "    </tr>\n",
       "    <tr>\n",
       "      <th>27</th>\n",
       "      <td>-0.000003</td>\n",
       "      <td>-2.936861e-07</td>\n",
       "      <td>-0.000002</td>\n",
       "    </tr>\n",
       "    <tr>\n",
       "      <th>28</th>\n",
       "      <td>-0.000003</td>\n",
       "      <td>-3.568946e-07</td>\n",
       "      <td>-0.000003</td>\n",
       "    </tr>\n",
       "    <tr>\n",
       "      <th>29</th>\n",
       "      <td>-0.000003</td>\n",
       "      <td>-4.071771e-07</td>\n",
       "      <td>-0.000003</td>\n",
       "    </tr>\n",
       "    <tr>\n",
       "      <th>30</th>\n",
       "      <td>-0.000003</td>\n",
       "      <td>-4.292012e-07</td>\n",
       "      <td>-0.000003</td>\n",
       "    </tr>\n",
       "  </tbody>\n",
       "</table>\n",
       "</div>"
      ],
      "text/plain": [
       "    MACD_12_26_9  MACDH_12_26_9  MACDS_12_26_9\n",
       "26     -0.000003  -1.645118e-07      -0.000002\n",
       "27     -0.000003  -2.936861e-07      -0.000002\n",
       "28     -0.000003  -3.568946e-07      -0.000003\n",
       "29     -0.000003  -4.071771e-07      -0.000003\n",
       "30     -0.000003  -4.292012e-07      -0.000003"
      ]
     },
     "execution_count": 15,
     "metadata": {},
     "output_type": "execute_result"
    }
   ],
   "source": [
    "macd_series = bta.macd(fast=12, slow=26, signal=9, offset=0)\n",
    "macd_series.tail()"
   ]
  },
  {
   "cell_type": "markdown",
   "metadata": {},
   "source": [
    "#### Momentum (MOM)"
   ]
  },
  {
   "cell_type": "code",
   "execution_count": 4,
   "metadata": {},
   "outputs": [
    {
     "data": {
      "text/plain": [
       "26   -0.000007\n",
       "27   -0.000004\n",
       "28   -0.000013\n",
       "29   -0.000015\n",
       "30   -0.000012\n",
       "Name: MOM_12, dtype: float64"
      ]
     },
     "execution_count": 4,
     "metadata": {},
     "output_type": "execute_result"
    }
   ],
   "source": [
    "mom_series = bta.mom(length=12, offset=0)\n",
    "mom_series.tail()"
   ]
  },
  {
   "cell_type": "markdown",
   "metadata": {},
   "source": [
    "#### Percentage Price Oscillator (PPO)"
   ]
  },
  {
   "cell_type": "code",
   "execution_count": 5,
   "metadata": {},
   "outputs": [
    {
     "data": {
      "text/html": [
       "<div>\n",
       "<style scoped>\n",
       "    .dataframe tbody tr th:only-of-type {\n",
       "        vertical-align: middle;\n",
       "    }\n",
       "\n",
       "    .dataframe tbody tr th {\n",
       "        vertical-align: top;\n",
       "    }\n",
       "\n",
       "    .dataframe thead th {\n",
       "        text-align: right;\n",
       "    }\n",
       "</style>\n",
       "<table border=\"1\" class=\"dataframe\">\n",
       "  <thead>\n",
       "    <tr style=\"text-align: right;\">\n",
       "      <th></th>\n",
       "      <th>PPO_12_26_9</th>\n",
       "      <th>PPOH_12_26_9</th>\n",
       "      <th>PPOS_12_26_9</th>\n",
       "    </tr>\n",
       "  </thead>\n",
       "  <tbody>\n",
       "    <tr>\n",
       "      <th>26</th>\n",
       "      <td>-6.436170</td>\n",
       "      <td>-11.002642</td>\n",
       "      <td>4.566472</td>\n",
       "    </tr>\n",
       "    <tr>\n",
       "      <th>27</th>\n",
       "      <td>-8.523310</td>\n",
       "      <td>-10.471825</td>\n",
       "      <td>1.948516</td>\n",
       "    </tr>\n",
       "    <tr>\n",
       "      <th>28</th>\n",
       "      <td>-12.216228</td>\n",
       "      <td>-11.331795</td>\n",
       "      <td>-0.884433</td>\n",
       "    </tr>\n",
       "    <tr>\n",
       "      <th>29</th>\n",
       "      <td>-16.248230</td>\n",
       "      <td>-12.291037</td>\n",
       "      <td>-3.957193</td>\n",
       "    </tr>\n",
       "    <tr>\n",
       "      <th>30</th>\n",
       "      <td>-19.603026</td>\n",
       "      <td>-12.516667</td>\n",
       "      <td>-7.086359</td>\n",
       "    </tr>\n",
       "  </tbody>\n",
       "</table>\n",
       "</div>"
      ],
      "text/plain": [
       "    PPO_12_26_9  PPOH_12_26_9  PPOS_12_26_9\n",
       "26    -6.436170    -11.002642      4.566472\n",
       "27    -8.523310    -10.471825      1.948516\n",
       "28   -12.216228    -11.331795     -0.884433\n",
       "29   -16.248230    -12.291037     -3.957193\n",
       "30   -19.603026    -12.516667     -7.086359"
      ]
     },
     "execution_count": 5,
     "metadata": {},
     "output_type": "execute_result"
    }
   ],
   "source": [
    "ppo_series = bta.ppo(fast=12, slow=26, signal=9, offset=0)\n",
    "ppo_series.tail()"
   ]
  },
  {
   "cell_type": "markdown",
   "metadata": {},
   "source": [
    "#### Rate of Change (ROC)"
   ]
  },
  {
   "cell_type": "code",
   "execution_count": 6,
   "metadata": {},
   "outputs": [
    {
     "data": {
      "text/plain": [
       "26   -5.739935\n",
       "27   -2.539683\n",
       "28   -0.917975\n",
       "29   -2.450687\n",
       "30    1.041667\n",
       "Name: ROC_1, dtype: float64"
      ]
     },
     "execution_count": 6,
     "metadata": {},
     "output_type": "execute_result"
    }
   ],
   "source": [
    "roc_series = bta.roc(length=1, offset=0)\n",
    "roc_series.tail()"
   ]
  },
  {
   "cell_type": "markdown",
   "metadata": {},
   "source": [
    "#### Relative Strength Index (RSI)"
   ]
  },
  {
   "cell_type": "code",
   "execution_count": 7,
   "metadata": {},
   "outputs": [
    {
     "data": {
      "text/plain": [
       "26    16.266019\n",
       "27    10.589262\n",
       "28     8.499405\n",
       "29     4.158062\n",
       "30    32.675188\n",
       "Name: RSI_1, dtype: float64"
      ]
     },
     "execution_count": 7,
     "metadata": {},
     "output_type": "execute_result"
    }
   ],
   "source": [
    "rsi_series = bta.rsi(length=1, drift=1, offset=0)\n",
    "rsi_series.tail()"
   ]
  },
  {
   "cell_type": "markdown",
   "metadata": {},
   "source": [
    "#### Relative Vigor Index (RVI)"
   ]
  },
  {
   "cell_type": "code",
   "execution_count": 8,
   "metadata": {},
   "outputs": [
    {
     "data": {
      "text/html": [
       "<div>\n",
       "<style scoped>\n",
       "    .dataframe tbody tr th:only-of-type {\n",
       "        vertical-align: middle;\n",
       "    }\n",
       "\n",
       "    .dataframe tbody tr th {\n",
       "        vertical-align: top;\n",
       "    }\n",
       "\n",
       "    .dataframe thead th {\n",
       "        text-align: right;\n",
       "    }\n",
       "</style>\n",
       "<table border=\"1\" class=\"dataframe\">\n",
       "  <thead>\n",
       "    <tr style=\"text-align: right;\">\n",
       "      <th></th>\n",
       "      <th>RVI_14_4</th>\n",
       "      <th>RVIS_14_4</th>\n",
       "    </tr>\n",
       "  </thead>\n",
       "  <tbody>\n",
       "    <tr>\n",
       "      <th>26</th>\n",
       "      <td>-0.300914</td>\n",
       "      <td>-0.282395</td>\n",
       "    </tr>\n",
       "    <tr>\n",
       "      <th>27</th>\n",
       "      <td>-0.214800</td>\n",
       "      <td>-0.303975</td>\n",
       "    </tr>\n",
       "    <tr>\n",
       "      <th>28</th>\n",
       "      <td>-0.182882</td>\n",
       "      <td>-0.260117</td>\n",
       "    </tr>\n",
       "    <tr>\n",
       "      <th>29</th>\n",
       "      <td>-0.148107</td>\n",
       "      <td>-0.205258</td>\n",
       "    </tr>\n",
       "    <tr>\n",
       "      <th>30</th>\n",
       "      <td>-0.122529</td>\n",
       "      <td>-0.166287</td>\n",
       "    </tr>\n",
       "  </tbody>\n",
       "</table>\n",
       "</div>"
      ],
      "text/plain": [
       "    RVI_14_4  RVIS_14_4\n",
       "26 -0.300914  -0.282395\n",
       "27 -0.214800  -0.303975\n",
       "28 -0.182882  -0.260117\n",
       "29 -0.148107  -0.205258\n",
       "30 -0.122529  -0.166287"
      ]
     },
     "execution_count": 8,
     "metadata": {},
     "output_type": "execute_result"
    }
   ],
   "source": [
    "rvi_series = bta.rvi(length=14, swma_length=4, offset=0)\n",
    "rvi_series.tail()"
   ]
  },
  {
   "cell_type": "markdown",
   "metadata": {},
   "source": [
    "#### Slope"
   ]
  },
  {
   "cell_type": "code",
   "execution_count": 11,
   "metadata": {},
   "outputs": [
    {
     "data": {
      "text/plain": [
       "26   -2.110000e-06\n",
       "27   -8.800000e-07\n",
       "28   -3.100000e-07\n",
       "29   -8.200000e-07\n",
       "30    3.400000e-07\n",
       "Name: SLOPE_1, dtype: float64"
      ]
     },
     "execution_count": 11,
     "metadata": {},
     "output_type": "execute_result"
    }
   ],
   "source": [
    "slope_series = bta.slope(length=1, as_angle=False, to_degrees=False, offset=0)\n",
    "slope_series.tail()"
   ]
  },
  {
   "cell_type": "markdown",
   "metadata": {},
   "source": [
    "#### Stochastic (STOCH)"
   ]
  },
  {
   "cell_type": "code",
   "execution_count": 12,
   "metadata": {},
   "outputs": [
    {
     "data": {
      "text/html": [
       "<div>\n",
       "<style scoped>\n",
       "    .dataframe tbody tr th:only-of-type {\n",
       "        vertical-align: middle;\n",
       "    }\n",
       "\n",
       "    .dataframe tbody tr th {\n",
       "        vertical-align: top;\n",
       "    }\n",
       "\n",
       "    .dataframe thead th {\n",
       "        text-align: right;\n",
       "    }\n",
       "</style>\n",
       "<table border=\"1\" class=\"dataframe\">\n",
       "  <thead>\n",
       "    <tr style=\"text-align: right;\">\n",
       "      <th></th>\n",
       "      <th>STOCHF_14</th>\n",
       "      <th>STOCHF_3</th>\n",
       "      <th>STOCH_5</th>\n",
       "      <th>STOCH_3</th>\n",
       "    </tr>\n",
       "  </thead>\n",
       "  <tbody>\n",
       "    <tr>\n",
       "      <th>26</th>\n",
       "      <td>6.709265</td>\n",
       "      <td>22.935425</td>\n",
       "      <td>15.241707</td>\n",
       "      <td>14.207310</td>\n",
       "    </tr>\n",
       "    <tr>\n",
       "      <th>27</th>\n",
       "      <td>13.065977</td>\n",
       "      <td>17.236516</td>\n",
       "      <td>17.021569</td>\n",
       "      <td>15.752323</td>\n",
       "    </tr>\n",
       "    <tr>\n",
       "      <th>28</th>\n",
       "      <td>9.055627</td>\n",
       "      <td>9.610290</td>\n",
       "      <td>18.185576</td>\n",
       "      <td>16.816284</td>\n",
       "    </tr>\n",
       "    <tr>\n",
       "      <th>29</th>\n",
       "      <td>3.249097</td>\n",
       "      <td>8.456901</td>\n",
       "      <td>12.802855</td>\n",
       "      <td>16.003333</td>\n",
       "    </tr>\n",
       "    <tr>\n",
       "      <th>30</th>\n",
       "      <td>23.015873</td>\n",
       "      <td>11.773533</td>\n",
       "      <td>11.019168</td>\n",
       "      <td>14.002533</td>\n",
       "    </tr>\n",
       "  </tbody>\n",
       "</table>\n",
       "</div>"
      ],
      "text/plain": [
       "    STOCHF_14   STOCHF_3    STOCH_5    STOCH_3\n",
       "26   6.709265  22.935425  15.241707  14.207310\n",
       "27  13.065977  17.236516  17.021569  15.752323\n",
       "28   9.055627   9.610290  18.185576  16.816284\n",
       "29   3.249097   8.456901  12.802855  16.003333\n",
       "30  23.015873  11.773533  11.019168  14.002533"
      ]
     },
     "execution_count": 12,
     "metadata": {},
     "output_type": "execute_result"
    }
   ],
   "source": [
    "stoch_series = bta.stoch(fast_k=14, slow_k=5, slow_d=3, offset=0)\n",
    "stoch_series.tail()"
   ]
  },
  {
   "cell_type": "markdown",
   "metadata": {},
   "source": [
    "#### Trix (TRIX)"
   ]
  },
  {
   "cell_type": "code",
   "execution_count": 13,
   "metadata": {},
   "outputs": [
    {
     "data": {
      "text/plain": [
       "26   -0.242958\n",
       "27   -0.294361\n",
       "28   -0.347659\n",
       "29   -0.402758\n",
       "30   -0.456325\n",
       "Name: TRIX_18, dtype: float64"
      ]
     },
     "execution_count": 13,
     "metadata": {},
     "output_type": "execute_result"
    }
   ],
   "source": [
    "trix_series = bta.trix(length=18, drift=1, offset=0)\n",
    "trix_series.tail()"
   ]
  },
  {
   "cell_type": "markdown",
   "metadata": {},
   "source": [
    "#### True Strength Index (TSI)"
   ]
  },
  {
   "cell_type": "code",
   "execution_count": 14,
   "metadata": {},
   "outputs": [
    {
     "data": {
      "text/plain": [
       "26    8.408619\n",
       "27    7.977190\n",
       "28    7.571647\n",
       "29    7.105209\n",
       "30    6.754438\n",
       "Name: TSI_13_25, dtype: float64"
      ]
     },
     "execution_count": 14,
     "metadata": {},
     "output_type": "execute_result"
    }
   ],
   "source": [
    "tsi_series = bta.tsi(fast=13, slow=25, drift=1, offset=0)\n",
    "tsi_series.tail()"
   ]
  },
  {
   "cell_type": "markdown",
   "metadata": {},
   "source": [
    "#### Ultimate Oscillator (UO)"
   ]
  },
  {
   "cell_type": "code",
   "execution_count": 15,
   "metadata": {},
   "outputs": [
    {
     "data": {
      "text/plain": [
       "26          NaN\n",
       "27    32.055171\n",
       "28    32.909266\n",
       "29    34.102532\n",
       "30    36.042116\n",
       "Name: UO_7_14_28, dtype: float64"
      ]
     },
     "execution_count": 15,
     "metadata": {},
     "output_type": "execute_result"
    }
   ],
   "source": [
    "uo_series = bta.uo(\n",
    "        fast=7,\n",
    "        medium=14,\n",
    "        slow=28,\n",
    "        fast_w=4.0,\n",
    "        medium_w=2.0,\n",
    "        slow_w=1.0,\n",
    "        drift=1,\n",
    "        offset=0,\n",
    "    )\n",
    "uo_series.tail()"
   ]
  },
  {
   "cell_type": "markdown",
   "metadata": {},
   "source": [
    "#### William's Percent R (WILLR)"
   ]
  },
  {
   "cell_type": "code",
   "execution_count": 17,
   "metadata": {},
   "outputs": [
    {
     "data": {
      "text/plain": [
       "26   -90.027701\n",
       "27   -98.949449\n",
       "28   -99.271895\n",
       "29   -99.804645\n",
       "30   -97.614151\n",
       "Name: WILLR_20, dtype: float64"
      ]
     },
     "execution_count": 17,
     "metadata": {},
     "output_type": "execute_result"
    }
   ],
   "source": [
    "willr_series = bta.willr(length=20, offset=0)\n",
    "willr_series.tail()"
   ]
  },
  {
   "cell_type": "markdown",
   "metadata": {},
   "source": [
    "## Overlap"
   ]
  },
  {
   "cell_type": "markdown",
   "metadata": {},
   "source": [
    "#### Double Exponential Moving Average (DEMA)"
   ]
  },
  {
   "cell_type": "code",
   "execution_count": 18,
   "metadata": {},
   "outputs": [
    {
     "data": {
      "text/plain": [
       "26    0.000036\n",
       "27    0.000035\n",
       "28    0.000034\n",
       "29    0.000033\n",
       "30    0.000033\n",
       "Name: DEMA_10, dtype: float64"
      ]
     },
     "execution_count": 18,
     "metadata": {},
     "output_type": "execute_result"
    }
   ],
   "source": [
    "dema_series = bta.dema(length=10, offset=0)\n",
    "dema_series.tail()"
   ]
  },
  {
   "cell_type": "markdown",
   "metadata": {},
   "source": [
    "#### Exponential Moving Average (EMA)"
   ]
  },
  {
   "cell_type": "code",
   "execution_count": 20,
   "metadata": {},
   "outputs": [
    {
     "data": {
      "text/plain": [
       "26    0.000038\n",
       "27    0.000038\n",
       "28    0.000037\n",
       "29    0.000036\n",
       "30    0.000035\n",
       "Name: EMA_10, dtype: float64"
      ]
     },
     "execution_count": 20,
     "metadata": {},
     "output_type": "execute_result"
    }
   ],
   "source": [
    "ema_series = bta.ema(length=10, offset=0)\n",
    "ema_series.tail()"
   ]
  },
  {
   "cell_type": "markdown",
   "metadata": {},
   "source": [
    "#### Fibonacci's Weighted Moving Average (FWMA)"
   ]
  },
  {
   "cell_type": "code",
   "execution_count": 21,
   "metadata": {},
   "outputs": [
    {
     "data": {
      "text/plain": [
       "26    0.000036\n",
       "27    0.000035\n",
       "28    0.000035\n",
       "29    0.000034\n",
       "30    0.000033\n",
       "Name: FWMA_10, dtype: float64"
      ]
     },
     "execution_count": 21,
     "metadata": {},
     "output_type": "execute_result"
    }
   ],
   "source": [
    "fwma_series = bta.fwma(length=10, asc=True, offset=0)\n",
    "fwma_series.tail()"
   ]
  },
  {
   "cell_type": "markdown",
   "metadata": {},
   "source": [
    "#### Hull Moving Average (HMA)"
   ]
  },
  {
   "cell_type": "code",
   "execution_count": 22,
   "metadata": {},
   "outputs": [
    {
     "data": {
      "text/plain": [
       "26    0.000035\n",
       "27    0.000034\n",
       "28    0.000034\n",
       "29    0.000033\n",
       "30    0.000032\n",
       "Name: HMA_10, dtype: float64"
      ]
     },
     "execution_count": 22,
     "metadata": {},
     "output_type": "execute_result"
    }
   ],
   "source": [
    "hma_series = bta.hma(length=10, offset=0)\n",
    "hma_series.tail()"
   ]
  },
  {
   "cell_type": "markdown",
   "metadata": {},
   "source": [
    "#### Ichimoku Kinkō Hyō (ichimoku)"
   ]
  },
  {
   "cell_type": "code",
   "execution_count": 24,
   "metadata": {},
   "outputs": [],
   "source": [
    "ichimoku_pd_1, ichimoku_pd_2 = bta.ichimoku(tenkan=9, kijun=26, senkou=52, offset=0)"
   ]
  },
  {
   "cell_type": "code",
   "execution_count": 25,
   "metadata": {},
   "outputs": [
    {
     "data": {
      "text/html": [
       "<div>\n",
       "<style scoped>\n",
       "    .dataframe tbody tr th:only-of-type {\n",
       "        vertical-align: middle;\n",
       "    }\n",
       "\n",
       "    .dataframe tbody tr th {\n",
       "        vertical-align: top;\n",
       "    }\n",
       "\n",
       "    .dataframe thead th {\n",
       "        text-align: right;\n",
       "    }\n",
       "</style>\n",
       "<table border=\"1\" class=\"dataframe\">\n",
       "  <thead>\n",
       "    <tr style=\"text-align: right;\">\n",
       "      <th></th>\n",
       "      <th>ISA_9</th>\n",
       "      <th>ISB_26</th>\n",
       "      <th>ITS_9</th>\n",
       "      <th>IKS_26</th>\n",
       "      <th>ICS_26</th>\n",
       "    </tr>\n",
       "  </thead>\n",
       "  <tbody>\n",
       "    <tr>\n",
       "      <th>26</th>\n",
       "      <td>NaN</td>\n",
       "      <td>NaN</td>\n",
       "      <td>0.000042</td>\n",
       "      <td>0.000072</td>\n",
       "      <td>NaN</td>\n",
       "    </tr>\n",
       "    <tr>\n",
       "      <th>27</th>\n",
       "      <td>NaN</td>\n",
       "      <td>NaN</td>\n",
       "      <td>0.000039</td>\n",
       "      <td>0.000072</td>\n",
       "      <td>NaN</td>\n",
       "    </tr>\n",
       "    <tr>\n",
       "      <th>28</th>\n",
       "      <td>NaN</td>\n",
       "      <td>NaN</td>\n",
       "      <td>0.000038</td>\n",
       "      <td>0.000072</td>\n",
       "      <td>NaN</td>\n",
       "    </tr>\n",
       "    <tr>\n",
       "      <th>29</th>\n",
       "      <td>NaN</td>\n",
       "      <td>NaN</td>\n",
       "      <td>0.000036</td>\n",
       "      <td>0.000072</td>\n",
       "      <td>NaN</td>\n",
       "    </tr>\n",
       "    <tr>\n",
       "      <th>30</th>\n",
       "      <td>NaN</td>\n",
       "      <td>NaN</td>\n",
       "      <td>0.000036</td>\n",
       "      <td>0.000072</td>\n",
       "      <td>NaN</td>\n",
       "    </tr>\n",
       "  </tbody>\n",
       "</table>\n",
       "</div>"
      ],
      "text/plain": [
       "    ISA_9  ISB_26     ITS_9    IKS_26  ICS_26\n",
       "26    NaN     NaN  0.000042  0.000072     NaN\n",
       "27    NaN     NaN  0.000039  0.000072     NaN\n",
       "28    NaN     NaN  0.000038  0.000072     NaN\n",
       "29    NaN     NaN  0.000036  0.000072     NaN\n",
       "30    NaN     NaN  0.000036  0.000072     NaN"
      ]
     },
     "execution_count": 25,
     "metadata": {},
     "output_type": "execute_result"
    }
   ],
   "source": [
    "ichimoku_pd_1.tail()"
   ]
  },
  {
   "cell_type": "code",
   "execution_count": 26,
   "metadata": {},
   "outputs": [
    {
     "data": {
      "text/html": [
       "<div>\n",
       "<style scoped>\n",
       "    .dataframe tbody tr th:only-of-type {\n",
       "        vertical-align: middle;\n",
       "    }\n",
       "\n",
       "    .dataframe tbody tr th {\n",
       "        vertical-align: top;\n",
       "    }\n",
       "\n",
       "    .dataframe thead th {\n",
       "        text-align: right;\n",
       "    }\n",
       "</style>\n",
       "<table border=\"1\" class=\"dataframe\">\n",
       "  <thead>\n",
       "    <tr style=\"text-align: right;\">\n",
       "      <th></th>\n",
       "      <th>ISA_9</th>\n",
       "      <th>ISB_26</th>\n",
       "    </tr>\n",
       "  </thead>\n",
       "  <tbody>\n",
       "    <tr>\n",
       "      <th>52</th>\n",
       "      <td>0.000057</td>\n",
       "      <td>NaN</td>\n",
       "    </tr>\n",
       "    <tr>\n",
       "      <th>53</th>\n",
       "      <td>0.000055</td>\n",
       "      <td>NaN</td>\n",
       "    </tr>\n",
       "    <tr>\n",
       "      <th>54</th>\n",
       "      <td>0.000055</td>\n",
       "      <td>NaN</td>\n",
       "    </tr>\n",
       "    <tr>\n",
       "      <th>55</th>\n",
       "      <td>0.000054</td>\n",
       "      <td>NaN</td>\n",
       "    </tr>\n",
       "    <tr>\n",
       "      <th>56</th>\n",
       "      <td>0.000054</td>\n",
       "      <td>NaN</td>\n",
       "    </tr>\n",
       "  </tbody>\n",
       "</table>\n",
       "</div>"
      ],
      "text/plain": [
       "       ISA_9  ISB_26\n",
       "52  0.000057     NaN\n",
       "53  0.000055     NaN\n",
       "54  0.000055     NaN\n",
       "55  0.000054     NaN\n",
       "56  0.000054     NaN"
      ]
     },
     "execution_count": 26,
     "metadata": {},
     "output_type": "execute_result"
    }
   ],
   "source": [
    "ichimoku_pd_2.tail()"
   ]
  },
  {
   "cell_type": "markdown",
   "metadata": {},
   "source": [
    "#### Kaufman's Adaptive Moving Average (KAMA)"
   ]
  },
  {
   "cell_type": "code",
   "execution_count": 4,
   "metadata": {},
   "outputs": [
    {
     "data": {
      "text/plain": [
       "26    0.000030\n",
       "27    0.000031\n",
       "28    0.000032\n",
       "29    0.000032\n",
       "30    0.000032\n",
       "Name: KAMA_10_2_30, dtype: float64"
      ]
     },
     "execution_count": 4,
     "metadata": {},
     "output_type": "execute_result"
    }
   ],
   "source": [
    "kama_series = bta.kama(length=10, fast=2, slow=30, drift=1, offset=0)\n",
    "kama_series.tail()"
   ]
  },
  {
   "cell_type": "markdown",
   "metadata": {},
   "source": [
    "#### Linear Regression Moving Average (linreg)"
   ]
  },
  {
   "cell_type": "code",
   "execution_count": 5,
   "metadata": {},
   "outputs": [
    {
     "data": {
      "text/plain": [
       "26    0.000035\n",
       "27    0.000034\n",
       "28    0.000034\n",
       "29    0.000034\n",
       "30    0.000033\n",
       "Name: LR_10, dtype: float64"
      ]
     },
     "execution_count": 5,
     "metadata": {},
     "output_type": "execute_result"
    }
   ],
   "source": [
    "linreg_series = bta.linreg(length=10, offset=0)\n",
    "linreg_series.tail()"
   ]
  },
  {
   "cell_type": "markdown",
   "metadata": {},
   "source": [
    "#### Pascal's Weighted Moving Average (PWMA)"
   ]
  },
  {
   "cell_type": "code",
   "execution_count": 6,
   "metadata": {},
   "outputs": [
    {
     "data": {
      "text/plain": [
       "26    0.000037\n",
       "27    0.000037\n",
       "28    0.000036\n",
       "29    0.000036\n",
       "30    0.000035\n",
       "Name: PWMA_10, dtype: float64"
      ]
     },
     "execution_count": 6,
     "metadata": {},
     "output_type": "execute_result"
    }
   ],
   "source": [
    "pwma_series = bta.pwma(length=10, asc=True, offset=0)\n",
    "pwma_series.tail()"
   ]
  },
  {
   "cell_type": "markdown",
   "metadata": {},
   "source": [
    "#### wildeR's Moving Average (RMA)"
   ]
  },
  {
   "cell_type": "code",
   "execution_count": 7,
   "metadata": {},
   "outputs": [
    {
     "data": {
      "text/plain": [
       "26    0.000041\n",
       "27    0.000040\n",
       "28    0.000040\n",
       "29    0.000039\n",
       "30    0.000038\n",
       "Name: RMA_10, dtype: float64"
      ]
     },
     "execution_count": 7,
     "metadata": {},
     "output_type": "execute_result"
    }
   ],
   "source": [
    "rma_series = bta.rma(length=10, offset=0)\n",
    "rma_series.tail()"
   ]
  },
  {
   "cell_type": "markdown",
   "metadata": {},
   "source": [
    "#### Sine Weighted Moving Average (SINWMA)"
   ]
  },
  {
   "cell_type": "code",
   "execution_count": 10,
   "metadata": {},
   "outputs": [
    {
     "data": {
      "text/plain": [
       "26    0.000038\n",
       "27    0.000037\n",
       "28    0.000036\n",
       "29    0.000036\n",
       "30    0.000035\n",
       "Name: SINWMA_10, dtype: float64"
      ]
     },
     "execution_count": 10,
     "metadata": {},
     "output_type": "execute_result"
    }
   ],
   "source": [
    "sinwma_series = bta.sinwma(length=10, offset=0)\n",
    "sinwma_series.tail()"
   ]
  },
  {
   "cell_type": "markdown",
   "metadata": {},
   "source": [
    "#### Simple Moving Average (SMA)"
   ]
  },
  {
   "cell_type": "code",
   "execution_count": 9,
   "metadata": {},
   "outputs": [
    {
     "data": {
      "text/plain": [
       "26    0.000038\n",
       "27    0.000038\n",
       "28    0.000037\n",
       "29    0.000036\n",
       "30    0.000035\n",
       "Name: EMA_10, dtype: float64"
      ]
     },
     "execution_count": 9,
     "metadata": {},
     "output_type": "execute_result"
    }
   ],
   "source": [
    "sma_series = bta.sma(length=10, offset=0)\n",
    "sma_series.tail()"
   ]
  },
  {
   "cell_type": "markdown",
   "metadata": {},
   "source": [
    "#### Symmetric Weighted Moving Average (SWMA)"
   ]
  },
  {
   "cell_type": "code",
   "execution_count": 11,
   "metadata": {},
   "outputs": [
    {
     "data": {
      "text/plain": [
       "26    0.000037\n",
       "27    0.000037\n",
       "28    0.000036\n",
       "29    0.000036\n",
       "30    0.000035\n",
       "Name: SWMA_10, dtype: float64"
      ]
     },
     "execution_count": 11,
     "metadata": {},
     "output_type": "execute_result"
    }
   ],
   "source": [
    "swma_series = bta.swma(length=10, offset=0)\n",
    "swma_series.tail()"
   ]
  },
  {
   "cell_type": "markdown",
   "metadata": {},
   "source": [
    "#### Tim Tillson's T3 Moving Average (T3)"
   ]
  },
  {
   "cell_type": "code",
   "execution_count": 12,
   "metadata": {},
   "outputs": [
    {
     "data": {
      "text/plain": [
       "26    0.000041\n",
       "27    0.000040\n",
       "28    0.000039\n",
       "29    0.000038\n",
       "30    0.000037\n",
       "Name: T3_10_0.7, dtype: float64"
      ]
     },
     "execution_count": 12,
     "metadata": {},
     "output_type": "execute_result"
    }
   ],
   "source": [
    "t3_series = bta.t3(length=10, a=0.7, offset=0)\n",
    "t3_series.tail()"
   ]
  },
  {
   "cell_type": "markdown",
   "metadata": {},
   "source": [
    "#### Triple Exponential Moving Average (TEMA)"
   ]
  },
  {
   "cell_type": "code",
   "execution_count": 13,
   "metadata": {},
   "outputs": [
    {
     "data": {
      "text/plain": [
       "26    0.000034\n",
       "27    0.000033\n",
       "28    0.000033\n",
       "29    0.000032\n",
       "30    0.000031\n",
       "Name: TEMA_10, dtype: float64"
      ]
     },
     "execution_count": 13,
     "metadata": {},
     "output_type": "execute_result"
    }
   ],
   "source": [
    "tema_series = bta.tema(length=10, offset=0)\n",
    "tema_series.tail()"
   ]
  },
  {
   "cell_type": "markdown",
   "metadata": {},
   "source": [
    "#### Triangular Moving Average (TRIMA)"
   ]
  },
  {
   "cell_type": "code",
   "execution_count": 14,
   "metadata": {},
   "outputs": [
    {
     "data": {
      "text/plain": [
       "26    0.000039\n",
       "27    0.000038\n",
       "28    0.000037\n",
       "29    0.000036\n",
       "30    0.000035\n",
       "Name: TRIMA_10, dtype: float64"
      ]
     },
     "execution_count": 14,
     "metadata": {},
     "output_type": "execute_result"
    }
   ],
   "source": [
    "trima_series = bta.trima(length=10, offset=0)\n",
    "trima_series.tail()"
   ]
  },
  {
   "cell_type": "markdown",
   "metadata": {},
   "source": [
    "#### Volume Weighted Average Price (VWAP)"
   ]
  },
  {
   "cell_type": "code",
   "execution_count": 15,
   "metadata": {},
   "outputs": [
    {
     "data": {
      "text/plain": [
       "26    0.000068\n",
       "27    0.000068\n",
       "28    0.000068\n",
       "29    0.000068\n",
       "30    0.000068\n",
       "Name: VWAP, dtype: float64"
      ]
     },
     "execution_count": 15,
     "metadata": {},
     "output_type": "execute_result"
    }
   ],
   "source": [
    "vwap_series = bta.vwap(offset=0)\n",
    "vwap_series.tail()"
   ]
  },
  {
   "cell_type": "markdown",
   "metadata": {},
   "source": [
    "#### Volume Weighted Moving Average (VWMA)"
   ]
  },
  {
   "cell_type": "code",
   "execution_count": 16,
   "metadata": {},
   "outputs": [
    {
     "data": {
      "text/plain": [
       "26    0.000040\n",
       "27    0.000038\n",
       "28    0.000037\n",
       "29    0.000036\n",
       "30    0.000035\n",
       "Name: VWMA_10, dtype: float64"
      ]
     },
     "execution_count": 16,
     "metadata": {},
     "output_type": "execute_result"
    }
   ],
   "source": [
    "vwma_series = bta.vwma(length=10, offset=0)\n",
    "vwma_series.tail()"
   ]
  },
  {
   "cell_type": "markdown",
   "metadata": {},
   "source": [
    "#### Weighted Moving Average (WMA)"
   ]
  },
  {
   "cell_type": "code",
   "execution_count": 17,
   "metadata": {},
   "outputs": [
    {
     "data": {
      "text/plain": [
       "26    0.000037\n",
       "27    0.000036\n",
       "28    0.000035\n",
       "29    0.000035\n",
       "30    0.000034\n",
       "Name: WMA_10, dtype: float64"
      ]
     },
     "execution_count": 17,
     "metadata": {},
     "output_type": "execute_result"
    }
   ],
   "source": [
    "wma_series = bta.wma(length=10, asc=True, offset=0)\n",
    "wma_series.tail()"
   ]
  },
  {
   "cell_type": "markdown",
   "metadata": {},
   "source": [
    "#### Zero Lag Moving Average (ZLMA)"
   ]
  },
  {
   "cell_type": "code",
   "execution_count": 19,
   "metadata": {},
   "outputs": [
    {
     "data": {
      "text/plain": [
       "26    0.000035\n",
       "27    0.000035\n",
       "28    0.000034\n",
       "29    0.000033\n",
       "30    0.000032\n",
       "Name: ZLEMA_10, dtype: float64"
      ]
     },
     "execution_count": 19,
     "metadata": {},
     "output_type": "execute_result"
    }
   ],
   "source": [
    "zlma_series = bta.zlma(length=10, offset=0, mamode='ema')\n",
    "zlma_series.tail()"
   ]
  },
  {
   "cell_type": "markdown",
   "metadata": {},
   "source": [
    "#### Log Return"
   ]
  },
  {
   "cell_type": "code",
   "execution_count": 20,
   "metadata": {},
   "outputs": [
    {
     "data": {
      "text/plain": [
       "26   -0.289628\n",
       "27   -0.344520\n",
       "28   -0.294087\n",
       "29   -0.258776\n",
       "30   -0.175491\n",
       "Name: LOGRET_10, dtype: float64"
      ]
     },
     "execution_count": 20,
     "metadata": {},
     "output_type": "execute_result"
    }
   ],
   "source": [
    "log_return_series = bta.log_return(length=10, cumulative=False, percent=False, offset=0)\n",
    "log_return_series.tail()"
   ]
  },
  {
   "cell_type": "code",
   "execution_count": 21,
   "metadata": {},
   "outputs": [
    {
     "data": {
      "text/plain": [
       "26   -0.251458\n",
       "27   -0.291439\n",
       "28   -0.254788\n",
       "29   -0.228004\n",
       "30   -0.160955\n",
       "Name: PCTRET_10, dtype: float64"
      ]
     },
     "execution_count": 21,
     "metadata": {},
     "output_type": "execute_result"
    }
   ],
   "source": [
    "percent_return_series = bta.percent_return(length=10, cumulative=False, percent=False, offset=0)\n",
    "percent_return_series.tail()"
   ]
  },
  {
   "cell_type": "markdown",
   "metadata": {},
   "source": [
    "#### Trend Return"
   ]
  },
  {
   "cell_type": "code",
   "execution_count": 29,
   "metadata": {},
   "outputs": [],
   "source": [
    "# trend_return_series = bta.trend_return(trend=\"close\", log=True, cumulative=False, offset=0, trend_reset=0)\n",
    "# trend_return_series.tail()"
   ]
  },
  {
   "cell_type": "markdown",
   "metadata": {},
   "source": [
    "#### Rolling Kurtosis"
   ]
  },
  {
   "cell_type": "code",
   "execution_count": 30,
   "metadata": {},
   "outputs": [
    {
     "data": {
      "text/plain": [
       "26    0.065587\n",
       "27    1.024344\n",
       "28    1.768071\n",
       "29   -1.197006\n",
       "30   -1.618680\n",
       "Name: KURT_10, dtype: float64"
      ]
     },
     "execution_count": 30,
     "metadata": {},
     "output_type": "execute_result"
    }
   ],
   "source": [
    "kurtosis_series = bta.kurtosis(length=10, offset=0, mamode='ema')\n",
    "kurtosis_series.tail()"
   ]
  },
  {
   "cell_type": "markdown",
   "metadata": {},
   "source": [
    "#### Rolling Mean Absolute Deviation"
   ]
  },
  {
   "cell_type": "code",
   "execution_count": 31,
   "metadata": {},
   "outputs": [
    {
     "data": {
      "text/plain": [
       "26    0.000004\n",
       "27    0.000003\n",
       "28    0.000002\n",
       "29    0.000002\n",
       "30    0.000002\n",
       "Name: MAD_10, dtype: float64"
      ]
     },
     "execution_count": 31,
     "metadata": {},
     "output_type": "execute_result"
    }
   ],
   "source": [
    "mad_series = bta.mad(length=10, offset=0)\n",
    "mad_series.tail()"
   ]
  },
  {
   "cell_type": "markdown",
   "metadata": {},
   "source": [
    "#### Rolling Median"
   ]
  },
  {
   "cell_type": "code",
   "execution_count": 32,
   "metadata": {},
   "outputs": [
    {
     "data": {
      "text/plain": [
       "26    0.000037\n",
       "27    0.000037\n",
       "28    0.000037\n",
       "29    0.000036\n",
       "30    0.000035\n",
       "Name: MEDIAN_10, dtype: float64"
      ]
     },
     "execution_count": 32,
     "metadata": {},
     "output_type": "execute_result"
    }
   ],
   "source": [
    "median_series = bta.median(length=10, offset=0)\n",
    "median_series.tail()"
   ]
  },
  {
   "cell_type": "markdown",
   "metadata": {},
   "source": [
    "#### Rolling Quantile"
   ]
  },
  {
   "cell_type": "code",
   "execution_count": 33,
   "metadata": {},
   "outputs": [
    {
     "data": {
      "text/plain": [
       "26         NaN\n",
       "27         NaN\n",
       "28         NaN\n",
       "29    0.000037\n",
       "30    0.000037\n",
       "Name: QTL_30_0.5, dtype: float64"
      ]
     },
     "execution_count": 33,
     "metadata": {},
     "output_type": "execute_result"
    }
   ],
   "source": [
    "quantile_series = bta.quantile(length=30, q=0.5, offset=0)\n",
    "quantile_series.tail()"
   ]
  },
  {
   "cell_type": "markdown",
   "metadata": {},
   "source": [
    "#### Rolling Skew"
   ]
  },
  {
   "cell_type": "code",
   "execution_count": 34,
   "metadata": {},
   "outputs": [
    {
     "data": {
      "text/plain": [
       "26         NaN\n",
       "27         NaN\n",
       "28         NaN\n",
       "29    1.928790\n",
       "30    2.001403\n",
       "Name: SKEW_30, dtype: float64"
      ]
     },
     "execution_count": 34,
     "metadata": {},
     "output_type": "execute_result"
    }
   ],
   "source": [
    "skew_series = bta.skew(length=30, offset=0)\n",
    "skew_series.tail()"
   ]
  },
  {
   "cell_type": "markdown",
   "metadata": {},
   "source": [
    "#### Rolling Standard Deviation"
   ]
  },
  {
   "cell_type": "code",
   "execution_count": 35,
   "metadata": {},
   "outputs": [
    {
     "data": {
      "text/plain": [
       "26         NaN\n",
       "27         NaN\n",
       "28         NaN\n",
       "29    0.000021\n",
       "30    0.000020\n",
       "Name: STDEV_30, dtype: float64"
      ]
     },
     "execution_count": 35,
     "metadata": {},
     "output_type": "execute_result"
    }
   ],
   "source": [
    "stdev_series = bta.stdev(length=30, offset=0)\n",
    "stdev_series.tail()"
   ]
  },
  {
   "cell_type": "markdown",
   "metadata": {},
   "source": [
    "#### Rolling Variance"
   ]
  },
  {
   "cell_type": "code",
   "execution_count": 36,
   "metadata": {},
   "outputs": [
    {
     "data": {
      "text/plain": [
       "26             NaN\n",
       "27             NaN\n",
       "28             NaN\n",
       "29    4.263450e-10\n",
       "30    4.121269e-10\n",
       "Name: VAR_30, dtype: float64"
      ]
     },
     "execution_count": 36,
     "metadata": {},
     "output_type": "execute_result"
    }
   ],
   "source": [
    "variance_series = bta.variance(length=30, offset=0)\n",
    "variance_series.tail()"
   ]
  },
  {
   "cell_type": "markdown",
   "metadata": {},
   "source": [
    "#### Rolling Z Score"
   ]
  },
  {
   "cell_type": "code",
   "execution_count": 37,
   "metadata": {},
   "outputs": [
    {
     "data": {
      "text/plain": [
       "26         NaN\n",
       "27         NaN\n",
       "28         NaN\n",
       "29   -0.386298\n",
       "30   -0.430835\n",
       "Name: Z_30, dtype: float64"
      ]
     },
     "execution_count": 37,
     "metadata": {},
     "output_type": "execute_result"
    }
   ],
   "source": [
    "zscore_series = bta.zscore(length=30, std=1, offset=0)\n",
    "zscore_series.tail()"
   ]
  },
  {
   "cell_type": "markdown",
   "metadata": {},
   "source": [
    "## Trend"
   ]
  },
  {
   "cell_type": "markdown",
   "metadata": {},
   "source": [
    "#### Average Directional Movement (ADX)"
   ]
  },
  {
   "cell_type": "code",
   "execution_count": 38,
   "metadata": {},
   "outputs": [
    {
     "data": {
      "text/html": [
       "<div>\n",
       "<style scoped>\n",
       "    .dataframe tbody tr th:only-of-type {\n",
       "        vertical-align: middle;\n",
       "    }\n",
       "\n",
       "    .dataframe tbody tr th {\n",
       "        vertical-align: top;\n",
       "    }\n",
       "\n",
       "    .dataframe thead th {\n",
       "        text-align: right;\n",
       "    }\n",
       "</style>\n",
       "<table border=\"1\" class=\"dataframe\">\n",
       "  <thead>\n",
       "    <tr style=\"text-align: right;\">\n",
       "      <th></th>\n",
       "      <th>ADX_14</th>\n",
       "      <th>DMP_14</th>\n",
       "      <th>DMN_14</th>\n",
       "    </tr>\n",
       "  </thead>\n",
       "  <tbody>\n",
       "    <tr>\n",
       "      <th>26</th>\n",
       "      <td>NaN</td>\n",
       "      <td>43.174417</td>\n",
       "      <td>24.456502</td>\n",
       "    </tr>\n",
       "    <tr>\n",
       "      <th>27</th>\n",
       "      <td>33.907743</td>\n",
       "      <td>43.244219</td>\n",
       "      <td>26.401392</td>\n",
       "    </tr>\n",
       "    <tr>\n",
       "      <th>28</th>\n",
       "      <td>32.872561</td>\n",
       "      <td>44.458695</td>\n",
       "      <td>27.142852</td>\n",
       "    </tr>\n",
       "    <tr>\n",
       "      <th>29</th>\n",
       "      <td>31.783427</td>\n",
       "      <td>45.526168</td>\n",
       "      <td>28.934007</td>\n",
       "    </tr>\n",
       "    <tr>\n",
       "      <th>30</th>\n",
       "      <td>30.660034</td>\n",
       "      <td>46.291902</td>\n",
       "      <td>30.529761</td>\n",
       "    </tr>\n",
       "  </tbody>\n",
       "</table>\n",
       "</div>"
      ],
      "text/plain": [
       "       ADX_14     DMP_14     DMN_14\n",
       "26        NaN  43.174417  24.456502\n",
       "27  33.907743  43.244219  26.401392\n",
       "28  32.872561  44.458695  27.142852\n",
       "29  31.783427  45.526168  28.934007\n",
       "30  30.660034  46.291902  30.529761"
      ]
     },
     "execution_count": 38,
     "metadata": {},
     "output_type": "execute_result"
    }
   ],
   "source": [
    "adx_series = bta.adx(length=14, drift=1, offset=0)\n",
    "adx_series.tail()"
   ]
  },
  {
   "cell_type": "markdown",
   "metadata": {},
   "source": [
    "#### Aroon (AROON)"
   ]
  },
  {
   "cell_type": "code",
   "execution_count": 40,
   "metadata": {},
   "outputs": [
    {
     "data": {
      "text/html": [
       "<div>\n",
       "<style scoped>\n",
       "    .dataframe tbody tr th:only-of-type {\n",
       "        vertical-align: middle;\n",
       "    }\n",
       "\n",
       "    .dataframe tbody tr th {\n",
       "        vertical-align: top;\n",
       "    }\n",
       "\n",
       "    .dataframe thead th {\n",
       "        text-align: right;\n",
       "    }\n",
       "</style>\n",
       "<table border=\"1\" class=\"dataframe\">\n",
       "  <thead>\n",
       "    <tr style=\"text-align: right;\">\n",
       "      <th></th>\n",
       "      <th>AROOND_1</th>\n",
       "      <th>AROONU_1</th>\n",
       "    </tr>\n",
       "  </thead>\n",
       "  <tbody>\n",
       "    <tr>\n",
       "      <th>26</th>\n",
       "      <td>100.0</td>\n",
       "      <td>100.0</td>\n",
       "    </tr>\n",
       "    <tr>\n",
       "      <th>27</th>\n",
       "      <td>100.0</td>\n",
       "      <td>100.0</td>\n",
       "    </tr>\n",
       "    <tr>\n",
       "      <th>28</th>\n",
       "      <td>100.0</td>\n",
       "      <td>100.0</td>\n",
       "    </tr>\n",
       "    <tr>\n",
       "      <th>29</th>\n",
       "      <td>100.0</td>\n",
       "      <td>100.0</td>\n",
       "    </tr>\n",
       "    <tr>\n",
       "      <th>30</th>\n",
       "      <td>100.0</td>\n",
       "      <td>100.0</td>\n",
       "    </tr>\n",
       "  </tbody>\n",
       "</table>\n",
       "</div>"
      ],
      "text/plain": [
       "    AROOND_1  AROONU_1\n",
       "26     100.0     100.0\n",
       "27     100.0     100.0\n",
       "28     100.0     100.0\n",
       "29     100.0     100.0\n",
       "30     100.0     100.0"
      ]
     },
     "execution_count": 40,
     "metadata": {},
     "output_type": "execute_result"
    }
   ],
   "source": [
    "aroon_series = bta.aroon(length=1, offset=0)\n",
    "aroon_series.tail()"
   ]
  },
  {
   "cell_type": "markdown",
   "metadata": {},
   "source": [
    "#### Decreasing"
   ]
  },
  {
   "cell_type": "code",
   "execution_count": 44,
   "metadata": {},
   "outputs": [
    {
     "data": {
      "text/plain": [
       "26    1\n",
       "27    1\n",
       "28    1\n",
       "29    1\n",
       "30    1\n",
       "Name: DEC_1, dtype: int64"
      ]
     },
     "execution_count": 44,
     "metadata": {},
     "output_type": "execute_result"
    }
   ],
   "source": [
    "decreasing_series = bta.decreasing(length=1, asint=True, offset=0)\n",
    "decreasing_series.tail()"
   ]
  },
  {
   "cell_type": "markdown",
   "metadata": {},
   "source": [
    "#### Detrend Price Oscillator (DPO)"
   ]
  },
  {
   "cell_type": "code",
   "execution_count": 45,
   "metadata": {},
   "outputs": [
    {
     "data": {
      "text/plain": [
       "26    8.800000e-07\n",
       "27    3.100000e-07\n",
       "28    8.200000e-07\n",
       "29    3.200000e-07\n",
       "30             NaN\n",
       "Name: DPO_1, dtype: float64"
      ]
     },
     "execution_count": 45,
     "metadata": {},
     "output_type": "execute_result"
    }
   ],
   "source": [
    "dpo_series = bta.dpo(length=1, centered=True, offset=0)\n",
    "dpo_series.tail()"
   ]
  },
  {
   "cell_type": "markdown",
   "metadata": {},
   "source": [
    "#### Increasing"
   ]
  },
  {
   "cell_type": "code",
   "execution_count": 46,
   "metadata": {},
   "outputs": [
    {
     "data": {
      "text/plain": [
       "26    0\n",
       "27    0\n",
       "28    0\n",
       "29    0\n",
       "30    0\n",
       "Name: INC_1, dtype: int64"
      ]
     },
     "execution_count": 46,
     "metadata": {},
     "output_type": "execute_result"
    }
   ],
   "source": [
    "increasing_series = bta.increasing(length=1, asint=True, offset=0)\n",
    "increasing_series.tail()"
   ]
  },
  {
   "cell_type": "markdown",
   "metadata": {},
   "source": [
    "#### Linear Decay"
   ]
  },
  {
   "cell_type": "code",
   "execution_count": 47,
   "metadata": {},
   "outputs": [
    {
     "data": {
      "text/plain": [
       "26    0.000035\n",
       "27    0.000034\n",
       "28    0.000033\n",
       "29    0.000033\n",
       "30    0.000032\n",
       "Name: LDECAY_1, dtype: float64"
      ]
     },
     "execution_count": 47,
     "metadata": {},
     "output_type": "execute_result"
    }
   ],
   "source": [
    "linear_decay_series = bta.linear_decay(length=1, offset=0)\n",
    "linear_decay_series.tail()"
   ]
  },
  {
   "cell_type": "markdown",
   "metadata": {},
   "source": [
    "#### Q Stick"
   ]
  },
  {
   "cell_type": "code",
   "execution_count": 48,
   "metadata": {},
   "outputs": [
    {
     "data": {
      "text/plain": [
       "26   -2.110000e-06\n",
       "27   -8.800000e-07\n",
       "28   -3.100000e-07\n",
       "29   -8.200000e-07\n",
       "30   -3.200000e-07\n",
       "Name: QS_1, dtype: float64"
      ]
     },
     "execution_count": 48,
     "metadata": {},
     "output_type": "execute_result"
    }
   ],
   "source": [
    "qstick_series = bta.qstick(length=1, offset=0)\n",
    "qstick_series.tail()"
   ]
  },
  {
   "cell_type": "markdown",
   "metadata": {},
   "source": [
    "#### Vortex"
   ]
  },
  {
   "cell_type": "code",
   "execution_count": 49,
   "metadata": {},
   "outputs": [
    {
     "data": {
      "text/html": [
       "<div>\n",
       "<style scoped>\n",
       "    .dataframe tbody tr th:only-of-type {\n",
       "        vertical-align: middle;\n",
       "    }\n",
       "\n",
       "    .dataframe tbody tr th {\n",
       "        vertical-align: top;\n",
       "    }\n",
       "\n",
       "    .dataframe thead th {\n",
       "        text-align: right;\n",
       "    }\n",
       "</style>\n",
       "<table border=\"1\" class=\"dataframe\">\n",
       "  <thead>\n",
       "    <tr style=\"text-align: right;\">\n",
       "      <th></th>\n",
       "      <th>VTXP_1</th>\n",
       "      <th>VTXM_1</th>\n",
       "    </tr>\n",
       "  </thead>\n",
       "  <tbody>\n",
       "    <tr>\n",
       "      <th>26</th>\n",
       "      <td>0.311787</td>\n",
       "      <td>1.433460</td>\n",
       "    </tr>\n",
       "    <tr>\n",
       "      <th>27</th>\n",
       "      <td>0.445283</td>\n",
       "      <td>1.547170</td>\n",
       "    </tr>\n",
       "    <tr>\n",
       "      <th>28</th>\n",
       "      <td>1.311111</td>\n",
       "      <td>1.651852</td>\n",
       "    </tr>\n",
       "    <tr>\n",
       "      <th>29</th>\n",
       "      <td>0.478261</td>\n",
       "      <td>1.500000</td>\n",
       "    </tr>\n",
       "    <tr>\n",
       "      <th>30</th>\n",
       "      <td>0.573333</td>\n",
       "      <td>1.346667</td>\n",
       "    </tr>\n",
       "  </tbody>\n",
       "</table>\n",
       "</div>"
      ],
      "text/plain": [
       "      VTXP_1    VTXM_1\n",
       "26  0.311787  1.433460\n",
       "27  0.445283  1.547170\n",
       "28  1.311111  1.651852\n",
       "29  0.478261  1.500000\n",
       "30  0.573333  1.346667"
      ]
     },
     "execution_count": 49,
     "metadata": {},
     "output_type": "execute_result"
    }
   ],
   "source": [
    "vortex_series = bta.vortex(length=1, offset=0)\n",
    "vortex_series.tail()"
   ]
  },
  {
   "cell_type": "markdown",
   "metadata": {},
   "source": [
    "#### Acceleration Bands (ACCBANDS)"
   ]
  },
  {
   "cell_type": "code",
   "execution_count": 52,
   "metadata": {},
   "outputs": [
    {
     "data": {
      "text/html": [
       "<div>\n",
       "<style scoped>\n",
       "    .dataframe tbody tr th:only-of-type {\n",
       "        vertical-align: middle;\n",
       "    }\n",
       "\n",
       "    .dataframe tbody tr th {\n",
       "        vertical-align: top;\n",
       "    }\n",
       "\n",
       "    .dataframe thead th {\n",
       "        text-align: right;\n",
       "    }\n",
       "</style>\n",
       "<table border=\"1\" class=\"dataframe\">\n",
       "  <thead>\n",
       "    <tr style=\"text-align: right;\">\n",
       "      <th></th>\n",
       "      <th>ACCBL_10</th>\n",
       "      <th>ACCBM_10</th>\n",
       "      <th>ACCBU_10</th>\n",
       "    </tr>\n",
       "  </thead>\n",
       "  <tbody>\n",
       "    <tr>\n",
       "      <th>26</th>\n",
       "      <td>0.000027</td>\n",
       "      <td>0.000039</td>\n",
       "      <td>0.000055</td>\n",
       "    </tr>\n",
       "    <tr>\n",
       "      <th>27</th>\n",
       "      <td>0.000027</td>\n",
       "      <td>0.000038</td>\n",
       "      <td>0.000052</td>\n",
       "    </tr>\n",
       "    <tr>\n",
       "      <th>28</th>\n",
       "      <td>0.000028</td>\n",
       "      <td>0.000037</td>\n",
       "      <td>0.000049</td>\n",
       "    </tr>\n",
       "    <tr>\n",
       "      <th>29</th>\n",
       "      <td>0.000028</td>\n",
       "      <td>0.000036</td>\n",
       "      <td>0.000047</td>\n",
       "    </tr>\n",
       "    <tr>\n",
       "      <th>30</th>\n",
       "      <td>0.000028</td>\n",
       "      <td>0.000036</td>\n",
       "      <td>0.000045</td>\n",
       "    </tr>\n",
       "  </tbody>\n",
       "</table>\n",
       "</div>"
      ],
      "text/plain": [
       "    ACCBL_10  ACCBM_10  ACCBU_10\n",
       "26  0.000027  0.000039  0.000055\n",
       "27  0.000027  0.000038  0.000052\n",
       "28  0.000028  0.000037  0.000049\n",
       "29  0.000028  0.000036  0.000047\n",
       "30  0.000028  0.000036  0.000045"
      ]
     },
     "execution_count": 52,
     "metadata": {},
     "output_type": "execute_result"
    }
   ],
   "source": [
    "vortex_series = bta.accbands(\n",
    "    length=10,\n",
    "    c=4,\n",
    "    drift=1,\n",
    "    mamode='ema',\n",
    "    offset=0\n",
    ")\n",
    "vortex_series.tail()"
   ]
  },
  {
   "cell_type": "markdown",
   "metadata": {},
   "source": [
    "#### Average True Range (ATR)"
   ]
  },
  {
   "cell_type": "code",
   "execution_count": 53,
   "metadata": {},
   "outputs": [
    {
     "data": {
      "text/plain": [
       "26    0.000003\n",
       "27    0.000003\n",
       "28    0.000001\n",
       "29    0.000001\n",
       "30    0.000002\n",
       "Name: ATR_1, dtype: float64"
      ]
     },
     "execution_count": 53,
     "metadata": {},
     "output_type": "execute_result"
    }
   ],
   "source": [
    "atr_series = bta.atr(length=1, mamode='ema', offset=0)\n",
    "atr_series.tail()"
   ]
  },
  {
   "cell_type": "markdown",
   "metadata": {},
   "source": [
    "#### Bollinger Bands (BBANDS)"
   ]
  },
  {
   "cell_type": "code",
   "execution_count": 54,
   "metadata": {},
   "outputs": [
    {
     "data": {
      "text/html": [
       "<div>\n",
       "<style scoped>\n",
       "    .dataframe tbody tr th:only-of-type {\n",
       "        vertical-align: middle;\n",
       "    }\n",
       "\n",
       "    .dataframe tbody tr th {\n",
       "        vertical-align: top;\n",
       "    }\n",
       "\n",
       "    .dataframe thead th {\n",
       "        text-align: right;\n",
       "    }\n",
       "</style>\n",
       "<table border=\"1\" class=\"dataframe\">\n",
       "  <thead>\n",
       "    <tr style=\"text-align: right;\">\n",
       "      <th></th>\n",
       "      <th>BBL_20</th>\n",
       "      <th>BBM_20</th>\n",
       "      <th>BBU_20</th>\n",
       "    </tr>\n",
       "  </thead>\n",
       "  <tbody>\n",
       "    <tr>\n",
       "      <th>26</th>\n",
       "      <td>6.995546e-07</td>\n",
       "      <td>0.000040</td>\n",
       "      <td>0.000079</td>\n",
       "    </tr>\n",
       "    <tr>\n",
       "      <th>27</th>\n",
       "      <td>-2.899943e-07</td>\n",
       "      <td>0.000039</td>\n",
       "      <td>0.000079</td>\n",
       "    </tr>\n",
       "    <tr>\n",
       "      <th>28</th>\n",
       "      <td>-2.216349e-07</td>\n",
       "      <td>0.000039</td>\n",
       "      <td>0.000077</td>\n",
       "    </tr>\n",
       "    <tr>\n",
       "      <th>29</th>\n",
       "      <td>1.852932e-05</td>\n",
       "      <td>0.000038</td>\n",
       "      <td>0.000058</td>\n",
       "    </tr>\n",
       "    <tr>\n",
       "      <th>30</th>\n",
       "      <td>2.409578e-05</td>\n",
       "      <td>0.000038</td>\n",
       "      <td>0.000051</td>\n",
       "    </tr>\n",
       "  </tbody>\n",
       "</table>\n",
       "</div>"
      ],
      "text/plain": [
       "          BBL_20    BBM_20    BBU_20\n",
       "26  6.995546e-07  0.000040  0.000079\n",
       "27 -2.899943e-07  0.000039  0.000079\n",
       "28 -2.216349e-07  0.000039  0.000077\n",
       "29  1.852932e-05  0.000038  0.000058\n",
       "30  2.409578e-05  0.000038  0.000051"
      ]
     },
     "execution_count": 54,
     "metadata": {},
     "output_type": "execute_result"
    }
   ],
   "source": [
    "bbands_series = bta.bbands(length=20, std=2, mamode='ema', offset=0)\n",
    "bbands_series.tail()"
   ]
  },
  {
   "cell_type": "markdown",
   "metadata": {},
   "source": [
    "#### Donchian Channels (DC)"
   ]
  },
  {
   "cell_type": "code",
   "execution_count": 55,
   "metadata": {},
   "outputs": [
    {
     "data": {
      "text/html": [
       "<div>\n",
       "<style scoped>\n",
       "    .dataframe tbody tr th:only-of-type {\n",
       "        vertical-align: middle;\n",
       "    }\n",
       "\n",
       "    .dataframe tbody tr th {\n",
       "        vertical-align: top;\n",
       "    }\n",
       "\n",
       "    .dataframe thead th {\n",
       "        text-align: right;\n",
       "    }\n",
       "</style>\n",
       "<table border=\"1\" class=\"dataframe\">\n",
       "  <thead>\n",
       "    <tr style=\"text-align: right;\">\n",
       "      <th></th>\n",
       "      <th>DCL_10_20</th>\n",
       "      <th>DCM_10_20</th>\n",
       "      <th>DCU_10_20</th>\n",
       "    </tr>\n",
       "  </thead>\n",
       "  <tbody>\n",
       "    <tr>\n",
       "      <th>26</th>\n",
       "      <td>0.000035</td>\n",
       "      <td>0.000077</td>\n",
       "      <td>0.000118</td>\n",
       "    </tr>\n",
       "    <tr>\n",
       "      <th>27</th>\n",
       "      <td>0.000034</td>\n",
       "      <td>0.000076</td>\n",
       "      <td>0.000118</td>\n",
       "    </tr>\n",
       "    <tr>\n",
       "      <th>28</th>\n",
       "      <td>0.000033</td>\n",
       "      <td>0.000076</td>\n",
       "      <td>0.000118</td>\n",
       "    </tr>\n",
       "    <tr>\n",
       "      <th>29</th>\n",
       "      <td>0.000033</td>\n",
       "      <td>0.000053</td>\n",
       "      <td>0.000073</td>\n",
       "    </tr>\n",
       "    <tr>\n",
       "      <th>30</th>\n",
       "      <td>0.000032</td>\n",
       "      <td>0.000044</td>\n",
       "      <td>0.000056</td>\n",
       "    </tr>\n",
       "  </tbody>\n",
       "</table>\n",
       "</div>"
      ],
      "text/plain": [
       "    DCL_10_20  DCM_10_20  DCU_10_20\n",
       "26   0.000035   0.000077   0.000118\n",
       "27   0.000034   0.000076   0.000118\n",
       "28   0.000033   0.000076   0.000118\n",
       "29   0.000033   0.000053   0.000073\n",
       "30   0.000032   0.000044   0.000056"
      ]
     },
     "execution_count": 55,
     "metadata": {},
     "output_type": "execute_result"
    }
   ],
   "source": [
    "donchian_series = bta.donchian(lower_length=10, upper_length=20, offset=0)\n",
    "donchian_series.tail()"
   ]
  },
  {
   "cell_type": "markdown",
   "metadata": {},
   "source": [
    "#### Keltner Channels (KC)"
   ]
  },
  {
   "cell_type": "code",
   "execution_count": 56,
   "metadata": {},
   "outputs": [
    {
     "data": {
      "text/html": [
       "<div>\n",
       "<style scoped>\n",
       "    .dataframe tbody tr th:only-of-type {\n",
       "        vertical-align: middle;\n",
       "    }\n",
       "\n",
       "    .dataframe tbody tr th {\n",
       "        vertical-align: top;\n",
       "    }\n",
       "\n",
       "    .dataframe thead th {\n",
       "        text-align: right;\n",
       "    }\n",
       "</style>\n",
       "<table border=\"1\" class=\"dataframe\">\n",
       "  <thead>\n",
       "    <tr style=\"text-align: right;\">\n",
       "      <th></th>\n",
       "      <th>KCL_20</th>\n",
       "      <th>KCB_20</th>\n",
       "      <th>KCU_20</th>\n",
       "    </tr>\n",
       "  </thead>\n",
       "  <tbody>\n",
       "    <tr>\n",
       "      <th>26</th>\n",
       "      <td>0.000027</td>\n",
       "      <td>0.000041</td>\n",
       "      <td>0.000055</td>\n",
       "    </tr>\n",
       "    <tr>\n",
       "      <th>27</th>\n",
       "      <td>0.000028</td>\n",
       "      <td>0.000040</td>\n",
       "      <td>0.000053</td>\n",
       "    </tr>\n",
       "    <tr>\n",
       "      <th>28</th>\n",
       "      <td>0.000028</td>\n",
       "      <td>0.000040</td>\n",
       "      <td>0.000051</td>\n",
       "    </tr>\n",
       "    <tr>\n",
       "      <th>29</th>\n",
       "      <td>0.000029</td>\n",
       "      <td>0.000039</td>\n",
       "      <td>0.000049</td>\n",
       "    </tr>\n",
       "    <tr>\n",
       "      <th>30</th>\n",
       "      <td>0.000029</td>\n",
       "      <td>0.000038</td>\n",
       "      <td>0.000048</td>\n",
       "    </tr>\n",
       "  </tbody>\n",
       "</table>\n",
       "</div>"
      ],
      "text/plain": [
       "      KCL_20    KCB_20    KCU_20\n",
       "26  0.000027  0.000041  0.000055\n",
       "27  0.000028  0.000040  0.000053\n",
       "28  0.000028  0.000040  0.000051\n",
       "29  0.000029  0.000039  0.000049\n",
       "30  0.000029  0.000038  0.000048"
      ]
     },
     "execution_count": 56,
     "metadata": {},
     "output_type": "execute_result"
    }
   ],
   "source": [
    "kc_series = bta.kc(length=20, scalar=2, mamode='ema', offset=0)\n",
    "kc_series.tail()"
   ]
  },
  {
   "cell_type": "markdown",
   "metadata": {},
   "source": [
    "#### Mass Index (MASSI)"
   ]
  },
  {
   "cell_type": "code",
   "execution_count": 60,
   "metadata": {},
   "outputs": [
    {
     "data": {
      "text/plain": [
       "26   NaN\n",
       "27   NaN\n",
       "28   NaN\n",
       "29   NaN\n",
       "30   NaN\n",
       "Name: MASSI_9_25, dtype: float64"
      ]
     },
     "execution_count": 60,
     "metadata": {},
     "output_type": "execute_result"
    }
   ],
   "source": [
    "massi_series = bta.massi(fast=9, slow=25, offset=0)\n",
    "massi_series.tail()"
   ]
  },
  {
   "cell_type": "markdown",
   "metadata": {},
   "source": [
    "#### Normalized Average True Range (NATR)"
   ]
  },
  {
   "cell_type": "code",
   "execution_count": 61,
   "metadata": {},
   "outputs": [
    {
     "data": {
      "text/plain": [
       "26    24.382287\n",
       "27    23.276758\n",
       "28    21.531668\n",
       "29    20.284296\n",
       "30    18.905182\n",
       "Name: NATR_20, dtype: float64"
      ]
     },
     "execution_count": 61,
     "metadata": {},
     "output_type": "execute_result"
    }
   ],
   "source": [
    "natr_series = bta.natr(length=20, mamode='ema', drift=1, offset=0)\n",
    "natr_series.tail()"
   ]
  },
  {
   "cell_type": "markdown",
   "metadata": {},
   "source": [
    "#### True Range"
   ]
  },
  {
   "cell_type": "code",
   "execution_count": 62,
   "metadata": {},
   "outputs": [
    {
     "data": {
      "text/plain": [
       "26    0.000003\n",
       "27    0.000003\n",
       "28    0.000001\n",
       "29    0.000001\n",
       "30    0.000002\n",
       "Name: TRUERANGE_1, dtype: float64"
      ]
     },
     "execution_count": 62,
     "metadata": {},
     "output_type": "execute_result"
    }
   ],
   "source": [
    "true_range_series = bta.true_range(drift=1, offset=0)\n",
    "true_range_series.tail()"
   ]
  },
  {
   "cell_type": "markdown",
   "metadata": {},
   "source": [
    "## Volume"
   ]
  },
  {
   "cell_type": "markdown",
   "metadata": {},
   "source": [
    "#### Accumulation/Distribution (AD)"
   ]
  },
  {
   "cell_type": "code",
   "execution_count": 63,
   "metadata": {},
   "outputs": [
    {
     "data": {
      "text/plain": [
       "26   -10.025277\n",
       "27   -13.443919\n",
       "28   -17.399771\n",
       "29   -21.928423\n",
       "30   -23.634089\n",
       "Name: AD, dtype: float64"
      ]
     },
     "execution_count": 63,
     "metadata": {},
     "output_type": "execute_result"
    }
   ],
   "source": [
    "ad_series = bta.ad(offset=0)\n",
    "ad_series.tail()"
   ]
  },
  {
   "cell_type": "markdown",
   "metadata": {},
   "source": [
    "#### Accumulation/Distribution Oscillator or Chaikin Oscillator"
   ]
  },
  {
   "cell_type": "code",
   "execution_count": 64,
   "metadata": {},
   "outputs": [
    {
     "data": {
      "text/plain": [
       "26   -53.875972\n",
       "27   -53.644655\n",
       "28   -53.167654\n",
       "29   -52.549297\n",
       "30   -51.602041\n",
       "Name: ADOSC_12_26, dtype: float64"
      ]
     },
     "execution_count": 64,
     "metadata": {},
     "output_type": "execute_result"
    }
   ],
   "source": [
    "adosc_series = bta.adosc(fast=12, slow=26, offset=0)\n",
    "adosc_series.tail()"
   ]
  },
  {
   "cell_type": "markdown",
   "metadata": {},
   "source": [
    "#### Chaikin Money Flow (CMF)"
   ]
  },
  {
   "cell_type": "code",
   "execution_count": 65,
   "metadata": {},
   "outputs": [
    {
     "data": {
      "text/plain": [
       "26   -0.024778\n",
       "27   -0.164204\n",
       "28   -0.215310\n",
       "29   -0.625480\n",
       "30   -0.483050\n",
       "Name: CMF_20, dtype: float64"
      ]
     },
     "execution_count": 65,
     "metadata": {},
     "output_type": "execute_result"
    }
   ],
   "source": [
    "cmf_series = bta.cmf(length=20, offset=0)\n",
    "cmf_series.tail()"
   ]
  },
  {
   "cell_type": "markdown",
   "metadata": {},
   "source": [
    "#### Elder's Force Index (EFI)"
   ]
  },
  {
   "cell_type": "code",
   "execution_count": 66,
   "metadata": {},
   "outputs": [
    {
     "data": {
      "text/plain": [
       "26    0.000105\n",
       "27    0.000088\n",
       "28    0.000075\n",
       "29    0.000064\n",
       "30    0.000054\n",
       "Name: EFI_13, dtype: float64"
      ]
     },
     "execution_count": 66,
     "metadata": {},
     "output_type": "execute_result"
    }
   ],
   "source": [
    "efi_series = bta.efi(length=13, drift=1, mamode='ema', offset=0)\n",
    "efi_series.tail()"
   ]
  },
  {
   "cell_type": "markdown",
   "metadata": {},
   "source": [
    "#### Ease of Movement (EOM)"
   ]
  },
  {
   "cell_type": "code",
   "execution_count": 67,
   "metadata": {},
   "outputs": [
    {
     "data": {
      "text/plain": [
       "26   -0.000038\n",
       "27   -0.000036\n",
       "28   -0.000031\n",
       "29   -0.000025\n",
       "30   -0.000029\n",
       "Name: EOM_14_100000000, dtype: float64"
      ]
     },
     "execution_count": 67,
     "metadata": {},
     "output_type": "execute_result"
    }
   ],
   "source": [
    "eom_series = bta.eom(length=14, drift=1, offset=0)\n",
    "eom_series.tail()"
   ]
  },
  {
   "cell_type": "markdown",
   "metadata": {},
   "source": [
    "#### Money Flow Index (MFI)"
   ]
  },
  {
   "cell_type": "code",
   "execution_count": 68,
   "metadata": {},
   "outputs": [
    {
     "data": {
      "text/plain": [
       "26    45.056603\n",
       "27    48.168097\n",
       "28    54.635662\n",
       "29    58.310922\n",
       "30    46.966315\n",
       "Name: MFI_14, dtype: float64"
      ]
     },
     "execution_count": 68,
     "metadata": {},
     "output_type": "execute_result"
    }
   ],
   "source": [
    "mfi_series = bta.mfi(length=14, drift=1, offset=0)\n",
    "mfi_series.tail()"
   ]
  },
  {
   "cell_type": "markdown",
   "metadata": {},
   "source": [
    "#### Negative Volume Index (NVI)"
   ]
  },
  {
   "cell_type": "code",
   "execution_count": 69,
   "metadata": {},
   "outputs": [
    {
     "data": {
      "text/plain": [
       "26    1447.481869\n",
       "27    1429.308862\n",
       "28    1417.968110\n",
       "29    1388.480099\n",
       "30    1356.293779\n",
       "Name: NVI_13, dtype: float64"
      ]
     },
     "execution_count": 69,
     "metadata": {},
     "output_type": "execute_result"
    }
   ],
   "source": [
    "nvi_series = bta.nvi(length=13, initial=1_000, offset=0)\n",
    "nvi_series.tail()"
   ]
  },
  {
   "cell_type": "markdown",
   "metadata": {},
   "source": [
    "#### On Balance Volume (OBV)"
   ]
  },
  {
   "cell_type": "code",
   "execution_count": 70,
   "metadata": {},
   "outputs": [
    {
     "data": {
      "text/plain": [
       "26    400.875\n",
       "27    386.495\n",
       "28    379.735\n",
       "29    373.608\n",
       "30    368.491\n",
       "Name: OBV, dtype: float64"
      ]
     },
     "execution_count": 70,
     "metadata": {},
     "output_type": "execute_result"
    }
   ],
   "source": [
    "obv_series = bta.obv(offset=0)\n",
    "obv_series.tail()"
   ]
  },
  {
   "cell_type": "markdown",
   "metadata": {},
   "source": [
    "#### Positive Volume Index (PVI)"
   ]
  },
  {
   "cell_type": "code",
   "execution_count": 71,
   "metadata": {},
   "outputs": [
    {
     "data": {
      "text/plain": [
       "26    1247.036814\n",
       "27    1247.036814\n",
       "28    1247.036814\n",
       "29    1247.036814\n",
       "30    1247.036814\n",
       "Name: PVI_13, dtype: float64"
      ]
     },
     "execution_count": 71,
     "metadata": {},
     "output_type": "execute_result"
    }
   ],
   "source": [
    "pvi_series = bta.pvi(length=13, initial=1_000, offset=0)\n",
    "pvi_series.tail()"
   ]
  },
  {
   "cell_type": "markdown",
   "metadata": {},
   "source": [
    "#### Price-Volume (PVOL)"
   ]
  },
  {
   "cell_type": "code",
   "execution_count": 72,
   "metadata": {},
   "outputs": [
    {
     "data": {
      "text/plain": [
       "26    0.000650\n",
       "27    0.000486\n",
       "28    0.000226\n",
       "29    0.000200\n",
       "30    0.000165\n",
       "Name: PVOL, dtype: float64"
      ]
     },
     "execution_count": 72,
     "metadata": {},
     "output_type": "execute_result"
    }
   ],
   "source": [
    "pvol_series = bta.pvol(offset=0)\n",
    "pvol_series.tail()"
   ]
  },
  {
   "cell_type": "markdown",
   "metadata": {},
   "source": [
    "#### Price-Volume Trend (PVT)"
   ]
  },
  {
   "cell_type": "code",
   "execution_count": 73,
   "metadata": {},
   "outputs": [
    {
     "data": {
      "text/plain": [
       "26    60957.106450\n",
       "27    60920.585815\n",
       "28    60914.380307\n",
       "29    60899.364945\n",
       "30    60894.348279\n",
       "Name: PVT, dtype: float64"
      ]
     },
     "execution_count": 73,
     "metadata": {},
     "output_type": "execute_result"
    }
   ],
   "source": [
    "pvt_series = bta.pvt(drift=1, offset=0)\n",
    "pvt_series.tail()"
   ]
  },
  {
   "cell_type": "markdown",
   "metadata": {},
   "source": [
    "#### Volume Profile (VP)"
   ]
  },
  {
   "cell_type": "code",
   "execution_count": 74,
   "metadata": {},
   "outputs": [
    {
     "data": {
      "text/html": [
       "<div>\n",
       "<style scoped>\n",
       "    .dataframe tbody tr th:only-of-type {\n",
       "        vertical-align: middle;\n",
       "    }\n",
       "\n",
       "    .dataframe tbody tr th {\n",
       "        vertical-align: top;\n",
       "    }\n",
       "\n",
       "    .dataframe thead th {\n",
       "        text-align: right;\n",
       "    }\n",
       "</style>\n",
       "<table border=\"1\" class=\"dataframe\">\n",
       "  <thead>\n",
       "    <tr style=\"text-align: right;\">\n",
       "      <th></th>\n",
       "      <th>low_close</th>\n",
       "      <th>mean_close</th>\n",
       "      <th>high_close</th>\n",
       "      <th>pos_volume</th>\n",
       "      <th>neg_volume</th>\n",
       "      <th>total_volume</th>\n",
       "    </tr>\n",
       "  </thead>\n",
       "  <tbody>\n",
       "    <tr>\n",
       "      <th>5</th>\n",
       "      <td>0.000045</td>\n",
       "      <td>0.000046</td>\n",
       "      <td>0.000048</td>\n",
       "      <td>174.200</td>\n",
       "      <td>44.120</td>\n",
       "      <td>218.320</td>\n",
       "    </tr>\n",
       "    <tr>\n",
       "      <th>6</th>\n",
       "      <td>0.000037</td>\n",
       "      <td>0.000039</td>\n",
       "      <td>0.000042</td>\n",
       "      <td>8.082</td>\n",
       "      <td>27.090</td>\n",
       "      <td>35.172</td>\n",
       "    </tr>\n",
       "    <tr>\n",
       "      <th>7</th>\n",
       "      <td>0.000035</td>\n",
       "      <td>0.000036</td>\n",
       "      <td>0.000037</td>\n",
       "      <td>63.750</td>\n",
       "      <td>0.000</td>\n",
       "      <td>63.750</td>\n",
       "    </tr>\n",
       "    <tr>\n",
       "      <th>8</th>\n",
       "      <td>0.000034</td>\n",
       "      <td>0.000035</td>\n",
       "      <td>0.000037</td>\n",
       "      <td>18.770</td>\n",
       "      <td>22.503</td>\n",
       "      <td>41.273</td>\n",
       "    </tr>\n",
       "    <tr>\n",
       "      <th>9</th>\n",
       "      <td>0.000032</td>\n",
       "      <td>0.000033</td>\n",
       "      <td>0.000033</td>\n",
       "      <td>0.000</td>\n",
       "      <td>18.004</td>\n",
       "      <td>18.004</td>\n",
       "    </tr>\n",
       "  </tbody>\n",
       "</table>\n",
       "</div>"
      ],
      "text/plain": [
       "   low_close  mean_close  high_close  pos_volume  neg_volume  total_volume\n",
       "5   0.000045    0.000046    0.000048     174.200      44.120       218.320\n",
       "6   0.000037    0.000039    0.000042       8.082      27.090        35.172\n",
       "7   0.000035    0.000036    0.000037      63.750       0.000        63.750\n",
       "8   0.000034    0.000035    0.000037      18.770      22.503        41.273\n",
       "9   0.000032    0.000033    0.000033       0.000      18.004        18.004"
      ]
     },
     "execution_count": 74,
     "metadata": {},
     "output_type": "execute_result"
    }
   ],
   "source": [
    "vp_series = bta.vp(width=10)\n",
    "vp_series.tail()"
   ]
  },
  {
   "cell_type": "code",
   "execution_count": null,
   "metadata": {},
   "outputs": [],
   "source": []
  }
 ],
 "metadata": {
  "kernelspec": {
   "display_name": "Python 3",
   "language": "python",
   "name": "python3"
  },
  "language_info": {
   "codemirror_mode": {
    "name": "ipython",
    "version": 3
   },
   "file_extension": ".py",
   "mimetype": "text/x-python",
   "name": "python",
   "nbconvert_exporter": "python",
   "pygments_lexer": "ipython3",
   "version": "3.7.6"
  }
 },
 "nbformat": 4,
 "nbformat_minor": 4
}
