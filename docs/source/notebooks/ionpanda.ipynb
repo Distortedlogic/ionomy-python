{
 "cells": [
  {
   "cell_type": "markdown",
   "metadata": {},
   "source": [
    "# IonPanda"
   ]
  },
  {
   "cell_type": "markdown",
   "metadata": {},
   "source": [
    "## Imports and Params"
   ]
  },
  {
   "cell_type": "code",
   "execution_count": 1,
   "metadata": {},
   "outputs": [],
   "source": [
    "from Ionomy import IonPanda\n",
    "from decouple import config\n",
    "\n",
    "MARKET = 'btc-hive'\n",
    "CURRENCY = 'hive'\n",
    "BASE = 'btc'\n",
    "TIME = 'day'\n",
    "AMOUNT = 1\n",
    "PRICE = 0.0000001"
   ]
  },
  {
   "cell_type": "markdown",
   "metadata": {},
   "source": [
    "## Instantiation"
   ]
  },
  {
   "cell_type": "code",
   "execution_count": 2,
   "metadata": {},
   "outputs": [],
   "source": [
    "ionpd = IonPanda(config('IONOMY_KEY'), config('IONOMY_SECRET'))"
   ]
  },
  {
   "cell_type": "markdown",
   "metadata": {},
   "source": [
    "## Public Endpoint Methods"
   ]
  },
  {
   "cell_type": "markdown",
   "metadata": {},
   "source": [
    "#### Markets"
   ]
  },
  {
   "cell_type": "code",
   "execution_count": 3,
   "metadata": {},
   "outputs": [
    {
     "data": {
      "text/html": [
       "<div>\n",
       "<style scoped>\n",
       "    .dataframe tbody tr th:only-of-type {\n",
       "        vertical-align: middle;\n",
       "    }\n",
       "\n",
       "    .dataframe tbody tr th {\n",
       "        vertical-align: top;\n",
       "    }\n",
       "\n",
       "    .dataframe thead th {\n",
       "        text-align: right;\n",
       "    }\n",
       "</style>\n",
       "<table border=\"1\" class=\"dataframe\">\n",
       "  <thead>\n",
       "    <tr style=\"text-align: right;\">\n",
       "      <th></th>\n",
       "      <th>market</th>\n",
       "      <th>title</th>\n",
       "      <th>currencyBase</th>\n",
       "      <th>currencyMarket</th>\n",
       "      <th>orderMinSize</th>\n",
       "      <th>buyFee</th>\n",
       "      <th>sellFee</th>\n",
       "      <th>inMaintenance</th>\n",
       "    </tr>\n",
       "  </thead>\n",
       "  <tbody>\n",
       "    <tr>\n",
       "      <th>0</th>\n",
       "      <td>btc-eth</td>\n",
       "      <td>Bitcoin:Ethereum</td>\n",
       "      <td>btc</td>\n",
       "      <td>eth</td>\n",
       "      <td>0.00001</td>\n",
       "      <td>0.2</td>\n",
       "      <td>0.2</td>\n",
       "      <td>False</td>\n",
       "    </tr>\n",
       "    <tr>\n",
       "      <th>1</th>\n",
       "      <td>btc-ion</td>\n",
       "      <td>Bitcoin:Ion</td>\n",
       "      <td>btc</td>\n",
       "      <td>ion</td>\n",
       "      <td>0.00001</td>\n",
       "      <td>0.2</td>\n",
       "      <td>0.2</td>\n",
       "      <td>False</td>\n",
       "    </tr>\n",
       "    <tr>\n",
       "      <th>2</th>\n",
       "      <td>btc-dash</td>\n",
       "      <td>Bitcoin:Dash</td>\n",
       "      <td>btc</td>\n",
       "      <td>dash</td>\n",
       "      <td>0.00001</td>\n",
       "      <td>0.2</td>\n",
       "      <td>0.2</td>\n",
       "      <td>False</td>\n",
       "    </tr>\n",
       "    <tr>\n",
       "      <th>3</th>\n",
       "      <td>btc-pivx</td>\n",
       "      <td>Bitcoin:Pivx</td>\n",
       "      <td>btc</td>\n",
       "      <td>pivx</td>\n",
       "      <td>0.00001</td>\n",
       "      <td>0.2</td>\n",
       "      <td>0.2</td>\n",
       "      <td>False</td>\n",
       "    </tr>\n",
       "    <tr>\n",
       "      <th>4</th>\n",
       "      <td>btc-atoms</td>\n",
       "      <td>Bitcoin:Atoms</td>\n",
       "      <td>btc</td>\n",
       "      <td>atoms</td>\n",
       "      <td>0.00001</td>\n",
       "      <td>0.0</td>\n",
       "      <td>0.4</td>\n",
       "      <td>False</td>\n",
       "    </tr>\n",
       "  </tbody>\n",
       "</table>\n",
       "</div>"
      ],
      "text/plain": [
       "      market             title currencyBase currencyMarket  orderMinSize  \\\n",
       "0    btc-eth  Bitcoin:Ethereum          btc            eth       0.00001   \n",
       "1    btc-ion       Bitcoin:Ion          btc            ion       0.00001   \n",
       "2   btc-dash      Bitcoin:Dash          btc           dash       0.00001   \n",
       "3   btc-pivx      Bitcoin:Pivx          btc           pivx       0.00001   \n",
       "4  btc-atoms     Bitcoin:Atoms          btc          atoms       0.00001   \n",
       "\n",
       "   buyFee  sellFee  inMaintenance  \n",
       "0     0.2      0.2          False  \n",
       "1     0.2      0.2          False  \n",
       "2     0.2      0.2          False  \n",
       "3     0.2      0.2          False  \n",
       "4     0.0      0.4          False  "
      ]
     },
     "execution_count": 3,
     "metadata": {},
     "output_type": "execute_result"
    }
   ],
   "source": [
    "markets_pd = ionpd.markets()\n",
    "markets_pd.head()"
   ]
  },
  {
   "cell_type": "markdown",
   "metadata": {},
   "source": [
    "#### Currencies"
   ]
  },
  {
   "cell_type": "code",
   "execution_count": 4,
   "metadata": {},
   "outputs": [
    {
     "data": {
      "text/html": [
       "<div>\n",
       "<style scoped>\n",
       "    .dataframe tbody tr th:only-of-type {\n",
       "        vertical-align: middle;\n",
       "    }\n",
       "\n",
       "    .dataframe tbody tr th {\n",
       "        vertical-align: top;\n",
       "    }\n",
       "\n",
       "    .dataframe thead th {\n",
       "        text-align: right;\n",
       "    }\n",
       "</style>\n",
       "<table border=\"1\" class=\"dataframe\">\n",
       "  <thead>\n",
       "    <tr style=\"text-align: right;\">\n",
       "      <th></th>\n",
       "      <th>currency</th>\n",
       "      <th>title</th>\n",
       "      <th>withdrawMinSize</th>\n",
       "      <th>withdrawFee</th>\n",
       "      <th>inMaintenance</th>\n",
       "      <th>canDeposit</th>\n",
       "      <th>canWithdraw</th>\n",
       "    </tr>\n",
       "  </thead>\n",
       "  <tbody>\n",
       "    <tr>\n",
       "      <th>0</th>\n",
       "      <td>dash</td>\n",
       "      <td>Dash</td>\n",
       "      <td>0.001</td>\n",
       "      <td>0.0020</td>\n",
       "      <td>False</td>\n",
       "      <td>True</td>\n",
       "      <td>True</td>\n",
       "    </tr>\n",
       "    <tr>\n",
       "      <th>1</th>\n",
       "      <td>pivx</td>\n",
       "      <td>Pivx</td>\n",
       "      <td>0.001</td>\n",
       "      <td>0.1000</td>\n",
       "      <td>False</td>\n",
       "      <td>True</td>\n",
       "      <td>True</td>\n",
       "    </tr>\n",
       "    <tr>\n",
       "      <th>2</th>\n",
       "      <td>ion</td>\n",
       "      <td>Ion</td>\n",
       "      <td>0.250</td>\n",
       "      <td>0.5000</td>\n",
       "      <td>False</td>\n",
       "      <td>True</td>\n",
       "      <td>True</td>\n",
       "    </tr>\n",
       "    <tr>\n",
       "      <th>3</th>\n",
       "      <td>btc</td>\n",
       "      <td>Bitcoin</td>\n",
       "      <td>0.001</td>\n",
       "      <td>0.0005</td>\n",
       "      <td>False</td>\n",
       "      <td>True</td>\n",
       "      <td>True</td>\n",
       "    </tr>\n",
       "    <tr>\n",
       "      <th>4</th>\n",
       "      <td>eth</td>\n",
       "      <td>Ethereum</td>\n",
       "      <td>0.001</td>\n",
       "      <td>0.0060</td>\n",
       "      <td>False</td>\n",
       "      <td>True</td>\n",
       "      <td>True</td>\n",
       "    </tr>\n",
       "  </tbody>\n",
       "</table>\n",
       "</div>"
      ],
      "text/plain": [
       "  currency     title  withdrawMinSize  withdrawFee  inMaintenance  canDeposit  \\\n",
       "0     dash      Dash            0.001       0.0020          False        True   \n",
       "1     pivx      Pivx            0.001       0.1000          False        True   \n",
       "2      ion       Ion            0.250       0.5000          False        True   \n",
       "3      btc   Bitcoin            0.001       0.0005          False        True   \n",
       "4      eth  Ethereum            0.001       0.0060          False        True   \n",
       "\n",
       "   canWithdraw  \n",
       "0         True  \n",
       "1         True  \n",
       "2         True  \n",
       "3         True  \n",
       "4         True  "
      ]
     },
     "execution_count": 4,
     "metadata": {},
     "output_type": "execute_result"
    }
   ],
   "source": [
    "currencies_pd = ionpd.currencies()\n",
    "currencies_pd.head()"
   ]
  },
  {
   "cell_type": "markdown",
   "metadata": {},
   "source": [
    "#### Order Book"
   ]
  },
  {
   "cell_type": "code",
   "execution_count": 6,
   "metadata": {},
   "outputs": [
    {
     "data": {
      "text/html": [
       "<div>\n",
       "<style scoped>\n",
       "    .dataframe tbody tr th:only-of-type {\n",
       "        vertical-align: middle;\n",
       "    }\n",
       "\n",
       "    .dataframe tbody tr th {\n",
       "        vertical-align: top;\n",
       "    }\n",
       "\n",
       "    .dataframe thead th {\n",
       "        text-align: right;\n",
       "    }\n",
       "</style>\n",
       "<table border=\"1\" class=\"dataframe\">\n",
       "  <thead>\n",
       "    <tr style=\"text-align: right;\">\n",
       "      <th></th>\n",
       "      <th>size</th>\n",
       "      <th>price</th>\n",
       "      <th>type</th>\n",
       "    </tr>\n",
       "  </thead>\n",
       "  <tbody>\n",
       "    <tr>\n",
       "      <th>0</th>\n",
       "      <td>207.0</td>\n",
       "      <td>0.000033</td>\n",
       "      <td>bid</td>\n",
       "    </tr>\n",
       "    <tr>\n",
       "      <th>1</th>\n",
       "      <td>3.2</td>\n",
       "      <td>0.000033</td>\n",
       "      <td>bid</td>\n",
       "    </tr>\n",
       "    <tr>\n",
       "      <th>2</th>\n",
       "      <td>160.0</td>\n",
       "      <td>0.000032</td>\n",
       "      <td>bid</td>\n",
       "    </tr>\n",
       "    <tr>\n",
       "      <th>3</th>\n",
       "      <td>143.0</td>\n",
       "      <td>0.000032</td>\n",
       "      <td>bid</td>\n",
       "    </tr>\n",
       "    <tr>\n",
       "      <th>4</th>\n",
       "      <td>100.0</td>\n",
       "      <td>0.000032</td>\n",
       "      <td>bid</td>\n",
       "    </tr>\n",
       "  </tbody>\n",
       "</table>\n",
       "</div>"
      ],
      "text/plain": [
       "    size     price type\n",
       "0  207.0  0.000033  bid\n",
       "1    3.2  0.000033  bid\n",
       "2  160.0  0.000032  bid\n",
       "3  143.0  0.000032  bid\n",
       "4  100.0  0.000032  bid"
      ]
     },
     "execution_count": 6,
     "metadata": {},
     "output_type": "execute_result"
    }
   ],
   "source": [
    "order_book_pd = ionpd.order_book(MARKET)\n",
    "order_book_pd.head()"
   ]
  },
  {
   "cell_type": "markdown",
   "metadata": {},
   "source": [
    "#### Market Summaries"
   ]
  },
  {
   "cell_type": "code",
   "execution_count": 7,
   "metadata": {},
   "outputs": [
    {
     "data": {
      "text/html": [
       "<div>\n",
       "<style scoped>\n",
       "    .dataframe tbody tr th:only-of-type {\n",
       "        vertical-align: middle;\n",
       "    }\n",
       "\n",
       "    .dataframe tbody tr th {\n",
       "        vertical-align: top;\n",
       "    }\n",
       "\n",
       "    .dataframe thead th {\n",
       "        text-align: right;\n",
       "    }\n",
       "</style>\n",
       "<table border=\"1\" class=\"dataframe\">\n",
       "  <thead>\n",
       "    <tr style=\"text-align: right;\">\n",
       "      <th></th>\n",
       "      <th>market</th>\n",
       "      <th>high</th>\n",
       "      <th>low</th>\n",
       "      <th>volume</th>\n",
       "      <th>price</th>\n",
       "      <th>change</th>\n",
       "      <th>baseVolume</th>\n",
       "      <th>bidsOpenOrders</th>\n",
       "      <th>bidsLastPrice</th>\n",
       "      <th>highestBid</th>\n",
       "      <th>asksOpenOrders</th>\n",
       "      <th>asksLastPrice</th>\n",
       "      <th>lowestAsk</th>\n",
       "    </tr>\n",
       "  </thead>\n",
       "  <tbody>\n",
       "    <tr>\n",
       "      <th>0</th>\n",
       "      <td>btc-ion</td>\n",
       "      <td>0.000003</td>\n",
       "      <td>0.000003</td>\n",
       "      <td>3488.067194</td>\n",
       "      <td>0.000003</td>\n",
       "      <td>-17.05</td>\n",
       "      <td>0.008825</td>\n",
       "      <td>9</td>\n",
       "      <td>0.000003</td>\n",
       "      <td>0.000003</td>\n",
       "      <td>163</td>\n",
       "      <td>0.000003</td>\n",
       "      <td>0.000003</td>\n",
       "    </tr>\n",
       "    <tr>\n",
       "      <th>1</th>\n",
       "      <td>btc-eth</td>\n",
       "      <td>0.021500</td>\n",
       "      <td>0.019000</td>\n",
       "      <td>0.314676</td>\n",
       "      <td>0.019000</td>\n",
       "      <td>-11.63</td>\n",
       "      <td>0.005979</td>\n",
       "      <td>10</td>\n",
       "      <td>0.019000</td>\n",
       "      <td>0.019000</td>\n",
       "      <td>14</td>\n",
       "      <td>0.022500</td>\n",
       "      <td>0.022500</td>\n",
       "    </tr>\n",
       "    <tr>\n",
       "      <th>2</th>\n",
       "      <td>btc-ltc</td>\n",
       "      <td>0.004750</td>\n",
       "      <td>0.000560</td>\n",
       "      <td>11.346268</td>\n",
       "      <td>0.000560</td>\n",
       "      <td>-13.85</td>\n",
       "      <td>0.006354</td>\n",
       "      <td>10</td>\n",
       "      <td>0.004500</td>\n",
       "      <td>0.004500</td>\n",
       "      <td>43</td>\n",
       "      <td>0.005300</td>\n",
       "      <td>0.005300</td>\n",
       "    </tr>\n",
       "    <tr>\n",
       "      <th>3</th>\n",
       "      <td>btc-dash</td>\n",
       "      <td>0.007992</td>\n",
       "      <td>0.007949</td>\n",
       "      <td>0.130268</td>\n",
       "      <td>0.007949</td>\n",
       "      <td>-0.54</td>\n",
       "      <td>0.001035</td>\n",
       "      <td>10</td>\n",
       "      <td>0.008000</td>\n",
       "      <td>0.007464</td>\n",
       "      <td>42</td>\n",
       "      <td>0.007949</td>\n",
       "      <td>0.007949</td>\n",
       "    </tr>\n",
       "    <tr>\n",
       "      <th>4</th>\n",
       "      <td>btc-pivx</td>\n",
       "      <td>0.000043</td>\n",
       "      <td>0.000028</td>\n",
       "      <td>345.795984</td>\n",
       "      <td>0.000028</td>\n",
       "      <td>-21.96</td>\n",
       "      <td>0.009644</td>\n",
       "      <td>7</td>\n",
       "      <td>0.000029</td>\n",
       "      <td>0.000028</td>\n",
       "      <td>19</td>\n",
       "      <td>0.000036</td>\n",
       "      <td>0.000043</td>\n",
       "    </tr>\n",
       "  </tbody>\n",
       "</table>\n",
       "</div>"
      ],
      "text/plain": [
       "     market      high       low       volume     price  change  baseVolume  \\\n",
       "0   btc-ion  0.000003  0.000003  3488.067194  0.000003  -17.05    0.008825   \n",
       "1   btc-eth  0.021500  0.019000     0.314676  0.019000  -11.63    0.005979   \n",
       "2   btc-ltc  0.004750  0.000560    11.346268  0.000560  -13.85    0.006354   \n",
       "3  btc-dash  0.007992  0.007949     0.130268  0.007949   -0.54    0.001035   \n",
       "4  btc-pivx  0.000043  0.000028   345.795984  0.000028  -21.96    0.009644   \n",
       "\n",
       "   bidsOpenOrders  bidsLastPrice  highestBid  asksOpenOrders  asksLastPrice  \\\n",
       "0               9       0.000003    0.000003             163       0.000003   \n",
       "1              10       0.019000    0.019000              14       0.022500   \n",
       "2              10       0.004500    0.004500              43       0.005300   \n",
       "3              10       0.008000    0.007464              42       0.007949   \n",
       "4               7       0.000029    0.000028              19       0.000036   \n",
       "\n",
       "   lowestAsk  \n",
       "0   0.000003  \n",
       "1   0.022500  \n",
       "2   0.005300  \n",
       "3   0.007949  \n",
       "4   0.000043  "
      ]
     },
     "execution_count": 7,
     "metadata": {},
     "output_type": "execute_result"
    }
   ],
   "source": [
    "market_summaries_pd = ionpd.market_summaries()\n",
    "market_summaries_pd.head()"
   ]
  },
  {
   "cell_type": "markdown",
   "metadata": {},
   "source": [
    "#### Market Summary"
   ]
  },
  {
   "cell_type": "code",
   "execution_count": 8,
   "metadata": {},
   "outputs": [
    {
     "data": {
      "text/plain": [
       "{'market': 'btc-hive',\n",
       " 'high': '0.00003538',\n",
       " 'low': '0.00003300',\n",
       " 'volume': '3856.61483680',\n",
       " 'price': '0.00003370',\n",
       " 'change': '2.06',\n",
       " 'baseVolume': '0.12996792',\n",
       " 'bidsOpenOrders': '39',\n",
       " 'bidsLastPrice': '0.00003301',\n",
       " 'highestBid': '0.00003301',\n",
       " 'asksOpenOrders': '47',\n",
       " 'asksLastPrice': '0.00003447',\n",
       " 'lowestAsk': '0.00003370'}"
      ]
     },
     "execution_count": 8,
     "metadata": {},
     "output_type": "execute_result"
    }
   ],
   "source": [
    "market_summary = ionpd.market_summary(MARKET)\n",
    "market_summary"
   ]
  },
  {
   "cell_type": "markdown",
   "metadata": {},
   "source": [
    "#### Market History"
   ]
  },
  {
   "cell_type": "code",
   "execution_count": 9,
   "metadata": {},
   "outputs": [
    {
     "data": {
      "text/html": [
       "<div>\n",
       "<style scoped>\n",
       "    .dataframe tbody tr th:only-of-type {\n",
       "        vertical-align: middle;\n",
       "    }\n",
       "\n",
       "    .dataframe tbody tr th {\n",
       "        vertical-align: top;\n",
       "    }\n",
       "\n",
       "    .dataframe thead th {\n",
       "        text-align: right;\n",
       "    }\n",
       "</style>\n",
       "<table border=\"1\" class=\"dataframe\">\n",
       "  <thead>\n",
       "    <tr style=\"text-align: right;\">\n",
       "      <th></th>\n",
       "      <th>type</th>\n",
       "      <th>amount</th>\n",
       "      <th>price</th>\n",
       "      <th>total</th>\n",
       "      <th>createdAt</th>\n",
       "    </tr>\n",
       "  </thead>\n",
       "  <tbody>\n",
       "    <tr>\n",
       "      <th>0</th>\n",
       "      <td>MARKET_BUY</td>\n",
       "      <td>140.930038</td>\n",
       "      <td>0.000034</td>\n",
       "      <td>0.004749</td>\n",
       "      <td>2020-05-16 09:28:58</td>\n",
       "    </tr>\n",
       "    <tr>\n",
       "      <th>1</th>\n",
       "      <td>MARKET_BUY</td>\n",
       "      <td>71.402354</td>\n",
       "      <td>0.000034</td>\n",
       "      <td>0.002463</td>\n",
       "      <td>2020-05-16 06:14:42</td>\n",
       "    </tr>\n",
       "    <tr>\n",
       "      <th>2</th>\n",
       "      <td>MARKET_BUY</td>\n",
       "      <td>88.000000</td>\n",
       "      <td>0.000034</td>\n",
       "      <td>0.002979</td>\n",
       "      <td>2020-05-16 06:14:42</td>\n",
       "    </tr>\n",
       "    <tr>\n",
       "      <th>3</th>\n",
       "      <td>LIMIT_BUY</td>\n",
       "      <td>50.000000</td>\n",
       "      <td>0.000034</td>\n",
       "      <td>0.001692</td>\n",
       "      <td>2020-05-16 06:01:16</td>\n",
       "    </tr>\n",
       "    <tr>\n",
       "      <th>4</th>\n",
       "      <td>MARKET_BUY</td>\n",
       "      <td>74.982622</td>\n",
       "      <td>0.000034</td>\n",
       "      <td>0.002579</td>\n",
       "      <td>2020-05-16 03:27:41</td>\n",
       "    </tr>\n",
       "  </tbody>\n",
       "</table>\n",
       "</div>"
      ],
      "text/plain": [
       "         type      amount     price     total           createdAt\n",
       "0  MARKET_BUY  140.930038  0.000034  0.004749 2020-05-16 09:28:58\n",
       "1  MARKET_BUY   71.402354  0.000034  0.002463 2020-05-16 06:14:42\n",
       "2  MARKET_BUY   88.000000  0.000034  0.002979 2020-05-16 06:14:42\n",
       "3   LIMIT_BUY   50.000000  0.000034  0.001692 2020-05-16 06:01:16\n",
       "4  MARKET_BUY   74.982622  0.000034  0.002579 2020-05-16 03:27:41"
      ]
     },
     "execution_count": 9,
     "metadata": {},
     "output_type": "execute_result"
    }
   ],
   "source": [
    "market_history = ionpd.market_history(MARKET)\n",
    "market_history.head()"
   ]
  },
  {
   "cell_type": "markdown",
   "metadata": {},
   "source": [
    "## Market Endpoint Methods"
   ]
  },
  {
   "cell_type": "markdown",
   "metadata": {},
   "source": [
    "#### Limit Buy/Sell Orders"
   ]
  },
  {
   "cell_type": "code",
   "execution_count": null,
   "metadata": {},
   "outputs": [],
   "source": [
    "order = ionpd.limit_buy(AMOUNT, PRICE, MARKET)\n",
    "order = ionpd.limit_sell(AMOUNT, PRICE, MARKET)"
   ]
  },
  {
   "cell_type": "markdown",
   "metadata": {},
   "source": [
    "#### Success"
   ]
  },
  {
   "cell_type": "code",
   "execution_count": null,
   "metadata": {},
   "outputs": [],
   "source": [
    "success = ionpd.cancel_order(ORDERID)"
   ]
  },
  {
   "cell_type": "markdown",
   "metadata": {},
   "source": [
    "#### Order Status"
   ]
  },
  {
   "cell_type": "code",
   "execution_count": null,
   "metadata": {},
   "outputs": [],
   "source": [
    "order_status = ionpd.order_status(ORDERID)"
   ]
  },
  {
   "cell_type": "markdown",
   "metadata": {},
   "source": [
    "## Account Endpoint Methods"
   ]
  },
  {
   "cell_type": "markdown",
   "metadata": {},
   "source": [
    "#### Open Orders"
   ]
  },
  {
   "cell_type": "code",
   "execution_count": 10,
   "metadata": {},
   "outputs": [
    {
     "data": {
      "text/html": [
       "<div>\n",
       "<style scoped>\n",
       "    .dataframe tbody tr th:only-of-type {\n",
       "        vertical-align: middle;\n",
       "    }\n",
       "\n",
       "    .dataframe tbody tr th {\n",
       "        vertical-align: top;\n",
       "    }\n",
       "\n",
       "    .dataframe thead th {\n",
       "        text-align: right;\n",
       "    }\n",
       "</style>\n",
       "<table border=\"1\" class=\"dataframe\">\n",
       "  <thead>\n",
       "    <tr style=\"text-align: right;\">\n",
       "      <th></th>\n",
       "      <th>orderId</th>\n",
       "      <th>market</th>\n",
       "      <th>type</th>\n",
       "      <th>amount</th>\n",
       "      <th>price</th>\n",
       "      <th>filled</th>\n",
       "      <th>createdAt</th>\n",
       "    </tr>\n",
       "  </thead>\n",
       "  <tbody>\n",
       "  </tbody>\n",
       "</table>\n",
       "</div>"
      ],
      "text/plain": [
       "Empty DataFrame\n",
       "Columns: [orderId, market, type, amount, price, filled, createdAt]\n",
       "Index: []"
      ]
     },
     "execution_count": 10,
     "metadata": {},
     "output_type": "execute_result"
    }
   ],
   "source": [
    "open_orders_pd = ionpd.open_orders(MARKET)\n",
    "open_orders_pd"
   ]
  },
  {
   "cell_type": "markdown",
   "metadata": {},
   "source": [
    "#### Balances"
   ]
  },
  {
   "cell_type": "code",
   "execution_count": 11,
   "metadata": {},
   "outputs": [
    {
     "data": {
      "text/html": [
       "<div>\n",
       "<style scoped>\n",
       "    .dataframe tbody tr th:only-of-type {\n",
       "        vertical-align: middle;\n",
       "    }\n",
       "\n",
       "    .dataframe tbody tr th {\n",
       "        vertical-align: top;\n",
       "    }\n",
       "\n",
       "    .dataframe thead th {\n",
       "        text-align: right;\n",
       "    }\n",
       "</style>\n",
       "<table border=\"1\" class=\"dataframe\">\n",
       "  <thead>\n",
       "    <tr style=\"text-align: right;\">\n",
       "      <th></th>\n",
       "      <th>currency</th>\n",
       "      <th>available</th>\n",
       "      <th>reserved</th>\n",
       "    </tr>\n",
       "  </thead>\n",
       "  <tbody>\n",
       "    <tr>\n",
       "      <th>0</th>\n",
       "      <td>btc</td>\n",
       "      <td>0.115747</td>\n",
       "      <td>1.000000e-08</td>\n",
       "    </tr>\n",
       "    <tr>\n",
       "      <th>1</th>\n",
       "      <td>ion</td>\n",
       "      <td>0.000000</td>\n",
       "      <td>0.000000e+00</td>\n",
       "    </tr>\n",
       "    <tr>\n",
       "      <th>2</th>\n",
       "      <td>steem</td>\n",
       "      <td>0.560000</td>\n",
       "      <td>0.000000e+00</td>\n",
       "    </tr>\n",
       "    <tr>\n",
       "      <th>3</th>\n",
       "      <td>hive</td>\n",
       "      <td>0.548145</td>\n",
       "      <td>0.000000e+00</td>\n",
       "    </tr>\n",
       "    <tr>\n",
       "      <th>4</th>\n",
       "      <td>gravity-live</td>\n",
       "      <td>0.000000</td>\n",
       "      <td>0.000000e+00</td>\n",
       "    </tr>\n",
       "  </tbody>\n",
       "</table>\n",
       "</div>"
      ],
      "text/plain": [
       "       currency  available      reserved\n",
       "0           btc   0.115747  1.000000e-08\n",
       "1           ion   0.000000  0.000000e+00\n",
       "2         steem   0.560000  0.000000e+00\n",
       "3          hive   0.548145  0.000000e+00\n",
       "4  gravity-live   0.000000  0.000000e+00"
      ]
     },
     "execution_count": 11,
     "metadata": {},
     "output_type": "execute_result"
    }
   ],
   "source": [
    "balances_pd = ionpd.balances()\n",
    "balances_pd.head()"
   ]
  },
  {
   "cell_type": "markdown",
   "metadata": {},
   "source": [
    "#### Balance"
   ]
  },
  {
   "cell_type": "code",
   "execution_count": 12,
   "metadata": {},
   "outputs": [
    {
     "data": {
      "text/plain": [
       "{'currency': 'hive', 'available': '0.54814539', 'reserved': '0.00000000'}"
      ]
     },
     "execution_count": 12,
     "metadata": {},
     "output_type": "execute_result"
    }
   ],
   "source": [
    "balance = ionpd.balance(CURRENCY)\n",
    "balance"
   ]
  },
  {
   "cell_type": "markdown",
   "metadata": {},
   "source": [
    "#### Deposit Address"
   ]
  },
  {
   "cell_type": "code",
   "execution_count": 13,
   "metadata": {},
   "outputs": [
    {
     "data": {
      "text/plain": [
       "{'currency': 'hive', 'address': '5e8f6cd1a2a3e2080524eb42'}"
      ]
     },
     "execution_count": 13,
     "metadata": {},
     "output_type": "execute_result"
    }
   ],
   "source": [
    "deposit_address = ionpd.deposit_address(CURRENCY)\n",
    "deposit_address"
   ]
  },
  {
   "cell_type": "markdown",
   "metadata": {},
   "source": [
    "#### Deposit History"
   ]
  },
  {
   "cell_type": "code",
   "execution_count": 14,
   "metadata": {},
   "outputs": [
    {
     "data": {
      "text/html": [
       "<div>\n",
       "<style scoped>\n",
       "    .dataframe tbody tr th:only-of-type {\n",
       "        vertical-align: middle;\n",
       "    }\n",
       "\n",
       "    .dataframe tbody tr th {\n",
       "        vertical-align: top;\n",
       "    }\n",
       "\n",
       "    .dataframe thead th {\n",
       "        text-align: right;\n",
       "    }\n",
       "</style>\n",
       "<table border=\"1\" class=\"dataframe\">\n",
       "  <thead>\n",
       "    <tr style=\"text-align: right;\">\n",
       "      <th></th>\n",
       "      <th>currency</th>\n",
       "      <th>deposits</th>\n",
       "    </tr>\n",
       "  </thead>\n",
       "  <tbody>\n",
       "  </tbody>\n",
       "</table>\n",
       "</div>"
      ],
      "text/plain": [
       "Empty DataFrame\n",
       "Columns: [currency, deposits]\n",
       "Index: []"
      ]
     },
     "execution_count": 14,
     "metadata": {},
     "output_type": "execute_result"
    }
   ],
   "source": [
    "deposit_history_pd = ionpd.deposit_history(CURRENCY)\n",
    "deposit_history_pd.head()"
   ]
  },
  {
   "cell_type": "markdown",
   "metadata": {},
   "source": [
    "#### Withdrawal History"
   ]
  },
  {
   "cell_type": "code",
   "execution_count": 15,
   "metadata": {},
   "outputs": [
    {
     "data": {
      "text/html": [
       "<div>\n",
       "<style scoped>\n",
       "    .dataframe tbody tr th:only-of-type {\n",
       "        vertical-align: middle;\n",
       "    }\n",
       "\n",
       "    .dataframe tbody tr th {\n",
       "        vertical-align: top;\n",
       "    }\n",
       "\n",
       "    .dataframe thead th {\n",
       "        text-align: right;\n",
       "    }\n",
       "</style>\n",
       "<table border=\"1\" class=\"dataframe\">\n",
       "  <thead>\n",
       "    <tr style=\"text-align: right;\">\n",
       "      <th></th>\n",
       "      <th>transactionId</th>\n",
       "      <th>state</th>\n",
       "      <th>currency</th>\n",
       "      <th>amount</th>\n",
       "      <th>feeAmount</th>\n",
       "      <th>createdAt</th>\n",
       "    </tr>\n",
       "  </thead>\n",
       "  <tbody>\n",
       "    <tr>\n",
       "      <th>0</th>\n",
       "      <td>5e8f726da2a3e220e6566b72</td>\n",
       "      <td>PROCESSED</td>\n",
       "      <td>hive</td>\n",
       "      <td>7186.010000</td>\n",
       "      <td>0.01</td>\n",
       "      <td>2020-04-09 19:07:25</td>\n",
       "    </tr>\n",
       "    <tr>\n",
       "      <th>1</th>\n",
       "      <td>5e8f9934a2a3e24bda6b9962</td>\n",
       "      <td>PROCESSED</td>\n",
       "      <td>hive</td>\n",
       "      <td>579.563903</td>\n",
       "      <td>0.01</td>\n",
       "      <td>2020-04-09 21:52:52</td>\n",
       "    </tr>\n",
       "    <tr>\n",
       "      <th>2</th>\n",
       "      <td>5e9a6fe4a2a3e2016530b782</td>\n",
       "      <td>PROCESSED</td>\n",
       "      <td>hive</td>\n",
       "      <td>6194.010000</td>\n",
       "      <td>0.01</td>\n",
       "      <td>2020-04-18 03:11:32</td>\n",
       "    </tr>\n",
       "    <tr>\n",
       "      <th>3</th>\n",
       "      <td>5ea24752a2a3e2245f19e352</td>\n",
       "      <td>PROCESSED</td>\n",
       "      <td>hive</td>\n",
       "      <td>4308.010000</td>\n",
       "      <td>0.01</td>\n",
       "      <td>2020-04-24 01:56:34</td>\n",
       "    </tr>\n",
       "    <tr>\n",
       "      <th>4</th>\n",
       "      <td>5eacd1792249e5764b7323d2</td>\n",
       "      <td>PROCESSED</td>\n",
       "      <td>hive</td>\n",
       "      <td>124.050000</td>\n",
       "      <td>0.05</td>\n",
       "      <td>2020-05-02 01:48:41</td>\n",
       "    </tr>\n",
       "  </tbody>\n",
       "</table>\n",
       "</div>"
      ],
      "text/plain": [
       "              transactionId      state currency       amount  feeAmount  \\\n",
       "0  5e8f726da2a3e220e6566b72  PROCESSED     hive  7186.010000       0.01   \n",
       "1  5e8f9934a2a3e24bda6b9962  PROCESSED     hive   579.563903       0.01   \n",
       "2  5e9a6fe4a2a3e2016530b782  PROCESSED     hive  6194.010000       0.01   \n",
       "3  5ea24752a2a3e2245f19e352  PROCESSED     hive  4308.010000       0.01   \n",
       "4  5eacd1792249e5764b7323d2  PROCESSED     hive   124.050000       0.05   \n",
       "\n",
       "            createdAt  \n",
       "0 2020-04-09 19:07:25  \n",
       "1 2020-04-09 21:52:52  \n",
       "2 2020-04-18 03:11:32  \n",
       "3 2020-04-24 01:56:34  \n",
       "4 2020-05-02 01:48:41  "
      ]
     },
     "execution_count": 15,
     "metadata": {},
     "output_type": "execute_result"
    }
   ],
   "source": [
    "withdrawal_history_pd = ionpd.withdrawal_history(CURRENCY)\n",
    "withdrawal_history_pd.head()"
   ]
  },
  {
   "cell_type": "code",
   "execution_count": null,
   "metadata": {},
   "outputs": [],
   "source": []
  }
 ],
 "metadata": {
  "kernelspec": {
   "display_name": "Python 3",
   "language": "python",
   "name": "python3"
  },
  "language_info": {
   "codemirror_mode": {
    "name": "ipython",
    "version": 3
   },
   "file_extension": ".py",
   "mimetype": "text/x-python",
   "name": "python",
   "nbconvert_exporter": "python",
   "pygments_lexer": "ipython3",
   "version": "3.7.6"
  }
 },
 "nbformat": 4,
 "nbformat_minor": 4
}
