{
 "cells": [
  {
   "cell_type": "markdown",
   "metadata": {},
   "source": [
    "# IonPanda"
   ]
  },
  {
   "cell_type": "code",
   "execution_count": 3,
   "metadata": {},
   "outputs": [],
   "source": [
    "from Ionomy import IonPanda\n",
    "from decouple import config\n",
    "\n",
    "MARKET = 'btc-hive'\n",
    "CURRENCY = 'hive'\n",
    "BASE = 'btc'\n",
    "TIME = 'day'"
   ]
  },
  {
   "cell_type": "markdown",
   "metadata": {},
   "source": [
    "#### Instantiation"
   ]
  },
  {
   "cell_type": "code",
   "execution_count": 4,
   "metadata": {},
   "outputs": [],
   "source": [
    "ionpd = IonPanda(config('IONOMY_KEY'), config('IONOMY_SECRET'))"
   ]
  },
  {
   "cell_type": "markdown",
   "metadata": {},
   "source": [
    "#### Public Endpoint Methods"
   ]
  },
  {
   "cell_type": "code",
   "execution_count": 5,
   "metadata": {},
   "outputs": [],
   "source": [
    "markets = ionpd.markets()\n",
    "currencies = ionpd.currencies()\n",
    "order_book = ionpd.order_book(MARKET)\n",
    "market_summaries = ionpd.market_summaries()\n",
    "market_summary = ionpd.market_summary(MARKET)\n",
    "market_history = ionpd.market_history(MARKET)"
   ]
  },
  {
   "cell_type": "markdown",
   "metadata": {},
   "source": [
    "#### Market Endpoint Methods"
   ]
  },
  {
   "cell_type": "code",
   "execution_count": null,
   "metadata": {},
   "outputs": [],
   "source": [
    "order = ionpd.limit_buy(AMOUNT, PRICE, MARKET)\n",
    "order = ionpd.limit_sell(AMOUNT, PRICE, MARKET)\n",
    "success = ionpd.cancel_order(ORDERID)\n",
    "order_status = ionpd.order_status(ORDERID)"
   ]
  },
  {
   "cell_type": "markdown",
   "metadata": {},
   "source": [
    "#### Account Endpoint Methods"
   ]
  },
  {
   "cell_type": "code",
   "execution_count": null,
   "metadata": {},
   "outputs": [],
   "source": [
    "open_orders = ionpd.open_orders(MARKET)\n",
    "balances = ionpd.balances()\n",
    "balance = ionpd.balance(CURRENCY)\n",
    "deposit_address = ionpd.deposit_address(CURRENCY)\n",
    "deposit_history = ionpd.deposit_history(CURRENCY)\n",
    "withdrawal_history = ionpd.withdrawal_history(CURRENCY)"
   ]
  }
 ],
 "metadata": {
  "kernelspec": {
   "display_name": "Python 3",
   "language": "python",
   "name": "python3"
  },
  "language_info": {
   "codemirror_mode": {
    "name": "ipython",
    "version": 3
   },
   "file_extension": ".py",
   "mimetype": "text/x-python",
   "name": "python",
   "nbconvert_exporter": "python",
   "pygments_lexer": "ipython3",
   "version": "3.7.6"
  }
 },
 "nbformat": 4,
 "nbformat_minor": 4
}
