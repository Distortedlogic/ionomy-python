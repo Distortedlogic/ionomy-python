{
 "cells": [
  {
   "cell_type": "markdown",
   "metadata": {},
   "source": [
    "# Ionomy"
   ]
  },
  {
   "cell_type": "code",
   "execution_count": 1,
   "metadata": {},
   "outputs": [],
   "source": [
    "from Ionomy import Ionomy\n",
    "from decouple import config\n",
    "\n",
    "MARKET = 'btc-hive'\n",
    "CURRENCY = 'hive'\n",
    "BASE = 'btc'\n",
    "TIME = 'day'\n",
    "AMOUNT = 1\n",
    "PRICE = 0.0\n",
    "ADDRESS = 'memehub'\n",
    "PAYMENTID_OPTIONAL = None"
   ]
  },
  {
   "cell_type": "markdown",
   "metadata": {},
   "source": [
    "#### Instantiation"
   ]
  },
  {
   "cell_type": "code",
   "execution_count": 2,
   "metadata": {},
   "outputs": [],
   "source": [
    "ion = Ionomy(config('IONOMY_KEY'), config('IONOMY_SECRET'))"
   ]
  },
  {
   "cell_type": "markdown",
   "metadata": {},
   "source": [
    "#### Public Endpoint Methods"
   ]
  },
  {
   "cell_type": "code",
   "execution_count": 3,
   "metadata": {},
   "outputs": [],
   "source": [
    "markets = ion.markets()\n",
    "currencies = ion.currencies()\n",
    "order_book = ion.order_book(MARKET)\n",
    "market_summaries = ion.market_summaries()\n",
    "market_summary = ion.market_summary(MARKET)\n",
    "market_history = ion.market_history(MARKET)"
   ]
  },
  {
   "cell_type": "markdown",
   "metadata": {},
   "source": [
    "#### Market Endpoint Methods"
   ]
  },
  {
   "cell_type": "code",
   "execution_count": null,
   "metadata": {},
   "outputs": [],
   "source": [
    "order = ion.limit_buy(AMOUNT, PRICE, MARKET)\n",
    "order = ion.limit_sell(AMOUNT, PRICE, MARKET)\n",
    "success = ion.cancel_order(ORDERID)\n",
    "order_status = ion.order_status(ORDERID)"
   ]
  },
  {
   "cell_type": "markdown",
   "metadata": {},
   "source": [
    "#### Account Endpoint Methods"
   ]
  },
  {
   "cell_type": "code",
   "execution_count": null,
   "metadata": {},
   "outputs": [],
   "source": [
    "open_orders = ion.open_orders(MARKET)\n",
    "balances = ion.balances()\n",
    "balance = ion.balance(CURRENCY)\n",
    "deposit_address = ion.deposit_address(CURRENCY)\n",
    "deposit_history = ion.deposit_history(CURRENCY)\n",
    "withdrawal_history = ion.withdrawal_history(CURRENCY)"
   ]
  }
 ],
 "metadata": {
  "kernelspec": {
   "display_name": "Python 3",
   "language": "python",
   "name": "python3"
  },
  "language_info": {
   "codemirror_mode": {
    "name": "ipython",
    "version": 3
   },
   "file_extension": ".py",
   "mimetype": "text/x-python",
   "name": "python",
   "nbconvert_exporter": "python",
   "pygments_lexer": "ipython3",
   "version": "3.7.6"
  }
 },
 "nbformat": 4,
 "nbformat_minor": 4
}
