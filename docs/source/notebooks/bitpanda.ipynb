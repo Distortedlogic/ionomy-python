{
 "cells": [
  {
   "cell_type": "markdown",
   "metadata": {},
   "source": [
    "# BitPanda"
   ]
  },
  {
   "cell_type": "markdown",
   "metadata": {},
   "source": [
    "## Imports and Params"
   ]
  },
  {
   "cell_type": "code",
   "execution_count": 1,
   "metadata": {},
   "outputs": [],
   "source": [
    "from Ionomy import BitPanda\n",
    "from decouple import config\n",
    "\n",
    "MARKET = 'btc-hive'\n",
    "CURRENCY = 'hive'\n",
    "BASE = 'btc'\n",
    "TIME = 'day'"
   ]
  },
  {
   "cell_type": "markdown",
   "metadata": {},
   "source": [
    "## Instantiation"
   ]
  },
  {
   "cell_type": "code",
   "execution_count": 3,
   "metadata": {},
   "outputs": [],
   "source": [
    "bp = BitPanda(config('TREX_KEY'), config('TREX_SECRET'))"
   ]
  },
  {
   "cell_type": "markdown",
   "metadata": {},
   "source": [
    "## Public Endpoint Methods"
   ]
  },
  {
   "cell_type": "markdown",
   "metadata": {},
   "source": [
    "#### Markets"
   ]
  },
  {
   "cell_type": "code",
   "execution_count": 5,
   "metadata": {},
   "outputs": [
    {
     "data": {
      "text/html": [
       "<div>\n",
       "<style scoped>\n",
       "    .dataframe tbody tr th:only-of-type {\n",
       "        vertical-align: middle;\n",
       "    }\n",
       "\n",
       "    .dataframe tbody tr th {\n",
       "        vertical-align: top;\n",
       "    }\n",
       "\n",
       "    .dataframe thead th {\n",
       "        text-align: right;\n",
       "    }\n",
       "</style>\n",
       "<table border=\"1\" class=\"dataframe\">\n",
       "  <thead>\n",
       "    <tr style=\"text-align: right;\">\n",
       "      <th></th>\n",
       "      <th>MarketCurrency</th>\n",
       "      <th>BaseCurrency</th>\n",
       "      <th>MarketCurrencyLong</th>\n",
       "      <th>BaseCurrencyLong</th>\n",
       "      <th>MinTradeSize</th>\n",
       "      <th>MarketName</th>\n",
       "      <th>IsActive</th>\n",
       "      <th>IsRestricted</th>\n",
       "      <th>Created</th>\n",
       "      <th>Notice</th>\n",
       "      <th>IsSponsored</th>\n",
       "      <th>LogoUrl</th>\n",
       "    </tr>\n",
       "  </thead>\n",
       "  <tbody>\n",
       "    <tr>\n",
       "      <th>0</th>\n",
       "      <td>LTC</td>\n",
       "      <td>BTC</td>\n",
       "      <td>Litecoin</td>\n",
       "      <td>Bitcoin</td>\n",
       "      <td>0.032972</td>\n",
       "      <td>BTC-LTC</td>\n",
       "      <td>True</td>\n",
       "      <td>False</td>\n",
       "      <td>2014-02-13</td>\n",
       "      <td>None</td>\n",
       "      <td>None</td>\n",
       "      <td>https://bittrexblobstorage.blob.core.windows.n...</td>\n",
       "    </tr>\n",
       "    <tr>\n",
       "      <th>1</th>\n",
       "      <td>DOGE</td>\n",
       "      <td>BTC</td>\n",
       "      <td>Dogecoin</td>\n",
       "      <td>Bitcoin</td>\n",
       "      <td>1000.000000</td>\n",
       "      <td>BTC-DOGE</td>\n",
       "      <td>True</td>\n",
       "      <td>False</td>\n",
       "      <td>2014-02-13</td>\n",
       "      <td>None</td>\n",
       "      <td>None</td>\n",
       "      <td>https://bittrexblobstorage.blob.core.windows.n...</td>\n",
       "    </tr>\n",
       "    <tr>\n",
       "      <th>2</th>\n",
       "      <td>VTC</td>\n",
       "      <td>BTC</td>\n",
       "      <td>Vertcoin</td>\n",
       "      <td>Bitcoin</td>\n",
       "      <td>8.830802</td>\n",
       "      <td>BTC-VTC</td>\n",
       "      <td>True</td>\n",
       "      <td>False</td>\n",
       "      <td>2014-02-13</td>\n",
       "      <td>None</td>\n",
       "      <td>None</td>\n",
       "      <td>https://bittrexblobstorage.blob.core.windows.n...</td>\n",
       "    </tr>\n",
       "    <tr>\n",
       "      <th>3</th>\n",
       "      <td>PPC</td>\n",
       "      <td>BTC</td>\n",
       "      <td>Peercoin</td>\n",
       "      <td>Bitcoin</td>\n",
       "      <td>6.025548</td>\n",
       "      <td>BTC-PPC</td>\n",
       "      <td>True</td>\n",
       "      <td>False</td>\n",
       "      <td>2014-02-13</td>\n",
       "      <td>None</td>\n",
       "      <td>None</td>\n",
       "      <td>https://bittrexblobstorage.blob.core.windows.n...</td>\n",
       "    </tr>\n",
       "    <tr>\n",
       "      <th>4</th>\n",
       "      <td>FTC</td>\n",
       "      <td>BTC</td>\n",
       "      <td>Feathercoin</td>\n",
       "      <td>Bitcoin</td>\n",
       "      <td>213.675214</td>\n",
       "      <td>BTC-FTC</td>\n",
       "      <td>True</td>\n",
       "      <td>False</td>\n",
       "      <td>2014-02-13</td>\n",
       "      <td>None</td>\n",
       "      <td>None</td>\n",
       "      <td>https://bittrexblobstorage.blob.core.windows.n...</td>\n",
       "    </tr>\n",
       "  </tbody>\n",
       "</table>\n",
       "</div>"
      ],
      "text/plain": [
       "  MarketCurrency BaseCurrency MarketCurrencyLong BaseCurrencyLong  \\\n",
       "0            LTC          BTC           Litecoin          Bitcoin   \n",
       "1           DOGE          BTC           Dogecoin          Bitcoin   \n",
       "2            VTC          BTC           Vertcoin          Bitcoin   \n",
       "3            PPC          BTC           Peercoin          Bitcoin   \n",
       "4            FTC          BTC        Feathercoin          Bitcoin   \n",
       "\n",
       "   MinTradeSize MarketName  IsActive  IsRestricted    Created Notice  \\\n",
       "0      0.032972    BTC-LTC      True         False 2014-02-13   None   \n",
       "1   1000.000000   BTC-DOGE      True         False 2014-02-13   None   \n",
       "2      8.830802    BTC-VTC      True         False 2014-02-13   None   \n",
       "3      6.025548    BTC-PPC      True         False 2014-02-13   None   \n",
       "4    213.675214    BTC-FTC      True         False 2014-02-13   None   \n",
       "\n",
       "  IsSponsored                                            LogoUrl  \n",
       "0        None  https://bittrexblobstorage.blob.core.windows.n...  \n",
       "1        None  https://bittrexblobstorage.blob.core.windows.n...  \n",
       "2        None  https://bittrexblobstorage.blob.core.windows.n...  \n",
       "3        None  https://bittrexblobstorage.blob.core.windows.n...  \n",
       "4        None  https://bittrexblobstorage.blob.core.windows.n...  "
      ]
     },
     "execution_count": 5,
     "metadata": {},
     "output_type": "execute_result"
    }
   ],
   "source": [
    "markets_pd = bp.markets()\n",
    "markets_pd.head()"
   ]
  },
  {
   "cell_type": "markdown",
   "metadata": {},
   "source": [
    "#### Currencies"
   ]
  },
  {
   "cell_type": "code",
   "execution_count": 6,
   "metadata": {},
   "outputs": [
    {
     "data": {
      "text/html": [
       "<div>\n",
       "<style scoped>\n",
       "    .dataframe tbody tr th:only-of-type {\n",
       "        vertical-align: middle;\n",
       "    }\n",
       "\n",
       "    .dataframe tbody tr th {\n",
       "        vertical-align: top;\n",
       "    }\n",
       "\n",
       "    .dataframe thead th {\n",
       "        text-align: right;\n",
       "    }\n",
       "</style>\n",
       "<table border=\"1\" class=\"dataframe\">\n",
       "  <thead>\n",
       "    <tr style=\"text-align: right;\">\n",
       "      <th></th>\n",
       "      <th>Currency</th>\n",
       "      <th>CurrencyLong</th>\n",
       "      <th>MinConfirmation</th>\n",
       "      <th>TxFee</th>\n",
       "      <th>IsActive</th>\n",
       "      <th>IsRestricted</th>\n",
       "      <th>CoinType</th>\n",
       "      <th>BaseAddress</th>\n",
       "      <th>Notice</th>\n",
       "    </tr>\n",
       "  </thead>\n",
       "  <tbody>\n",
       "    <tr>\n",
       "      <th>0</th>\n",
       "      <td>BTC</td>\n",
       "      <td>Bitcoin</td>\n",
       "      <td>2</td>\n",
       "      <td>0.0005</td>\n",
       "      <td>True</td>\n",
       "      <td>False</td>\n",
       "      <td>BITCOIN</td>\n",
       "      <td>1N52wHoVR79PMDishab2XmRHsbekCdGquK</td>\n",
       "      <td>None</td>\n",
       "    </tr>\n",
       "    <tr>\n",
       "      <th>1</th>\n",
       "      <td>LTC</td>\n",
       "      <td>Litecoin</td>\n",
       "      <td>6</td>\n",
       "      <td>0.0100</td>\n",
       "      <td>True</td>\n",
       "      <td>False</td>\n",
       "      <td>BITCOIN16</td>\n",
       "      <td>LhyLNfBkoKshT7R8Pce6vkB9T2cP2o84hx</td>\n",
       "      <td>None</td>\n",
       "    </tr>\n",
       "    <tr>\n",
       "      <th>2</th>\n",
       "      <td>DOGE</td>\n",
       "      <td>Dogecoin</td>\n",
       "      <td>6</td>\n",
       "      <td>2.0000</td>\n",
       "      <td>True</td>\n",
       "      <td>False</td>\n",
       "      <td>BITCOIN</td>\n",
       "      <td>D9GqmkGCpgtnXP7xMD78v9xfqeDkqBZBMT</td>\n",
       "      <td>None</td>\n",
       "    </tr>\n",
       "    <tr>\n",
       "      <th>3</th>\n",
       "      <td>VTC</td>\n",
       "      <td>Vertcoin</td>\n",
       "      <td>600</td>\n",
       "      <td>0.0200</td>\n",
       "      <td>True</td>\n",
       "      <td>False</td>\n",
       "      <td>BITCOIN16</td>\n",
       "      <td>VfukW89WKT9h3YjHZdSAAuGNVGELY31wyj</td>\n",
       "      <td>None</td>\n",
       "    </tr>\n",
       "    <tr>\n",
       "      <th>4</th>\n",
       "      <td>PPC</td>\n",
       "      <td>Peercoin</td>\n",
       "      <td>12</td>\n",
       "      <td>0.0200</td>\n",
       "      <td>True</td>\n",
       "      <td>False</td>\n",
       "      <td>BITCOIN16</td>\n",
       "      <td>None</td>\n",
       "      <td>None</td>\n",
       "    </tr>\n",
       "  </tbody>\n",
       "</table>\n",
       "</div>"
      ],
      "text/plain": [
       "  Currency CurrencyLong  MinConfirmation   TxFee  IsActive  IsRestricted  \\\n",
       "0      BTC      Bitcoin                2  0.0005      True         False   \n",
       "1      LTC     Litecoin                6  0.0100      True         False   \n",
       "2     DOGE     Dogecoin                6  2.0000      True         False   \n",
       "3      VTC     Vertcoin              600  0.0200      True         False   \n",
       "4      PPC     Peercoin               12  0.0200      True         False   \n",
       "\n",
       "    CoinType                         BaseAddress Notice  \n",
       "0    BITCOIN  1N52wHoVR79PMDishab2XmRHsbekCdGquK   None  \n",
       "1  BITCOIN16  LhyLNfBkoKshT7R8Pce6vkB9T2cP2o84hx   None  \n",
       "2    BITCOIN  D9GqmkGCpgtnXP7xMD78v9xfqeDkqBZBMT   None  \n",
       "3  BITCOIN16  VfukW89WKT9h3YjHZdSAAuGNVGELY31wyj   None  \n",
       "4  BITCOIN16                                None   None  "
      ]
     },
     "execution_count": 6,
     "metadata": {},
     "output_type": "execute_result"
    }
   ],
   "source": [
    "currencies_pd = bp.currencies()\n",
    "currencies_pd.head()"
   ]
  },
  {
   "cell_type": "markdown",
   "metadata": {},
   "source": [
    "### Ticker"
   ]
  },
  {
   "cell_type": "code",
   "execution_count": 7,
   "metadata": {},
   "outputs": [
    {
     "data": {
      "text/plain": [
       "{'Bid': 3.381e-05, 'Ask': 3.409e-05, 'Last': 3.38e-05}"
      ]
     },
     "execution_count": 7,
     "metadata": {},
     "output_type": "execute_result"
    }
   ],
   "source": [
    "bp.ticker(MARKET)"
   ]
  },
  {
   "cell_type": "markdown",
   "metadata": {},
   "source": [
    "#### Market Summaries"
   ]
  },
  {
   "cell_type": "code",
   "execution_count": 9,
   "metadata": {},
   "outputs": [
    {
     "data": {
      "text/html": [
       "<div>\n",
       "<style scoped>\n",
       "    .dataframe tbody tr th:only-of-type {\n",
       "        vertical-align: middle;\n",
       "    }\n",
       "\n",
       "    .dataframe tbody tr th {\n",
       "        vertical-align: top;\n",
       "    }\n",
       "\n",
       "    .dataframe thead th {\n",
       "        text-align: right;\n",
       "    }\n",
       "</style>\n",
       "<table border=\"1\" class=\"dataframe\">\n",
       "  <thead>\n",
       "    <tr style=\"text-align: right;\">\n",
       "      <th></th>\n",
       "      <th>MarketName</th>\n",
       "      <th>High</th>\n",
       "      <th>Low</th>\n",
       "      <th>Volume</th>\n",
       "      <th>Last</th>\n",
       "      <th>BaseVolume</th>\n",
       "      <th>TimeStamp</th>\n",
       "      <th>Bid</th>\n",
       "      <th>Ask</th>\n",
       "      <th>OpenBuyOrders</th>\n",
       "      <th>OpenSellOrders</th>\n",
       "      <th>PrevDay</th>\n",
       "      <th>Created</th>\n",
       "    </tr>\n",
       "  </thead>\n",
       "  <tbody>\n",
       "    <tr>\n",
       "      <th>0</th>\n",
       "      <td>BTC-STPT</td>\n",
       "      <td>1.090000e-06</td>\n",
       "      <td>1.060000e-06</td>\n",
       "      <td>8.975255e+04</td>\n",
       "      <td>1.090000e-06</td>\n",
       "      <td>0.096687</td>\n",
       "      <td>2020-05-15 18:58:54.720</td>\n",
       "      <td>1.070000e-06</td>\n",
       "      <td>1.100000e-06</td>\n",
       "      <td>40.0</td>\n",
       "      <td>271.0</td>\n",
       "      <td>1.060000e-06</td>\n",
       "      <td>2019-06-11 18:34:44.627</td>\n",
       "    </tr>\n",
       "    <tr>\n",
       "      <th>1</th>\n",
       "      <td>ETH-WAXP</td>\n",
       "      <td>1.639700e-04</td>\n",
       "      <td>1.523000e-04</td>\n",
       "      <td>8.819855e+04</td>\n",
       "      <td>1.550100e-04</td>\n",
       "      <td>13.731805</td>\n",
       "      <td>2020-05-15 18:58:54.720</td>\n",
       "      <td>1.540300e-04</td>\n",
       "      <td>1.597800e-04</td>\n",
       "      <td>109.0</td>\n",
       "      <td>109.0</td>\n",
       "      <td>1.569600e-04</td>\n",
       "      <td>2018-02-15 01:09:15.167</td>\n",
       "    </tr>\n",
       "    <tr>\n",
       "      <th>2</th>\n",
       "      <td>ETH-FX</td>\n",
       "      <td>2.740000e-04</td>\n",
       "      <td>2.519900e-04</td>\n",
       "      <td>4.506822e+04</td>\n",
       "      <td>2.630000e-04</td>\n",
       "      <td>11.563228</td>\n",
       "      <td>2020-05-15 18:58:54.720</td>\n",
       "      <td>2.610000e-04</td>\n",
       "      <td>2.680000e-04</td>\n",
       "      <td>72.0</td>\n",
       "      <td>135.0</td>\n",
       "      <td>2.590000e-04</td>\n",
       "      <td>2019-04-23 17:00:38.527</td>\n",
       "    </tr>\n",
       "    <tr>\n",
       "      <th>3</th>\n",
       "      <td>BTC-PLA</td>\n",
       "      <td>5.000000e-08</td>\n",
       "      <td>4.000000e-08</td>\n",
       "      <td>1.844084e+06</td>\n",
       "      <td>4.000000e-08</td>\n",
       "      <td>0.074589</td>\n",
       "      <td>2020-05-15 18:58:54.720</td>\n",
       "      <td>3.000000e-08</td>\n",
       "      <td>4.000000e-08</td>\n",
       "      <td>45.0</td>\n",
       "      <td>137.0</td>\n",
       "      <td>5.000000e-08</td>\n",
       "      <td>2019-03-28 17:12:11.213</td>\n",
       "    </tr>\n",
       "    <tr>\n",
       "      <th>4</th>\n",
       "      <td>EUR-USDT</td>\n",
       "      <td>9.330000e-01</td>\n",
       "      <td>9.230000e-01</td>\n",
       "      <td>2.398502e+04</td>\n",
       "      <td>9.270000e-01</td>\n",
       "      <td>22295.859801</td>\n",
       "      <td>2020-05-15 18:58:54.720</td>\n",
       "      <td>9.230000e-01</td>\n",
       "      <td>9.290000e-01</td>\n",
       "      <td>73.0</td>\n",
       "      <td>72.0</td>\n",
       "      <td>9.300000e-01</td>\n",
       "      <td>2020-03-30 06:19:27.620</td>\n",
       "    </tr>\n",
       "  </tbody>\n",
       "</table>\n",
       "</div>"
      ],
      "text/plain": [
       "  MarketName          High           Low        Volume          Last  \\\n",
       "0   BTC-STPT  1.090000e-06  1.060000e-06  8.975255e+04  1.090000e-06   \n",
       "1   ETH-WAXP  1.639700e-04  1.523000e-04  8.819855e+04  1.550100e-04   \n",
       "2     ETH-FX  2.740000e-04  2.519900e-04  4.506822e+04  2.630000e-04   \n",
       "3    BTC-PLA  5.000000e-08  4.000000e-08  1.844084e+06  4.000000e-08   \n",
       "4   EUR-USDT  9.330000e-01  9.230000e-01  2.398502e+04  9.270000e-01   \n",
       "\n",
       "     BaseVolume               TimeStamp           Bid           Ask  \\\n",
       "0      0.096687 2020-05-15 18:58:54.720  1.070000e-06  1.100000e-06   \n",
       "1     13.731805 2020-05-15 18:58:54.720  1.540300e-04  1.597800e-04   \n",
       "2     11.563228 2020-05-15 18:58:54.720  2.610000e-04  2.680000e-04   \n",
       "3      0.074589 2020-05-15 18:58:54.720  3.000000e-08  4.000000e-08   \n",
       "4  22295.859801 2020-05-15 18:58:54.720  9.230000e-01  9.290000e-01   \n",
       "\n",
       "   OpenBuyOrders  OpenSellOrders       PrevDay                 Created  \n",
       "0           40.0           271.0  1.060000e-06 2019-06-11 18:34:44.627  \n",
       "1          109.0           109.0  1.569600e-04 2018-02-15 01:09:15.167  \n",
       "2           72.0           135.0  2.590000e-04 2019-04-23 17:00:38.527  \n",
       "3           45.0           137.0  5.000000e-08 2019-03-28 17:12:11.213  \n",
       "4           73.0            72.0  9.300000e-01 2020-03-30 06:19:27.620  "
      ]
     },
     "execution_count": 9,
     "metadata": {},
     "output_type": "execute_result"
    }
   ],
   "source": [
    "market_summaries_pd = bp.market_summaries()\n",
    "market_summaries_pd.head()"
   ]
  },
  {
   "cell_type": "markdown",
   "metadata": {},
   "source": [
    "#### Market Summary"
   ]
  },
  {
   "cell_type": "code",
   "execution_count": 12,
   "metadata": {},
   "outputs": [
    {
     "data": {
      "text/plain": [
       "{'MarketName': 'BTC-HIVE',\n",
       " 'High': 3.453e-05,\n",
       " 'Low': 3.28e-05,\n",
       " 'Volume': 275969.44525378,\n",
       " 'Last': 3.365e-05,\n",
       " 'BaseVolume': 9.35729375,\n",
       " 'TimeStamp': '2020-05-15T18:59:34.75',\n",
       " 'Bid': 3.37e-05,\n",
       " 'Ask': 3.406e-05,\n",
       " 'OpenBuyOrders': 389,\n",
       " 'OpenSellOrders': 858,\n",
       " 'PrevDay': 3.4e-05,\n",
       " 'Created': '2020-03-21T20:13:46.243'}"
      ]
     },
     "execution_count": 12,
     "metadata": {},
     "output_type": "execute_result"
    }
   ],
   "source": [
    "bp.market_summary(MARKET)"
   ]
  },
  {
   "cell_type": "markdown",
   "metadata": {},
   "source": [
    "#### Order Book"
   ]
  },
  {
   "cell_type": "code",
   "execution_count": 13,
   "metadata": {},
   "outputs": [
    {
     "data": {
      "text/html": [
       "<div>\n",
       "<style scoped>\n",
       "    .dataframe tbody tr th:only-of-type {\n",
       "        vertical-align: middle;\n",
       "    }\n",
       "\n",
       "    .dataframe tbody tr th {\n",
       "        vertical-align: top;\n",
       "    }\n",
       "\n",
       "    .dataframe thead th {\n",
       "        text-align: right;\n",
       "    }\n",
       "</style>\n",
       "<table border=\"1\" class=\"dataframe\">\n",
       "  <thead>\n",
       "    <tr style=\"text-align: right;\">\n",
       "      <th></th>\n",
       "      <th>Quantity</th>\n",
       "      <th>Rate</th>\n",
       "      <th>type</th>\n",
       "    </tr>\n",
       "  </thead>\n",
       "  <tbody>\n",
       "    <tr>\n",
       "      <th>0</th>\n",
       "      <td>833.815866</td>\n",
       "      <td>0.000034</td>\n",
       "      <td>bid</td>\n",
       "    </tr>\n",
       "    <tr>\n",
       "      <th>1</th>\n",
       "      <td>1700.000000</td>\n",
       "      <td>0.000034</td>\n",
       "      <td>bid</td>\n",
       "    </tr>\n",
       "    <tr>\n",
       "      <th>2</th>\n",
       "      <td>59.127338</td>\n",
       "      <td>0.000034</td>\n",
       "      <td>bid</td>\n",
       "    </tr>\n",
       "    <tr>\n",
       "      <th>3</th>\n",
       "      <td>1589.495316</td>\n",
       "      <td>0.000034</td>\n",
       "      <td>bid</td>\n",
       "    </tr>\n",
       "    <tr>\n",
       "      <th>4</th>\n",
       "      <td>557.397472</td>\n",
       "      <td>0.000034</td>\n",
       "      <td>bid</td>\n",
       "    </tr>\n",
       "  </tbody>\n",
       "</table>\n",
       "</div>"
      ],
      "text/plain": [
       "      Quantity      Rate type\n",
       "0   833.815866  0.000034  bid\n",
       "1  1700.000000  0.000034  bid\n",
       "2    59.127338  0.000034  bid\n",
       "3  1589.495316  0.000034  bid\n",
       "4   557.397472  0.000034  bid"
      ]
     },
     "execution_count": 13,
     "metadata": {},
     "output_type": "execute_result"
    }
   ],
   "source": [
    "order_book_pd = bt.order_book(MARKET)\n",
    "order_book_pd.head()"
   ]
  },
  {
   "cell_type": "markdown",
   "metadata": {},
   "source": [
    "#### Market History"
   ]
  },
  {
   "cell_type": "code",
   "execution_count": 15,
   "metadata": {},
   "outputs": [
    {
     "data": {
      "text/html": [
       "<div>\n",
       "<style scoped>\n",
       "    .dataframe tbody tr th:only-of-type {\n",
       "        vertical-align: middle;\n",
       "    }\n",
       "\n",
       "    .dataframe tbody tr th {\n",
       "        vertical-align: top;\n",
       "    }\n",
       "\n",
       "    .dataframe thead th {\n",
       "        text-align: right;\n",
       "    }\n",
       "</style>\n",
       "<table border=\"1\" class=\"dataframe\">\n",
       "  <thead>\n",
       "    <tr style=\"text-align: right;\">\n",
       "      <th></th>\n",
       "      <th>Id</th>\n",
       "      <th>TimeStamp</th>\n",
       "      <th>Quantity</th>\n",
       "      <th>Price</th>\n",
       "      <th>Total</th>\n",
       "      <th>FillType</th>\n",
       "      <th>OrderType</th>\n",
       "      <th>Uuid</th>\n",
       "    </tr>\n",
       "  </thead>\n",
       "  <tbody>\n",
       "    <tr>\n",
       "      <th>0</th>\n",
       "      <td>65288419</td>\n",
       "      <td>2020-05-15 18:59:18.930</td>\n",
       "      <td>28737.484222</td>\n",
       "      <td>0.000034</td>\n",
       "      <td>0.967016</td>\n",
       "      <td>FILL</td>\n",
       "      <td>SELL</td>\n",
       "      <td>5bb886f8-7f19-478c-97cf-9f1127f3a698</td>\n",
       "    </tr>\n",
       "    <tr>\n",
       "      <th>1</th>\n",
       "      <td>65288418</td>\n",
       "      <td>2020-05-15 18:59:18.930</td>\n",
       "      <td>84.785096</td>\n",
       "      <td>0.000034</td>\n",
       "      <td>0.002854</td>\n",
       "      <td>FILL</td>\n",
       "      <td>SELL</td>\n",
       "      <td>17bf5e26-8aa6-4eab-aca0-a87a84e601e0</td>\n",
       "    </tr>\n",
       "    <tr>\n",
       "      <th>2</th>\n",
       "      <td>65288417</td>\n",
       "      <td>2020-05-15 18:59:18.930</td>\n",
       "      <td>464.468900</td>\n",
       "      <td>0.000034</td>\n",
       "      <td>0.015639</td>\n",
       "      <td>FILL</td>\n",
       "      <td>SELL</td>\n",
       "      <td>4fd0d932-0f83-46f3-b34c-f55864c19199</td>\n",
       "    </tr>\n",
       "    <tr>\n",
       "      <th>3</th>\n",
       "      <td>65288416</td>\n",
       "      <td>2020-05-15 18:59:18.930</td>\n",
       "      <td>1700.000000</td>\n",
       "      <td>0.000034</td>\n",
       "      <td>0.057375</td>\n",
       "      <td>FILL</td>\n",
       "      <td>SELL</td>\n",
       "      <td>6d30c744-537a-4b71-a93a-7194c004f932</td>\n",
       "    </tr>\n",
       "    <tr>\n",
       "      <th>4</th>\n",
       "      <td>65288415</td>\n",
       "      <td>2020-05-15 18:59:18.930</td>\n",
       "      <td>35.000000</td>\n",
       "      <td>0.000034</td>\n",
       "      <td>0.001181</td>\n",
       "      <td>FILL</td>\n",
       "      <td>SELL</td>\n",
       "      <td>a9a528d8-4d5d-4488-9314-4343a0dca7f8</td>\n",
       "    </tr>\n",
       "  </tbody>\n",
       "</table>\n",
       "</div>"
      ],
      "text/plain": [
       "         Id               TimeStamp      Quantity     Price     Total  \\\n",
       "0  65288419 2020-05-15 18:59:18.930  28737.484222  0.000034  0.967016   \n",
       "1  65288418 2020-05-15 18:59:18.930     84.785096  0.000034  0.002854   \n",
       "2  65288417 2020-05-15 18:59:18.930    464.468900  0.000034  0.015639   \n",
       "3  65288416 2020-05-15 18:59:18.930   1700.000000  0.000034  0.057375   \n",
       "4  65288415 2020-05-15 18:59:18.930     35.000000  0.000034  0.001181   \n",
       "\n",
       "  FillType OrderType                                  Uuid  \n",
       "0     FILL      SELL  5bb886f8-7f19-478c-97cf-9f1127f3a698  \n",
       "1     FILL      SELL  17bf5e26-8aa6-4eab-aca0-a87a84e601e0  \n",
       "2     FILL      SELL  4fd0d932-0f83-46f3-b34c-f55864c19199  \n",
       "3     FILL      SELL  6d30c744-537a-4b71-a93a-7194c004f932  \n",
       "4     FILL      SELL  a9a528d8-4d5d-4488-9314-4343a0dca7f8  "
      ]
     },
     "execution_count": 15,
     "metadata": {},
     "output_type": "execute_result"
    }
   ],
   "source": [
    "market_history_pd = bp.market_history(MARKET)\n",
    "market_history_pd.head()"
   ]
  },
  {
   "cell_type": "markdown",
   "metadata": {},
   "source": [
    "## Market Endpoint Methods"
   ]
  },
  {
   "cell_type": "markdown",
   "metadata": {},
   "source": [
    "#### Limit Buy/Sell Order"
   ]
  },
  {
   "cell_type": "code",
   "execution_count": null,
   "metadata": {},
   "outputs": [],
   "source": [
    "order_uuid = bp.buy_limit(MARKET, QUANTITY, RATE, TIMEINFORCE)\n",
    "order_uuid = bp.sell_limit(MARKET, QUANTITY, RATE, TIMEINFORCE)"
   ]
  },
  {
   "cell_type": "markdown",
   "metadata": {},
   "source": [
    "#### Cancel Order"
   ]
  },
  {
   "cell_type": "code",
   "execution_count": null,
   "metadata": {},
   "outputs": [],
   "source": [
    "order_uuid = bp.cancel(UUID)"
   ]
  },
  {
   "cell_type": "markdown",
   "metadata": {},
   "source": [
    "#### Order Status"
   ]
  },
  {
   "cell_type": "code",
   "execution_count": null,
   "metadata": {},
   "outputs": [],
   "source": [
    "order = bp.get_order(UUID)"
   ]
  },
  {
   "cell_type": "markdown",
   "metadata": {},
   "source": [
    "## Account Endpoint Methods"
   ]
  },
  {
   "cell_type": "markdown",
   "metadata": {},
   "source": [
    "#### Balances"
   ]
  },
  {
   "cell_type": "code",
   "execution_count": 16,
   "metadata": {},
   "outputs": [
    {
     "data": {
      "text/html": [
       "<div>\n",
       "<style scoped>\n",
       "    .dataframe tbody tr th:only-of-type {\n",
       "        vertical-align: middle;\n",
       "    }\n",
       "\n",
       "    .dataframe tbody tr th {\n",
       "        vertical-align: top;\n",
       "    }\n",
       "\n",
       "    .dataframe thead th {\n",
       "        text-align: right;\n",
       "    }\n",
       "</style>\n",
       "<table border=\"1\" class=\"dataframe\">\n",
       "  <thead>\n",
       "    <tr style=\"text-align: right;\">\n",
       "      <th></th>\n",
       "      <th>Currency</th>\n",
       "      <th>Balance</th>\n",
       "      <th>Available</th>\n",
       "      <th>Pending</th>\n",
       "      <th>CryptoAddress</th>\n",
       "    </tr>\n",
       "  </thead>\n",
       "  <tbody>\n",
       "    <tr>\n",
       "      <th>0</th>\n",
       "      <td>BTC</td>\n",
       "      <td>1.000000e-08</td>\n",
       "      <td>1.000000e-08</td>\n",
       "      <td>0.0</td>\n",
       "      <td>None</td>\n",
       "    </tr>\n",
       "    <tr>\n",
       "      <th>1</th>\n",
       "      <td>BTXCRD</td>\n",
       "      <td>8.489922e+00</td>\n",
       "      <td>8.489922e+00</td>\n",
       "      <td>0.0</td>\n",
       "      <td>None</td>\n",
       "    </tr>\n",
       "    <tr>\n",
       "      <th>2</th>\n",
       "      <td>HIVE</td>\n",
       "      <td>1.372603e+04</td>\n",
       "      <td>1.372603e+04</td>\n",
       "      <td>0.0</td>\n",
       "      <td>30c05de7684c4bf1817</td>\n",
       "    </tr>\n",
       "    <tr>\n",
       "      <th>3</th>\n",
       "      <td>STEEM</td>\n",
       "      <td>0.000000e+00</td>\n",
       "      <td>0.000000e+00</td>\n",
       "      <td>0.0</td>\n",
       "      <td>acc190939a9248d981f</td>\n",
       "    </tr>\n",
       "  </tbody>\n",
       "</table>\n",
       "</div>"
      ],
      "text/plain": [
       "  Currency       Balance     Available  Pending        CryptoAddress\n",
       "0      BTC  1.000000e-08  1.000000e-08      0.0                 None\n",
       "1   BTXCRD  8.489922e+00  8.489922e+00      0.0                 None\n",
       "2     HIVE  1.372603e+04  1.372603e+04      0.0  30c05de7684c4bf1817\n",
       "3    STEEM  0.000000e+00  0.000000e+00      0.0  acc190939a9248d981f"
      ]
     },
     "execution_count": 16,
     "metadata": {},
     "output_type": "execute_result"
    }
   ],
   "source": [
    "balances_pd = bp.balances()\n",
    "balances_pd.head()"
   ]
  },
  {
   "cell_type": "markdown",
   "metadata": {},
   "source": [
    "#### Balance"
   ]
  },
  {
   "cell_type": "code",
   "execution_count": 17,
   "metadata": {},
   "outputs": [
    {
     "data": {
      "text/plain": [
       "{'Currency': 'HIVE',\n",
       " 'Balance': 13726.03479181,\n",
       " 'Available': 13726.03479181,\n",
       " 'Pending': 0.0,\n",
       " 'CryptoAddress': '30c05de7684c4bf1817'}"
      ]
     },
     "execution_count": 17,
     "metadata": {},
     "output_type": "execute_result"
    }
   ],
   "source": [
    "bp.balance(CURRENCY)"
   ]
  },
  {
   "cell_type": "markdown",
   "metadata": {},
   "source": [
    "#### Order History"
   ]
  },
  {
   "cell_type": "code",
   "execution_count": 18,
   "metadata": {},
   "outputs": [
    {
     "data": {
      "text/html": [
       "<div>\n",
       "<style scoped>\n",
       "    .dataframe tbody tr th:only-of-type {\n",
       "        vertical-align: middle;\n",
       "    }\n",
       "\n",
       "    .dataframe tbody tr th {\n",
       "        vertical-align: top;\n",
       "    }\n",
       "\n",
       "    .dataframe thead th {\n",
       "        text-align: right;\n",
       "    }\n",
       "</style>\n",
       "<table border=\"1\" class=\"dataframe\">\n",
       "  <thead>\n",
       "    <tr style=\"text-align: right;\">\n",
       "      <th></th>\n",
       "      <th>OrderUuid</th>\n",
       "      <th>Exchange</th>\n",
       "      <th>TimeStamp</th>\n",
       "      <th>OrderType</th>\n",
       "      <th>Limit</th>\n",
       "      <th>Quantity</th>\n",
       "      <th>QuantityRemaining</th>\n",
       "      <th>Commission</th>\n",
       "      <th>Price</th>\n",
       "      <th>PricePerUnit</th>\n",
       "      <th>IsConditional</th>\n",
       "      <th>Condition</th>\n",
       "      <th>ConditionTarget</th>\n",
       "      <th>ImmediateOrCancel</th>\n",
       "      <th>Closed</th>\n",
       "    </tr>\n",
       "  </thead>\n",
       "  <tbody>\n",
       "    <tr>\n",
       "      <th>0</th>\n",
       "      <td>74b7ccde-f6f5-4083-8d0e-e56c080015a1</td>\n",
       "      <td>BTC-HIVE</td>\n",
       "      <td>2020-05-14 21:11:14.440</td>\n",
       "      <td>LIMIT_BUY</td>\n",
       "      <td>0.000034</td>\n",
       "      <td>1128.493453</td>\n",
       "      <td>0.000000</td>\n",
       "      <td>0.000077</td>\n",
       "      <td>0.038482</td>\n",
       "      <td>0.000034</td>\n",
       "      <td>False</td>\n",
       "      <td></td>\n",
       "      <td>0.0</td>\n",
       "      <td>False</td>\n",
       "      <td>2020-05-14 21:11:14.440</td>\n",
       "    </tr>\n",
       "    <tr>\n",
       "      <th>1</th>\n",
       "      <td>b1be09e1-c0b5-40fd-bae1-9ef061521483</td>\n",
       "      <td>BTC-HIVE</td>\n",
       "      <td>2020-05-14 21:09:07.890</td>\n",
       "      <td>LIMIT_BUY</td>\n",
       "      <td>0.000034</td>\n",
       "      <td>2828.824311</td>\n",
       "      <td>1128.824311</td>\n",
       "      <td>0.000116</td>\n",
       "      <td>0.057953</td>\n",
       "      <td>0.000034</td>\n",
       "      <td>False</td>\n",
       "      <td></td>\n",
       "      <td>0.0</td>\n",
       "      <td>False</td>\n",
       "      <td>2020-05-14 21:09:34.990</td>\n",
       "    </tr>\n",
       "    <tr>\n",
       "      <th>2</th>\n",
       "      <td>aef02e01-641f-4a0a-9223-05a846e47e4c</td>\n",
       "      <td>BTC-STEEM</td>\n",
       "      <td>2020-05-14 21:06:01.770</td>\n",
       "      <td>MARKET_SELL</td>\n",
       "      <td>NaN</td>\n",
       "      <td>5439.624000</td>\n",
       "      <td>0.000000</td>\n",
       "      <td>0.000193</td>\n",
       "      <td>0.096666</td>\n",
       "      <td>0.000018</td>\n",
       "      <td>False</td>\n",
       "      <td></td>\n",
       "      <td>0.0</td>\n",
       "      <td>True</td>\n",
       "      <td>2020-05-14 21:06:01.770</td>\n",
       "    </tr>\n",
       "    <tr>\n",
       "      <th>3</th>\n",
       "      <td>aba84609-e842-4681-90b1-42fb24501174</td>\n",
       "      <td>BTC-HIVE</td>\n",
       "      <td>2020-05-13 14:27:35.190</td>\n",
       "      <td>LIMIT_BUY</td>\n",
       "      <td>0.000035</td>\n",
       "      <td>485.000000</td>\n",
       "      <td>0.000000</td>\n",
       "      <td>0.000034</td>\n",
       "      <td>0.016975</td>\n",
       "      <td>0.000035</td>\n",
       "      <td>False</td>\n",
       "      <td></td>\n",
       "      <td>0.0</td>\n",
       "      <td>False</td>\n",
       "      <td>2020-05-13 21:59:27.830</td>\n",
       "    </tr>\n",
       "    <tr>\n",
       "      <th>4</th>\n",
       "      <td>bf5b235d-ea76-4bd7-bf37-eebaaaea05dd</td>\n",
       "      <td>BTC-STEEM</td>\n",
       "      <td>2020-05-13 12:55:44.540</td>\n",
       "      <td>MARKET_SELL</td>\n",
       "      <td>NaN</td>\n",
       "      <td>912.726000</td>\n",
       "      <td>0.000000</td>\n",
       "      <td>0.000034</td>\n",
       "      <td>0.016958</td>\n",
       "      <td>0.000019</td>\n",
       "      <td>False</td>\n",
       "      <td></td>\n",
       "      <td>0.0</td>\n",
       "      <td>True</td>\n",
       "      <td>2020-05-13 12:55:44.540</td>\n",
       "    </tr>\n",
       "  </tbody>\n",
       "</table>\n",
       "</div>"
      ],
      "text/plain": [
       "                              OrderUuid   Exchange               TimeStamp  \\\n",
       "0  74b7ccde-f6f5-4083-8d0e-e56c080015a1   BTC-HIVE 2020-05-14 21:11:14.440   \n",
       "1  b1be09e1-c0b5-40fd-bae1-9ef061521483   BTC-HIVE 2020-05-14 21:09:07.890   \n",
       "2  aef02e01-641f-4a0a-9223-05a846e47e4c  BTC-STEEM 2020-05-14 21:06:01.770   \n",
       "3  aba84609-e842-4681-90b1-42fb24501174   BTC-HIVE 2020-05-13 14:27:35.190   \n",
       "4  bf5b235d-ea76-4bd7-bf37-eebaaaea05dd  BTC-STEEM 2020-05-13 12:55:44.540   \n",
       "\n",
       "     OrderType     Limit     Quantity  QuantityRemaining  Commission  \\\n",
       "0    LIMIT_BUY  0.000034  1128.493453           0.000000    0.000077   \n",
       "1    LIMIT_BUY  0.000034  2828.824311        1128.824311    0.000116   \n",
       "2  MARKET_SELL       NaN  5439.624000           0.000000    0.000193   \n",
       "3    LIMIT_BUY  0.000035   485.000000           0.000000    0.000034   \n",
       "4  MARKET_SELL       NaN   912.726000           0.000000    0.000034   \n",
       "\n",
       "      Price  PricePerUnit  IsConditional Condition  ConditionTarget  \\\n",
       "0  0.038482      0.000034          False                        0.0   \n",
       "1  0.057953      0.000034          False                        0.0   \n",
       "2  0.096666      0.000018          False                        0.0   \n",
       "3  0.016975      0.000035          False                        0.0   \n",
       "4  0.016958      0.000019          False                        0.0   \n",
       "\n",
       "   ImmediateOrCancel                  Closed  \n",
       "0              False 2020-05-14 21:11:14.440  \n",
       "1              False 2020-05-14 21:09:34.990  \n",
       "2               True 2020-05-14 21:06:01.770  \n",
       "3              False 2020-05-13 21:59:27.830  \n",
       "4               True 2020-05-13 12:55:44.540  "
      ]
     },
     "execution_count": 18,
     "metadata": {},
     "output_type": "execute_result"
    }
   ],
   "source": [
    "order_history_pd = bp.order_history()\n",
    "order_history_pd.head()"
   ]
  },
  {
   "cell_type": "markdown",
   "metadata": {},
   "source": [
    "#### Deposit History"
   ]
  },
  {
   "cell_type": "code",
   "execution_count": 19,
   "metadata": {},
   "outputs": [
    {
     "data": {
      "text/html": [
       "<div>\n",
       "<style scoped>\n",
       "    .dataframe tbody tr th:only-of-type {\n",
       "        vertical-align: middle;\n",
       "    }\n",
       "\n",
       "    .dataframe tbody tr th {\n",
       "        vertical-align: top;\n",
       "    }\n",
       "\n",
       "    .dataframe thead th {\n",
       "        text-align: right;\n",
       "    }\n",
       "</style>\n",
       "<table border=\"1\" class=\"dataframe\">\n",
       "  <thead>\n",
       "    <tr style=\"text-align: right;\">\n",
       "      <th></th>\n",
       "      <th>Id</th>\n",
       "      <th>Amount</th>\n",
       "      <th>Currency</th>\n",
       "      <th>Confirmations</th>\n",
       "      <th>LastUpdated</th>\n",
       "      <th>TxId</th>\n",
       "      <th>CryptoAddress</th>\n",
       "    </tr>\n",
       "  </thead>\n",
       "  <tbody>\n",
       "    <tr>\n",
       "      <th>0</th>\n",
       "      <td>102691733</td>\n",
       "      <td>7194.41</td>\n",
       "      <td>HIVE</td>\n",
       "      <td>59</td>\n",
       "      <td>2020-05-14 21:06:48.500</td>\n",
       "      <td>da01a679e0c7d7afd6de6e3753ca2beb7dea0caf</td>\n",
       "      <td>30c05de7684c4bf1817</td>\n",
       "    </tr>\n",
       "  </tbody>\n",
       "</table>\n",
       "</div>"
      ],
      "text/plain": [
       "          Id   Amount Currency  Confirmations             LastUpdated  \\\n",
       "0  102691733  7194.41     HIVE             59 2020-05-14 21:06:48.500   \n",
       "\n",
       "                                       TxId        CryptoAddress  \n",
       "0  da01a679e0c7d7afd6de6e3753ca2beb7dea0caf  30c05de7684c4bf1817  "
      ]
     },
     "execution_count": 19,
     "metadata": {},
     "output_type": "execute_result"
    }
   ],
   "source": [
    "deposit_history_pd = bp.deposit_history(CURRENCY)\n",
    "deposit_history_pd.head()"
   ]
  },
  {
   "cell_type": "markdown",
   "metadata": {},
   "source": [
    "#### Deposit History"
   ]
  },
  {
   "cell_type": "code",
   "execution_count": 20,
   "metadata": {},
   "outputs": [
    {
     "data": {
      "text/plain": [
       "{'Currency': 'HIVE', 'Address': '30c05de7684c4bf1817'}"
      ]
     },
     "execution_count": 20,
     "metadata": {},
     "output_type": "execute_result"
    }
   ],
   "source": [
    "bp.deposit_address(CURRENCY)"
   ]
  },
  {
   "cell_type": "markdown",
   "metadata": {},
   "source": [
    "#### Withdrawal History"
   ]
  },
  {
   "cell_type": "code",
   "execution_count": 21,
   "metadata": {},
   "outputs": [
    {
     "data": {
      "text/html": [
       "<div>\n",
       "<style scoped>\n",
       "    .dataframe tbody tr th:only-of-type {\n",
       "        vertical-align: middle;\n",
       "    }\n",
       "\n",
       "    .dataframe tbody tr th {\n",
       "        vertical-align: top;\n",
       "    }\n",
       "\n",
       "    .dataframe thead th {\n",
       "        text-align: right;\n",
       "    }\n",
       "</style>\n",
       "<table border=\"1\" class=\"dataframe\">\n",
       "  <thead>\n",
       "    <tr style=\"text-align: right;\">\n",
       "      <th></th>\n",
       "      <th>PaymentUuid</th>\n",
       "      <th>Currency</th>\n",
       "      <th>Amount</th>\n",
       "      <th>Address</th>\n",
       "      <th>Opened</th>\n",
       "      <th>Authorized</th>\n",
       "      <th>PendingPayment</th>\n",
       "      <th>TxCost</th>\n",
       "      <th>TxId</th>\n",
       "      <th>Canceled</th>\n",
       "      <th>InvalidAddress</th>\n",
       "    </tr>\n",
       "  </thead>\n",
       "  <tbody>\n",
       "    <tr>\n",
       "      <th>0</th>\n",
       "      <td>cee4a123-5656-4938-a777-66a05df1b500</td>\n",
       "      <td>HIVE</td>\n",
       "      <td>0.990000</td>\n",
       "      <td>memehub</td>\n",
       "      <td>2020-05-15 18:18:00.133</td>\n",
       "      <td>True</td>\n",
       "      <td>False</td>\n",
       "      <td>0.01</td>\n",
       "      <td>bd6a480971ab8fdf28bf46375551df9149b241dd</td>\n",
       "      <td>False</td>\n",
       "      <td>False</td>\n",
       "    </tr>\n",
       "    <tr>\n",
       "      <th>1</th>\n",
       "      <td>35aca318-89b1-4aa5-9b1a-2ca702b8268f</td>\n",
       "      <td>HIVE</td>\n",
       "      <td>0.990000</td>\n",
       "      <td>memehub</td>\n",
       "      <td>2020-05-15 18:17:31.920</td>\n",
       "      <td>True</td>\n",
       "      <td>False</td>\n",
       "      <td>0.01</td>\n",
       "      <td>182ce6ce3c7e3b615c2558d046838dd904a85b7e</td>\n",
       "      <td>False</td>\n",
       "      <td>False</td>\n",
       "    </tr>\n",
       "    <tr>\n",
       "      <th>2</th>\n",
       "      <td>78943ce0-b6d4-4fcb-991a-7516e4323e82</td>\n",
       "      <td>HIVE</td>\n",
       "      <td>13728.024792</td>\n",
       "      <td>memehub</td>\n",
       "      <td>2020-05-15 18:13:44.513</td>\n",
       "      <td>False</td>\n",
       "      <td>False</td>\n",
       "      <td>0.01</td>\n",
       "      <td>None</td>\n",
       "      <td>True</td>\n",
       "      <td>False</td>\n",
       "    </tr>\n",
       "  </tbody>\n",
       "</table>\n",
       "</div>"
      ],
      "text/plain": [
       "                            PaymentUuid Currency        Amount  Address  \\\n",
       "0  cee4a123-5656-4938-a777-66a05df1b500     HIVE      0.990000  memehub   \n",
       "1  35aca318-89b1-4aa5-9b1a-2ca702b8268f     HIVE      0.990000  memehub   \n",
       "2  78943ce0-b6d4-4fcb-991a-7516e4323e82     HIVE  13728.024792  memehub   \n",
       "\n",
       "                   Opened  Authorized  PendingPayment  TxCost  \\\n",
       "0 2020-05-15 18:18:00.133        True           False    0.01   \n",
       "1 2020-05-15 18:17:31.920        True           False    0.01   \n",
       "2 2020-05-15 18:13:44.513       False           False    0.01   \n",
       "\n",
       "                                       TxId  Canceled  InvalidAddress  \n",
       "0  bd6a480971ab8fdf28bf46375551df9149b241dd     False           False  \n",
       "1  182ce6ce3c7e3b615c2558d046838dd904a85b7e     False           False  \n",
       "2                                      None      True           False  "
      ]
     },
     "execution_count": 21,
     "metadata": {},
     "output_type": "execute_result"
    }
   ],
   "source": [
    "withdrawal_history_pd = bp.withdrawal_history(CURRENCY)\n",
    "withdrawal_history_pd.head()"
   ]
  },
  {
   "cell_type": "markdown",
   "metadata": {},
   "source": [
    "#### Withdraw"
   ]
  },
  {
   "cell_type": "code",
   "execution_count": null,
   "metadata": {},
   "outputs": [],
   "source": [
    "uuid = bt.withdraw(CURRENCY, QUANTITY, ADDRESS, PAYMENTID_OPTIONAL)"
   ]
  }
 ],
 "metadata": {
  "kernelspec": {
   "display_name": "Python 3",
   "language": "python",
   "name": "python3"
  },
  "language_info": {
   "codemirror_mode": {
    "name": "ipython",
    "version": 3
   },
   "file_extension": ".py",
   "mimetype": "text/x-python",
   "name": "python",
   "nbconvert_exporter": "python",
   "pygments_lexer": "ipython3",
   "version": "3.7.6"
  }
 },
 "nbformat": 4,
 "nbformat_minor": 4
}
