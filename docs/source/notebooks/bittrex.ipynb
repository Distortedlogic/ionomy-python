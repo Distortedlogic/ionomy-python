{
 "cells": [
  {
   "cell_type": "markdown",
   "metadata": {},
   "source": [
    "# BitTrex"
   ]
  },
  {
   "cell_type": "markdown",
   "metadata": {},
   "source": [
    "## Imports and Params"
   ]
  },
  {
   "cell_type": "code",
   "execution_count": 29,
   "metadata": {},
   "outputs": [],
   "source": [
    "from Ionomy import BitTrex\n",
    "from decouple import config\n",
    "\n",
    "MARKET = 'btc-hive'\n",
    "CURRENCY = 'hive'\n",
    "BASE = 'btc'\n",
    "TIME = 'day'\n",
    "QUANTITY = 1\n",
    "ADDRESS = 'memehub'\n",
    "PAYMENTID_OPTIONAL = None"
   ]
  },
  {
   "cell_type": "markdown",
   "metadata": {},
   "source": [
    "## Instantiation"
   ]
  },
  {
   "cell_type": "code",
   "execution_count": 34,
   "metadata": {},
   "outputs": [],
   "source": [
    "bt = BitTrex(config('TREX_KEY'), config('TREX_SECRET'))"
   ]
  },
  {
   "cell_type": "markdown",
   "metadata": {},
   "source": [
    "## Public Endpoint Methods"
   ]
  },
  {
   "cell_type": "markdown",
   "metadata": {},
   "source": [
    "#### Markets"
   ]
  },
  {
   "cell_type": "code",
   "execution_count": 4,
   "metadata": {},
   "outputs": [
    {
     "data": {
      "text/plain": [
       "{'MarketCurrency': 'LTC',\n",
       " 'BaseCurrency': 'BTC',\n",
       " 'MarketCurrencyLong': 'Litecoin',\n",
       " 'BaseCurrencyLong': 'Bitcoin',\n",
       " 'MinTradeSize': 0.03297187,\n",
       " 'MarketName': 'BTC-LTC',\n",
       " 'IsActive': True,\n",
       " 'IsRestricted': False,\n",
       " 'Created': '2014-02-13T00:00:00',\n",
       " 'Notice': None,\n",
       " 'IsSponsored': None,\n",
       " 'LogoUrl': 'https://bittrexblobstorage.blob.core.windows.net/public/6defbc41-582d-47a6-bb2e-d0fa88663524.png'}"
      ]
     },
     "execution_count": 4,
     "metadata": {},
     "output_type": "execute_result"
    }
   ],
   "source": [
    "markets = bt.markets()\n",
    "markets[0]"
   ]
  },
  {
   "cell_type": "markdown",
   "metadata": {},
   "source": [
    "#### Currencies"
   ]
  },
  {
   "cell_type": "code",
   "execution_count": 5,
   "metadata": {},
   "outputs": [
    {
     "data": {
      "text/plain": [
       "{'Currency': 'BTC',\n",
       " 'CurrencyLong': 'Bitcoin',\n",
       " 'MinConfirmation': 2,\n",
       " 'TxFee': 0.0005,\n",
       " 'IsActive': True,\n",
       " 'IsRestricted': False,\n",
       " 'CoinType': 'BITCOIN',\n",
       " 'BaseAddress': '1N52wHoVR79PMDishab2XmRHsbekCdGquK',\n",
       " 'Notice': None}"
      ]
     },
     "execution_count": 5,
     "metadata": {},
     "output_type": "execute_result"
    }
   ],
   "source": [
    "currencies = bt.currencies()\n",
    "currencies[0]"
   ]
  },
  {
   "cell_type": "markdown",
   "metadata": {},
   "source": [
    "#### Ticker"
   ]
  },
  {
   "cell_type": "code",
   "execution_count": 7,
   "metadata": {},
   "outputs": [
    {
     "data": {
      "text/plain": [
       "{'Bid': 3.382e-05, 'Ask': 3.409e-05, 'Last': 3.381e-05}"
      ]
     },
     "execution_count": 7,
     "metadata": {},
     "output_type": "execute_result"
    }
   ],
   "source": [
    "bt.ticker(MARKET)"
   ]
  },
  {
   "cell_type": "markdown",
   "metadata": {},
   "source": [
    "#### Market Summaries"
   ]
  },
  {
   "cell_type": "code",
   "execution_count": 8,
   "metadata": {},
   "outputs": [
    {
     "data": {
      "text/plain": [
       "{'MarketName': 'BTC-STPT',\n",
       " 'High': 1.09e-06,\n",
       " 'Low': 1.04e-06,\n",
       " 'Volume': 65597.36370525,\n",
       " 'Last': 1.09e-06,\n",
       " 'BaseVolume': 0.07067603,\n",
       " 'TimeStamp': '2020-05-15T18:05:39.11',\n",
       " 'Bid': 1.09e-06,\n",
       " 'Ask': 1.1e-06,\n",
       " 'OpenBuyOrders': 41,\n",
       " 'OpenSellOrders': 270,\n",
       " 'PrevDay': 1.04e-06,\n",
       " 'Created': '2019-06-11T18:34:44.627'}"
      ]
     },
     "execution_count": 8,
     "metadata": {},
     "output_type": "execute_result"
    }
   ],
   "source": [
    "market_summaries = bt.market_summaries()\n",
    "market_summaries[0]"
   ]
  },
  {
   "cell_type": "markdown",
   "metadata": {},
   "source": [
    "#### Market Summary"
   ]
  },
  {
   "cell_type": "code",
   "execution_count": 9,
   "metadata": {},
   "outputs": [
    {
     "data": {
      "text/plain": [
       "{'MarketName': 'BTC-HIVE',\n",
       " 'High': 3.49e-05,\n",
       " 'Low': 3.28e-05,\n",
       " 'Volume': 251042.78009306,\n",
       " 'Last': 3.381e-05,\n",
       " 'BaseVolume': 8.52802204,\n",
       " 'TimeStamp': '2020-05-15T18:05:54.107',\n",
       " 'Bid': 3.382e-05,\n",
       " 'Ask': 3.409e-05,\n",
       " 'OpenBuyOrders': 388,\n",
       " 'OpenSellOrders': 853,\n",
       " 'PrevDay': 3.472e-05,\n",
       " 'Created': '2020-03-21T20:13:46.243'}"
      ]
     },
     "execution_count": 9,
     "metadata": {},
     "output_type": "execute_result"
    }
   ],
   "source": [
    "bt.market_summary(MARKET)"
   ]
  },
  {
   "cell_type": "markdown",
   "metadata": {},
   "source": [
    "#### Market History"
   ]
  },
  {
   "cell_type": "code",
   "execution_count": 11,
   "metadata": {},
   "outputs": [
    {
     "data": {
      "text/plain": [
       "{'Id': 65281835,\n",
       " 'TimeStamp': '2020-05-15T18:02:15.01',\n",
       " 'Quantity': 16.80099545,\n",
       " 'Price': 3.381e-05,\n",
       " 'Total': 0.0005680416561645,\n",
       " 'FillType': 'FILL',\n",
       " 'OrderType': 'BUY',\n",
       " 'Uuid': '822aacf4-da88-4be8-bb2b-6a723671acf9'}"
      ]
     },
     "execution_count": 11,
     "metadata": {},
     "output_type": "execute_result"
    }
   ],
   "source": [
    "market_history = bt.market_history(MARKET)\n",
    "market_history[0]"
   ]
  },
  {
   "cell_type": "markdown",
   "metadata": {},
   "source": [
    "#### Order Book"
   ]
  },
  {
   "cell_type": "code",
   "execution_count": 14,
   "metadata": {},
   "outputs": [
    {
     "data": {
      "text/plain": [
       "{'Quantity': 1013.53349185, 'Rate': 3.382e-05}"
      ]
     },
     "execution_count": 14,
     "metadata": {},
     "output_type": "execute_result"
    }
   ],
   "source": [
    "order_book = bt.order_book(MARKET)\n",
    "order_book[\"buy\"][0]"
   ]
  },
  {
   "cell_type": "markdown",
   "metadata": {},
   "source": [
    "#### OHLCV"
   ]
  },
  {
   "cell_type": "code",
   "execution_count": 16,
   "metadata": {},
   "outputs": [
    {
     "data": {
      "text/plain": [
       "{'time': 1586908800,\n",
       " 'close': 1.637e-05,\n",
       " 'high': 1.7e-05,\n",
       " 'low': 1.577e-05,\n",
       " 'open': 1.633e-05,\n",
       " 'volumefrom': 270819.04,\n",
       " 'volumeto': 4.473,\n",
       " 'conversionType': 'force_direct',\n",
       " 'conversionSymbol': ''}"
      ]
     },
     "execution_count": 16,
     "metadata": {},
     "output_type": "execute_result"
    }
   ],
   "source": [
    "ohlcv = bt.ohlcv(CURRENCY, BASE, TIME)\n",
    "ohlcv[0]"
   ]
  },
  {
   "cell_type": "markdown",
   "metadata": {},
   "source": [
    "## Market Endpoint Methods"
   ]
  },
  {
   "cell_type": "markdown",
   "metadata": {},
   "source": [
    "#### Limit Buy/Sell Orders"
   ]
  },
  {
   "cell_type": "code",
   "execution_count": null,
   "metadata": {},
   "outputs": [],
   "source": [
    "order_uuid = bt.buy_limit(MARKET, QUANTITY, RATE, TIMEINFORCE)\n",
    "order_uuid = bt.sell_limit(MARKET, QUANTITY, RATE, TIMEINFORCE)"
   ]
  },
  {
   "cell_type": "markdown",
   "metadata": {},
   "source": [
    "#### Cancel Order"
   ]
  },
  {
   "cell_type": "code",
   "execution_count": null,
   "metadata": {},
   "outputs": [],
   "source": [
    "order_uuid = bt.cancel(UUID)"
   ]
  },
  {
   "cell_type": "markdown",
   "metadata": {},
   "source": [
    "#### Order Status"
   ]
  },
  {
   "cell_type": "code",
   "execution_count": null,
   "metadata": {},
   "outputs": [],
   "source": [
    "order = bt.get_order(UUID)"
   ]
  },
  {
   "cell_type": "markdown",
   "metadata": {},
   "source": [
    "## Account Endpoint Methods"
   ]
  },
  {
   "cell_type": "markdown",
   "metadata": {},
   "source": [
    "#### Balances"
   ]
  },
  {
   "cell_type": "code",
   "execution_count": 18,
   "metadata": {},
   "outputs": [
    {
     "data": {
      "text/plain": [
       "{'Currency': 'BTC',\n",
       " 'Balance': 1e-08,\n",
       " 'Available': 1e-08,\n",
       " 'Pending': 0.0,\n",
       " 'CryptoAddress': None}"
      ]
     },
     "execution_count": 18,
     "metadata": {},
     "output_type": "execute_result"
    }
   ],
   "source": [
    "balances = bt.balances()\n",
    "balances[0]"
   ]
  },
  {
   "cell_type": "markdown",
   "metadata": {},
   "source": [
    "#### Balance"
   ]
  },
  {
   "cell_type": "code",
   "execution_count": 19,
   "metadata": {},
   "outputs": [
    {
     "data": {
      "text/plain": [
       "{'Currency': 'HIVE',\n",
       " 'Balance': 13728.03479181,\n",
       " 'Available': 13728.03479181,\n",
       " 'Pending': 0.0,\n",
       " 'CryptoAddress': '30c05de7684c4bf1817'}"
      ]
     },
     "execution_count": 19,
     "metadata": {},
     "output_type": "execute_result"
    }
   ],
   "source": [
    "bt.balance(CURRENCY)"
   ]
  },
  {
   "cell_type": "markdown",
   "metadata": {},
   "source": [
    "#### Order History"
   ]
  },
  {
   "cell_type": "code",
   "execution_count": 22,
   "metadata": {},
   "outputs": [
    {
     "data": {
      "text/plain": [
       "{'OrderUuid': '74b7ccde-f6f5-4083-8d0e-e56c080015a1',\n",
       " 'Exchange': 'BTC-HIVE',\n",
       " 'TimeStamp': '2020-05-14T21:11:14.44',\n",
       " 'OrderType': 'LIMIT_BUY',\n",
       " 'Limit': 3.41e-05,\n",
       " 'Quantity': 1128.49345297,\n",
       " 'QuantityRemaining': 0.0,\n",
       " 'Commission': 7.696e-05,\n",
       " 'Price': 0.03848162,\n",
       " 'PricePerUnit': 3.41e-05,\n",
       " 'IsConditional': False,\n",
       " 'Condition': '',\n",
       " 'ConditionTarget': 0.0,\n",
       " 'ImmediateOrCancel': False,\n",
       " 'Closed': '2020-05-14T21:11:14.44'}"
      ]
     },
     "execution_count": 22,
     "metadata": {},
     "output_type": "execute_result"
    }
   ],
   "source": [
    "order_history = bt.order_history()\n",
    "order_history[0]"
   ]
  },
  {
   "cell_type": "markdown",
   "metadata": {},
   "source": [
    "#### Deposit History"
   ]
  },
  {
   "cell_type": "code",
   "execution_count": 23,
   "metadata": {},
   "outputs": [
    {
     "data": {
      "text/plain": [
       "{'Id': 102691733,\n",
       " 'Amount': 7194.41,\n",
       " 'Currency': 'HIVE',\n",
       " 'Confirmations': 59,\n",
       " 'LastUpdated': '2020-05-14T21:06:48.5',\n",
       " 'TxId': 'da01a679e0c7d7afd6de6e3753ca2beb7dea0caf',\n",
       " 'CryptoAddress': '30c05de7684c4bf1817'}"
      ]
     },
     "execution_count": 23,
     "metadata": {},
     "output_type": "execute_result"
    }
   ],
   "source": [
    "deposit_history = bt.deposit_history(CURRENCY)\n",
    "deposit_history[0]"
   ]
  },
  {
   "cell_type": "markdown",
   "metadata": {},
   "source": [
    "#### Deposit Address"
   ]
  },
  {
   "cell_type": "code",
   "execution_count": 24,
   "metadata": {},
   "outputs": [
    {
     "data": {
      "text/plain": [
       "{'Currency': 'HIVE', 'Address': '30c05de7684c4bf1817'}"
      ]
     },
     "execution_count": 24,
     "metadata": {},
     "output_type": "execute_result"
    }
   ],
   "source": [
    "bt.deposit_address(CURRENCY)"
   ]
  },
  {
   "cell_type": "markdown",
   "metadata": {},
   "source": [
    "#### Withdrawal History"
   ]
  },
  {
   "cell_type": "code",
   "execution_count": 28,
   "metadata": {},
   "outputs": [
    {
     "data": {
      "text/plain": [
       "{'PaymentUuid': '78943ce0-b6d4-4fcb-991a-7516e4323e82',\n",
       " 'Currency': 'HIVE',\n",
       " 'Amount': 13728.02479181,\n",
       " 'Address': 'memehub',\n",
       " 'Opened': '2020-05-15T18:13:44.513',\n",
       " 'Authorized': False,\n",
       " 'PendingPayment': False,\n",
       " 'TxCost': 0.01,\n",
       " 'TxId': None,\n",
       " 'Canceled': True,\n",
       " 'InvalidAddress': False}"
      ]
     },
     "execution_count": 28,
     "metadata": {},
     "output_type": "execute_result"
    }
   ],
   "source": [
    "withdrawal_history = bt.withdrawal_history(CURRENCY)\n",
    "withdrawal_history[0]"
   ]
  },
  {
   "cell_type": "markdown",
   "metadata": {},
   "source": [
    "#### Withdraw"
   ]
  },
  {
   "cell_type": "code",
   "execution_count": 33,
   "metadata": {},
   "outputs": [
    {
     "data": {
      "text/plain": [
       "{'uuid': 'cee4a123-5656-4938-a777-66a05df1b500'}"
      ]
     },
     "execution_count": 33,
     "metadata": {},
     "output_type": "execute_result"
    }
   ],
   "source": [
    "bt.withdraw(CURRENCY, QUANTITY, ADDRESS, PAYMENTID_OPTIONAL)"
   ]
  },
  {
   "cell_type": "code",
   "execution_count": null,
   "metadata": {},
   "outputs": [],
   "source": []
  }
 ],
 "metadata": {
  "kernelspec": {
   "display_name": "Python 3",
   "language": "python",
   "name": "python3"
  },
  "language_info": {
   "codemirror_mode": {
    "name": "ipython",
    "version": 3
   },
   "file_extension": ".py",
   "mimetype": "text/x-python",
   "name": "python",
   "nbconvert_exporter": "python",
   "pygments_lexer": "ipython3",
   "version": "3.7.6"
  }
 },
 "nbformat": 4,
 "nbformat_minor": 4
}
